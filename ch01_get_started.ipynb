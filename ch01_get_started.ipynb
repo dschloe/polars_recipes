{
 "cells": [
  {
   "cell_type": "markdown",
   "metadata": {},
   "source": [
    "# 레시피 1 : 데이터 프레임 생성\n"
   ]
  },
  {
   "cell_type": "code",
   "execution_count": 3,
   "metadata": {},
   "outputs": [
    {
     "name": "stdout",
     "output_type": "stream",
     "text": [
      "1.22.0\n"
     ]
    }
   ],
   "source": [
    "import polars as pl\n",
    "print(pl.__version__)"
   ]
  },
  {
   "cell_type": "code",
   "execution_count": 2,
   "metadata": {},
   "outputs": [
    {
     "name": "stdout",
     "output_type": "stream",
     "text": [
      "\n",
      "딕셔너리로 생성한 데이터프레임:\n",
      "shape: (5, 3)\n",
      "┌─────┬─────┬─────┐\n",
      "│ A   ┆ B   ┆ C   │\n",
      "│ --- ┆ --- ┆ --- │\n",
      "│ i64 ┆ str ┆ f64 │\n",
      "╞═════╪═════╪═════╡\n",
      "│ 1   ┆ a   ┆ 1.1 │\n",
      "│ 2   ┆ b   ┆ 2.2 │\n",
      "│ 3   ┆ c   ┆ 3.3 │\n",
      "│ 4   ┆ d   ┆ 4.4 │\n",
      "│ 5   ┆ e   ┆ 5.5 │\n",
      "└─────┴─────┴─────┘\n"
     ]
    }
   ],
   "source": [
    "# 딕셔너리로 데이터프레임 생성\n",
    "df1 = pl.DataFrame({\n",
    "    \"A\": [1, 2, 3, 4, 5],\n",
    "    \"B\": [\"a\", \"b\", \"c\", \"d\", \"e\"],\n",
    "    \"C\": [1.1, 2.2, 3.3, 4.4, 5.5]\n",
    "})\n",
    "print(\"\\n딕셔너리로 생성한 데이터프레임:\")\n",
    "print(df1)"
   ]
  },
  {
   "cell_type": "code",
   "execution_count": 6,
   "metadata": {},
   "outputs": [
    {
     "name": "stdout",
     "output_type": "stream",
     "text": [
      "\n",
      "리스트로 생성한 데이터프레임:\n",
      "shape: (5, 3)\n",
      "┌─────┬─────┬─────┐\n",
      "│ A   ┆ B   ┆ C   │\n",
      "│ --- ┆ --- ┆ --- │\n",
      "│ i64 ┆ str ┆ f64 │\n",
      "╞═════╪═════╪═════╡\n",
      "│ 1   ┆ a   ┆ 1.1 │\n",
      "│ 2   ┆ b   ┆ 2.2 │\n",
      "│ 3   ┆ c   ┆ 3.3 │\n",
      "│ 4   ┆ d   ┆ 4.4 │\n",
      "│ 5   ┆ e   ┆ 5.5 │\n",
      "└─────┴─────┴─────┘\n"
     ]
    },
    {
     "name": "stderr",
     "output_type": "stream",
     "text": [
      "C:\\Users\\campus3S043\\AppData\\Local\\Temp\\ipykernel_2204\\4079397462.py:2: DataOrientationWarning: Row orientation inferred during DataFrame construction. Explicitly specify the orientation by passing `orient=\"row\"` to silence this warning.\n",
      "  df2 = pl.DataFrame([\n"
     ]
    }
   ],
   "source": [
    "# 리스트로 데이터프레임 생성\n",
    "df2 = pl.DataFrame([\n",
    "    [1, \"a\", 1.1],\n",
    "    [2, \"b\", 2.2], \n",
    "    [3, \"c\", 3.3],\n",
    "    [4, \"d\", 4.4],\n",
    "    [5, \"e\", 5.5]\n",
    "], schema=[\"A\", \"B\", \"C\"])\n",
    "\n",
    "print(\"\\n리스트로 생성한 데이터프레임:\")\n",
    "print(df2)"
   ]
  },
  {
   "cell_type": "code",
   "execution_count": 7,
   "metadata": {},
   "outputs": [
    {
     "name": "stdout",
     "output_type": "stream",
     "text": [
      "\n",
      "Series로 생성한 데이터프레임:\n",
      "shape: (5, 3)\n",
      "┌─────┬─────┬─────┐\n",
      "│ A   ┆ B   ┆ C   │\n",
      "│ --- ┆ --- ┆ --- │\n",
      "│ i64 ┆ str ┆ f64 │\n",
      "╞═════╪═════╪═════╡\n",
      "│ 1   ┆ a   ┆ 1.1 │\n",
      "│ 2   ┆ b   ┆ 2.2 │\n",
      "│ 3   ┆ c   ┆ 3.3 │\n",
      "│ 4   ┆ d   ┆ 4.4 │\n",
      "│ 5   ┆ e   ┆ 5.5 │\n",
      "└─────┴─────┴─────┘\n"
     ]
    }
   ],
   "source": [
    "# Series로 데이터프레임 생성 \n",
    "df3 = pl.DataFrame([\n",
    "    pl.Series(\"A\", [1, 2, 3, 4, 5]),\n",
    "    pl.Series(\"B\", [\"a\", \"b\", \"c\", \"d\", \"e\"]),\n",
    "    pl.Series(\"C\", [1.1, 2.2, 3.3, 4.4, 5.5])\n",
    "])\n",
    "\n",
    "print(\"\\nSeries로 생성한 데이터프레임:\")\n",
    "print(df3)"
   ]
  },
  {
   "cell_type": "markdown",
   "metadata": {},
   "source": [
    "# 레시피 2 : 데이터 불러오기"
   ]
  },
  {
   "cell_type": "code",
   "execution_count": 5,
   "metadata": {},
   "outputs": [
    {
     "name": "stdout",
     "output_type": "stream",
     "text": [
      "\n",
      "titanic 데이터셋:\n"
     ]
    },
    {
     "data": {
      "text/html": [
       "<div><style>\n",
       ".dataframe > thead > tr,\n",
       ".dataframe > tbody > tr {\n",
       "  text-align: right;\n",
       "  white-space: pre-wrap;\n",
       "}\n",
       "</style>\n",
       "<small>shape: (1, 12)</small><table border=\"1\" class=\"dataframe\"><thead><tr><th>PassengerId</th><th>Survived</th><th>Pclass</th><th>Name</th><th>Sex</th><th>Age</th><th>SibSp</th><th>Parch</th><th>Ticket</th><th>Fare</th><th>Cabin</th><th>Embarked</th></tr><tr><td>i64</td><td>i64</td><td>i64</td><td>str</td><td>str</td><td>f64</td><td>i64</td><td>i64</td><td>str</td><td>f64</td><td>str</td><td>str</td></tr></thead><tbody><tr><td>1</td><td>0</td><td>3</td><td>&quot;Braund, Mr. Owen Harris&quot;</td><td>&quot;male&quot;</td><td>22.0</td><td>1</td><td>0</td><td>&quot;A/5 21171&quot;</td><td>7.25</td><td>null</td><td>&quot;S&quot;</td></tr></tbody></table></div>"
      ],
      "text/plain": [
       "shape: (1, 12)\n",
       "┌───────────┬──────────┬────────┬───────────┬───┬───────────┬──────┬───────┬──────────┐\n",
       "│ Passenger ┆ Survived ┆ Pclass ┆ Name      ┆ … ┆ Ticket    ┆ Fare ┆ Cabin ┆ Embarked │\n",
       "│ Id        ┆ ---      ┆ ---    ┆ ---       ┆   ┆ ---       ┆ ---  ┆ ---   ┆ ---      │\n",
       "│ ---       ┆ i64      ┆ i64    ┆ str       ┆   ┆ str       ┆ f64  ┆ str   ┆ str      │\n",
       "│ i64       ┆          ┆        ┆           ┆   ┆           ┆      ┆       ┆          │\n",
       "╞═══════════╪══════════╪════════╪═══════════╪═══╪═══════════╪══════╪═══════╪══════════╡\n",
       "│ 1         ┆ 0        ┆ 3      ┆ Braund,   ┆ … ┆ A/5 21171 ┆ 7.25 ┆ null  ┆ S        │\n",
       "│           ┆          ┆        ┆ Mr. Owen  ┆   ┆           ┆      ┆       ┆          │\n",
       "│           ┆          ┆        ┆ Harris    ┆   ┆           ┆      ┆       ┆          │\n",
       "└───────────┴──────────┴────────┴───────────┴───┴───────────┴──────┴───────┴──────────┘"
      ]
     },
     "execution_count": 5,
     "metadata": {},
     "output_type": "execute_result"
    }
   ],
   "source": [
    "# titanic 데이터셋 불러오기\n",
    "df = pl.read_csv(\"data/titanic_dataset.csv\")\n",
    "\n",
    "print(\"\\ntitanic 데이터셋:\")\n",
    "df.head(1)"
   ]
  },
  {
   "cell_type": "markdown",
   "metadata": {},
   "source": [
    "# 레시피 3 : polars 데이터프레임 주요 속성"
   ]
  },
  {
   "cell_type": "code",
   "execution_count": 11,
   "metadata": {},
   "outputs": [
    {
     "name": "stdout",
     "output_type": "stream",
     "text": [
      "\n",
      "데이터프레임의 크기(shape):\n"
     ]
    },
    {
     "data": {
      "text/plain": [
       "(891, 12)"
      ]
     },
     "execution_count": 11,
     "metadata": {},
     "output_type": "execute_result"
    }
   ],
   "source": [
    "# 데이터프레임의 주요 속성 확인\n",
    "print(\"\\n데이터프레임의 크기(shape):\")\n",
    "df.shape"
   ]
  },
  {
   "cell_type": "code",
   "execution_count": 12,
   "metadata": {},
   "outputs": [
    {
     "name": "stdout",
     "output_type": "stream",
     "text": [
      "\n",
      "데이터프레임의 컬럼명:\n",
      "['PassengerId', 'Survived', 'Pclass', 'Name', 'Sex', 'Age', 'SibSp', 'Parch', 'Ticket', 'Fare', 'Cabin', 'Embarked']\n"
     ]
    }
   ],
   "source": [
    "print(\"\\n데이터프레임의 컬럼명:\")\n",
    "print(df.columns)"
   ]
  },
  {
   "cell_type": "code",
   "execution_count": 9,
   "metadata": {},
   "outputs": [
    {
     "name": "stdout",
     "output_type": "stream",
     "text": [
      "\n",
      "데이터프레임의 데이터 타입:\n",
      "[Int64, Int64, Int64, String, String, Float64, Int64, Int64, String, Float64, String, String]\n"
     ]
    }
   ],
   "source": [
    "print(\"\\n데이터프레임의 데이터 타입:\")\n",
    "print(df.dtypes)"
   ]
  },
  {
   "cell_type": "code",
   "execution_count": 10,
   "metadata": {},
   "outputs": [
    {
     "name": "stdout",
     "output_type": "stream",
     "text": [
      "\n",
      "데이터프레임의 기본 정보:\n",
      "shape: (9, 13)\n",
      "┌──────────┬──────────┬──────────┬──────────┬───┬─────────┬─────────┬───────┬─────────┐\n",
      "│ statisti ┆ Passenge ┆ Survived ┆ Pclass   ┆ … ┆ Ticket  ┆ Fare    ┆ Cabin ┆ Embarke │\n",
      "│ c        ┆ rId      ┆ ---      ┆ ---      ┆   ┆ ---     ┆ ---     ┆ ---   ┆ d       │\n",
      "│ ---      ┆ ---      ┆ f64      ┆ f64      ┆   ┆ str     ┆ f64     ┆ str   ┆ ---     │\n",
      "│ str      ┆ f64      ┆          ┆          ┆   ┆         ┆         ┆       ┆ str     │\n",
      "╞══════════╪══════════╪══════════╪══════════╪═══╪═════════╪═════════╪═══════╪═════════╡\n",
      "│ count    ┆ 891.0    ┆ 891.0    ┆ 891.0    ┆ … ┆ 891     ┆ 891.0   ┆ 204   ┆ 889     │\n",
      "│ null_cou ┆ 0.0      ┆ 0.0      ┆ 0.0      ┆ … ┆ 0       ┆ 0.0     ┆ 687   ┆ 2       │\n",
      "│ nt       ┆          ┆          ┆          ┆   ┆         ┆         ┆       ┆         │\n",
      "│ mean     ┆ 446.0    ┆ 0.383838 ┆ 2.308642 ┆ … ┆ null    ┆ 32.2042 ┆ null  ┆ null    │\n",
      "│          ┆          ┆          ┆          ┆   ┆         ┆ 08      ┆       ┆         │\n",
      "│ std      ┆ 257.3538 ┆ 0.486592 ┆ 0.836071 ┆ … ┆ null    ┆ 49.6934 ┆ null  ┆ null    │\n",
      "│          ┆ 42       ┆          ┆          ┆   ┆         ┆ 29      ┆       ┆         │\n",
      "│ min      ┆ 1.0      ┆ 0.0      ┆ 1.0      ┆ … ┆ 110152  ┆ 0.0     ┆ A10   ┆ C       │\n",
      "│ 25%      ┆ 224.0    ┆ 0.0      ┆ 2.0      ┆ … ┆ null    ┆ 7.925   ┆ null  ┆ null    │\n",
      "│ 50%      ┆ 446.0    ┆ 0.0      ┆ 3.0      ┆ … ┆ null    ┆ 14.4542 ┆ null  ┆ null    │\n",
      "│ 75%      ┆ 669.0    ┆ 1.0      ┆ 3.0      ┆ … ┆ null    ┆ 31.0    ┆ null  ┆ null    │\n",
      "│ max      ┆ 891.0    ┆ 1.0      ┆ 3.0      ┆ … ┆ WE/P    ┆ 512.329 ┆ T     ┆ S       │\n",
      "│          ┆          ┆          ┆          ┆   ┆ 5735    ┆ 2       ┆       ┆         │\n",
      "└──────────┴──────────┴──────────┴──────────┴───┴─────────┴─────────┴───────┴─────────┘\n"
     ]
    }
   ],
   "source": [
    "print(\"\\n데이터프레임의 기본 정보:\")\n",
    "print(df.describe())"
   ]
  },
  {
   "cell_type": "markdown",
   "metadata": {},
   "source": [
    "# 레시피 4 : 데이터 호환성"
   ]
  },
  {
   "cell_type": "code",
   "execution_count": 11,
   "metadata": {},
   "outputs": [
    {
     "name": "stdout",
     "output_type": "stream",
     "text": [
      "\n",
      "NumPy 배열:\n",
      "[[1 2 3]\n",
      " [4 5 6]]\n",
      "\n",
      "NumPy 배열로부터 생성된 polars 데이터프레임:\n",
      "shape: (2, 3)\n",
      "┌──────┬──────┬──────┐\n",
      "│ col1 ┆ col2 ┆ col3 │\n",
      "│ ---  ┆ ---  ┆ ---  │\n",
      "│ i64  ┆ i64  ┆ i64  │\n",
      "╞══════╪══════╪══════╡\n",
      "│ 1    ┆ 2    ┆ 3    │\n",
      "│ 4    ┆ 5    ┆ 6    │\n",
      "└──────┴──────┴──────┘\n"
     ]
    }
   ],
   "source": [
    "# numpy 배열 생성\n",
    "import numpy as np\n",
    "arr = np.array([[1, 2, 3], [4, 5, 6]])\n",
    "print(\"\\nNumPy 배열:\")\n",
    "print(arr)\n",
    "\n",
    "# numpy 배열을 polars 데이터프레임으로 변환\n",
    "df_from_np = pl.from_numpy(arr, schema=['col1', 'col2', 'col3'])\n",
    "print(\"\\nNumPy 배열로부터 생성된 polars 데이터프레임:\")\n",
    "print(df_from_np)"
   ]
  },
  {
   "cell_type": "code",
   "execution_count": 12,
   "metadata": {},
   "outputs": [
    {
     "name": "stdout",
     "output_type": "stream",
     "text": [
      "\n",
      "Pandas 데이터프레임:\n",
      "   A  B\n",
      "0  1  a\n",
      "1  2  b\n",
      "2  3  c\n",
      "\n",
      "Pandas 데이터프레임으로부터 생성된 polars 데이터프레임:\n",
      "shape: (3, 2)\n",
      "┌─────┬─────┐\n",
      "│ A   ┆ B   │\n",
      "│ --- ┆ --- │\n",
      "│ i64 ┆ str │\n",
      "╞═════╪═════╡\n",
      "│ 1   ┆ a   │\n",
      "│ 2   ┆ b   │\n",
      "│ 3   ┆ c   │\n",
      "└─────┴─────┘\n"
     ]
    }
   ],
   "source": [
    "# pandas 데이터프레임 생성\n",
    "import pandas as pd\n",
    "pd_df = pd.DataFrame({\n",
    "    'A': [1, 2, 3],\n",
    "    'B': ['a', 'b', 'c']\n",
    "})\n",
    "print(\"\\nPandas 데이터프레임:\")\n",
    "print(pd_df)\n",
    "\n",
    "# pandas 데이터프레임을 polars로 변환\n",
    "pl_from_pd = pl.from_pandas(pd_df)\n",
    "print(\"\\nPandas 데이터프레임으로부터 생성된 polars 데이터프레임:\")\n",
    "print(pl_from_pd)\n"
   ]
  },
  {
   "cell_type": "markdown",
   "metadata": {},
   "source": [
    "# 레시피 5 : Polars Series 생성"
   ]
  },
  {
   "cell_type": "code",
   "execution_count": 18,
   "metadata": {},
   "outputs": [
    {
     "name": "stdout",
     "output_type": "stream",
     "text": [
      "\n",
      "Series s1:\n",
      "shape: (3,)\n",
      "Series: 'a' [i64]\n",
      "[\n",
      "\t1\n",
      "\t2\n",
      "\t3\n",
      "]\n"
     ]
    }
   ],
   "source": [
    "# Series 생성\n",
    "s1 = pl.Series(\"a\", [1, 2, 3])\n",
    "print(\"\\nSeries s1:\")\n",
    "print(s1)"
   ]
  },
  {
   "cell_type": "code",
   "execution_count": 17,
   "metadata": {},
   "outputs": [
    {
     "name": "stdout",
     "output_type": "stream",
     "text": [
      "shape: (3,)\n",
      "Series: 'B' [f64]\n",
      "[\n",
      "\t0.1\n",
      "\t0.2\n",
      "\t0.3\n",
      "]\n"
     ]
    }
   ],
   "source": [
    "import numpy as np\n",
    "\n",
    "# NumPy 배열을 이용하여 Series 생성\n",
    "s_np = pl.Series(\"B\", np.array([0.1, 0.2, 0.3]))\n",
    "\n",
    "print(s_np)"
   ]
  },
  {
   "cell_type": "code",
   "execution_count": 15,
   "metadata": {},
   "outputs": [
    {
     "name": "stdout",
     "output_type": "stream",
     "text": [
      "shape: (3,)\n",
      "Series: 'C' [f32]\n",
      "[\n",
      "\t1.1\n",
      "\t2.2\n",
      "\t3.3\n",
      "]\n"
     ]
    }
   ],
   "source": [
    "from polars.datatypes import Float32\n",
    "\n",
    "# 데이터 타입을 Float32로 지정\n",
    "s_typed = pl.Series(\"C\", [1.1, 2.2, 3.3], dtype=Float32)\n",
    "\n",
    "print(s_typed)"
   ]
  },
  {
   "cell_type": "markdown",
   "metadata": {},
   "source": [
    "# 레시피 6 : Polars Series 속성"
   ]
  },
  {
   "cell_type": "code",
   "execution_count": 19,
   "metadata": {},
   "outputs": [
    {
     "name": "stdout",
     "output_type": "stream",
     "text": [
      "\n",
      "Series의 기본 속성들:\n",
      "이름: a\n",
      "길이: 5\n",
      "데이터 타입: Int64\n",
      "Null 값 개수: 0\n",
      "고유값 개수: 5\n"
     ]
    }
   ],
   "source": [
    "# Series의 기본 속성들\n",
    "s1 = pl.Series(\"a\", [1, 2, 3, 4, 5])\n",
    "print(\"\\nSeries의 기본 속성들:\")\n",
    "print(f\"이름: {s1.name}\")\n",
    "print(f\"길이: {s1.len()}\")\n",
    "print(f\"데이터 타입: {s1.dtype}\")\n",
    "print(f\"Null 값 개수: {s1.null_count()}\")\n",
    "print(f\"고유값 개수: {s1.n_unique()}\")"
   ]
  },
  {
   "cell_type": "markdown",
   "metadata": {},
   "source": [
    "# 레시피 7 : Polars DataFrame에서 Series로 변형"
   ]
  },
  {
   "cell_type": "code",
   "execution_count": 20,
   "metadata": {},
   "outputs": [
    {
     "name": "stdout",
     "output_type": "stream",
     "text": [
      "\n",
      "원본 데이터프레임:\n",
      "shape: (3, 3)\n",
      "┌─────┬─────┬───────┐\n",
      "│ a   ┆ b   ┆ c     │\n",
      "│ --- ┆ --- ┆ ---   │\n",
      "│ i64 ┆ str ┆ bool  │\n",
      "╞═════╪═════╪═══════╡\n",
      "│ 1   ┆ x   ┆ true  │\n",
      "│ 2   ┆ y   ┆ false │\n",
      "│ 3   ┆ z   ┆ true  │\n",
      "└─────┴─────┴───────┘\n"
     ]
    }
   ],
   "source": [
    "# 데이터프레임 생성\n",
    "df = pl.DataFrame({\n",
    "    \"a\": [1, 2, 3],\n",
    "    \"b\": [\"x\", \"y\", \"z\"],\n",
    "    \"c\": [True, False, True]\n",
    "})\n",
    "print(\"\\n원본 데이터프레임:\")\n",
    "print(df)"
   ]
  },
  {
   "cell_type": "code",
   "execution_count": 22,
   "metadata": {},
   "outputs": [
    {
     "name": "stdout",
     "output_type": "stream",
     "text": [
      "\n",
      "추출된 Series들:\n",
      "Series a:\n",
      "shape: (3,)\n",
      "Series: 'a' [i64]\n",
      "[\n",
      "\t1\n",
      "\t2\n",
      "\t3\n",
      "]\n",
      "\n",
      "Series b:\n",
      "shape: (3,)\n",
      "Series: 'b' [str]\n",
      "[\n",
      "\t\"x\"\n",
      "\t\"y\"\n",
      "\t\"z\"\n",
      "]\n",
      "\n",
      "Series c:\n",
      "shape: (3,)\n",
      "Series: 'c' [bool]\n",
      "[\n",
      "\ttrue\n",
      "\tfalse\n",
      "\ttrue\n",
      "]\n"
     ]
    }
   ],
   "source": [
    "# 데이터프레임의 컬럼을 Series로 변환\n",
    "series_a = df[\"a\"]\n",
    "series_b = df[\"b\"] \n",
    "series_c = df[\"c\"]\n",
    "\n",
    "print(\"\\n추출된 Series들:\")\n",
    "print(\"Series a:\")\n",
    "print(series_a)\n",
    "print(\"\\nSeries b:\")\n",
    "print(series_b)\n",
    "print(\"\\nSeries c:\") \n",
    "print(series_c)"
   ]
  },
  {
   "cell_type": "markdown",
   "metadata": {},
   "source": [
    "# 레시피 8 : Polars LazyFrame 생성"
   ]
  },
  {
   "cell_type": "code",
   "execution_count": 23,
   "metadata": {},
   "outputs": [
    {
     "name": "stdout",
     "output_type": "stream",
     "text": [
      "\n",
      "딕셔너리로부터 직접 생성된 LazyFrame:\n",
      "naive plan: (run LazyFrame.explain(optimized=True) to see the optimized plan)\n",
      "\n",
      "DF [\"a\", \"b\", \"c\"]; PROJECT */3 COLUMNS\n"
     ]
    }
   ],
   "source": [
    "# 딕셔너리에서 LazyFrame 직접 생성\n",
    "data = {\n",
    "    \"a\": [1, 2, 3],\n",
    "    \"b\": [\"x\", \"y\", \"z\"],\n",
    "    \"c\": [True, False, True]\n",
    "}\n",
    "\n",
    "lf = pl.LazyFrame(data)\n",
    "print(\"\\n딕셔너리로부터 직접 생성된 LazyFrame:\")\n",
    "print(lf)"
   ]
  },
  {
   "cell_type": "code",
   "execution_count": 24,
   "metadata": {},
   "outputs": [
    {
     "name": "stdout",
     "output_type": "stream",
     "text": [
      "\n",
      "수집된 DataFrame:\n",
      "shape: (3, 3)\n",
      "┌─────┬─────┬───────┐\n",
      "│ a   ┆ b   ┆ c     │\n",
      "│ --- ┆ --- ┆ ---   │\n",
      "│ i64 ┆ str ┆ bool  │\n",
      "╞═════╪═════╪═══════╡\n",
      "│ 1   ┆ x   ┆ true  │\n",
      "│ 2   ┆ y   ┆ false │\n",
      "│ 3   ┆ z   ┆ true  │\n",
      "└─────┴─────┴───────┘\n"
     ]
    }
   ],
   "source": [
    "# LazyFrame을 DataFrame으로 수집\n",
    "df = lf.collect()\n",
    "print(\"\\n수집된 DataFrame:\")\n",
    "print(df)"
   ]
  },
  {
   "cell_type": "code",
   "execution_count": 25,
   "metadata": {},
   "outputs": [
    {
     "name": "stdout",
     "output_type": "stream",
     "text": [
      "\n",
      "LazyFrame으로 변환:\n",
      "naive plan: (run LazyFrame.explain(optimized=True) to see the optimized plan)\n",
      "\n",
      "DF [\"a\", \"b\", \"c\"]; PROJECT */3 COLUMNS\n"
     ]
    }
   ],
   "source": [
    "# 기본 데이터프레임 생성\n",
    "df = pl.DataFrame({\n",
    "    \"a\": [1, 2, 3],\n",
    "    \"b\": [\"x\", \"y\", \"z\"],\n",
    "    \"c\": [True, False, True]\n",
    "})\n",
    "\n",
    "# LazyFrame으로 변환\n",
    "lf = df.lazy()\n",
    "print(\"\\nLazyFrame으로 변환:\")\n",
    "print(lf)"
   ]
  },
  {
   "cell_type": "markdown",
   "metadata": {},
   "source": [
    "# 레시피 9 : Polars LazyFrame로 파일 읽어오기"
   ]
  },
  {
   "cell_type": "code",
   "execution_count": 4,
   "metadata": {},
   "outputs": [
    {
     "name": "stdout",
     "output_type": "stream",
     "text": [
      "데이터 객체 확인\n",
      "<class 'polars.lazyframe.frame.LazyFrame'>\n",
      "naive plan: (run LazyFrame.explain(optimized=True) to see the optimized plan)\n",
      "\n",
      "Csv SCAN [data/titanic_dataset.csv]\n",
      "PROJECT */12 COLUMNS\n"
     ]
    }
   ],
   "source": [
    "# CSV 파일을 LazyFrame으로 읽기\n",
    "lf = pl.scan_csv(\"data/titanic_dataset.csv\")\n",
    "\n",
    "# 객체 확인\n",
    "print(\"데이터 객체 확인\")\n",
    "print(type(lf))\n",
    "print(lf)"
   ]
  },
  {
   "cell_type": "code",
   "execution_count": 5,
   "metadata": {},
   "outputs": [
    {
     "name": "stdout",
     "output_type": "stream",
     "text": [
      "\n",
      "데이터 미리보기:\n",
      "naive plan: (run LazyFrame.explain(optimized=True) to see the optimized plan)\n",
      "\n",
      "SLICE[offset: 0, len: 1]\n",
      "  Csv SCAN [data/titanic_dataset.csv]\n",
      "  PROJECT */12 COLUMNS\n"
     ]
    }
   ],
   "source": [
    "# LazyFrame을 DataFrame으로 변환하여 첫 몇 행 확인\n",
    "print(\"\\n데이터 미리보기:\")\n",
    "print(lf.head(1))"
   ]
  },
  {
   "cell_type": "code",
   "execution_count": 6,
   "metadata": {},
   "outputs": [
    {
     "name": "stdout",
     "output_type": "stream",
     "text": [
      "\n",
      "데이터 확인:\n"
     ]
    },
    {
     "data": {
      "text/html": [
       "<div><style>\n",
       ".dataframe > thead > tr,\n",
       ".dataframe > tbody > tr {\n",
       "  text-align: right;\n",
       "  white-space: pre-wrap;\n",
       "}\n",
       "</style>\n",
       "<small>shape: (1, 12)</small><table border=\"1\" class=\"dataframe\"><thead><tr><th>PassengerId</th><th>Survived</th><th>Pclass</th><th>Name</th><th>Sex</th><th>Age</th><th>SibSp</th><th>Parch</th><th>Ticket</th><th>Fare</th><th>Cabin</th><th>Embarked</th></tr><tr><td>i64</td><td>i64</td><td>i64</td><td>str</td><td>str</td><td>f64</td><td>i64</td><td>i64</td><td>str</td><td>f64</td><td>str</td><td>str</td></tr></thead><tbody><tr><td>1</td><td>0</td><td>3</td><td>&quot;Braund, Mr. Owen Harris&quot;</td><td>&quot;male&quot;</td><td>22.0</td><td>1</td><td>0</td><td>&quot;A/5 21171&quot;</td><td>7.25</td><td>null</td><td>&quot;S&quot;</td></tr></tbody></table></div>"
      ],
      "text/plain": [
       "shape: (1, 12)\n",
       "┌───────────┬──────────┬────────┬───────────┬───┬───────────┬──────┬───────┬──────────┐\n",
       "│ Passenger ┆ Survived ┆ Pclass ┆ Name      ┆ … ┆ Ticket    ┆ Fare ┆ Cabin ┆ Embarked │\n",
       "│ Id        ┆ ---      ┆ ---    ┆ ---       ┆   ┆ ---       ┆ ---  ┆ ---   ┆ ---      │\n",
       "│ ---       ┆ i64      ┆ i64    ┆ str       ┆   ┆ str       ┆ f64  ┆ str   ┆ str      │\n",
       "│ i64       ┆          ┆        ┆           ┆   ┆           ┆      ┆       ┆          │\n",
       "╞═══════════╪══════════╪════════╪═══════════╪═══╪═══════════╪══════╪═══════╪══════════╡\n",
       "│ 1         ┆ 0        ┆ 3      ┆ Braund,   ┆ … ┆ A/5 21171 ┆ 7.25 ┆ null  ┆ S        │\n",
       "│           ┆          ┆        ┆ Mr. Owen  ┆   ┆           ┆      ┆       ┆          │\n",
       "│           ┆          ┆        ┆ Harris    ┆   ┆           ┆      ┆       ┆          │\n",
       "└───────────┴──────────┴────────┴───────────┴───┴───────────┴──────┴───────┴──────────┘"
      ]
     },
     "execution_count": 6,
     "metadata": {},
     "output_type": "execute_result"
    }
   ],
   "source": [
    "# 데이터 확인\n",
    "print(\"\\n데이터 확인:\")\n",
    "lf.head(1).collect()"
   ]
  },
  {
   "cell_type": "code",
   "execution_count": 34,
   "metadata": {},
   "outputs": [
    {
     "data": {
      "text/html": [
       "<div><style>\n",
       ".dataframe > thead > tr,\n",
       ".dataframe > tbody > tr {\n",
       "  text-align: right;\n",
       "  white-space: pre-wrap;\n",
       "}\n",
       "</style>\n",
       "<small>shape: (1, 12)</small><table border=\"1\" class=\"dataframe\"><thead><tr><th>PassengerId</th><th>Survived</th><th>Pclass</th><th>Name</th><th>Sex</th><th>Age</th><th>SibSp</th><th>Parch</th><th>Ticket</th><th>Fare</th><th>Cabin</th><th>Embarked</th></tr><tr><td>i64</td><td>i64</td><td>i64</td><td>str</td><td>str</td><td>f64</td><td>i64</td><td>i64</td><td>str</td><td>f64</td><td>str</td><td>str</td></tr></thead><tbody><tr><td>1</td><td>0</td><td>3</td><td>&quot;Braund, Mr. Owen Harris&quot;</td><td>&quot;male&quot;</td><td>22.0</td><td>1</td><td>0</td><td>&quot;A/5 21171&quot;</td><td>7.25</td><td>null</td><td>&quot;S&quot;</td></tr></tbody></table></div>"
      ],
      "text/plain": [
       "shape: (1, 12)\n",
       "┌─────┬─────┬─────┬─────┬───┬─────┬─────┬─────┬─────┐\n",
       "│ Pas ┆ Sur ┆ Pcl ┆ Nam ┆ … ┆ Tic ┆ Far ┆ Cab ┆ Emb │\n",
       "│ sen ┆ viv ┆ ass ┆ e   ┆   ┆ ket ┆ e   ┆ in  ┆ ark │\n",
       "│ ger ┆ ed  ┆ --- ┆ --- ┆   ┆ --- ┆ --- ┆ --- ┆ ed  │\n",
       "│ Id  ┆ --- ┆ i64 ┆ str ┆   ┆ str ┆ f64 ┆ str ┆ --- │\n",
       "│ --- ┆ i64 ┆     ┆     ┆   ┆     ┆     ┆     ┆ str │\n",
       "│ i64 ┆     ┆     ┆     ┆   ┆     ┆     ┆     ┆     │\n",
       "╞═════╪═════╪═════╪═════╪═══╪═════╪═════╪═════╪═════╡\n",
       "│ 1   ┆ 0   ┆ 3   ┆ Bra ┆ … ┆ A/5 ┆ 7.2 ┆ nul ┆ S   │\n",
       "│     ┆     ┆     ┆ und ┆   ┆ 211 ┆ 5   ┆ l   ┆     │\n",
       "│     ┆     ┆     ┆ ,   ┆   ┆ 71  ┆     ┆     ┆     │\n",
       "│     ┆     ┆     ┆ Mr. ┆   ┆     ┆     ┆     ┆     │\n",
       "│     ┆     ┆     ┆ Owe ┆   ┆     ┆     ┆     ┆     │\n",
       "│     ┆     ┆     ┆ n   ┆   ┆     ┆     ┆     ┆     │\n",
       "│     ┆     ┆     ┆ Har ┆   ┆     ┆     ┆     ┆     │\n",
       "│     ┆     ┆     ┆ ris ┆   ┆     ┆     ┆     ┆     │\n",
       "└─────┴─────┴─────┴─────┴───┴─────┴─────┴─────┴─────┘"
      ]
     },
     "execution_count": 34,
     "metadata": {},
     "output_type": "execute_result"
    }
   ],
   "source": [
    "pl_df = pl.read_csv(\"data/titanic_dataset.csv\")\n",
    "pl_df.lazy().head(1).collect()"
   ]
  },
  {
   "cell_type": "markdown",
   "metadata": {},
   "source": [
    "\n",
    "\n",
    "\n"
   ]
  },
  {
   "cell_type": "markdown",
   "metadata": {},
   "source": []
  }
 ],
 "metadata": {
  "kernelspec": {
   "display_name": "Python 3 (ipykernel)",
   "language": "python",
   "name": "python3"
  },
  "language_info": {
   "codemirror_mode": {
    "name": "ipython",
    "version": 3
   },
   "file_extension": ".py",
   "mimetype": "text/x-python",
   "name": "python",
   "nbconvert_exporter": "python",
   "pygments_lexer": "ipython3",
   "version": "3.12.6"
  }
 },
 "nbformat": 4,
 "nbformat_minor": 4
}

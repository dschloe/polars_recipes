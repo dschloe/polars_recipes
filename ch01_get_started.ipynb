{
 "cells": [
  {
   "cell_type": "markdown",
   "metadata": {},
   "source": [
    "# Recipes-1 : 데이터 프레임 생성\n"
   ]
  },
  {
   "cell_type": "code",
   "execution_count": 1,
   "metadata": {},
   "outputs": [
    {
     "name": "stdout",
     "output_type": "stream",
     "text": [
      "1.22.0\n"
     ]
    }
   ],
   "source": [
    "import polars as pl\n",
    "print(pl.__version__)"
   ]
  },
  {
   "cell_type": "code",
   "execution_count": 2,
   "metadata": {},
   "outputs": [
    {
     "name": "stdout",
     "output_type": "stream",
     "text": [
      "\n",
      "딕셔너리로 생성한 데이터프레임:\n",
      "shape: (5, 3)\n",
      "┌─────┬─────┬─────┐\n",
      "│ A   ┆ B   ┆ C   │\n",
      "│ --- ┆ --- ┆ --- │\n",
      "│ i64 ┆ str ┆ f64 │\n",
      "╞═════╪═════╪═════╡\n",
      "│ 1   ┆ a   ┆ 1.1 │\n",
      "│ 2   ┆ b   ┆ 2.2 │\n",
      "│ 3   ┆ c   ┆ 3.3 │\n",
      "│ 4   ┆ d   ┆ 4.4 │\n",
      "│ 5   ┆ e   ┆ 5.5 │\n",
      "└─────┴─────┴─────┘\n"
     ]
    }
   ],
   "source": [
    "# 딕셔너리로 데이터프레임 생성\n",
    "df1 = pl.DataFrame({\n",
    "    \"A\": [1, 2, 3, 4, 5],\n",
    "    \"B\": [\"a\", \"b\", \"c\", \"d\", \"e\"],\n",
    "    \"C\": [1.1, 2.2, 3.3, 4.4, 5.5]\n",
    "})\n",
    "print(\"\\n딕셔너리로 생성한 데이터프레임:\")\n",
    "print(df1)\n"
   ]
  },
  {
   "cell_type": "code",
   "execution_count": 6,
   "metadata": {},
   "outputs": [
    {
     "name": "stdout",
     "output_type": "stream",
     "text": [
      "\n",
      "리스트로 생성한 데이터프레임:\n",
      "shape: (5, 3)\n",
      "┌─────┬─────┬─────┐\n",
      "│ A   ┆ B   ┆ C   │\n",
      "│ --- ┆ --- ┆ --- │\n",
      "│ i64 ┆ str ┆ f64 │\n",
      "╞═════╪═════╪═════╡\n",
      "│ 1   ┆ a   ┆ 1.1 │\n",
      "│ 2   ┆ b   ┆ 2.2 │\n",
      "│ 3   ┆ c   ┆ 3.3 │\n",
      "│ 4   ┆ d   ┆ 4.4 │\n",
      "│ 5   ┆ e   ┆ 5.5 │\n",
      "└─────┴─────┴─────┘\n"
     ]
    },
    {
     "name": "stderr",
     "output_type": "stream",
     "text": [
      "C:\\Users\\campus3S043\\AppData\\Local\\Temp\\ipykernel_2204\\4079397462.py:2: DataOrientationWarning: Row orientation inferred during DataFrame construction. Explicitly specify the orientation by passing `orient=\"row\"` to silence this warning.\n",
      "  df2 = pl.DataFrame([\n"
     ]
    }
   ],
   "source": [
    "# 리스트로 데이터프레임 생성\n",
    "df2 = pl.DataFrame([\n",
    "    [1, \"a\", 1.1],\n",
    "    [2, \"b\", 2.2], \n",
    "    [3, \"c\", 3.3],\n",
    "    [4, \"d\", 4.4],\n",
    "    [5, \"e\", 5.5]\n",
    "], schema=[\"A\", \"B\", \"C\"])\n",
    "\n",
    "print(\"\\n리스트로 생성한 데이터프레임:\")\n",
    "print(df2)\n"
   ]
  },
  {
   "cell_type": "code",
   "execution_count": 7,
   "metadata": {},
   "outputs": [
    {
     "name": "stdout",
     "output_type": "stream",
     "text": [
      "\n",
      "Series로 생성한 데이터프레임:\n",
      "shape: (5, 3)\n",
      "┌─────┬─────┬─────┐\n",
      "│ A   ┆ B   ┆ C   │\n",
      "│ --- ┆ --- ┆ --- │\n",
      "│ i64 ┆ str ┆ f64 │\n",
      "╞═════╪═════╪═════╡\n",
      "│ 1   ┆ a   ┆ 1.1 │\n",
      "│ 2   ┆ b   ┆ 2.2 │\n",
      "│ 3   ┆ c   ┆ 3.3 │\n",
      "│ 4   ┆ d   ┆ 4.4 │\n",
      "│ 5   ┆ e   ┆ 5.5 │\n",
      "└─────┴─────┴─────┘\n"
     ]
    }
   ],
   "source": [
    "# Series로 데이터프레임 생성 \n",
    "df3 = pl.DataFrame([\n",
    "    pl.Series(\"A\", [1, 2, 3, 4, 5]),\n",
    "    pl.Series(\"B\", [\"a\", \"b\", \"c\", \"d\", \"e\"]),\n",
    "    pl.Series(\"C\", [1.1, 2.2, 3.3, 4.4, 5.5])\n",
    "])\n",
    "\n",
    "print(\"\\nSeries로 생성한 데이터프레임:\")\n",
    "print(df3)"
   ]
  },
  {
   "cell_type": "markdown",
   "metadata": {},
   "source": [
    "# Recipes-2 : 데이터 불러오기"
   ]
  },
  {
   "cell_type": "code",
   "execution_count": 9,
   "metadata": {},
   "outputs": [
    {
     "name": "stdout",
     "output_type": "stream",
     "text": [
      "\n",
      "titanic 데이터셋:\n",
      "shape: (5, 12)\n",
      "┌─────────────┬──────────┬────────┬───────────────────┬───┬───────────┬─────────┬───────┬──────────┐\n",
      "│ PassengerId ┆ Survived ┆ Pclass ┆ Name              ┆ … ┆ Ticket    ┆ Fare    ┆ Cabin ┆ Embarked │\n",
      "│ ---         ┆ ---      ┆ ---    ┆ ---               ┆   ┆ ---       ┆ ---     ┆ ---   ┆ ---      │\n",
      "│ i64         ┆ i64      ┆ i64    ┆ str               ┆   ┆ str       ┆ f64     ┆ str   ┆ str      │\n",
      "╞═════════════╪══════════╪════════╪═══════════════════╪═══╪═══════════╪═════════╪═══════╪══════════╡\n",
      "│ 1           ┆ 0        ┆ 3      ┆ Braund, Mr. Owen  ┆ … ┆ A/5 21171 ┆ 7.25    ┆ null  ┆ S        │\n",
      "│             ┆          ┆        ┆ Harris            ┆   ┆           ┆         ┆       ┆          │\n",
      "│ 2           ┆ 1        ┆ 1      ┆ Cumings, Mrs.     ┆ … ┆ PC 17599  ┆ 71.2833 ┆ C85   ┆ C        │\n",
      "│             ┆          ┆        ┆ John Bradley (Fl… ┆   ┆           ┆         ┆       ┆          │\n",
      "│ 3           ┆ 1        ┆ 3      ┆ Heikkinen, Miss.  ┆ … ┆ STON/O2.  ┆ 7.925   ┆ null  ┆ S        │\n",
      "│             ┆          ┆        ┆ Laina             ┆   ┆ 3101282   ┆         ┆       ┆          │\n",
      "│ 4           ┆ 1        ┆ 1      ┆ Futrelle, Mrs.    ┆ … ┆ 113803    ┆ 53.1    ┆ C123  ┆ S        │\n",
      "│             ┆          ┆        ┆ Jacques Heath (…  ┆   ┆           ┆         ┆       ┆          │\n",
      "│ 5           ┆ 0        ┆ 3      ┆ Allen, Mr.        ┆ … ┆ 373450    ┆ 8.05    ┆ null  ┆ S        │\n",
      "│             ┆          ┆        ┆ William Henry     ┆   ┆           ┆         ┆       ┆          │\n",
      "└─────────────┴──────────┴────────┴───────────────────┴───┴───────────┴─────────┴───────┴──────────┘\n"
     ]
    }
   ],
   "source": [
    "# titanic 데이터셋 불러오기\n",
    "df = pl.read_csv(\"data/titanic_dataset.csv\")\n",
    "\n",
    "print(\"\\ntitanic 데이터셋:\")\n",
    "print(df.head())\n"
   ]
  },
  {
   "cell_type": "markdown",
   "metadata": {},
   "source": [
    "# Recipes-3 : polars 데이터프레임 주요 속성"
   ]
  },
  {
   "cell_type": "code",
   "execution_count": 10,
   "metadata": {},
   "outputs": [
    {
     "name": "stdout",
     "output_type": "stream",
     "text": [
      "\n",
      "데이터프레임의 크기(shape):\n",
      "(891, 12)\n",
      "\n",
      "데이터프레임의 컬럼명:\n",
      "['PassengerId', 'Survived', 'Pclass', 'Name', 'Sex', 'Age', 'SibSp', 'Parch', 'Ticket', 'Fare', 'Cabin', 'Embarked']\n",
      "\n",
      "데이터프레임의 데이터 타입:\n",
      "[Int64, Int64, Int64, String, String, Float64, Int64, Int64, String, Float64, String, String]\n",
      "\n",
      "데이터프레임의 기본 정보:\n",
      "shape: (9, 13)\n",
      "┌────────────┬─────────────┬──────────┬──────────┬───┬───────────┬───────────┬───────┬──────────┐\n",
      "│ statistic  ┆ PassengerId ┆ Survived ┆ Pclass   ┆ … ┆ Ticket    ┆ Fare      ┆ Cabin ┆ Embarked │\n",
      "│ ---        ┆ ---         ┆ ---      ┆ ---      ┆   ┆ ---       ┆ ---       ┆ ---   ┆ ---      │\n",
      "│ str        ┆ f64         ┆ f64      ┆ f64      ┆   ┆ str       ┆ f64       ┆ str   ┆ str      │\n",
      "╞════════════╪═════════════╪══════════╪══════════╪═══╪═══════════╪═══════════╪═══════╪══════════╡\n",
      "│ count      ┆ 891.0       ┆ 891.0    ┆ 891.0    ┆ … ┆ 891       ┆ 891.0     ┆ 204   ┆ 889      │\n",
      "│ null_count ┆ 0.0         ┆ 0.0      ┆ 0.0      ┆ … ┆ 0         ┆ 0.0       ┆ 687   ┆ 2        │\n",
      "│ mean       ┆ 446.0       ┆ 0.383838 ┆ 2.308642 ┆ … ┆ null      ┆ 32.204208 ┆ null  ┆ null     │\n",
      "│ std        ┆ 257.353842  ┆ 0.486592 ┆ 0.836071 ┆ … ┆ null      ┆ 49.693429 ┆ null  ┆ null     │\n",
      "│ min        ┆ 1.0         ┆ 0.0      ┆ 1.0      ┆ … ┆ 110152    ┆ 0.0       ┆ A10   ┆ C        │\n",
      "│ 25%        ┆ 224.0       ┆ 0.0      ┆ 2.0      ┆ … ┆ null      ┆ 7.925     ┆ null  ┆ null     │\n",
      "│ 50%        ┆ 446.0       ┆ 0.0      ┆ 3.0      ┆ … ┆ null      ┆ 14.4542   ┆ null  ┆ null     │\n",
      "│ 75%        ┆ 669.0       ┆ 1.0      ┆ 3.0      ┆ … ┆ null      ┆ 31.0      ┆ null  ┆ null     │\n",
      "│ max        ┆ 891.0       ┆ 1.0      ┆ 3.0      ┆ … ┆ WE/P 5735 ┆ 512.3292  ┆ T     ┆ S        │\n",
      "└────────────┴─────────────┴──────────┴──────────┴───┴───────────┴───────────┴───────┴──────────┘\n"
     ]
    }
   ],
   "source": [
    "# 데이터프레임의 주요 속성 확인\n",
    "print(\"\\n데이터프레임의 크기(shape):\")\n",
    "print(df.shape)\n",
    "\n",
    "print(\"\\n데이터프레임의 컬럼명:\")\n",
    "print(df.columns)\n",
    "\n",
    "print(\"\\n데이터프레임의 데이터 타입:\")\n",
    "print(df.dtypes)\n",
    "\n",
    "print(\"\\n데이터프레임의 기본 정보:\")\n",
    "print(df.describe())\n"
   ]
  },
  {
   "cell_type": "markdown",
   "metadata": {},
   "source": [
    "# Recipes-4 : 데이터 호환성"
   ]
  },
  {
   "cell_type": "code",
   "execution_count": 11,
   "metadata": {},
   "outputs": [
    {
     "name": "stdout",
     "output_type": "stream",
     "text": [
      "\n",
      "NumPy 배열:\n",
      "[[1 2 3]\n",
      " [4 5 6]]\n",
      "\n",
      "NumPy 배열로부터 생성된 polars 데이터프레임:\n",
      "shape: (2, 3)\n",
      "┌──────┬──────┬──────┐\n",
      "│ col1 ┆ col2 ┆ col3 │\n",
      "│ ---  ┆ ---  ┆ ---  │\n",
      "│ i64  ┆ i64  ┆ i64  │\n",
      "╞══════╪══════╪══════╡\n",
      "│ 1    ┆ 2    ┆ 3    │\n",
      "│ 4    ┆ 5    ┆ 6    │\n",
      "└──────┴──────┴──────┘\n"
     ]
    }
   ],
   "source": [
    "# numpy 배열 생성\n",
    "import numpy as np\n",
    "arr = np.array([[1, 2, 3], [4, 5, 6]])\n",
    "print(\"\\nNumPy 배열:\")\n",
    "print(arr)\n",
    "\n",
    "# numpy 배열을 polars 데이터프레임으로 변환\n",
    "df_from_np = pl.from_numpy(arr, schema=['col1', 'col2', 'col3'])\n",
    "print(\"\\nNumPy 배열로부터 생성된 polars 데이터프레임:\")\n",
    "print(df_from_np)\n"
   ]
  },
  {
   "cell_type": "code",
   "execution_count": 12,
   "metadata": {},
   "outputs": [
    {
     "name": "stdout",
     "output_type": "stream",
     "text": [
      "\n",
      "Pandas 데이터프레임:\n",
      "   A  B\n",
      "0  1  a\n",
      "1  2  b\n",
      "2  3  c\n",
      "\n",
      "Pandas 데이터프레임으로부터 생성된 polars 데이터프레임:\n",
      "shape: (3, 2)\n",
      "┌─────┬─────┐\n",
      "│ A   ┆ B   │\n",
      "│ --- ┆ --- │\n",
      "│ i64 ┆ str │\n",
      "╞═════╪═════╡\n",
      "│ 1   ┆ a   │\n",
      "│ 2   ┆ b   │\n",
      "│ 3   ┆ c   │\n",
      "└─────┴─────┘\n"
     ]
    }
   ],
   "source": [
    "# pandas 데이터프레임 생성\n",
    "import pandas as pd\n",
    "pd_df = pd.DataFrame({\n",
    "    'A': [1, 2, 3],\n",
    "    'B': ['a', 'b', 'c']\n",
    "})\n",
    "print(\"\\nPandas 데이터프레임:\")\n",
    "print(pd_df)\n",
    "\n",
    "# pandas 데이터프레임을 polars로 변환\n",
    "pl_from_pd = pl.from_pandas(pd_df)\n",
    "print(\"\\nPandas 데이터프레임으로부터 생성된 polars 데이터프레임:\")\n",
    "print(pl_from_pd)\n"
   ]
  },
  {
   "cell_type": "markdown",
   "metadata": {},
   "source": [
    "# "
   ]
  },
  {
   "cell_type": "markdown",
   "metadata": {},
   "source": [
    "# Recipes-5 : Polars Series 생성"
   ]
  },
  {
   "cell_type": "code",
   "execution_count": 15,
   "metadata": {},
   "outputs": [
    {
     "name": "stdout",
     "output_type": "stream",
     "text": [
      "\n",
      "Series s1:\n",
      "shape: (5,)\n",
      "Series: 'a' [i64]\n",
      "[\n",
      "\t1\n",
      "\t2\n",
      "\t3\n",
      "\t4\n",
      "\t5\n",
      "]\n"
     ]
    }
   ],
   "source": [
    "# Series 생성\n",
    "s1 = pl.Series(\"a\", [1, 2, 3, 4, 5])\n",
    "print(\"\\nSeries s1:\")\n",
    "print(s1)\n"
   ]
  },
  {
   "cell_type": "markdown",
   "metadata": {},
   "source": [
    "# Recipes-6 : Polars Series 속성"
   ]
  },
  {
   "cell_type": "code",
   "execution_count": 18,
   "metadata": {},
   "outputs": [
    {
     "name": "stdout",
     "output_type": "stream",
     "text": [
      "\n",
      "Series의 기본 속성들:\n",
      "이름: a\n",
      "길이: 5\n",
      "데이터 타입: Int64\n",
      "Null 값 개수: 0\n",
      "고유값 개수: 5\n"
     ]
    }
   ],
   "source": [
    "# Series의 기본 속성들\n",
    "s1 = pl.Series(\"a\", [1, 2, 3, 4, 5])\n",
    "print(\"\\nSeries의 기본 속성들:\")\n",
    "print(f\"이름: {s1.name}\")\n",
    "print(f\"길이: {s1.len()}\")\n",
    "print(f\"데이터 타입: {s1.dtype}\")\n",
    "print(f\"Null 값 개수: {s1.null_count()}\")\n",
    "print(f\"고유값 개수: {s1.n_unique()}\")"
   ]
  },
  {
   "cell_type": "markdown",
   "metadata": {},
   "source": [
    "# Recipes-7 : Polars DataFrame에서 Series로 변형"
   ]
  },
  {
   "cell_type": "code",
   "execution_count": 19,
   "metadata": {},
   "outputs": [
    {
     "name": "stdout",
     "output_type": "stream",
     "text": [
      "\n",
      "원본 데이터프레임:\n",
      "shape: (3, 3)\n",
      "┌─────┬─────┬───────┐\n",
      "│ a   ┆ b   ┆ c     │\n",
      "│ --- ┆ --- ┆ ---   │\n",
      "│ i64 ┆ str ┆ bool  │\n",
      "╞═════╪═════╪═══════╡\n",
      "│ 1   ┆ x   ┆ true  │\n",
      "│ 2   ┆ y   ┆ false │\n",
      "│ 3   ┆ z   ┆ true  │\n",
      "└─────┴─────┴───────┘\n",
      "\n",
      "추출된 Series들:\n",
      "Series a:\n",
      "shape: (3,)\n",
      "Series: 'a' [i64]\n",
      "[\n",
      "\t1\n",
      "\t2\n",
      "\t3\n",
      "]\n",
      "\n",
      "Series b:\n",
      "shape: (3,)\n",
      "Series: 'b' [str]\n",
      "[\n",
      "\t\"x\"\n",
      "\t\"y\"\n",
      "\t\"z\"\n",
      "]\n",
      "\n",
      "Series c:\n",
      "shape: (3,)\n",
      "Series: 'c' [bool]\n",
      "[\n",
      "\ttrue\n",
      "\tfalse\n",
      "\ttrue\n",
      "]\n"
     ]
    }
   ],
   "source": [
    "# 데이터프레임 생성\n",
    "df = pl.DataFrame({\n",
    "    \"a\": [1, 2, 3],\n",
    "    \"b\": [\"x\", \"y\", \"z\"],\n",
    "    \"c\": [True, False, True]\n",
    "})\n",
    "print(\"\\n원본 데이터프레임:\")\n",
    "print(df)\n",
    "\n",
    "# 데이터프레임의 컬럼을 Series로 변환\n",
    "series_a = df[\"a\"]\n",
    "series_b = df[\"b\"] \n",
    "series_c = df[\"c\"]\n",
    "\n",
    "print(\"\\n추출된 Series들:\")\n",
    "print(\"Series a:\")\n",
    "print(series_a)\n",
    "print(\"\\nSeries b:\")\n",
    "print(series_b)\n",
    "print(\"\\nSeries c:\") \n",
    "print(series_c)\n"
   ]
  },
  {
   "cell_type": "markdown",
   "metadata": {},
   "source": [
    "# Recipes-8 : Polars LazyFrame 생성"
   ]
  },
  {
   "cell_type": "code",
   "execution_count": 23,
   "metadata": {},
   "outputs": [
    {
     "name": "stdout",
     "output_type": "stream",
     "text": [
      "\n",
      "딕셔너리로부터 직접 생성된 LazyFrame:\n",
      "naive plan: (run LazyFrame.explain(optimized=True) to see the optimized plan)\n",
      "\n",
      "DF [\"a\", \"b\", \"c\"]; PROJECT */3 COLUMNS\n",
      "\n",
      "수집된 DataFrame:\n",
      "shape: (3, 3)\n",
      "┌─────┬─────┬───────┐\n",
      "│ a   ┆ b   ┆ c     │\n",
      "│ --- ┆ --- ┆ ---   │\n",
      "│ i64 ┆ str ┆ bool  │\n",
      "╞═════╪═════╪═══════╡\n",
      "│ 1   ┆ x   ┆ true  │\n",
      "│ 2   ┆ y   ┆ false │\n",
      "│ 3   ┆ z   ┆ true  │\n",
      "└─────┴─────┴───────┘\n"
     ]
    }
   ],
   "source": [
    "# 딕셔너리에서 LazyFrame 직접 생성\n",
    "data = {\n",
    "    \"a\": [1, 2, 3],\n",
    "    \"b\": [\"x\", \"y\", \"z\"],\n",
    "    \"c\": [True, False, True]\n",
    "}\n",
    "\n",
    "lf = pl.LazyFrame(data)\n",
    "print(\"\\n딕셔너리로부터 직접 생성된 LazyFrame:\")\n",
    "print(lf)\n",
    "\n",
    "# LazyFrame을 DataFrame으로 수집\n",
    "df = lf.collect()\n",
    "print(\"\\n수집된 DataFrame:\")\n",
    "print(df)\n"
   ]
  },
  {
   "cell_type": "code",
   "execution_count": 22,
   "metadata": {},
   "outputs": [
    {
     "name": "stdout",
     "output_type": "stream",
     "text": [
      "\n",
      "원본 데이터프레임:\n",
      "shape: (3, 3)\n",
      "┌─────┬─────┬───────┐\n",
      "│ a   ┆ b   ┆ c     │\n",
      "│ --- ┆ --- ┆ ---   │\n",
      "│ i64 ┆ str ┆ bool  │\n",
      "╞═════╪═════╪═══════╡\n",
      "│ 1   ┆ x   ┆ true  │\n",
      "│ 2   ┆ y   ┆ false │\n",
      "│ 3   ┆ z   ┆ true  │\n",
      "└─────┴─────┴───────┘\n",
      "\n",
      "LazyFrame으로 변환:\n",
      "naive plan: (run LazyFrame.explain(optimized=True) to see the optimized plan)\n",
      "\n",
      "DF [\"a\", \"b\", \"c\"]; PROJECT */3 COLUMNS\n",
      "\n",
      "수집된 DataFrame:\n",
      "shape: (3, 3)\n",
      "┌─────┬─────┬───────┐\n",
      "│ a   ┆ b   ┆ c     │\n",
      "│ --- ┆ --- ┆ ---   │\n",
      "│ i64 ┆ str ┆ bool  │\n",
      "╞═════╪═════╪═══════╡\n",
      "│ 1   ┆ x   ┆ true  │\n",
      "│ 2   ┆ y   ┆ false │\n",
      "│ 3   ┆ z   ┆ true  │\n",
      "└─────┴─────┴───────┘\n"
     ]
    }
   ],
   "source": [
    "# 기본 데이터프레임 생성\n",
    "df = pl.DataFrame({\n",
    "    \"a\": [1, 2, 3],\n",
    "    \"b\": [\"x\", \"y\", \"z\"],\n",
    "    \"c\": [True, False, True]\n",
    "})\n",
    "print(\"\\n원본 데이터프레임:\")\n",
    "print(df)\n",
    "\n",
    "# LazyFrame으로 변환\n",
    "lf = df.lazy()\n",
    "print(\"\\nLazyFrame으로 변환:\")\n",
    "print(lf)\n",
    "\n",
    "# LazyFrame을 다시 DataFrame으로 수집(collect)\n",
    "collected_df = lf.collect()\n",
    "print(\"\\n수집된 DataFrame:\")\n",
    "print(collected_df)\n"
   ]
  },
  {
   "cell_type": "markdown",
   "metadata": {},
   "source": [
    "# Recipes-9 : Polars LazyFrame로 파일 읽어오기"
   ]
  },
  {
   "cell_type": "code",
   "execution_count": 37,
   "metadata": {},
   "outputs": [
    {
     "name": "stdout",
     "output_type": "stream",
     "text": [
      "데이터 객체 확인\n",
      "<class 'polars.lazyframe.frame.LazyFrame'>\n",
      "\n",
      "데이터 미리보기:\n",
      "naive plan: (run LazyFrame.explain(optimized=True) to see the optimized plan)\n",
      "\n",
      "SLICE[offset: 0, len: 5]\n",
      "  Csv SCAN [data/titanic_dataset.csv]\n",
      "  PROJECT */12 COLUMNS\n",
      "\n",
      "데이터 스키마 확인인:\n",
      "Schema({'PassengerId': Int64, 'Survived': Int64, 'Pclass': Int64, 'Name': String, 'Sex': String, 'Age': Float64, 'SibSp': Int64, 'Parch': Int64, 'Ticket': String, 'Fare': Float64, 'Cabin': String, 'Embarked': String})\n"
     ]
    }
   ],
   "source": [
    "# CSV 파일을 LazyFrame으로 읽기\n",
    "lf = pl.scan_csv(\"data/titanic_dataset.csv\")\n",
    "\n",
    "# 객체 확인\n",
    "print(\"데이터 객체 확인\")\n",
    "print(type(lf))\n",
    "\n",
    "# LazyFrame을 DataFrame으로 변환하여 첫 몇 행 확인\n",
    "print(\"\\n데이터 미리보기:\")\n",
    "print(lf.head(5))\n",
    "\n",
    "# 스키마 확인\n",
    "print(\"\\n데이터 스키마 확인인:\")\n",
    "print(lf.collect_schema())\n"
   ]
  },
  {
   "cell_type": "markdown",
   "metadata": {},
   "source": []
  },
  {
   "cell_type": "code",
   "execution_count": 34,
   "metadata": {},
   "outputs": [
    {
     "data": {
      "text/html": [
       "<div><style>\n",
       ".dataframe > thead > tr,\n",
       ".dataframe > tbody > tr {\n",
       "  text-align: right;\n",
       "  white-space: pre-wrap;\n",
       "}\n",
       "</style>\n",
       "<small>shape: (4, 12)</small><table border=\"1\" class=\"dataframe\"><thead><tr><th>PassengerId</th><th>Survived</th><th>Pclass</th><th>Name</th><th>Sex</th><th>Age</th><th>SibSp</th><th>Parch</th><th>Ticket</th><th>Fare</th><th>Cabin</th><th>Embarked</th></tr><tr><td>i64</td><td>i64</td><td>i64</td><td>str</td><td>str</td><td>f64</td><td>i64</td><td>i64</td><td>str</td><td>f64</td><td>str</td><td>str</td></tr></thead><tbody><tr><td>1</td><td>0</td><td>3</td><td>&quot;Braund, Mr. Owen Harris&quot;</td><td>&quot;male&quot;</td><td>22.0</td><td>1</td><td>0</td><td>&quot;A/5 21171&quot;</td><td>7.25</td><td>null</td><td>&quot;S&quot;</td></tr><tr><td>2</td><td>1</td><td>1</td><td>&quot;Cumings, Mrs. John Bradley (Fl…</td><td>&quot;female&quot;</td><td>38.0</td><td>1</td><td>0</td><td>&quot;PC 17599&quot;</td><td>71.2833</td><td>&quot;C85&quot;</td><td>&quot;C&quot;</td></tr><tr><td>3</td><td>1</td><td>3</td><td>&quot;Heikkinen, Miss. Laina&quot;</td><td>&quot;female&quot;</td><td>26.0</td><td>0</td><td>0</td><td>&quot;STON/O2. 3101282&quot;</td><td>7.925</td><td>null</td><td>&quot;S&quot;</td></tr><tr><td>4</td><td>1</td><td>1</td><td>&quot;Futrelle, Mrs. Jacques Heath (…</td><td>&quot;female&quot;</td><td>35.0</td><td>1</td><td>0</td><td>&quot;113803&quot;</td><td>53.1</td><td>&quot;C123&quot;</td><td>&quot;S&quot;</td></tr></tbody></table></div>"
      ],
      "text/plain": [
       "shape: (4, 12)\n",
       "┌─────────────┬──────────┬────────┬───────────────────┬───┬───────────┬─────────┬───────┬──────────┐\n",
       "│ PassengerId ┆ Survived ┆ Pclass ┆ Name              ┆ … ┆ Ticket    ┆ Fare    ┆ Cabin ┆ Embarked │\n",
       "│ ---         ┆ ---      ┆ ---    ┆ ---               ┆   ┆ ---       ┆ ---     ┆ ---   ┆ ---      │\n",
       "│ i64         ┆ i64      ┆ i64    ┆ str               ┆   ┆ str       ┆ f64     ┆ str   ┆ str      │\n",
       "╞═════════════╪══════════╪════════╪═══════════════════╪═══╪═══════════╪═════════╪═══════╪══════════╡\n",
       "│ 1           ┆ 0        ┆ 3      ┆ Braund, Mr. Owen  ┆ … ┆ A/5 21171 ┆ 7.25    ┆ null  ┆ S        │\n",
       "│             ┆          ┆        ┆ Harris            ┆   ┆           ┆         ┆       ┆          │\n",
       "│ 2           ┆ 1        ┆ 1      ┆ Cumings, Mrs.     ┆ … ┆ PC 17599  ┆ 71.2833 ┆ C85   ┆ C        │\n",
       "│             ┆          ┆        ┆ John Bradley (Fl… ┆   ┆           ┆         ┆       ┆          │\n",
       "│ 3           ┆ 1        ┆ 3      ┆ Heikkinen, Miss.  ┆ … ┆ STON/O2.  ┆ 7.925   ┆ null  ┆ S        │\n",
       "│             ┆          ┆        ┆ Laina             ┆   ┆ 3101282   ┆         ┆       ┆          │\n",
       "│ 4           ┆ 1        ┆ 1      ┆ Futrelle, Mrs.    ┆ … ┆ 113803    ┆ 53.1    ┆ C123  ┆ S        │\n",
       "│             ┆          ┆        ┆ Jacques Heath (…  ┆   ┆           ┆         ┆       ┆          │\n",
       "└─────────────┴──────────┴────────┴───────────────────┴───┴───────────┴─────────┴───────┴──────────┘"
      ]
     },
     "execution_count": 34,
     "metadata": {},
     "output_type": "execute_result"
    }
   ],
   "source": [
    "pl_df = pl.read_csv(\"data/titanic_dataset.csv\")\n",
    "pl_df.lazy().head(4).collect()"
   ]
  },
  {
   "cell_type": "markdown",
   "metadata": {},
   "source": [
    "\n",
    "\n",
    "\n"
   ]
  },
  {
   "cell_type": "markdown",
   "metadata": {},
   "source": []
  }
 ],
 "metadata": {
  "kernelspec": {
   "display_name": "venv",
   "language": "python",
   "name": "python3"
  },
  "language_info": {
   "codemirror_mode": {
    "name": "ipython",
    "version": 3
   },
   "file_extension": ".py",
   "mimetype": "text/x-python",
   "name": "python",
   "nbconvert_exporter": "python",
   "pygments_lexer": "ipython3",
   "version": "3.11.6"
  }
 },
 "nbformat": 4,
 "nbformat_minor": 2
}

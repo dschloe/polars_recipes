{
 "cells": [
  {
   "cell_type": "markdown",
   "metadata": {},
   "source": [
    "# 레시피 31 : 데이터 탐색 (Data Exploration)"
   ]
  },
  {
   "cell_type": "code",
   "execution_count": 1,
   "metadata": {},
   "outputs": [],
   "source": [
    "import polars as pl \n",
    "df = pl.read_csv(\"data/ch07/customer_shopping_data_no_header.csv\", \n",
    "                 has_header=False,\n",
    "                 new_columns=['invoice_id', 'customer_id', 'gender', 'age', 'category', \n",
    "                             'quantity', 'price', 'payment_method', 'shopping_date', 'shopping_mall'])"
   ]
  },
  {
   "cell_type": "code",
   "execution_count": 2,
   "metadata": {},
   "outputs": [
    {
     "data": {
      "text/html": [
       "<div><style>\n",
       ".dataframe > thead > tr,\n",
       ".dataframe > tbody > tr {\n",
       "  text-align: right;\n",
       "  white-space: pre-wrap;\n",
       "}\n",
       "</style>\n",
       "<small>shape: (1, 10)</small><table border=\"1\" class=\"dataframe\"><thead><tr><th>invoice_id</th><th>customer_id</th><th>gender</th><th>age</th><th>category</th><th>quantity</th><th>price</th><th>payment_method</th><th>shopping_date</th><th>shopping_mall</th></tr><tr><td>str</td><td>str</td><td>str</td><td>i64</td><td>str</td><td>i64</td><td>f64</td><td>str</td><td>str</td><td>str</td></tr></thead><tbody><tr><td>&quot;I138884&quot;</td><td>&quot;C241288&quot;</td><td>&quot;Female&quot;</td><td>28</td><td>&quot;Clothing&quot;</td><td>5</td><td>1500.4</td><td>&quot;Credit Card&quot;</td><td>&quot;5/8/2022&quot;</td><td>&quot;Kanyon&quot;</td></tr></tbody></table></div>"
      ],
      "text/plain": [
       "shape: (1, 10)\n",
       "┌─────┬─────┬─────┬─────┬───┬─────┬─────┬─────┬─────┐\n",
       "│ inv ┆ cus ┆ gen ┆ age ┆ … ┆ pri ┆ pay ┆ sho ┆ sho │\n",
       "│ oic ┆ tom ┆ der ┆ --- ┆   ┆ ce  ┆ men ┆ ppi ┆ ppi │\n",
       "│ e_i ┆ er_ ┆ --- ┆ i64 ┆   ┆ --- ┆ t_m ┆ ng_ ┆ ng_ │\n",
       "│ d   ┆ id  ┆ str ┆     ┆   ┆ f64 ┆ eth ┆ dat ┆ mal │\n",
       "│ --- ┆ --- ┆     ┆     ┆   ┆     ┆ od  ┆ e   ┆ l   │\n",
       "│ str ┆ str ┆     ┆     ┆   ┆     ┆ --- ┆ --- ┆ --- │\n",
       "│     ┆     ┆     ┆     ┆   ┆     ┆ str ┆ str ┆ str │\n",
       "╞═════╪═════╪═════╪═════╪═══╪═════╪═════╪═════╪═════╡\n",
       "│ I13 ┆ C24 ┆ Fem ┆ 28  ┆ … ┆ 150 ┆ Cre ┆ 5/8 ┆ Kan │\n",
       "│ 888 ┆ 128 ┆ ale ┆     ┆   ┆ 0.4 ┆ dit ┆ /20 ┆ yon │\n",
       "│ 4   ┆ 8   ┆     ┆     ┆   ┆     ┆ Car ┆ 22  ┆     │\n",
       "│     ┆     ┆     ┆     ┆   ┆     ┆ d   ┆     ┆     │\n",
       "└─────┴─────┴─────┴─────┴───┴─────┴─────┴─────┴─────┘"
      ]
     },
     "execution_count": 2,
     "metadata": {},
     "output_type": "execute_result"
    }
   ],
   "source": [
    "df.head(1)"
   ]
  },
  {
   "cell_type": "code",
   "execution_count": 4,
   "metadata": {},
   "outputs": [
    {
     "data": {
      "text/html": [
       "<div><style>\n",
       ".dataframe > thead > tr,\n",
       ".dataframe > tbody > tr {\n",
       "  text-align: right;\n",
       "  white-space: pre-wrap;\n",
       "}\n",
       "</style>\n",
       "<small>shape: (1, 10)</small><table border=\"1\" class=\"dataframe\"><thead><tr><th>invoice_id</th><th>customer_id</th><th>gender</th><th>age</th><th>category</th><th>quantity</th><th>price</th><th>payment_method</th><th>shopping_date</th><th>shopping_mall</th></tr><tr><td>str</td><td>str</td><td>str</td><td>i64</td><td>str</td><td>i64</td><td>f64</td><td>str</td><td>str</td><td>str</td></tr></thead><tbody><tr><td>&quot;I232867&quot;</td><td>&quot;C273973&quot;</td><td>&quot;Female&quot;</td><td>36</td><td>&quot;Souvenir&quot;</td><td>3</td><td>35.19</td><td>&quot;Credit Card&quot;</td><td>&quot;15/10/2022&quot;</td><td>&quot;Mall of Istanbul&quot;</td></tr></tbody></table></div>"
      ],
      "text/plain": [
       "shape: (1, 10)\n",
       "┌────────────┬─────────────┬────────┬─────┬───┬───────┬──────────────┬──────────────┬──────────────┐\n",
       "│ invoice_id ┆ customer_id ┆ gender ┆ age ┆ … ┆ price ┆ payment_meth ┆ shopping_dat ┆ shopping_mal │\n",
       "│ ---        ┆ ---         ┆ ---    ┆ --- ┆   ┆ ---   ┆ od           ┆ e            ┆ l            │\n",
       "│ str        ┆ str         ┆ str    ┆ i64 ┆   ┆ f64   ┆ ---          ┆ ---          ┆ ---          │\n",
       "│            ┆             ┆        ┆     ┆   ┆       ┆ str          ┆ str          ┆ str          │\n",
       "╞════════════╪═════════════╪════════╪═════╪═══╪═══════╪══════════════╪══════════════╪══════════════╡\n",
       "│ I232867    ┆ C273973     ┆ Female ┆ 36  ┆ … ┆ 35.19 ┆ Credit Card  ┆ 15/10/2022   ┆ Mall of      │\n",
       "│            ┆             ┆        ┆     ┆   ┆       ┆              ┆              ┆ Istanbul     │\n",
       "└────────────┴─────────────┴────────┴─────┴───┴───────┴──────────────┴──────────────┴──────────────┘"
      ]
     },
     "execution_count": 4,
     "metadata": {},
     "output_type": "execute_result"
    }
   ],
   "source": [
    "df.tail(1)"
   ]
  },
  {
   "cell_type": "code",
   "execution_count": 5,
   "metadata": {},
   "outputs": [
    {
     "name": "stdout",
     "output_type": "stream",
     "text": [
      "Rows: 99457\n",
      "Columns: 10\n",
      "$ invoice_id     <str> 'I138884', 'I317333', 'I127801'\n",
      "$ customer_id    <str> 'C241288', 'C111565', 'C266599'\n",
      "$ gender         <str> 'Female', 'Male', 'Male'\n",
      "$ age            <i64> 28, 21, 20\n",
      "$ category       <str> 'Clothing', 'Shoes', 'Clothing'\n",
      "$ quantity       <i64> 5, 3, 1\n",
      "$ price          <f64> 1500.4, 1800.51, 300.08\n",
      "$ payment_method <str> 'Credit Card', 'Debit Card', 'Cash'\n",
      "$ shopping_date  <str> '5/8/2022', '12/12/2021', '9/11/2021'\n",
      "$ shopping_mall  <str> 'Kanyon', 'Forum Istanbul', 'Metrocity'\n",
      "\n"
     ]
    }
   ],
   "source": [
    "df.glimpse(max_items_per_column=3)"
   ]
  },
  {
   "cell_type": "code",
   "execution_count": 6,
   "metadata": {},
   "outputs": [
    {
     "data": {
      "text/plain": [
       "7.60965633392334"
      ]
     },
     "execution_count": 6,
     "metadata": {},
     "output_type": "execute_result"
    }
   ],
   "source": [
    "df.estimated_size('mb')"
   ]
  },
  {
   "cell_type": "code",
   "execution_count": 7,
   "metadata": {},
   "outputs": [
    {
     "data": {
      "text/html": [
       "<div><style>\n",
       ".dataframe > thead > tr,\n",
       ".dataframe > tbody > tr {\n",
       "  text-align: right;\n",
       "  white-space: pre-wrap;\n",
       "}\n",
       "</style>\n",
       "<small>shape: (9, 4)</small><table border=\"1\" class=\"dataframe\"><thead><tr><th>statistic</th><th>age</th><th>quantity</th><th>price</th></tr><tr><td>str</td><td>f64</td><td>f64</td><td>f64</td></tr></thead><tbody><tr><td>&quot;count&quot;</td><td>99457.0</td><td>99457.0</td><td>99457.0</td></tr><tr><td>&quot;null_count&quot;</td><td>0.0</td><td>0.0</td><td>0.0</td></tr><tr><td>&quot;mean&quot;</td><td>43.427089</td><td>3.003429</td><td>689.256321</td></tr><tr><td>&quot;std&quot;</td><td>14.990054</td><td>1.413025</td><td>941.184567</td></tr><tr><td>&quot;min&quot;</td><td>18.0</td><td>1.0</td><td>5.23</td></tr><tr><td>&quot;25%&quot;</td><td>30.0</td><td>2.0</td><td>45.45</td></tr><tr><td>&quot;50%&quot;</td><td>43.0</td><td>3.0</td><td>203.3</td></tr><tr><td>&quot;75%&quot;</td><td>56.0</td><td>4.0</td><td>1200.32</td></tr><tr><td>&quot;max&quot;</td><td>69.0</td><td>5.0</td><td>5250.0</td></tr></tbody></table></div>"
      ],
      "text/plain": [
       "shape: (9, 4)\n",
       "┌────────────┬───────────┬──────────┬────────────┐\n",
       "│ statistic  ┆ age       ┆ quantity ┆ price      │\n",
       "│ ---        ┆ ---       ┆ ---      ┆ ---        │\n",
       "│ str        ┆ f64       ┆ f64      ┆ f64        │\n",
       "╞════════════╪═══════════╪══════════╪════════════╡\n",
       "│ count      ┆ 99457.0   ┆ 99457.0  ┆ 99457.0    │\n",
       "│ null_count ┆ 0.0       ┆ 0.0      ┆ 0.0        │\n",
       "│ mean       ┆ 43.427089 ┆ 3.003429 ┆ 689.256321 │\n",
       "│ std        ┆ 14.990054 ┆ 1.413025 ┆ 941.184567 │\n",
       "│ min        ┆ 18.0      ┆ 1.0      ┆ 5.23       │\n",
       "│ 25%        ┆ 30.0      ┆ 2.0      ┆ 45.45      │\n",
       "│ 50%        ┆ 43.0      ┆ 3.0      ┆ 203.3      │\n",
       "│ 75%        ┆ 56.0      ┆ 4.0      ┆ 1200.32    │\n",
       "│ max        ┆ 69.0      ┆ 5.0      ┆ 5250.0     │\n",
       "└────────────┴───────────┴──────────┴────────────┘"
      ]
     },
     "execution_count": 7,
     "metadata": {},
     "output_type": "execute_result"
    }
   ],
   "source": [
    "import polars.selectors as cs \n",
    "df.select(cs.numeric()).describe()"
   ]
  },
  {
   "cell_type": "code",
   "execution_count": 3,
   "metadata": {},
   "outputs": [
    {
     "data": {
      "text/html": [
       "<div><style>\n",
       ".dataframe > thead > tr,\n",
       ".dataframe > tbody > tr {\n",
       "  text-align: right;\n",
       "  white-space: pre-wrap;\n",
       "}\n",
       "</style>\n",
       "<small>shape: (1, 10)</small><table border=\"1\" class=\"dataframe\"><thead><tr><th>invoice_id</th><th>customer_id</th><th>gender</th><th>age</th><th>category</th><th>quantity</th><th>price</th><th>payment_method</th><th>shopping_date</th><th>shopping_mall</th></tr><tr><td>u32</td><td>u32</td><td>u32</td><td>u32</td><td>u32</td><td>u32</td><td>u32</td><td>u32</td><td>u32</td><td>u32</td></tr></thead><tbody><tr><td>0</td><td>0</td><td>0</td><td>0</td><td>0</td><td>0</td><td>0</td><td>0</td><td>0</td><td>0</td></tr></tbody></table></div>"
      ],
      "text/plain": [
       "shape: (1, 10)\n",
       "┌─────┬─────┬─────┬─────┬───┬─────┬─────┬─────┬─────┐\n",
       "│ inv ┆ cus ┆ gen ┆ age ┆ … ┆ pri ┆ pay ┆ sho ┆ sho │\n",
       "│ oic ┆ tom ┆ der ┆ --- ┆   ┆ ce  ┆ men ┆ ppi ┆ ppi │\n",
       "│ e_i ┆ er_ ┆ --- ┆ u32 ┆   ┆ --- ┆ t_m ┆ ng_ ┆ ng_ │\n",
       "│ d   ┆ id  ┆ u32 ┆     ┆   ┆ u32 ┆ eth ┆ dat ┆ mal │\n",
       "│ --- ┆ --- ┆     ┆     ┆   ┆     ┆ od  ┆ e   ┆ l   │\n",
       "│ u32 ┆ u32 ┆     ┆     ┆   ┆     ┆ --- ┆ --- ┆ --- │\n",
       "│     ┆     ┆     ┆     ┆   ┆     ┆ u32 ┆ u32 ┆ u32 │\n",
       "╞═════╪═════╪═════╪═════╪═══╪═════╪═════╪═════╪═════╡\n",
       "│ 0   ┆ 0   ┆ 0   ┆ 0   ┆ … ┆ 0   ┆ 0   ┆ 0   ┆ 0   │\n",
       "└─────┴─────┴─────┴─────┴───┴─────┴─────┴─────┴─────┘"
      ]
     },
     "execution_count": 3,
     "metadata": {},
     "output_type": "execute_result"
    }
   ],
   "source": [
    "df.null_count()"
   ]
  },
  {
   "cell_type": "code",
   "execution_count": 9,
   "metadata": {},
   "outputs": [
    {
     "data": {
      "text/html": [
       "<div><style>\n",
       ".dataframe > thead > tr,\n",
       ".dataframe > tbody > tr {\n",
       "  text-align: right;\n",
       "  white-space: pre-wrap;\n",
       "}\n",
       "</style>\n",
       "<small>shape: (1, 3)</small><table border=\"1\" class=\"dataframe\"><thead><tr><th>col1</th><th>col2</th><th>col3</th></tr><tr><td>u32</td><td>u32</td><td>u32</td></tr></thead><tbody><tr><td>2</td><td>0</td><td>1</td></tr></tbody></table></div>"
      ],
      "text/plain": [
       "shape: (1, 3)\n",
       "┌──────┬──────┬──────┐\n",
       "│ col1 ┆ col2 ┆ col3 │\n",
       "│ ---  ┆ ---  ┆ ---  │\n",
       "│ u32  ┆ u32  ┆ u32  │\n",
       "╞══════╪══════╪══════╡\n",
       "│ 2    ┆ 0    ┆ 1    │\n",
       "└──────┴──────┴──────┘"
      ]
     },
     "execution_count": 9,
     "metadata": {},
     "output_type": "execute_result"
    }
   ],
   "source": [
    "# 임시 데이터 생성 및 확인\n",
    "null_df = pl.DataFrame({\n",
    "    'col1': [1, None, None],\n",
    "    'col2': [2, 3, 4], \n",
    "    'col3': [None, 5, 6]\n",
    "})\n",
    "\n",
    "null_df.null_count()"
   ]
  },
  {
   "cell_type": "markdown",
   "metadata": {},
   "source": [
    "# 레시피 32 : 데이터 형변환(Casting Data Types)"
   ]
  },
  {
   "cell_type": "code",
   "execution_count": 2,
   "metadata": {},
   "outputs": [
    {
     "data": {
      "text/html": [
       "<div><style>\n",
       ".dataframe > thead > tr,\n",
       ".dataframe > tbody > tr {\n",
       "  text-align: right;\n",
       "  white-space: pre-wrap;\n",
       "}\n",
       "</style>\n",
       "<small>shape: (1, 6)</small><table border=\"1\" class=\"dataframe\"><thead><tr><th>id</th><th>date</th><th>country</th><th>store</th><th>product</th><th>num_sold</th></tr><tr><td>i64</td><td>str</td><td>str</td><td>str</td><td>str</td><td>f64</td></tr></thead><tbody><tr><td>0</td><td>&quot;2010-01-01&quot;</td><td>&quot;Canada&quot;</td><td>&quot;Discount Stickers&quot;</td><td>&quot;Holographic Goose&quot;</td><td>null</td></tr></tbody></table></div>"
      ],
      "text/plain": [
       "shape: (1, 6)\n",
       "┌─────┬─────┬─────┬─────┬─────┬─────┐\n",
       "│ id  ┆ dat ┆ cou ┆ sto ┆ pro ┆ num │\n",
       "│ --- ┆ e   ┆ ntr ┆ re  ┆ duc ┆ _so │\n",
       "│ i64 ┆ --- ┆ y   ┆ --- ┆ t   ┆ ld  │\n",
       "│     ┆ str ┆ --- ┆ str ┆ --- ┆ --- │\n",
       "│     ┆     ┆ str ┆     ┆ str ┆ f64 │\n",
       "╞═════╪═════╪═════╪═════╪═════╪═════╡\n",
       "│ 0   ┆ 201 ┆ Can ┆ Dis ┆ Hol ┆ nul │\n",
       "│     ┆ 0-0 ┆ ada ┆ cou ┆ ogr ┆ l   │\n",
       "│     ┆ 1-0 ┆     ┆ nt  ┆ aph ┆     │\n",
       "│     ┆ 1   ┆     ┆ Sti ┆ ic  ┆     │\n",
       "│     ┆     ┆     ┆ cke ┆ Goo ┆     │\n",
       "│     ┆     ┆     ┆ rs  ┆ se  ┆     │\n",
       "└─────┴─────┴─────┴─────┴─────┴─────┘"
      ]
     },
     "execution_count": 2,
     "metadata": {},
     "output_type": "execute_result"
    }
   ],
   "source": [
    "import polars as pl\n",
    "\n",
    "sticker_sales = pl.read_csv('data/ch07/sticker sales train.csv')\n",
    "sticker_sales.head(1)"
   ]
  },
  {
   "cell_type": "code",
   "execution_count": 3,
   "metadata": {},
   "outputs": [
    {
     "data": {
      "text/html": [
       "<div><style>\n",
       ".dataframe > thead > tr,\n",
       ".dataframe > tbody > tr {\n",
       "  text-align: right;\n",
       "  white-space: pre-wrap;\n",
       "}\n",
       "</style>\n",
       "<small>shape: (1, 6)</small><table border=\"1\" class=\"dataframe\"><thead><tr><th>id</th><th>date</th><th>country</th><th>store</th><th>product</th><th>num_sold</th></tr><tr><td>i64</td><td>date</td><td>str</td><td>str</td><td>str</td><td>f64</td></tr></thead><tbody><tr><td>0</td><td>2010-01-01</td><td>&quot;Canada&quot;</td><td>&quot;Discount Stickers&quot;</td><td>&quot;Holographic Goose&quot;</td><td>null</td></tr></tbody></table></div>"
      ],
      "text/plain": [
       "shape: (1, 6)\n",
       "┌─────┬─────┬─────┬─────┬─────┬─────┐\n",
       "│ id  ┆ dat ┆ cou ┆ sto ┆ pro ┆ num │\n",
       "│ --- ┆ e   ┆ ntr ┆ re  ┆ duc ┆ _so │\n",
       "│ i64 ┆ --- ┆ y   ┆ --- ┆ t   ┆ ld  │\n",
       "│     ┆ dat ┆ --- ┆ str ┆ --- ┆ --- │\n",
       "│     ┆ e   ┆ str ┆     ┆ str ┆ f64 │\n",
       "╞═════╪═════╪═════╪═════╪═════╪═════╡\n",
       "│ 0   ┆ 201 ┆ Can ┆ Dis ┆ Hol ┆ nul │\n",
       "│     ┆ 0-0 ┆ ada ┆ cou ┆ ogr ┆ l   │\n",
       "│     ┆ 1-0 ┆     ┆ nt  ┆ aph ┆     │\n",
       "│     ┆ 1   ┆     ┆ Sti ┆ ic  ┆     │\n",
       "│     ┆     ┆     ┆ cke ┆ Goo ┆     │\n",
       "│     ┆     ┆     ┆ rs  ┆ se  ┆     │\n",
       "└─────┴─────┴─────┴─────┴─────┴─────┘"
      ]
     },
     "execution_count": 3,
     "metadata": {},
     "output_type": "execute_result"
    }
   ],
   "source": [
    "sticker_sales2 = sticker_sales.with_columns(\n",
    "    pl.col(\"date\").str.strptime(pl.Date, \"%Y-%m-%d\")\n",
    ")\n",
    "\n",
    "sticker_sales2.head(1)"
   ]
  },
  {
   "cell_type": "code",
   "execution_count": 7,
   "metadata": {},
   "outputs": [
    {
     "data": {
      "text/html": [
       "<div><style>\n",
       ".dataframe > thead > tr,\n",
       ".dataframe > tbody > tr {\n",
       "  text-align: right;\n",
       "  white-space: pre-wrap;\n",
       "}\n",
       "</style>\n",
       "<small>shape: (1, 6)</small><table border=\"1\" class=\"dataframe\"><thead><tr><th>id</th><th>date</th><th>country</th><th>store</th><th>product</th><th>num_sold</th></tr><tr><td>i64</td><td>str</td><td>str</td><td>str</td><td>str</td><td>f64</td></tr></thead><tbody><tr><td>0</td><td>&quot;2010-01-01&quot;</td><td>&quot;Canada&quot;</td><td>&quot;Discount Stickers&quot;</td><td>&quot;Holographic Goose&quot;</td><td>null</td></tr></tbody></table></div>"
      ],
      "text/plain": [
       "shape: (1, 6)\n",
       "┌─────┬────────┬────────┬────────┬────────┬───────┐\n",
       "│ id  ┆ date   ┆ countr ┆ store  ┆ produc ┆ num_s │\n",
       "│ --- ┆ ---    ┆ y      ┆ ---    ┆ t      ┆ old   │\n",
       "│ i64 ┆ str    ┆ ---    ┆ str    ┆ ---    ┆ ---   │\n",
       "│     ┆        ┆ str    ┆        ┆ str    ┆ f64   │\n",
       "╞═════╪════════╪════════╪════════╪════════╪═══════╡\n",
       "│ 0   ┆ 2010-0 ┆ Canada ┆ Discou ┆ Hologr ┆ null  │\n",
       "│     ┆ 1-01   ┆        ┆ nt Sti ┆ aphic  ┆       │\n",
       "│     ┆        ┆        ┆ ckers  ┆ Goose  ┆       │\n",
       "└─────┴────────┴────────┴────────┴────────┴───────┘"
      ]
     },
     "execution_count": 7,
     "metadata": {},
     "output_type": "execute_result"
    }
   ],
   "source": [
    "sticker_sales_scan = pl.scan_csv('data/ch07/sticker sales train.csv')\n",
    "sticker_sales_scan.head(1).collect()"
   ]
  },
  {
   "cell_type": "code",
   "execution_count": 8,
   "metadata": {},
   "outputs": [
    {
     "data": {
      "text/html": [
       "<div><style>\n",
       ".dataframe > thead > tr,\n",
       ".dataframe > tbody > tr {\n",
       "  text-align: right;\n",
       "  white-space: pre-wrap;\n",
       "}\n",
       "</style>\n",
       "<small>shape: (1, 6)</small><table border=\"1\" class=\"dataframe\"><thead><tr><th>id</th><th>date</th><th>country</th><th>store</th><th>product</th><th>num_sold</th></tr><tr><td>i64</td><td>date</td><td>str</td><td>str</td><td>str</td><td>f64</td></tr></thead><tbody><tr><td>0</td><td>2010-01-01</td><td>&quot;Canada&quot;</td><td>&quot;Discount Stickers&quot;</td><td>&quot;Holographic Goose&quot;</td><td>null</td></tr></tbody></table></div>"
      ],
      "text/plain": [
       "shape: (1, 6)\n",
       "┌─────┬────────┬────────┬────────┬────────┬───────┐\n",
       "│ id  ┆ date   ┆ countr ┆ store  ┆ produc ┆ num_s │\n",
       "│ --- ┆ ---    ┆ y      ┆ ---    ┆ t      ┆ old   │\n",
       "│ i64 ┆ date   ┆ ---    ┆ str    ┆ ---    ┆ ---   │\n",
       "│     ┆        ┆ str    ┆        ┆ str    ┆ f64   │\n",
       "╞═════╪════════╪════════╪════════╪════════╪═══════╡\n",
       "│ 0   ┆ 2010-0 ┆ Canada ┆ Discou ┆ Hologr ┆ null  │\n",
       "│     ┆ 1-01   ┆        ┆ nt Sti ┆ aphic  ┆       │\n",
       "│     ┆        ┆        ┆ ckers  ┆ Goose  ┆       │\n",
       "└─────┴────────┴────────┴────────┴────────┴───────┘"
      ]
     },
     "execution_count": 8,
     "metadata": {},
     "output_type": "execute_result"
    }
   ],
   "source": [
    "# 날짜 형변환\n",
    "sticker_sales_scan.with_columns(\n",
    "    pl.col(\"date\").str.strptime(pl.Date, \"%Y-%m-%d\")\n",
    ").head(1).collect()"
   ]
  },
  {
   "cell_type": "code",
   "execution_count": 9,
   "metadata": {},
   "outputs": [
    {
     "data": {
      "text/html": [
       "<div><style>\n",
       ".dataframe > thead > tr,\n",
       ".dataframe > tbody > tr {\n",
       "  text-align: right;\n",
       "  white-space: pre-wrap;\n",
       "}\n",
       "</style>\n",
       "<small>shape: (1, 13)</small><table border=\"1\" class=\"dataframe\"><thead><tr><th>id</th><th>date</th><th>country</th><th>store</th><th>product</th><th>num_sold</th><th>year</th><th>month</th><th>day</th><th>weekday</th><th>day_of_year</th><th>first_date</th><th>last_date</th></tr><tr><td>i64</td><td>date</td><td>str</td><td>str</td><td>str</td><td>f64</td><td>i32</td><td>i8</td><td>i8</td><td>str</td><td>i16</td><td>date</td><td>date</td></tr></thead><tbody><tr><td>0</td><td>2010-01-01</td><td>&quot;Canada&quot;</td><td>&quot;Discount Stickers&quot;</td><td>&quot;Holographic Goose&quot;</td><td>null</td><td>2010</td><td>1</td><td>1</td><td>&quot;토요일&quot;</td><td>1</td><td>2010-01-01</td><td>2016-12-31</td></tr></tbody></table></div>"
      ],
      "text/plain": [
       "shape: (1, 13)\n",
       "┌─────┬─────┬─────┬─────┬───┬─────┬─────┬─────┬─────┐\n",
       "│ id  ┆ dat ┆ cou ┆ sto ┆ … ┆ wee ┆ day ┆ fir ┆ las │\n",
       "│ --- ┆ e   ┆ ntr ┆ re  ┆   ┆ kda ┆ _of ┆ st_ ┆ t_d │\n",
       "│ i64 ┆ --- ┆ y   ┆ --- ┆   ┆ y   ┆ _ye ┆ dat ┆ ate │\n",
       "│     ┆ dat ┆ --- ┆ str ┆   ┆ --- ┆ ar  ┆ e   ┆ --- │\n",
       "│     ┆ e   ┆ str ┆     ┆   ┆ str ┆ --- ┆ --- ┆ dat │\n",
       "│     ┆     ┆     ┆     ┆   ┆     ┆ i16 ┆ dat ┆ e   │\n",
       "│     ┆     ┆     ┆     ┆   ┆     ┆     ┆ e   ┆     │\n",
       "╞═════╪═════╪═════╪═════╪═══╪═════╪═════╪═════╪═════╡\n",
       "│ 0   ┆ 201 ┆ Can ┆ Dis ┆ … ┆ 토  ┆ 1   ┆ 201 ┆ 201 │\n",
       "│     ┆ 0-0 ┆ ada ┆ cou ┆   ┆ 요  ┆     ┆ 0-0 ┆ 6-1 │\n",
       "│     ┆ 1-0 ┆     ┆ nt  ┆   ┆ 일  ┆     ┆ 1-0 ┆ 2-3 │\n",
       "│     ┆ 1   ┆     ┆ Sti ┆   ┆     ┆     ┆ 1   ┆ 1   │\n",
       "│     ┆     ┆     ┆ cke ┆   ┆     ┆     ┆     ┆     │\n",
       "│     ┆     ┆     ┆ rs  ┆   ┆     ┆     ┆     ┆     │\n",
       "└─────┴─────┴─────┴─────┴───┴─────┴─────┴─────┴─────┘"
      ]
     },
     "execution_count": 9,
     "metadata": {},
     "output_type": "execute_result"
    }
   ],
   "source": [
    "# 날짜 관련 컬럼 추출\n",
    "weekday_map = {\n",
    "    '0': \"월요일\",\n",
    "    '1': \"화요일\",\n",
    "    '2': \"수요일\",\n",
    "    '3': \"목요일\",\n",
    "    '4': \"금요일\",\n",
    "    '5': \"토요일\",\n",
    "    '6': \"일요일\"\n",
    "}\n",
    "\n",
    "sticker_sales2.with_columns([\n",
    "    pl.col(\"date\").dt.year().alias(\"year\"),\n",
    "    pl.col(\"date\").dt.month().alias(\"month\"), \n",
    "    pl.col(\"date\").dt.day().alias(\"day\"),\n",
    "    pl.col(\"date\").dt.weekday().cast(pl.Utf8).\\\n",
    "    replace(weekday_map).alias(\"weekday\"), \n",
    "    pl.col(\"date\").dt.ordinal_day().alias(\"day_of_year\"),    \n",
    "    pl.col(\"date\").min().alias(\"first_date\"),\n",
    "    pl.col(\"date\").max().alias(\"last_date\")\n",
    "]).head(1)"
   ]
  },
  {
   "cell_type": "markdown",
   "metadata": {},
   "source": [
    "- 그 외 데이터 형변환 예제"
   ]
  },
  {
   "cell_type": "code",
   "execution_count": 10,
   "metadata": {},
   "outputs": [
    {
     "name": "stdout",
     "output_type": "stream",
     "text": [
      "\n",
      "문자->숫자 변환:\n",
      "shape: (3, 5)\n",
      "┌──────┬──────┬──────┬─────────────┬──────────────┐\n",
      "│ col1 ┆ col2 ┆ col3 ┆ col2_to_int ┆ col2_to_floa │\n",
      "│ ---  ┆ ---  ┆ ---  ┆ ---         ┆ t            │\n",
      "│ i64  ┆ str  ┆ f64  ┆ i32         ┆ ---          │\n",
      "│      ┆      ┆      ┆             ┆ f64          │\n",
      "╞══════╪══════╪══════╪═════════════╪══════════════╡\n",
      "│ 2    ┆ 10   ┆ 1.5  ┆ 10          ┆ 10.0         │\n",
      "│ 3    ┆ 20   ┆ 2.5  ┆ 20          ┆ 20.0         │\n",
      "│ 1    ┆ 30   ┆ 3.5  ┆ 30          ┆ 30.0         │\n",
      "└──────┴──────┴──────┴─────────────┴──────────────┘\n",
      "\n",
      "숫자->문자 변환:\n",
      "shape: (3, 5)\n",
      "┌──────┬──────┬──────┬─────────────┬─────────────┐\n",
      "│ col1 ┆ col2 ┆ col3 ┆ col1_to_str ┆ col3_to_str │\n",
      "│ ---  ┆ ---  ┆ ---  ┆ ---         ┆ ---         │\n",
      "│ i64  ┆ str  ┆ f64  ┆ str         ┆ str         │\n",
      "╞══════╪══════╪══════╪═════════════╪═════════════╡\n",
      "│ 2    ┆ 10   ┆ 1.5  ┆ 2           ┆ 1.5         │\n",
      "│ 3    ┆ 20   ┆ 2.5  ┆ 3           ┆ 2.5         │\n",
      "│ 1    ┆ 30   ┆ 3.5  ┆ 1           ┆ 3.5         │\n",
      "└──────┴──────┴──────┴─────────────┴─────────────┘\n"
     ]
    }
   ],
   "source": [
    "import polars as pl \n",
    "\n",
    "# 가상의 데이터 생성\n",
    "df = pl.DataFrame({\n",
    "    'col1': [2, 3, 1],\n",
    "    'col2': ['10', '20', '30'],\n",
    "    'col3': [1.5, 2.5, 3.5]\n",
    "})\n",
    "\n",
    "# 문자 -> 숫자 변환\n",
    "df_num = df.with_columns([\n",
    "    pl.col(\"col2\").cast(pl.Int32).alias(\"col2_to_int\"),\n",
    "    pl.col(\"col2\").cast(pl.Float64).alias(\"col2_to_float\")\n",
    "])\n",
    "\n",
    "# 숫자 -> 문자 변환 \n",
    "df_str = df.with_columns([\n",
    "    pl.col(\"col1\").cast(pl.Utf8).alias(\"col1_to_str\"),\n",
    "    pl.col(\"col3\").cast(pl.Utf8).alias(\"col3_to_str\")\n",
    "])\n",
    "\n",
    "print(\"\\n문자->숫자 변환:\")\n",
    "print(df_num)\n",
    "print(\"\\n숫자->문자 변환:\")\n",
    "print(df_str)\n"
   ]
  },
  {
   "cell_type": "markdown",
   "metadata": {},
   "source": [
    "# 레시피 33 : 중복값 처리"
   ]
  },
  {
   "cell_type": "code",
   "execution_count": 64,
   "metadata": {},
   "outputs": [
    {
     "data": {
      "text/plain": [
       "(230130, 6)"
      ]
     },
     "execution_count": 64,
     "metadata": {},
     "output_type": "execute_result"
    }
   ],
   "source": [
    "sticker_sales2.shape"
   ]
  },
  {
   "cell_type": "code",
   "execution_count": 66,
   "metadata": {},
   "outputs": [
    {
     "data": {
      "text/plain": [
       "0"
      ]
     },
     "execution_count": 66,
     "metadata": {},
     "output_type": "execute_result"
    }
   ],
   "source": [
    "sticker_sales2.is_duplicated().sum()"
   ]
  },
  {
   "cell_type": "code",
   "execution_count": 12,
   "metadata": {},
   "outputs": [
    {
     "name": "stdout",
     "output_type": "stream",
     "text": [
      "데이터 크기: (230131, 6)\n",
      "중복된 행 수: 2\n",
      "\n",
      "중복된 행:\n"
     ]
    },
    {
     "data": {
      "text/html": [
       "<div><style>\n",
       ".dataframe > thead > tr,\n",
       ".dataframe > tbody > tr {\n",
       "  text-align: right;\n",
       "  white-space: pre-wrap;\n",
       "}\n",
       "</style>\n",
       "<small>shape: (2, 6)</small><table border=\"1\" class=\"dataframe\"><thead><tr><th>id</th><th>date</th><th>country</th><th>store</th><th>product</th><th>num_sold</th></tr><tr><td>i64</td><td>date</td><td>str</td><td>str</td><td>str</td><td>f64</td></tr></thead><tbody><tr><td>95</td><td>2010-01-02</td><td>&quot;Canada&quot;</td><td>&quot;Stickers for Less&quot;</td><td>&quot;Holographic Goose&quot;</td><td>281.0</td></tr><tr><td>95</td><td>2010-01-02</td><td>&quot;Canada&quot;</td><td>&quot;Stickers for Less&quot;</td><td>&quot;Holographic Goose&quot;</td><td>281.0</td></tr></tbody></table></div>"
      ],
      "text/plain": [
       "shape: (2, 6)\n",
       "┌─────┬─────┬─────┬─────┬─────┬─────┐\n",
       "│ id  ┆ dat ┆ cou ┆ sto ┆ pro ┆ num │\n",
       "│ --- ┆ e   ┆ ntr ┆ re  ┆ duc ┆ _so │\n",
       "│ i64 ┆ --- ┆ y   ┆ --- ┆ t   ┆ ld  │\n",
       "│     ┆ dat ┆ --- ┆ str ┆ --- ┆ --- │\n",
       "│     ┆ e   ┆ str ┆     ┆ str ┆ f64 │\n",
       "╞═════╪═════╪═════╪═════╪═════╪═════╡\n",
       "│ 95  ┆ 201 ┆ Can ┆ Sti ┆ Hol ┆ 281 │\n",
       "│     ┆ 0-0 ┆ ada ┆ cke ┆ ogr ┆ .0  │\n",
       "│     ┆ 1-0 ┆     ┆ rs  ┆ aph ┆     │\n",
       "│     ┆ 2   ┆     ┆ for ┆ ic  ┆     │\n",
       "│     ┆     ┆     ┆ Les ┆ Goo ┆     │\n",
       "│     ┆     ┆     ┆ s   ┆ se  ┆     │\n",
       "│ 95  ┆ 201 ┆ Can ┆ Sti ┆ Hol ┆ 281 │\n",
       "│     ┆ 0-0 ┆ ada ┆ cke ┆ ogr ┆ .0  │\n",
       "│     ┆ 1-0 ┆     ┆ rs  ┆ aph ┆     │\n",
       "│     ┆ 2   ┆     ┆ for ┆ ic  ┆     │\n",
       "│     ┆     ┆     ┆ Les ┆ Goo ┆     │\n",
       "│     ┆     ┆     ┆ s   ┆ se  ┆     │\n",
       "└─────┴─────┴─────┴─────┴─────┴─────┘"
      ]
     },
     "execution_count": 12,
     "metadata": {},
     "output_type": "execute_result"
    }
   ],
   "source": [
    "# 원본 데이터프레임과 95번째 행을 복사한 데이터를 concat으로 합쳐서 \n",
    "# 의도적으로 중복 데이터를 생성\n",
    "sticker_sales_dup = pl.concat([\n",
    "    sticker_sales2,\n",
    "    sticker_sales2.slice(95, 1)  # 95번째 행부터 1개 행을 선택\n",
    "])\n",
    "\n",
    "# 중복된 행 확인\n",
    "print(\"데이터 크기:\", sticker_sales_dup.shape)  # 전체 데이터 크기 출력\n",
    "print(\"중복된 행 수:\", sticker_sales_dup.is_duplicated().sum())  # 중복된 행의 개수 출력\n",
    "\n",
    "# 중복된 행만 필터링하여 출력\n",
    "print(\"\\n중복된 행:\")\n",
    "sticker_sales_dup.filter(sticker_sales_dup.is_duplicated())  # is_duplicated()가 True인 행만 선택"
   ]
  },
  {
   "cell_type": "code",
   "execution_count": 74,
   "metadata": {},
   "outputs": [
    {
     "data": {
      "text/plain": [
       "207413"
      ]
     },
     "execution_count": 74,
     "metadata": {},
     "output_type": "execute_result"
    }
   ],
   "source": [
    "sticker_sales2_drop_df = sticker_sales2.select(['date', 'num_sold']).is_unique() \n",
    "sticker_sales2_drop_df.sum()"
   ]
  },
  {
   "cell_type": "markdown",
   "metadata": {},
   "source": [
    "# 레시피 34 : Masking 데이터"
   ]
  },
  {
   "cell_type": "code",
   "execution_count": 18,
   "metadata": {},
   "outputs": [
    {
     "name": "stdout",
     "output_type": "stream",
     "text": [
      "SSN 예시: 360-43-7370\n"
     ]
    }
   ],
   "source": [
    "def generate_random_ssn():\n",
    "    \"\"\"미국식 사회보장번호(SSN)를 무작위로 생성하여 문자열로 반환합니다.\n",
    "    형식: XXX-XX-XXXX (X는 무작위 숫자)\"\"\"\n",
    "    import random\n",
    "    \n",
    "    # SSN의 3개 부분을 생성\n",
    "    part1 = str(random.randint(100, 999))\n",
    "    part2 = str(random.randint(10, 99))\n",
    "    part3 = str(random.randint(1000, 9999))\n",
    "    \n",
    "    # 하이픈으로 연결\n",
    "    ssn = f\"{part1}-{part2}-{part3}\"\n",
    "    \n",
    "    return ssn\n",
    "\n",
    "# 함수 테스트\n",
    "print(\"SSN 예시:\", generate_random_ssn())\n"
   ]
  },
  {
   "cell_type": "code",
   "execution_count": 24,
   "metadata": {},
   "outputs": [
    {
     "name": "stdout",
     "output_type": "stream",
     "text": [
      "\n",
      "처음 5개 행:\n"
     ]
    },
    {
     "data": {
      "text/html": [
       "<div><style>\n",
       ".dataframe > thead > tr,\n",
       ".dataframe > tbody > tr {\n",
       "  text-align: right;\n",
       "  white-space: pre-wrap;\n",
       "}\n",
       "</style>\n",
       "<small>shape: (5, 1)</small><table border=\"1\" class=\"dataframe\"><thead><tr><th>ssn</th></tr><tr><td>str</td></tr></thead><tbody><tr><td>&quot;566-66-8957&quot;</td></tr><tr><td>&quot;687-99-9821&quot;</td></tr><tr><td>&quot;660-49-7379&quot;</td></tr><tr><td>&quot;618-17-5179&quot;</td></tr><tr><td>&quot;352-36-4807&quot;</td></tr></tbody></table></div>"
      ],
      "text/plain": [
       "shape: (5, 1)\n",
       "┌─────────────┐\n",
       "│ ssn         │\n",
       "│ ---         │\n",
       "│ str         │\n",
       "╞═════════════╡\n",
       "│ 566-66-8957 │\n",
       "│ 687-99-9821 │\n",
       "│ 660-49-7379 │\n",
       "│ 618-17-5179 │\n",
       "│ 352-36-4807 │\n",
       "└─────────────┘"
      ]
     },
     "execution_count": 24,
     "metadata": {},
     "output_type": "execute_result"
    }
   ],
   "source": [
    "# 100개의 가짜 SSN 데이터를 포함하는 Polars DataFrame 생성\n",
    "import polars as pl\n",
    "\n",
    "fake_data = [generate_random_ssn() for _ in range(100)]\n",
    "df = pl.DataFrame({\n",
    "    'ssn': fake_data\n",
    "})\n",
    "\n",
    "# 결과 확인\n",
    "print(\"\\n처음 5개 행:\")\n",
    "df.head(5)"
   ]
  },
  {
   "cell_type": "code",
   "execution_count": 26,
   "metadata": {},
   "outputs": [
    {
     "data": {
      "text/html": [
       "<div><style>\n",
       ".dataframe > thead > tr,\n",
       ".dataframe > tbody > tr {\n",
       "  text-align: right;\n",
       "  white-space: pre-wrap;\n",
       "}\n",
       "</style>\n",
       "<small>shape: (1, 6)</small><table border=\"1\" class=\"dataframe\"><thead><tr><th>ssn</th><th>date</th><th>country</th><th>store</th><th>product</th><th>num_sold</th></tr><tr><td>str</td><td>date</td><td>str</td><td>str</td><td>str</td><td>f64</td></tr></thead><tbody><tr><td>&quot;566-66-8957&quot;</td><td>2015-02-06</td><td>&quot;Canada&quot;</td><td>&quot;Premium Sticker Mart&quot;</td><td>&quot;Kerneler&quot;</td><td>617.0</td></tr></tbody></table></div>"
      ],
      "text/plain": [
       "shape: (1, 6)\n",
       "┌─────┬─────┬─────┬─────┬─────┬─────┐\n",
       "│ ssn ┆ dat ┆ cou ┆ sto ┆ pro ┆ num │\n",
       "│ --- ┆ e   ┆ ntr ┆ re  ┆ duc ┆ _so │\n",
       "│ str ┆ --- ┆ y   ┆ --- ┆ t   ┆ ld  │\n",
       "│     ┆ dat ┆ --- ┆ str ┆ --- ┆ --- │\n",
       "│     ┆ e   ┆ str ┆     ┆ str ┆ f64 │\n",
       "╞═════╪═════╪═════╪═════╪═════╪═════╡\n",
       "│ 566 ┆ 201 ┆ Can ┆ Pre ┆ Ker ┆ 617 │\n",
       "│ -66 ┆ 5-0 ┆ ada ┆ miu ┆ nel ┆ .0  │\n",
       "│ -89 ┆ 2-0 ┆     ┆ m   ┆ er  ┆     │\n",
       "│ 57  ┆ 6   ┆     ┆ Sti ┆     ┆     │\n",
       "│     ┆     ┆     ┆ cke ┆     ┆     │\n",
       "│     ┆     ┆     ┆ r   ┆     ┆     │\n",
       "│     ┆     ┆     ┆ Mar ┆     ┆     │\n",
       "│     ┆     ┆     ┆ t   ┆     ┆     │\n",
       "└─────┴─────┴─────┴─────┴─────┴─────┘"
      ]
     },
     "execution_count": 26,
     "metadata": {},
     "output_type": "execute_result"
    }
   ],
   "source": [
    "# 재현성을 위해 랜덤 시드 설정\n",
    "import random\n",
    "random.seed(42)\n",
    "\n",
    "# sticker_sales2에서 id 열을 제외하고 100개의 무작위 행 추출\n",
    "random_sticker_sales = sticker_sales2.drop('id').sample(n=100, seed=42)\n",
    "\n",
    "# 데이터프레임을 수평으로 연결하여 결합\n",
    "combined_df = pl.concat([\n",
    "    df,\n",
    "    random_sticker_sales\n",
    "], how=\"horizontal\")\n",
    "\n",
    "combined_df.head(1)"
   ]
  },
  {
   "cell_type": "code",
   "execution_count": 29,
   "metadata": {},
   "outputs": [
    {
     "data": {
      "text/html": [
       "<div><style>\n",
       ".dataframe > thead > tr,\n",
       ".dataframe > tbody > tr {\n",
       "  text-align: right;\n",
       "  white-space: pre-wrap;\n",
       "}\n",
       "</style>\n",
       "<small>shape: (5, 6)</small><table border=\"1\" class=\"dataframe\"><thead><tr><th>ssn</th><th>date</th><th>country</th><th>store</th><th>product</th><th>num_sold</th></tr><tr><td>str</td><td>date</td><td>str</td><td>str</td><td>str</td><td>f64</td></tr></thead><tbody><tr><td>&quot;5********-**-57&quot;</td><td>2015-02-06</td><td>&quot;Canada&quot;</td><td>&quot;Premium Sticker Mart&quot;</td><td>&quot;Kerneler&quot;</td><td>617.0</td></tr><tr><td>&quot;6********-**-21&quot;</td><td>2011-07-20</td><td>&quot;Italy&quot;</td><td>&quot;Discount Stickers&quot;</td><td>&quot;Kerneler&quot;</td><td>261.0</td></tr><tr><td>&quot;6********-**-79&quot;</td><td>2015-12-27</td><td>&quot;Norway&quot;</td><td>&quot;Discount Stickers&quot;</td><td>&quot;Kaggle Tiers&quot;</td><td>1338.0</td></tr><tr><td>&quot;6********-**-79&quot;</td><td>2011-02-09</td><td>&quot;Kenya&quot;</td><td>&quot;Stickers for Less&quot;</td><td>&quot;Kerneler&quot;</td><td>9.0</td></tr><tr><td>&quot;3********-**-07&quot;</td><td>2014-09-16</td><td>&quot;Italy&quot;</td><td>&quot;Discount Stickers&quot;</td><td>&quot;Holographic Goose&quot;</td><td>66.0</td></tr></tbody></table></div>"
      ],
      "text/plain": [
       "shape: (5, 6)\n",
       "┌─────┬─────┬─────┬─────┬─────┬─────┐\n",
       "│ ssn ┆ dat ┆ cou ┆ sto ┆ pro ┆ num │\n",
       "│ --- ┆ e   ┆ ntr ┆ re  ┆ duc ┆ _so │\n",
       "│ str ┆ --- ┆ y   ┆ --- ┆ t   ┆ ld  │\n",
       "│     ┆ dat ┆ --- ┆ str ┆ --- ┆ --- │\n",
       "│     ┆ e   ┆ str ┆     ┆ str ┆ f64 │\n",
       "╞═════╪═════╪═════╪═════╪═════╪═════╡\n",
       "│ 5** ┆ 201 ┆ Can ┆ Pre ┆ Ker ┆ 617 │\n",
       "│ *** ┆ 5-0 ┆ ada ┆ miu ┆ nel ┆ .0  │\n",
       "│ *** ┆ 2-0 ┆     ┆ m   ┆ er  ┆     │\n",
       "│ -** ┆ 6   ┆     ┆ Sti ┆     ┆     │\n",
       "│ -57 ┆     ┆     ┆ cke ┆     ┆     │\n",
       "│     ┆     ┆     ┆ r   ┆     ┆     │\n",
       "│     ┆     ┆     ┆ Mar ┆     ┆     │\n",
       "│     ┆     ┆     ┆ t   ┆     ┆     │\n",
       "│ 6** ┆ 201 ┆ Ita ┆ Dis ┆ Ker ┆ 261 │\n",
       "│ *** ┆ 1-0 ┆ ly  ┆ cou ┆ nel ┆ .0  │\n",
       "│ *** ┆ 7-2 ┆     ┆ nt  ┆ er  ┆     │\n",
       "│ -** ┆ 0   ┆     ┆ Sti ┆     ┆     │\n",
       "│ -21 ┆     ┆     ┆ cke ┆     ┆     │\n",
       "│     ┆     ┆     ┆ rs  ┆     ┆     │\n",
       "│ 6** ┆ 201 ┆ Nor ┆ Dis ┆ Kag ┆ 133 │\n",
       "│ *** ┆ 5-1 ┆ way ┆ cou ┆ gle ┆ 8.0 │\n",
       "│ *** ┆ 2-2 ┆     ┆ nt  ┆ Tie ┆     │\n",
       "│ -** ┆ 7   ┆     ┆ Sti ┆ rs  ┆     │\n",
       "│ -79 ┆     ┆     ┆ cke ┆     ┆     │\n",
       "│     ┆     ┆     ┆ rs  ┆     ┆     │\n",
       "│ 6** ┆ 201 ┆ Ken ┆ Sti ┆ Ker ┆ 9.0 │\n",
       "│ *** ┆ 1-0 ┆ ya  ┆ cke ┆ nel ┆     │\n",
       "│ *** ┆ 2-0 ┆     ┆ rs  ┆ er  ┆     │\n",
       "│ -** ┆ 9   ┆     ┆ for ┆     ┆     │\n",
       "│ -79 ┆     ┆     ┆ Les ┆     ┆     │\n",
       "│     ┆     ┆     ┆ s   ┆     ┆     │\n",
       "│ 3** ┆ 201 ┆ Ita ┆ Dis ┆ Hol ┆ 66. │\n",
       "│ *** ┆ 4-0 ┆ ly  ┆ cou ┆ ogr ┆ 0   │\n",
       "│ *** ┆ 9-1 ┆     ┆ nt  ┆ aph ┆     │\n",
       "│ -** ┆ 6   ┆     ┆ Sti ┆ ic  ┆     │\n",
       "│ -07 ┆     ┆     ┆ cke ┆ Goo ┆     │\n",
       "│     ┆     ┆     ┆ rs  ┆ se  ┆     │\n",
       "└─────┴─────┴─────┴─────┴─────┴─────┘"
      ]
     },
     "execution_count": 29,
     "metadata": {},
     "output_type": "execute_result"
    }
   ],
   "source": [
    "# SSN 마스킹 처리 - 앞자리1과 마지막 2자리만 표시\n",
    "# SSN masking - show only first digit and last 2 digits\n",
    "combined_df.with_columns(\n",
    "    pl.col('ssn').map_elements(\n",
    "        lambda x: x[0] + '*' * 8 + '-' + '*' * 2 + '-' + x[-2:], \n",
    "        return_dtype=pl.Utf8\n",
    "    ).alias('ssn')\n",
    ").head()"
   ]
  },
  {
   "cell_type": "code",
   "execution_count": 31,
   "metadata": {},
   "outputs": [
    {
     "data": {
      "text/html": [
       "<div><style>\n",
       ".dataframe > thead > tr,\n",
       ".dataframe > tbody > tr {\n",
       "  text-align: right;\n",
       "  white-space: pre-wrap;\n",
       "}\n",
       "</style>\n",
       "<small>shape: (5, 6)</small><table border=\"1\" class=\"dataframe\"><thead><tr><th>ssn</th><th>date</th><th>country</th><th>store</th><th>product</th><th>num_sold</th></tr><tr><td>str</td><td>date</td><td>str</td><td>str</td><td>str</td><td>f64</td></tr></thead><tbody><tr><td>&quot;145433759680&quot;</td><td>2015-02-06</td><td>&quot;Canada&quot;</td><td>&quot;Premium Sticker Mart&quot;</td><td>&quot;Kerneler&quot;</td><td>617.0</td></tr><tr><td>&quot;159336040223&quot;</td><td>2011-07-20</td><td>&quot;Italy&quot;</td><td>&quot;Discount Stickers&quot;</td><td>&quot;Kerneler&quot;</td><td>261.0</td></tr><tr><td>&quot;651803106021&quot;</td><td>2015-12-27</td><td>&quot;Norway&quot;</td><td>&quot;Discount Stickers&quot;</td><td>&quot;Kaggle Tiers&quot;</td><td>1338.0</td></tr><tr><td>&quot;803529203492&quot;</td><td>2011-02-09</td><td>&quot;Kenya&quot;</td><td>&quot;Stickers for Less&quot;</td><td>&quot;Kerneler&quot;</td><td>9.0</td></tr><tr><td>&quot;298714690059&quot;</td><td>2014-09-16</td><td>&quot;Italy&quot;</td><td>&quot;Discount Stickers&quot;</td><td>&quot;Holographic Goose&quot;</td><td>66.0</td></tr></tbody></table></div>"
      ],
      "text/plain": [
       "shape: (5, 6)\n",
       "┌─────┬─────┬─────┬─────┬─────┬─────┐\n",
       "│ ssn ┆ dat ┆ cou ┆ sto ┆ pro ┆ num │\n",
       "│ --- ┆ e   ┆ ntr ┆ re  ┆ duc ┆ _so │\n",
       "│ str ┆ --- ┆ y   ┆ --- ┆ t   ┆ ld  │\n",
       "│     ┆ dat ┆ --- ┆ str ┆ --- ┆ --- │\n",
       "│     ┆ e   ┆ str ┆     ┆ str ┆ f64 │\n",
       "╞═════╪═════╪═════╪═════╪═════╪═════╡\n",
       "│ 145 ┆ 201 ┆ Can ┆ Pre ┆ Ker ┆ 617 │\n",
       "│ 433 ┆ 5-0 ┆ ada ┆ miu ┆ nel ┆ .0  │\n",
       "│ 759 ┆ 2-0 ┆     ┆ m   ┆ er  ┆     │\n",
       "│ 680 ┆ 6   ┆     ┆ Sti ┆     ┆     │\n",
       "│     ┆     ┆     ┆ cke ┆     ┆     │\n",
       "│     ┆     ┆     ┆ r   ┆     ┆     │\n",
       "│     ┆     ┆     ┆ Mar ┆     ┆     │\n",
       "│     ┆     ┆     ┆ t   ┆     ┆     │\n",
       "│ 159 ┆ 201 ┆ Ita ┆ Dis ┆ Ker ┆ 261 │\n",
       "│ 336 ┆ 1-0 ┆ ly  ┆ cou ┆ nel ┆ .0  │\n",
       "│ 040 ┆ 7-2 ┆     ┆ nt  ┆ er  ┆     │\n",
       "│ 223 ┆ 0   ┆     ┆ Sti ┆     ┆     │\n",
       "│     ┆     ┆     ┆ cke ┆     ┆     │\n",
       "│     ┆     ┆     ┆ rs  ┆     ┆     │\n",
       "│ 651 ┆ 201 ┆ Nor ┆ Dis ┆ Kag ┆ 133 │\n",
       "│ 803 ┆ 5-1 ┆ way ┆ cou ┆ gle ┆ 8.0 │\n",
       "│ 106 ┆ 2-2 ┆     ┆ nt  ┆ Tie ┆     │\n",
       "│ 021 ┆ 7   ┆     ┆ Sti ┆ rs  ┆     │\n",
       "│     ┆     ┆     ┆ cke ┆     ┆     │\n",
       "│     ┆     ┆     ┆ rs  ┆     ┆     │\n",
       "│ 803 ┆ 201 ┆ Ken ┆ Sti ┆ Ker ┆ 9.0 │\n",
       "│ 529 ┆ 1-0 ┆ ya  ┆ cke ┆ nel ┆     │\n",
       "│ 203 ┆ 2-0 ┆     ┆ rs  ┆ er  ┆     │\n",
       "│ 492 ┆ 9   ┆     ┆ for ┆     ┆     │\n",
       "│     ┆     ┆     ┆ Les ┆     ┆     │\n",
       "│     ┆     ┆     ┆ s   ┆     ┆     │\n",
       "│ 298 ┆ 201 ┆ Ita ┆ Dis ┆ Hol ┆ 66. │\n",
       "│ 714 ┆ 4-0 ┆ ly  ┆ cou ┆ ogr ┆ 0   │\n",
       "│ 690 ┆ 9-1 ┆     ┆ nt  ┆ aph ┆     │\n",
       "│ 059 ┆ 6   ┆     ┆ Sti ┆ ic  ┆     │\n",
       "│     ┆     ┆     ┆ cke ┆ Goo ┆     │\n",
       "│     ┆     ┆     ┆ rs  ┆ se  ┆     │\n",
       "└─────┴─────┴─────┴─────┴─────┴─────┘"
      ]
     },
     "execution_count": 31,
     "metadata": {},
     "output_type": "execute_result"
    }
   ],
   "source": [
    "# SSN을 해시값으로 변환 \n",
    "# Convert SSN to hash value\n",
    "combined_df.with_columns(\n",
    "    (pl.col('ssn')\n",
    "     .hash()  # 내장 hash 함수 사용\n",
    "     .cast(pl.Utf8)  # 문자열로 변환\n",
    "     .str.slice(0, 12)  # 12자리로 제한\n",
    "     .alias('ssn'))\n",
    ").head(5)"
   ]
  },
  {
   "cell_type": "markdown",
   "metadata": {},
   "source": [
    "# 레시피 35 : 이상치"
   ]
  },
  {
   "cell_type": "markdown",
   "metadata": {},
   "source": [
    "## 이상치 탐색 함수"
   ]
  },
  {
   "cell_type": "code",
   "execution_count": 3,
   "metadata": {},
   "outputs": [
    {
     "data": {
      "text/html": [
       "<div><style>\n",
       ".dataframe > thead > tr,\n",
       ".dataframe > tbody > tr {\n",
       "  text-align: right;\n",
       "  white-space: pre-wrap;\n",
       "}\n",
       "</style>\n",
       "<small>shape: (5, 3)</small><table border=\"1\" class=\"dataframe\"><thead><tr><th>values</th><th>species</th><th>이상치여부</th></tr><tr><td>i64</td><td>str</td><td>str</td></tr></thead><tbody><tr><td>1</td><td>&quot;a1&quot;</td><td>&quot;이상치미존재&quot;</td></tr><tr><td>2</td><td>&quot;a2&quot;</td><td>&quot;이상치미존재&quot;</td></tr><tr><td>100</td><td>&quot;a3&quot;</td><td>&quot;이상치존재&quot;</td></tr><tr><td>3</td><td>&quot;a4&quot;</td><td>&quot;이상치미존재&quot;</td></tr><tr><td>4</td><td>&quot;a5&quot;</td><td>&quot;이상치미존재&quot;</td></tr></tbody></table></div>"
      ],
      "text/plain": [
       "shape: (5, 3)\n",
       "┌────────┬─────────┬──────────────┐\n",
       "│ values ┆ species ┆ 이상치여부   │\n",
       "│ ---    ┆ ---     ┆ ---          │\n",
       "│ i64    ┆ str     ┆ str          │\n",
       "╞════════╪═════════╪══════════════╡\n",
       "│ 1      ┆ a1      ┆ 이상치미존재 │\n",
       "│ 2      ┆ a2      ┆ 이상치미존재 │\n",
       "│ 100    ┆ a3      ┆ 이상치존재   │\n",
       "│ 3      ┆ a4      ┆ 이상치미존재 │\n",
       "│ 4      ┆ a5      ┆ 이상치미존재 │\n",
       "└────────┴─────────┴──────────────┘"
      ]
     },
     "execution_count": 3,
     "metadata": {},
     "output_type": "execute_result"
    }
   ],
   "source": [
    "import polars as pl\n",
    "\n",
    "def detect_outliers(df: pl.DataFrame, columns: list) -> pl.DataFrame:\n",
    "    \"\"\"\n",
    "    이상치 여부를 판정하여 새로운 컬럼을 추가하는 함수\n",
    "    Function to detect outliers and add a new column indicating outlier status\n",
    "    \n",
    "    Args:\n",
    "        df: 입력 데이터프레임 Input DataFrame\n",
    "        columns: 이상치를 검사할 컬럼 리스트 List of columns to check for outliers\n",
    "        \n",
    "    Returns:\n",
    "        이상치 여부 컬럼이 추가된 데이터프레임 DataFrame with added outlier status column\n",
    "    \"\"\"\n",
    "    \n",
    "    # 각 컬럼별 이상치 판정 결과를 저장할 리스트\n",
    "    # List to store outlier detection results for each column\n",
    "    outlier_masks = []\n",
    "    \n",
    "    for col in columns:\n",
    "        # 사분위수 계산 Calculate quartiles\n",
    "        stats = df.select([\n",
    "            pl.col(col).quantile(0.25).alias('Q1'),\n",
    "            pl.col(col).quantile(0.75).alias('Q3')\n",
    "        ])\n",
    "        \n",
    "        Q1 = stats[0, 'Q1']\n",
    "        Q3 = stats[0, 'Q3']\n",
    "        IQR = Q3 - Q1\n",
    "        \n",
    "        # 이상치 경계값 설정 Set outlier boundaries\n",
    "        lower_bound = Q1 - 1.5 * IQR\n",
    "        upper_bound = Q3 + 1.5 * IQR\n",
    "        \n",
    "        # 컬럼별 이상치 마스크 생성 Create outlier mask for each column\n",
    "        outlier_masks.append(\n",
    "            (pl.col(col) < lower_bound) | (pl.col(col) > upper_bound)\n",
    "        )\n",
    "    \n",
    "    # 모든 컬럼의 이상치 마스크를 결합 Combine outlier masks for all columns\n",
    "    final_mask = outlier_masks[0]\n",
    "    for mask in outlier_masks[1:]:\n",
    "        final_mask = final_mask | mask\n",
    "    \n",
    "    # 이상치 여부를 나타내는 새로운 컬럼 추가\n",
    "    # Add new column indicating outlier status\n",
    "    return df.with_columns([\n",
    "        pl.when(final_mask)\n",
    "        .then(pl.lit(\"이상치존재\"))\n",
    "        .otherwise(pl.lit(\"이상치미존재\"))\n",
    "        .alias(\"이상치여부\")\n",
    "    ])\n",
    "\n",
    "# 테스트 Test\n",
    "test_df = pl.DataFrame({\n",
    "    \"values\": [1, 2, 100, 3, 4],\n",
    "    \"species\": [\"a1\", \"a2\", \"a3\", \"a4\", \"a5\"]\n",
    "})\n",
    "\n",
    "result = detect_outliers(test_df, [\"values\"])\n",
    "result"
   ]
  },
  {
   "cell_type": "markdown",
   "metadata": {},
   "source": [
    "## 이상치 제거 "
   ]
  },
  {
   "cell_type": "code",
   "execution_count": 5,
   "metadata": {},
   "outputs": [
    {
     "name": "stdout",
     "output_type": "stream",
     "text": [
      "원본 데이터 shape: (244, 7)\n",
      "이상치 제거 후 shape: (234, 8)\n"
     ]
    }
   ],
   "source": [
    "# seaborn tips 데이터셋 로드 및 Polars DataFrame으로 변환\n",
    "# Load seaborn tips dataset and convert to Polars DataFrame\n",
    "import seaborn as sns\n",
    "tips_df = pl.from_pandas(sns.load_dataset('tips'))\n",
    "\n",
    "# total_bill 컬럼에 대해 이상치 탐지\n",
    "# Detect outliers for total_bill column\n",
    "tips_with_outliers = detect_outliers(tips_df, [\"total_bill\"])\n",
    "\n",
    "# 이상치가 없는 데이터만 필터링\n",
    "# Filter data without outliers\n",
    "tips_no_outliers = tips_with_outliers.filter(pl.col(\"이상치여부\") == \"이상치미존재\")\n",
    "\n",
    "print(\"원본 데이터 shape:\", tips_df.shape)\n",
    "print(\"이상치 제거 후 shape:\", tips_no_outliers.shape)"
   ]
  },
  {
   "cell_type": "code",
   "execution_count": 6,
   "metadata": {},
   "outputs": [
    {
     "name": "stdout",
     "output_type": "stream",
     "text": [
      "\n",
      "이상치 제거 전 total_bill 통계량:\n",
      "shape: (9, 2)\n",
      "┌────────────┬────────────┐\n",
      "│ statistic  ┆ total_bill │\n",
      "│ ---        ┆ ---        │\n",
      "│ str        ┆ f64        │\n",
      "╞════════════╪════════════╡\n",
      "│ count      ┆ 244.0      │\n",
      "│ null_count ┆ 0.0        │\n",
      "│ mean       ┆ 19.785943  │\n",
      "│ std        ┆ 8.902412   │\n",
      "│ min        ┆ 3.07       │\n",
      "│ 25%        ┆ 13.37      │\n",
      "│ 50%        ┆ 17.81      │\n",
      "│ 75%        ┆ 24.08      │\n",
      "│ max        ┆ 50.81      │\n",
      "└────────────┴────────────┘\n"
     ]
    }
   ],
   "source": [
    "# 이상치 제거 전후 기술통계량 비교\n",
    "# Compare statistics before and after outlier removal\n",
    "print(\"\\n이상치 제거 전 total_bill 통계량:\")\n",
    "print(tips_df.select(\"total_bill\").describe())"
   ]
  },
  {
   "cell_type": "code",
   "execution_count": 7,
   "metadata": {},
   "outputs": [
    {
     "name": "stdout",
     "output_type": "stream",
     "text": [
      "\n",
      "이상치 제거 후 total_bill 통계량:\n",
      "shape: (9, 2)\n",
      "┌────────────┬────────────┐\n",
      "│ statistic  ┆ total_bill │\n",
      "│ ---        ┆ ---        │\n",
      "│ str        ┆ f64        │\n",
      "╞════════════╪════════════╡\n",
      "│ count      ┆ 234.0      │\n",
      "│ null_count ┆ 0.0        │\n",
      "│ mean       ┆ 18.70735   │\n",
      "│ std        ┆ 7.32118    │\n",
      "│ min        ┆ 3.07       │\n",
      "│ 25%        ┆ 13.16      │\n",
      "│ 50%        ┆ 17.46      │\n",
      "│ 75%        ┆ 23.1       │\n",
      "│ max        ┆ 39.42      │\n",
      "└────────────┴────────────┘\n"
     ]
    }
   ],
   "source": [
    "print(\"\\n이상치 제거 후 total_bill 통계량:\")\n",
    "print(tips_no_outliers.select(\"total_bill\").describe())"
   ]
  },
  {
   "cell_type": "markdown",
   "metadata": {},
   "source": [
    "## 이상치 변환"
   ]
  },
  {
   "cell_type": "code",
   "execution_count": 111,
   "metadata": {},
   "outputs": [
    {
     "name": "stdout",
     "output_type": "stream",
     "text": [
      "원본 데이터 total_bill 평균: 19.785942622950813\n",
      "이상치 데이터 total_bill 평균: 45.025000000000006\n",
      "이상치를 중간값으로 변환 후 total_bill 평균: 18.66995901639344\n",
      "이상치를 평균값으로 변환 후 total_bill 평균: 18.75155502553077\n"
     ]
    }
   ],
   "source": [
    "# 이상치에 해당하는 행 추출\n",
    "# Extract rows with outliers\n",
    "outlier_df = tips_with_outliers.filter(pl.col(\"이상치여부\") == \"이상치존재\")\n",
    "\n",
    "# total_bill 컬럼의 중간값과 평균값 계산\n",
    "# Calculate median and mean of total_bill column\n",
    "median_total_bill = tips_df.select(\"total_bill\").median().item()\n",
    "mean_total_bill = tips_df.select(\"total_bill\").mean().item()\n",
    "\n",
    "# 이상치를 중간값으로 대체한 새로운 DataFrame 생성\n",
    "# Create new DataFrame with outliers replaced by median\n",
    "tips2_median = tips_df.with_columns([\n",
    "    pl.when(pl.col(\"total_bill\").is_in(outlier_df.select(\"total_bill\")))\n",
    "    .then(median_total_bill)\n",
    "    .otherwise(pl.col(\"total_bill\"))\n",
    "    .alias(\"total_bill\")\n",
    "])\n",
    "\n",
    "# 이상치를 평균값으로 대체한 새로운 DataFrame 생성\n",
    "# Create new DataFrame with outliers replaced by mean\n",
    "tips2_mean = tips_df.with_columns([\n",
    "    pl.when(pl.col(\"total_bill\").is_in(outlier_df.select(\"total_bill\")))\n",
    "    .then(mean_total_bill)\n",
    "    .otherwise(pl.col(\"total_bill\"))\n",
    "    .alias(\"total_bill\")\n",
    "])\n",
    "\n",
    "# 네 데이터의 total_bill 평균 비교\n",
    "# Compare means of total_bill between four DataFrames\n",
    "print(\"원본 데이터 total_bill 평균:\", tips_df.select(\"total_bill\").mean().item())\n",
    "print(\"이상치 데이터 total_bill 평균:\", outlier_df.select(\"total_bill\").mean().item())\n",
    "print(\"이상치를 중간값으로 변환 후 total_bill 평균:\", tips2_median.select(\"total_bill\").mean().item())\n",
    "print(\"이상치를 평균값으로 변환 후 total_bill 평균:\", tips2_mean.select(\"total_bill\").mean().item())\n"
   ]
  },
  {
   "cell_type": "markdown",
   "metadata": {},
   "source": [
    "# 레시피 36 : z_score 구하기"
   ]
  },
  {
   "cell_type": "markdown",
   "metadata": {},
   "source": [
    "## 실무적 활용 예시\n",
    "- Z-score 변환 후 각 지점의 성과를 비교하면:\n",
    "    + 지점 B: 매출액(+1.2)과 재고 회전율(+1.5)에서 매우 높은 성과, 종합 점수 1위\n",
    "    + 지점 C: 고객 만족도(+1.3)에서 가장 높지만 재고 회전율(-0.8)이 낮아 종합 3위\n",
    "    + 지점 E: 모든 지표에서 평균 이하로 종합 점수 최하위"
   ]
  },
  {
   "cell_type": "code",
   "execution_count": 7,
   "metadata": {},
   "outputs": [
    {
     "data": {
      "text/html": [
       "<div><style>\n",
       ".dataframe > thead > tr,\n",
       ".dataframe > tbody > tr {\n",
       "  text-align: right;\n",
       "  white-space: pre-wrap;\n",
       "}\n",
       "</style>\n",
       "<small>shape: (5, 10)</small><table border=\"1\" class=\"dataframe\"><thead><tr><th>branch</th><th>sales</th><th>satisfaction</th><th>inventory_turnover</th><th>productivity</th><th>sales_z</th><th>satisfaction_z</th><th>inventory_z</th><th>productivity_z</th><th>overall_score</th></tr><tr><td>str</td><td>i64</td><td>f64</td><td>f64</td><td>i64</td><td>f64</td><td>f64</td><td>f64</td><td>f64</td><td>f64</td></tr></thead><tbody><tr><td>&quot;A&quot;</td><td>320</td><td>4.2</td><td>5.2</td><td>28</td><td>0.075059</td><td>-0.109682</td><td>0.055727</td><td>0.175599</td><td>0.049176</td></tr><tr><td>&quot;B&quot;</td><td>480</td><td>3.8</td><td>7.8</td><td>35</td><td>1.275997</td><td>-1.206499</td><td>1.263137</td><td>1.199929</td><td>0.633141</td></tr><tr><td>&quot;C&quot;</td><td>210</td><td>4.7</td><td>3.1</td><td>22</td><td>-0.750587</td><td>1.26134</td><td>-0.919489</td><td>-0.702397</td><td>-0.277783</td></tr><tr><td>&quot;D&quot;</td><td>390</td><td>4.0</td><td>6.5</td><td>31</td><td>0.600469</td><td>-0.65809</td><td>0.659432</td><td>0.614598</td><td>0.304102</td></tr><tr><td>&quot;E&quot;</td><td>150</td><td>4.5</td><td>2.8</td><td>18</td><td>-1.200939</td><td>0.712931</td><td>-1.058806</td><td>-1.287728</td><td>-0.708635</td></tr></tbody></table></div>"
      ],
      "text/plain": [
       "shape: (5, 10)\n",
       "┌─────┬─────┬─────┬─────┬───┬─────┬─────┬─────┬─────┐\n",
       "│ bra ┆ sal ┆ sat ┆ inv ┆ … ┆ sat ┆ inv ┆ pro ┆ ove │\n",
       "│ nch ┆ es  ┆ isf ┆ ent ┆   ┆ isf ┆ ent ┆ duc ┆ ral │\n",
       "│ --- ┆ --- ┆ act ┆ ory ┆   ┆ act ┆ ory ┆ tiv ┆ l_s │\n",
       "│ str ┆ i64 ┆ ion ┆ _tu ┆   ┆ ion ┆ _z  ┆ ity ┆ cor │\n",
       "│     ┆     ┆ --- ┆ rno ┆   ┆ _z  ┆ --- ┆ _z  ┆ e   │\n",
       "│     ┆     ┆ f64 ┆ ver ┆   ┆ --- ┆ f64 ┆ --- ┆ --- │\n",
       "│     ┆     ┆     ┆ --- ┆   ┆ f64 ┆     ┆ f64 ┆ f64 │\n",
       "│     ┆     ┆     ┆ f64 ┆   ┆     ┆     ┆     ┆     │\n",
       "╞═════╪═════╪═════╪═════╪═══╪═════╪═════╪═════╪═════╡\n",
       "│ A   ┆ 320 ┆ 4.2 ┆ 5.2 ┆ … ┆ -0. ┆ 0.0 ┆ 0.1 ┆ 0.0 │\n",
       "│     ┆     ┆     ┆     ┆   ┆ 109 ┆ 557 ┆ 755 ┆ 491 │\n",
       "│     ┆     ┆     ┆     ┆   ┆ 682 ┆ 27  ┆ 99  ┆ 76  │\n",
       "│ B   ┆ 480 ┆ 3.8 ┆ 7.8 ┆ … ┆ -1. ┆ 1.2 ┆ 1.1 ┆ 0.6 │\n",
       "│     ┆     ┆     ┆     ┆   ┆ 206 ┆ 631 ┆ 999 ┆ 331 │\n",
       "│     ┆     ┆     ┆     ┆   ┆ 499 ┆ 37  ┆ 29  ┆ 41  │\n",
       "│ C   ┆ 210 ┆ 4.7 ┆ 3.1 ┆ … ┆ 1.2 ┆ -0. ┆ -0. ┆ -0. │\n",
       "│     ┆     ┆     ┆     ┆   ┆ 613 ┆ 919 ┆ 702 ┆ 277 │\n",
       "│     ┆     ┆     ┆     ┆   ┆ 4   ┆ 489 ┆ 397 ┆ 783 │\n",
       "│ D   ┆ 390 ┆ 4.0 ┆ 6.5 ┆ … ┆ -0. ┆ 0.6 ┆ 0.6 ┆ 0.3 │\n",
       "│     ┆     ┆     ┆     ┆   ┆ 658 ┆ 594 ┆ 145 ┆ 041 │\n",
       "│     ┆     ┆     ┆     ┆   ┆ 09  ┆ 32  ┆ 98  ┆ 02  │\n",
       "│ E   ┆ 150 ┆ 4.5 ┆ 2.8 ┆ … ┆ 0.7 ┆ -1. ┆ -1. ┆ -0. │\n",
       "│     ┆     ┆     ┆     ┆   ┆ 129 ┆ 058 ┆ 287 ┆ 708 │\n",
       "│     ┆     ┆     ┆     ┆   ┆ 31  ┆ 806 ┆ 728 ┆ 635 │\n",
       "└─────┴─────┴─────┴─────┴───┴─────┴─────┴─────┴─────┘"
      ]
     },
     "execution_count": 7,
     "metadata": {},
     "output_type": "execute_result"
    }
   ],
   "source": [
    "# 각 지표별 Z-score 계산\n",
    "branch_performance = pl.DataFrame({\n",
    "   \"branch\": [\"A\", \"B\", \"C\", \"D\", \"E\"],\n",
    "   \"sales\": [320, 480, 210, 390, 150],\n",
    "   \"satisfaction\": [4.2, 3.8, 4.7, 4.0, 4.5],\n",
    "   \"inventory_turnover\": [5.2, 7.8, 3.1, 6.5, 2.8],\n",
    "   \"productivity\": [28, 35, 22, 31, 18]\n",
    "})\n",
    "\n",
    "# Z-score 변환\n",
    "z_scores = branch_performance.with_columns([\n",
    "   ((pl.col(\"sales\") - pl.col(\"sales\").mean()) / pl.col(\"sales\").std()).alias(\"sales_z\"),\n",
    "   ((pl.col(\"satisfaction\") - pl.col(\"satisfaction\").mean()) / pl.col(\"satisfaction\").std()).alias(\"satisfaction_z\"),\n",
    "   ((pl.col(\"inventory_turnover\") - pl.col(\"inventory_turnover\").mean()) / pl.col(\"inventory_turnover\").std()).alias(\"inventory_z\"),\n",
    "   ((pl.col(\"productivity\") - pl.col(\"productivity\").mean()) / pl.col(\"productivity\").std()).alias(\"productivity_z\")\n",
    "])\n",
    "\n",
    "# 모든 Z-score의 평균으로 종합 점수 계산\n",
    "z_scores = z_scores.with_columns([\n",
    "   ((pl.col(\"sales_z\") + pl.col(\"satisfaction_z\") + \n",
    "     pl.col(\"inventory_z\") + pl.col(\"productivity_z\")) / 4).alias(\"overall_score\")\n",
    "])\n",
    "\n",
    "z_scores"
   ]
  },
  {
   "cell_type": "code",
   "execution_count": null,
   "metadata": {},
   "outputs": [],
   "source": []
  },
  {
   "cell_type": "markdown",
   "metadata": {},
   "source": [
    "## z_score 적용"
   ]
  },
  {
   "cell_type": "code",
   "execution_count": 4,
   "metadata": {},
   "outputs": [
    {
     "name": "stdout",
     "output_type": "stream",
     "text": [
      "Z-score 통계량:\n",
      "shape: (9, 2)\n",
      "┌────────────┬───────────────┐\n",
      "│ statistic  ┆ total_bill_zs │\n",
      "│ ---        ┆ core          │\n",
      "│ str        ┆ ---           │\n",
      "│            ┆ f64           │\n",
      "╞════════════╪═══════════════╡\n",
      "│ count      ┆ 244.0         │\n",
      "│ null_count ┆ 0.0           │\n",
      "│ mean       ┆ 6.9889e-16    │\n",
      "│ std        ┆ 1.0           │\n",
      "│ min        ┆ -1.877687     │\n",
      "│ 25%        ┆ -0.720697     │\n",
      "│ 50%        ┆ -0.221956     │\n",
      "│ 75%        ┆ 0.482348      │\n",
      "│ max        ┆ 3.484905      │\n",
      "└────────────┴───────────────┘\n"
     ]
    }
   ],
   "source": [
    "import seaborn as sns\n",
    "import polars as pl \n",
    "\n",
    "tips_df = pl.from_pandas(sns.load_dataset('tips'))\n",
    "\n",
    "# z-score 계산: (x - mean) / std\n",
    "tips_with_zscore = tips_df.with_columns([\n",
    "    ((pl.col(\"total_bill\") - pl.col(\"total_bill\").mean()) / pl.col(\"total_bill\").std())\n",
    "    .alias(\"total_bill_zscore\")\n",
    "])\n",
    "\n",
    "# z-score 결과 확인\n",
    "# Check z-score results\n",
    "print(\"Z-score 통계량:\")\n",
    "print(tips_with_zscore.select(\"total_bill_zscore\").describe())"
   ]
  },
  {
   "cell_type": "code",
   "execution_count": 5,
   "metadata": {},
   "outputs": [
    {
     "name": "stdout",
     "output_type": "stream",
     "text": [
      "\n",
      "Z-score 기준 이상치 개수: 4\n",
      "\n",
      "이상치 데이터:\n",
      "shape: (4, 2)\n",
      "┌────────────┬───────────────┐\n",
      "│ total_bill ┆ total_bill_zs │\n",
      "│ ---        ┆ core          │\n",
      "│ f64        ┆ ---           │\n",
      "│            ┆ f64           │\n",
      "╞════════════╪═══════════════╡\n",
      "│ 48.27      ┆ 3.199589      │\n",
      "│ 48.17      ┆ 3.188356      │\n",
      "│ 50.81      ┆ 3.484905      │\n",
      "│ 48.33      ┆ 3.206329      │\n",
      "└────────────┴───────────────┘\n"
     ]
    }
   ],
   "source": [
    "# z-score가 ±3 이상인 이상치 확인 \n",
    "# Check outliers where |z-score| >= 3\n",
    "outliers_zscore = tips_with_zscore.filter(\n",
    "    (pl.col(\"total_bill_zscore\").abs() >= 3)\n",
    ")\n",
    "print(\"\\nZ-score 기준 이상치 개수:\", len(outliers_zscore))\n",
    "print(\"\\n이상치 데이터:\")\n",
    "print(outliers_zscore.select([\"total_bill\", \"total_bill_zscore\"]))"
   ]
  },
  {
   "cell_type": "code",
   "execution_count": null,
   "metadata": {},
   "outputs": [],
   "source": []
  },
  {
   "cell_type": "markdown",
   "metadata": {},
   "source": []
  },
  {
   "cell_type": "markdown",
   "metadata": {},
   "source": [
    "# "
   ]
  }
 ],
 "metadata": {
  "kernelspec": {
   "display_name": "Python 3 (ipykernel)",
   "language": "python",
   "name": "python3"
  },
  "language_info": {
   "codemirror_mode": {
    "name": "ipython",
    "version": 3
   },
   "file_extension": ".py",
   "mimetype": "text/x-python",
   "name": "python",
   "nbconvert_exporter": "python",
   "pygments_lexer": "ipython3",
   "version": "3.12.6"
  }
 },
 "nbformat": 4,
 "nbformat_minor": 4
}

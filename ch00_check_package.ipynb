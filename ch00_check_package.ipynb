{
 "cells": [
  {
   "cell_type": "code",
   "execution_count": 2,
   "metadata": {},
   "outputs": [
    {
     "name": "stdout",
     "output_type": "stream",
     "text": [
      "polars: 1.22.0\n",
      "pandas: 2.2.3\n",
      "numpy: 2.0.2\n",
      "matplotlib: 3.9.4\n",
      "seaborn: 0.13.2\n",
      "scikit-learn: 1.6.1\n",
      "graphviz: 0.20.3\n",
      "statsmodels: 0.14.4\n",
      "jupyterlab: 4.3.5\n",
      "pyarrow: 19.0.0\n",
      "deltalake: 0.24.0\n",
      "xlsx2csv: 0.8.4\n",
      "xlsxwriter: 3.2.2\n",
      "openpyxl: 3.1.5\n",
      "xlrd: 2.0.1\n"
     ]
    }
   ],
   "source": [
    "import pkg_resources\n",
    "\n",
    "# requirements.txt에 있는 패키지들의 버전 확인\n",
    "packages = [\n",
    "    'polars', 'pandas', 'numpy', 'matplotlib', 'seaborn', \n",
    "    'scikit-learn', 'graphviz', 'statsmodels', 'jupyterlab',\n",
    "    'pyarrow', 'deltalake', 'xlsx2csv', 'xlsxwriter', 'openpyxl', 'xlrd'\n",
    "]\n",
    "\n",
    "for package in packages:\n",
    "    try:\n",
    "        version = pkg_resources.get_distribution(package).version\n",
    "        print(f\"{package}: {version}\")\n",
    "    except pkg_resources.DistributionNotFound:\n",
    "        print(f\"{package}: 설치되지 않음\")"
   ]
  },
  {
   "cell_type": "code",
   "execution_count": 3,
   "metadata": {},
   "outputs": [],
   "source": [
    "# requirements.txt 파일에 버전 명시\n",
    "with open('requirements.txt', 'w') as f:\n",
    "    f.write('polars==1.22.0\\n')\n",
    "    f.write('pandas==2.2.3\\n')\n",
    "    f.write('numpy==2.0.2\\n')\n",
    "    f.write('matplotlib==3.9.4\\n')\n",
    "    f.write('seaborn==0.13.2\\n')\n",
    "    f.write('scikit-learn==1.6.1\\n')\n",
    "    f.write('graphviz==0.20.3\\n')\n",
    "    f.write('statsmodels==0.14.4\\n')\n",
    "    f.write('jupyterlab==4.3.5\\n')\n",
    "    f.write('pyarrow==19.0.0\\n')\n",
    "    f.write('deltalake==0.24.0\\n')\n",
    "    f.write('xlsx2csv==0.8.4\\n')\n",
    "    f.write('xlsxwriter==3.2.2\\n')\n",
    "    f.write('openpyxl==3.1.5\\n')\n",
    "    f.write('xlrd==2.0.1\\n')\n"
   ]
  }
 ],
 "metadata": {
  "kernelspec": {
   "display_name": "venv",
   "language": "python",
   "name": "python3"
  },
  "language_info": {
   "codemirror_mode": {
    "name": "ipython",
    "version": 3
   },
   "file_extension": ".py",
   "mimetype": "text/x-python",
   "name": "python",
   "nbconvert_exporter": "python",
   "pygments_lexer": "ipython3",
   "version": "3.9.21"
  }
 },
 "nbformat": 4,
 "nbformat_minor": 2
}

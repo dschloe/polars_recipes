{
 "cells": [
  {
   "cell_type": "markdown",
   "metadata": {},
   "source": [
    "# 데이터 가져오기\n",
    "- 데이터 참조 : https://catalog.data.gov/dataset/?tags=taxis\n",
    "- 총 다운로드 시간 5-6시간"
   ]
  },
  {
   "cell_type": "code",
   "execution_count": 9,
   "metadata": {},
   "outputs": [
    {
     "name": "stdout",
     "output_type": "stream",
     "text": [
      "--------Version info---------\n",
      "Polars:              1.22.0\n",
      "Index type:          UInt32\n",
      "Platform:            Windows-11-10.0.22621-SP0\n",
      "Python:              3.12.6 (tags/v3.12.6:a4a2d2b, Sep  6 2024, 20:11:23) [MSC v.1940 64 bit (AMD64)]\n",
      "LTS CPU:             False\n",
      "\n",
      "----Optional dependencies----\n",
      "Azure CLI            <not installed>\n",
      "adbc_driver_manager  <not installed>\n",
      "altair               <not installed>\n",
      "azure.identity       <not installed>\n",
      "boto3                <not installed>\n",
      "cloudpickle          <not installed>\n",
      "connectorx           <not installed>\n",
      "deltalake            0.24.0\n",
      "fastexcel            <not installed>\n",
      "fsspec               <not installed>\n",
      "gevent               <not installed>\n",
      "google.auth          <not installed>\n",
      "great_tables         <not installed>\n",
      "matplotlib           3.9.4\n",
      "numpy                2.0.2\n",
      "openpyxl             3.1.5\n",
      "pandas               2.2.3\n",
      "pyarrow              19.0.0\n",
      "pydantic             <not installed>\n",
      "pyiceberg            <not installed>\n",
      "sqlalchemy           <not installed>\n",
      "torch                <not installed>\n",
      "xlsx2csv             0.8.4\n",
      "xlsxwriter           3.2.2\n"
     ]
    }
   ],
   "source": [
    "import polars as pl\n",
    "pl.show_versions()"
   ]
  },
  {
   "cell_type": "code",
   "execution_count": 10,
   "metadata": {},
   "outputs": [
    {
     "name": "stdout",
     "output_type": "stream",
     "text": [
      "File size: 143.84 MB\n"
     ]
    }
   ],
   "source": [
    "import os\n",
    "\n",
    "file_path = 'data/ch05/creditcard.csv'\n",
    "file_size = os.path.getsize(file_path)\n",
    "\n",
    "def convert_size(size_bytes):\n",
    "    for unit in ['B', 'KB', 'MB', 'GB', 'TB']:\n",
    "        if size_bytes < 1024.0:\n",
    "            return f\"{size_bytes:.2f} {unit}\"\n",
    "        size_bytes /= 1024.0\n",
    "\n",
    "print(f\"File size: {convert_size(file_size)}\")"
   ]
  },
  {
   "cell_type": "markdown",
   "metadata": {},
   "source": [
    "# 레시피 24 : 데이터 수집 속도 비교"
   ]
  },
  {
   "cell_type": "code",
   "execution_count": 11,
   "metadata": {},
   "outputs": [
    {
     "name": "stdout",
     "output_type": "stream",
     "text": [
      "Pandas 로드 시간: 1.24초\n",
      "Polars (Lazy API + Streaming Mode) 로드 시간: 0.12초\n"
     ]
    }
   ],
   "source": [
    "import pandas as pd\n",
    "import polars as pl\n",
    "import time\n",
    "\n",
    "file_path = 'data/ch05/creditcard.csv'\n",
    "\n",
    "# Pandas 데이터 로드 시간 측정\n",
    "start_time = time.time()\n",
    "df_pandas = pd.read_csv(file_path)\n",
    "pandas_time = time.time() - start_time\n",
    "print(f\"Pandas 로드 시간: {pandas_time:.2f}초\")\n",
    "\n",
    "# Polars (Lazy API + Streaming) 데이터 로드 시간 측정\n",
    "start_time = time.time()\n",
    "# Time 컬럼을 Float64로 지정\n",
    "df_polars_lazy = pl.scan_csv(file_path, schema_overrides={\"Time\": pl.Float64}).collect()  \n",
    "polars_lazy_time = time.time() - start_time\n",
    "print(f\"Polars (Lazy API + Streaming Mode) 로드 시간: {polars_lazy_time:.2f}초\")"
   ]
  },
  {
   "cell_type": "markdown",
   "metadata": {},
   "source": [
    "# 레시피 25 : 메모리 사용 측정"
   ]
  },
  {
   "cell_type": "code",
   "execution_count": 9,
   "metadata": {},
   "outputs": [
    {
     "name": "stdout",
     "output_type": "stream",
     "text": [
      "   Time        V1        V2        V3        V4        V5        V6        V7  \\\n",
      "0   0.0 -1.359807 -0.072781  2.536347  1.378155 -0.338321  0.462388  0.239599   \n",
      "\n",
      "         V8        V9  ...       V21       V22       V23       V24       V25  \\\n",
      "0  0.098698  0.363787  ... -0.018307  0.277838 -0.110474  0.066928  0.128539   \n",
      "\n",
      "        V26       V27       V28  Amount  Class  \n",
      "0 -0.189115  0.133558 -0.021053  149.62      0  \n",
      "\n",
      "[1 rows x 31 columns]\n",
      "shape: (1, 31)\n",
      "┌──────┬───────────┬───────────┬──────────┬───┬──────────┬───────────┬────────┬───────┐\n",
      "│ Time ┆ V1        ┆ V2        ┆ V3       ┆ … ┆ V27      ┆ V28       ┆ Amount ┆ Class │\n",
      "│ ---  ┆ ---       ┆ ---       ┆ ---      ┆   ┆ ---      ┆ ---       ┆ ---    ┆ ---   │\n",
      "│ f64  ┆ f64       ┆ f64       ┆ f64      ┆   ┆ f64      ┆ f64       ┆ f64    ┆ i64   │\n",
      "╞══════╪═══════════╪═══════════╪══════════╪═══╪══════════╪═══════════╪════════╪═══════╡\n",
      "│ 0.0  ┆ -1.359807 ┆ -0.072781 ┆ 2.536347 ┆ … ┆ 0.133558 ┆ -0.021053 ┆ 149.62 ┆ 0     │\n",
      "└──────┴───────────┴───────────┴──────────┴───┴──────────┴───────────┴────────┴───────┘\n",
      "Pandas 메모리 사용량: 67.36 MB\n",
      "Polars Lazy 메모리 사용량: 0.00 B\n",
      "메모리 사용량 차이: 67.36 MB\n"
     ]
    }
   ],
   "source": [
    "import pandas as pd \n",
    "import polars as pl\n",
    "import psutil\n",
    "import os\n",
    "import gc\n",
    "\n",
    "def get_memory_usage():\n",
    "    process = psutil.Process(os.getpid())\n",
    "    return process.memory_info().rss\n",
    "\n",
    "def convert_size(size_bytes):\n",
    "    for unit in ['B', 'KB', 'MB', 'GB', 'TB']:\n",
    "        if size_bytes < 1024.0:\n",
    "            return f\"{size_bytes:.2f} {unit}\"\n",
    "        size_bytes /= 1024.0\n",
    "\n",
    "# 파일 경로\n",
    "file_path = 'data/ch05/creditcard.csv'\n",
    "\n",
    "# 초기 메모리 사용량 측정\n",
    "initial_memory = get_memory_usage()\n",
    "\n",
    "# Pandas 메모리 사용량 측정\n",
    "df_pandas = pd.read_csv(file_path)\n",
    "pandas_memory = get_memory_usage() - initial_memory\n",
    "print(df_pandas.head(1))\n",
    "\n",
    "# 메모리 정리\n",
    "del df_pandas\n",
    "_ = gc.collect()\n",
    "\n",
    "# 다시 초기 메모리 측정\n",
    "initial_memory = get_memory_usage()\n",
    "\n",
    "# Polars Lazy 메모리 사용량 측정\n",
    "df_polars_lazy = pl.scan_csv(file_path, schema_overrides={\"Time\": pl.Float64})\n",
    "polars_memory = get_memory_usage() - initial_memory\n",
    "\n",
    "print(df_polars_lazy.head(1).collect())\n",
    "\n",
    "del df_polars_lazy\n",
    "_ = gc.collect()\n",
    "\n",
    "print(f\"Pandas 메모리 사용량: {convert_size(pandas_memory)}\")\n",
    "print(f\"Polars Lazy 메모리 사용량: {convert_size(polars_memory)}\")\n",
    "print(f\"메모리 사용량 차이: {convert_size(abs(pandas_memory - polars_memory))}\")"
   ]
  },
  {
   "cell_type": "markdown",
   "metadata": {},
   "source": []
  }
 ],
 "metadata": {
  "kernelspec": {
   "display_name": "venv",
   "language": "python",
   "name": "python3"
  },
  "language_info": {
   "codemirror_mode": {
    "name": "ipython",
    "version": 3
   },
   "file_extension": ".py",
   "mimetype": "text/x-python",
   "name": "python",
   "nbconvert_exporter": "python",
   "pygments_lexer": "ipython3",
   "version": "3.12.6"
  }
 },
 "nbformat": 4,
 "nbformat_minor": 4
}

{
 "cells": [
  {
   "cell_type": "markdown",
   "metadata": {},
   "source": [
    "# 데이터 가져오기"
   ]
  },
  {
   "cell_type": "code",
   "execution_count": 2,
   "metadata": {},
   "outputs": [
    {
     "data": {
      "text/plain": [
       "'1.22.0'"
      ]
     },
     "execution_count": 2,
     "metadata": {},
     "output_type": "execute_result"
    }
   ],
   "source": [
    "import polars as pl\n",
    "pl.__version__"
   ]
  },
  {
   "cell_type": "code",
   "execution_count": 5,
   "metadata": {},
   "outputs": [
    {
     "data": {
      "text/html": [
       "<div><style>\n",
       ".dataframe > thead > tr,\n",
       ".dataframe > tbody > tr {\n",
       "  text-align: right;\n",
       "  white-space: pre-wrap;\n",
       "}\n",
       "</style>\n",
       "<small>shape: (1, 20)</small><table border=\"1\" class=\"dataframe\"><thead><tr><th>Order Number</th><th>Line Number</th><th>Order Date</th><th>Delivery Date</th><th>Customer Name</th><th>Customer Gender</th><th>Customer Country</th><th>Customer Age</th><th>Store Name</th><th>Product Name</th><th>Color</th><th>Brand</th><th>Category</th><th>Subcategory</th><th>Quantity</th><th>Unit Price</th><th>Net Price</th><th>Unit Cost</th><th>Currency Code</th><th>Exchange Rate</th></tr><tr><td>i64</td><td>i64</td><td>str</td><td>str</td><td>str</td><td>str</td><td>str</td><td>i64</td><td>str</td><td>str</td><td>str</td><td>str</td><td>str</td><td>str</td><td>i64</td><td>f64</td><td>f64</td><td>f64</td><td>str</td><td>f64</td></tr></thead><tbody><tr><td>284806</td><td>1</td><td>&quot;2017-10-18&quot;</td><td>&quot;2017-10-20&quot;</td><td>&quot;Eric Kennedy&quot;</td><td>&quot;Male&quot;</td><td>&quot;United States&quot;</td><td>47</td><td>&quot;Online store&quot;</td><td>&quot;Contoso 512MB MP3 Player E51 S…</td><td>&quot;Silver&quot;</td><td>&quot;Contoso&quot;</td><td>&quot;Audio&quot;</td><td>&quot;MP4&amp;MP3&quot;</td><td>7</td><td>11.691</td><td>10.288</td><td>5.958</td><td>&quot;USD&quot;</td><td>1.0</td></tr></tbody></table></div>"
      ],
      "text/plain": [
       "shape: (1, 20)\n",
       "┌────────┬────────┬─────────────┬─────────────┬───┬─────────────┬───────┬─────────────┬────────────┐\n",
       "│ Order  ┆ Line   ┆ Order Date  ┆ Delivery    ┆ … ┆ Net Price   ┆ Unit  ┆ Currency    ┆ Exchange   │\n",
       "│ Number ┆ Number ┆ ---         ┆ Date        ┆   ┆ ---         ┆ Cost  ┆ Code        ┆ Rate       │\n",
       "│ ---    ┆ ---    ┆ str         ┆ ---         ┆   ┆ f64         ┆ ---   ┆ ---         ┆ ---        │\n",
       "│ i64    ┆ i64    ┆             ┆ str         ┆   ┆             ┆ f64   ┆ str         ┆ f64        │\n",
       "╞════════╪════════╪═════════════╪═════════════╪═══╪═════════════╪═══════╪═════════════╪════════════╡\n",
       "│ 284806 ┆ 1      ┆ 2017-10-18  ┆ 2017-10-20  ┆ … ┆ 10.288      ┆ 5.958 ┆ USD         ┆ 1.0        │\n",
       "└────────┴────────┴─────────────┴─────────────┴───┴─────────────┴───────┴─────────────┴────────────┘"
      ]
     },
     "execution_count": 5,
     "metadata": {},
     "output_type": "execute_result"
    }
   ],
   "source": [
    "contoso_sales = pl.read_csv(\"data/ch08/contoso_sales.csv\")\n",
    "contoso_sales.head(1)\n"
   ]
  },
  {
   "cell_type": "markdown",
   "metadata": {},
   "source": [
    "# 집계함수 기초 "
   ]
  },
  {
   "cell_type": "code",
   "execution_count": 6,
   "metadata": {},
   "outputs": [
    {
     "data": {
      "text/html": [
       "<div><style>\n",
       ".dataframe > thead > tr,\n",
       ".dataframe > tbody > tr {\n",
       "  text-align: right;\n",
       "  white-space: pre-wrap;\n",
       "}\n",
       "</style>\n",
       "<small>shape: (1, 8)</small><table border=\"1\" class=\"dataframe\"><thead><tr><th>Order Number</th><th>Line Number</th><th>Customer Age</th><th>Quantity</th><th>Unit Price</th><th>Net Price</th><th>Unit Cost</th><th>Exchange Rate</th></tr><tr><td>i64</td><td>i64</td><td>i64</td><td>i64</td><td>f64</td><td>f64</td><td>f64</td><td>f64</td></tr></thead><tbody><tr><td>4466019052</td><td>16195</td><td>725757</td><td>43517</td><td>4.1785e6</td><td>3.9286e6</td><td>1.7356e6</td><td>14124.4597</td></tr></tbody></table></div>"
      ],
      "text/plain": [
       "shape: (1, 8)\n",
       "┌─────────────┬────────┬─────────────┬──────────┬─────────────┬───────────┬───────────┬────────────┐\n",
       "│ Order       ┆ Line   ┆ Customer    ┆ Quantity ┆ Unit Price  ┆ Net Price ┆ Unit Cost ┆ Exchange   │\n",
       "│ Number      ┆ Number ┆ Age         ┆ ---      ┆ ---         ┆ ---       ┆ ---       ┆ Rate       │\n",
       "│ ---         ┆ ---    ┆ ---         ┆ i64      ┆ f64         ┆ f64       ┆ f64       ┆ ---        │\n",
       "│ i64         ┆ i64    ┆ i64         ┆          ┆             ┆           ┆           ┆ f64        │\n",
       "╞═════════════╪════════╪═════════════╪══════════╪═════════════╪═══════════╪═══════════╪════════════╡\n",
       "│ 4466019052  ┆ 16195  ┆ 725757      ┆ 43517    ┆ 4.1785e6    ┆ 3.9286e6  ┆ 1.7356e6  ┆ 14124.4597 │\n",
       "└─────────────┴────────┴─────────────┴──────────┴─────────────┴───────────┴───────────┴────────────┘"
      ]
     },
     "execution_count": 6,
     "metadata": {},
     "output_type": "execute_result"
    }
   ],
   "source": [
    "from polars import selectors as cs \n",
    "# 수치형 컬럼만 선택하고 합계 계산하기\n",
    "# Select numeric columns and calculate their sums\n",
    "contoso_sales.select(cs.numeric()).sum()\n",
    "\n"
   ]
  },
  {
   "cell_type": "code",
   "execution_count": 9,
   "metadata": {},
   "outputs": [
    {
     "name": "stdout",
     "output_type": "stream",
     "text": [
      "43517\n",
      "shape: (1, 1)\n",
      "┌──────────┐\n",
      "│ Quantity │\n",
      "│ ---      │\n",
      "│ i64      │\n",
      "╞══════════╡\n",
      "│ 43517    │\n",
      "└──────────┘\n"
     ]
    }
   ],
   "source": [
    "# Quantity 컬럼을 series로 변환하고 합계 계산\n",
    "# Convert Quantity column to series and calculate sum\n",
    "print(contoso_sales.get_column(\"Quantity\").sum())\n",
    "print(contoso_sales.select(pl.col(\"Quantity\")).sum())"
   ]
  },
  {
   "cell_type": "code",
   "execution_count": 16,
   "metadata": {},
   "outputs": [
    {
     "name": "stdout",
     "output_type": "stream",
     "text": [
      "shape: (62, 2)\n",
      "┌─────────────────────────────────┬───────┐\n",
      "│ Store Name                      ┆ count │\n",
      "│ ---                             ┆ ---   │\n",
      "│ str                             ┆ u32   │\n",
      "╞═════════════════════════════════╪═══════╡\n",
      "│ Contoso Store Brandenburg       ┆ 96    │\n",
      "│ Contoso Store Western Australi… ┆ 72    │\n",
      "│ Contoso Store Corse             ┆ 21    │\n",
      "│ Contoso Store Arkansas          ┆ 125   │\n",
      "│ Contoso Store Delaware          ┆ 100   │\n",
      "│ …                               ┆ …     │\n",
      "│ Contoso Store Hawaii            ┆ 132   │\n",
      "│ Contoso Store Ayrshire          ┆ 74    │\n",
      "│ Contoso Store Limousin          ┆ 25    │\n",
      "│ Contoso Store Mayotte           ┆ 30    │\n",
      "│ Contoso Store Oregon            ┆ 167   │\n",
      "└─────────────────────────────────┴───────┘\n",
      "\n",
      "정렬된 결과:\n",
      "shape: (62, 2)\n",
      "┌───────────────────────────────┬───────┐\n",
      "│ Store Name                    ┆ count │\n",
      "│ ---                           ┆ ---   │\n",
      "│ str                           ┆ u32   │\n",
      "╞═══════════════════════════════╪═══════╡\n",
      "│ Online store                  ┆ 8005  │\n",
      "│ Contoso Store New Brunswick   ┆ 210   │\n",
      "│ Contoso Store Nunavut         ┆ 170   │\n",
      "│ Contoso Store Oregon          ┆ 167   │\n",
      "│ Contoso Store Maine           ┆ 165   │\n",
      "│ …                             ┆ …     │\n",
      "│ Contoso Store Corse           ┆ 21    │\n",
      "│ Contoso Store Basse-Normandie ┆ 21    │\n",
      "│ Contoso Store Saarland        ┆ 17    │\n",
      "│ Contoso Store Franche-Comté   ┆ 14    │\n",
      "│ Contoso Store Martinique      ┆ 13    │\n",
      "└───────────────────────────────┴───────┘\n",
      "\n",
      "정규화된 결과:\n",
      "shape: (62, 2)\n",
      "┌─────────────────────────────────┬────────────┐\n",
      "│ Store Name                      ┆ proportion │\n",
      "│ ---                             ┆ ---        │\n",
      "│ str                             ┆ f64        │\n",
      "╞═════════════════════════════════╪════════════╡\n",
      "│ Contoso Store Hessen            ┆ 0.007546   │\n",
      "│ Contoso Store Brandenburg       ┆ 0.006899   │\n",
      "│ Contoso Store Basse-Normandie   ┆ 0.001509   │\n",
      "│ Contoso Store Franche-Comté     ┆ 0.001006   │\n",
      "│ Contoso Store Flevoland         ┆ 0.005893   │\n",
      "│ …                               ┆ …          │\n",
      "│ Online store                    ┆ 0.575278   │\n",
      "│ Contoso Store Wyoming           ┆ 0.010708   │\n",
      "│ Contoso Store Rhode Island      ┆ 0.009127   │\n",
      "│ Contoso Store Australian Capit… ┆ 0.003521   │\n",
      "│ Contoso Store Enna              ┆ 0.004456   │\n",
      "└─────────────────────────────────┴────────────┘\n"
     ]
    }
   ],
   "source": [
    "# pandas의 value_counts() 함수 적용\n",
    "# Store Name 컬럼의 값별 빈도수 계산\n",
    "print(contoso_sales.get_column(\"Store Name\").value_counts())\n",
    "\n",
    "# Store Name 컬럼의 값별 빈도수를 정렬하여 계산\n",
    "print(\"\\n정렬된 결과:\")\n",
    "print(contoso_sales.get_column(\"Store Name\").value_counts(sort=True))\n",
    "\n",
    "# 정규화된 빈도수 계산 (비율)\n",
    "print(\"\\n정규화된 결과:\")\n",
    "print(contoso_sales.get_column(\"Store Name\").value_counts(normalize=True))\n"
   ]
  },
  {
   "cell_type": "code",
   "execution_count": 18,
   "metadata": {},
   "outputs": [
    {
     "name": "stdout",
     "output_type": "stream",
     "text": [
      "시애틀 스토어 수량 합계 (Polars):\n",
      "shape: (1, 1)\n",
      "┌──────────┐\n",
      "│ Quantity │\n",
      "│ ---      │\n",
      "│ i64      │\n",
      "╞══════════╡\n",
      "│ 56       │\n",
      "└──────────┘\n"
     ]
    }
   ],
   "source": [
    "# Polars 버전 - 스토어 이름으로 필터링하고 수량 합계 계산\n",
    "# Polars version - Filter store name and sum quantity\n",
    "store_quantity_pl = contoso_sales.filter(pl.col(\"Store Name\") == \"Contoso Store Corse\").select(\"Quantity\").sum()\n",
    "print(\"시애틀 스토어 수량 합계 (Polars):\")\n",
    "print(store_quantity_pl)"
   ]
  },
  {
   "cell_type": "code",
   "execution_count": 19,
   "metadata": {},
   "outputs": [
    {
     "name": "stdout",
     "output_type": "stream",
     "text": [
      "시애틀 스토어 수량 합계 (when 사용):\n",
      "shape: (1, 1)\n",
      "┌──────────┐\n",
      "│ Quantity │\n",
      "│ ---      │\n",
      "│ i64      │\n",
      "╞══════════╡\n",
      "│ 56       │\n",
      "└──────────┘\n"
     ]
    }
   ],
   "source": [
    "# Polars 버전 - when() 함수를 사용한 필터링과 수량 합계 계산 \n",
    "# Polars version - Filter using when() function and sum quantity\n",
    "store_quantity_when = contoso_sales.select(\n",
    "    pl.when(pl.col(\"Store Name\") == \"Contoso Store Corse\")\n",
    "    .then(pl.col(\"Quantity\"))\n",
    "    .otherwise(0)\n",
    "    .sum()\n",
    ")\n",
    "\n",
    "print(\"시애틀 스토어 수량 합계 (when 사용):\")\n",
    "print(store_quantity_when)\n"
   ]
  },
  {
   "cell_type": "code",
   "execution_count": 22,
   "metadata": {},
   "outputs": [
    {
     "name": "stdout",
     "output_type": "stream",
     "text": [
      "\n",
      "시애틀 스토어 수량 합계 (Pandas):\n",
      "56\n"
     ]
    }
   ],
   "source": [
    "# Pandas 버전 - Pandas로 변환하여 스토어 필터링 후 수량 합계 계산\n",
    "# Pandas version - Convert to pandas, filter store and sum quantity\n",
    "import pandas as pd\n",
    "contoso_sales_pd = contoso_sales.to_pandas()\n",
    "store_quantity_pd = contoso_sales_pd[contoso_sales_pd[\"Store Name\"] == \"Contoso Store Corse\"][\"Quantity\"].sum()\n",
    "print(\"\\n시애틀 스토어 수량 합계 (Pandas):\")\n",
    "print(store_quantity_pd)"
   ]
  },
  {
   "cell_type": "markdown",
   "metadata": {},
   "source": [
    "## polars vs pandas 데이터 변환 비교"
   ]
  },
  {
   "cell_type": "code",
   "execution_count": 45,
   "metadata": {},
   "outputs": [
    {
     "name": "stdout",
     "output_type": "stream",
     "text": [
      "\n",
      "Polars select를 활용한 데이터 조회:\n"
     ]
    },
    {
     "data": {
      "text/html": [
       "<div><style>\n",
       ".dataframe > thead > tr,\n",
       ".dataframe > tbody > tr {\n",
       "  text-align: right;\n",
       "  white-space: pre-wrap;\n",
       "}\n",
       "</style>\n",
       "<small>shape: (1, 3)</small><table border=\"1\" class=\"dataframe\"><thead><tr><th>Store Name</th><th>Quantity</th><th>Net Price</th></tr><tr><td>str</td><td>i64</td><td>f64</td></tr></thead><tbody><tr><td>&quot;Online store&quot;</td><td>7</td><td>10.288</td></tr></tbody></table></div>"
      ],
      "text/plain": [
       "shape: (1, 3)\n",
       "┌──────────────┬──────────┬───────────┐\n",
       "│ Store Name   ┆ Quantity ┆ Net Price │\n",
       "│ ---          ┆ ---      ┆ ---       │\n",
       "│ str          ┆ i64      ┆ f64       │\n",
       "╞══════════════╪══════════╪═══════════╡\n",
       "│ Online store ┆ 7        ┆ 10.288    │\n",
       "└──────────────┴──────────┴───────────┘"
      ]
     },
     "execution_count": 45,
     "metadata": {},
     "output_type": "execute_result"
    }
   ],
   "source": [
    "# Polars 버전의 데이터 처리\n",
    "# Data processing using Polars\n",
    "print(\"\\nPolars select를 활용한 데이터 조회:\")\n",
    "contoso_sales.select([\"Store Name\", \"Quantity\", \"Net Price\"]).head(1)\n"
   ]
  },
  {
   "cell_type": "code",
   "execution_count": 44,
   "metadata": {},
   "outputs": [
    {
     "name": "stdout",
     "output_type": "stream",
     "text": [
      "\n",
      "특정 스토어 데이터:\n"
     ]
    },
    {
     "data": {
      "text/html": [
       "<div><style>\n",
       ".dataframe > thead > tr,\n",
       ".dataframe > tbody > tr {\n",
       "  text-align: right;\n",
       "  white-space: pre-wrap;\n",
       "}\n",
       "</style>\n",
       "<small>shape: (1, 20)</small><table border=\"1\" class=\"dataframe\"><thead><tr><th>Order Number</th><th>Line Number</th><th>Order Date</th><th>Delivery Date</th><th>Customer Name</th><th>Customer Gender</th><th>Customer Country</th><th>Customer Age</th><th>Store Name</th><th>Product Name</th><th>Color</th><th>Brand</th><th>Category</th><th>Subcategory</th><th>Quantity</th><th>Unit Price</th><th>Net Price</th><th>Unit Cost</th><th>Currency Code</th><th>Exchange Rate</th></tr><tr><td>i64</td><td>i64</td><td>str</td><td>str</td><td>str</td><td>str</td><td>str</td><td>i64</td><td>str</td><td>str</td><td>str</td><td>str</td><td>str</td><td>str</td><td>i64</td><td>f64</td><td>f64</td><td>f64</td><td>str</td><td>f64</td></tr></thead><tbody><tr><td>357705</td><td>0</td><td>&quot;2019-10-17&quot;</td><td>&quot;2019-10-17&quot;</td><td>&quot;Tabor Daigneault&quot;</td><td>&quot;Male&quot;</td><td>&quot;France&quot;</td><td>35</td><td>&quot;Contoso Store Corse&quot;</td><td>&quot;Contoso 16GB Mp5 Player M1600 …</td><td>&quot;White&quot;</td><td>&quot;Contoso&quot;</td><td>&quot;Audio&quot;</td><td>&quot;MP4&amp;MP3&quot;</td><td>1</td><td>199.9</td><td>173.913</td><td>91.93</td><td>&quot;EUR&quot;</td><td>0.8998</td></tr></tbody></table></div>"
      ],
      "text/plain": [
       "shape: (1, 20)\n",
       "┌────────┬────────┬─────────────┬─────────────┬───┬─────────────┬───────┬─────────────┬────────────┐\n",
       "│ Order  ┆ Line   ┆ Order Date  ┆ Delivery    ┆ … ┆ Net Price   ┆ Unit  ┆ Currency    ┆ Exchange   │\n",
       "│ Number ┆ Number ┆ ---         ┆ Date        ┆   ┆ ---         ┆ Cost  ┆ Code        ┆ Rate       │\n",
       "│ ---    ┆ ---    ┆ str         ┆ ---         ┆   ┆ f64         ┆ ---   ┆ ---         ┆ ---        │\n",
       "│ i64    ┆ i64    ┆             ┆ str         ┆   ┆             ┆ f64   ┆ str         ┆ f64        │\n",
       "╞════════╪════════╪═════════════╪═════════════╪═══╪═════════════╪═══════╪═════════════╪════════════╡\n",
       "│ 357705 ┆ 0      ┆ 2019-10-17  ┆ 2019-10-17  ┆ … ┆ 173.913     ┆ 91.93 ┆ EUR         ┆ 0.8998     │\n",
       "└────────┴────────┴─────────────┴─────────────┴───┴─────────────┴───────┴─────────────┴────────────┘"
      ]
     },
     "execution_count": 44,
     "metadata": {},
     "output_type": "execute_result"
    }
   ],
   "source": [
    "# 특정 조건의 데이터 필터링 \n",
    "filtered_data_pl = contoso_sales.filter(pl.col(\"Store Name\") == \"Contoso Store Corse\")\n",
    "print(\"\\n특정 스토어 데이터:\")\n",
    "filtered_data_pl.head(1)"
   ]
  },
  {
   "cell_type": "code",
   "execution_count": 43,
   "metadata": {},
   "outputs": [
    {
     "name": "stdout",
     "output_type": "stream",
     "text": [
      "\n",
      "다중 조건 필터링 결과:\n"
     ]
    },
    {
     "data": {
      "text/html": [
       "<div><style>\n",
       ".dataframe > thead > tr,\n",
       ".dataframe > tbody > tr {\n",
       "  text-align: right;\n",
       "  white-space: pre-wrap;\n",
       "}\n",
       "</style>\n",
       "<small>shape: (1, 20)</small><table border=\"1\" class=\"dataframe\"><thead><tr><th>Order Number</th><th>Line Number</th><th>Order Date</th><th>Delivery Date</th><th>Customer Name</th><th>Customer Gender</th><th>Customer Country</th><th>Customer Age</th><th>Store Name</th><th>Product Name</th><th>Color</th><th>Brand</th><th>Category</th><th>Subcategory</th><th>Quantity</th><th>Unit Price</th><th>Net Price</th><th>Unit Cost</th><th>Currency Code</th><th>Exchange Rate</th></tr><tr><td>i64</td><td>i64</td><td>str</td><td>str</td><td>str</td><td>str</td><td>str</td><td>i64</td><td>str</td><td>str</td><td>str</td><td>str</td><td>str</td><td>str</td><td>i64</td><td>f64</td><td>f64</td><td>f64</td><td>str</td><td>f64</td></tr></thead><tbody><tr><td>349303</td><td>0</td><td>&quot;2019-07-25&quot;</td><td>&quot;2019-07-25&quot;</td><td>&quot;Fanette Robitaille&quot;</td><td>&quot;Female&quot;</td><td>&quot;France&quot;</td><td>41</td><td>&quot;Contoso Store Corse&quot;</td><td>&quot;Adventure Works Desktop PC1.80…</td><td>&quot;White&quot;</td><td>&quot;Adventure Works&quot;</td><td>&quot;Computers&quot;</td><td>&quot;Desktops&quot;</td><td>2</td><td>499.9</td><td>439.912</td><td>254.86</td><td>&quot;EUR&quot;</td><td>0.8997</td></tr></tbody></table></div>"
      ],
      "text/plain": [
       "shape: (1, 20)\n",
       "┌───────────┬───────────┬───────────┬───────────┬───┬───────────┬───────────┬───────────┬──────────┐\n",
       "│ Order     ┆ Line      ┆ Order     ┆ Delivery  ┆ … ┆ Net Price ┆ Unit Cost ┆ Currency  ┆ Exchange │\n",
       "│ Number    ┆ Number    ┆ Date      ┆ Date      ┆   ┆ ---       ┆ ---       ┆ Code      ┆ Rate     │\n",
       "│ ---       ┆ ---       ┆ ---       ┆ ---       ┆   ┆ f64       ┆ f64       ┆ ---       ┆ ---      │\n",
       "│ i64       ┆ i64       ┆ str       ┆ str       ┆   ┆           ┆           ┆ str       ┆ f64      │\n",
       "╞═══════════╪═══════════╪═══════════╪═══════════╪═══╪═══════════╪═══════════╪═══════════╪══════════╡\n",
       "│ 349303    ┆ 0         ┆ 2019-07-2 ┆ 2019-07-2 ┆ … ┆ 439.912   ┆ 254.86    ┆ EUR       ┆ 0.8997   │\n",
       "│           ┆           ┆ 5         ┆ 5         ┆   ┆           ┆           ┆           ┆          │\n",
       "└───────────┴───────────┴───────────┴───────────┴───┴───────────┴───────────┴───────────┴──────────┘"
      ]
     },
     "execution_count": 43,
     "metadata": {},
     "output_type": "execute_result"
    }
   ],
   "source": [
    "# 다중 조건을 활용한 데이터 필터링\n",
    "multi_condition_pl = contoso_sales.filter(\n",
    "    (pl.col(\"Store Name\") == \"Contoso Store Corse\") & \n",
    "    (pl.col(\"Net Price\") > 400)\n",
    ")\n",
    "print(\"\\n다중 조건 필터링 결과:\")\n",
    "multi_condition_pl.head(1)"
   ]
  },
  {
   "cell_type": "code",
   "execution_count": 42,
   "metadata": {},
   "outputs": [
    {
     "name": "stdout",
     "output_type": "stream",
     "text": [
      "\n",
      "Pandas loc를 활용한 데이터 조회:\n"
     ]
    },
    {
     "data": {
      "text/html": [
       "<div>\n",
       "<style scoped>\n",
       "    .dataframe tbody tr th:only-of-type {\n",
       "        vertical-align: middle;\n",
       "    }\n",
       "\n",
       "    .dataframe tbody tr th {\n",
       "        vertical-align: top;\n",
       "    }\n",
       "\n",
       "    .dataframe thead th {\n",
       "        text-align: right;\n",
       "    }\n",
       "</style>\n",
       "<table border=\"1\" class=\"dataframe\">\n",
       "  <thead>\n",
       "    <tr style=\"text-align: right;\">\n",
       "      <th></th>\n",
       "      <th>Store Name</th>\n",
       "      <th>Quantity</th>\n",
       "      <th>Net Price</th>\n",
       "    </tr>\n",
       "  </thead>\n",
       "  <tbody>\n",
       "    <tr>\n",
       "      <th>0</th>\n",
       "      <td>Online store</td>\n",
       "      <td>7</td>\n",
       "      <td>10.288</td>\n",
       "    </tr>\n",
       "  </tbody>\n",
       "</table>\n",
       "</div>"
      ],
      "text/plain": [
       "     Store Name  Quantity  Net Price\n",
       "0  Online store         7     10.288"
      ]
     },
     "execution_count": 42,
     "metadata": {},
     "output_type": "execute_result"
    }
   ],
   "source": [
    "# Pandas loc를 활용한 데이터 처리\n",
    "# Data processing using pandas loc\n",
    "print(\"\\nPandas loc를 활용한 데이터 조회:\")\n",
    "contoso_sales_pd.loc[:, [\"Store Name\", \"Quantity\", \"Net Price\"]].head(1)"
   ]
  },
  {
   "cell_type": "code",
   "execution_count": 41,
   "metadata": {},
   "outputs": [
    {
     "name": "stdout",
     "output_type": "stream",
     "text": [
      "\n",
      "특정 스토어 데이터:\n"
     ]
    },
    {
     "data": {
      "text/html": [
       "<div>\n",
       "<style scoped>\n",
       "    .dataframe tbody tr th:only-of-type {\n",
       "        vertical-align: middle;\n",
       "    }\n",
       "\n",
       "    .dataframe tbody tr th {\n",
       "        vertical-align: top;\n",
       "    }\n",
       "\n",
       "    .dataframe thead th {\n",
       "        text-align: right;\n",
       "    }\n",
       "</style>\n",
       "<table border=\"1\" class=\"dataframe\">\n",
       "  <thead>\n",
       "    <tr style=\"text-align: right;\">\n",
       "      <th></th>\n",
       "      <th>Order Number</th>\n",
       "      <th>Line Number</th>\n",
       "      <th>Order Date</th>\n",
       "      <th>Delivery Date</th>\n",
       "      <th>Customer Name</th>\n",
       "      <th>Customer Gender</th>\n",
       "      <th>Customer Country</th>\n",
       "      <th>Customer Age</th>\n",
       "      <th>Store Name</th>\n",
       "      <th>Product Name</th>\n",
       "      <th>Color</th>\n",
       "      <th>Brand</th>\n",
       "      <th>Category</th>\n",
       "      <th>Subcategory</th>\n",
       "      <th>Quantity</th>\n",
       "      <th>Unit Price</th>\n",
       "      <th>Net Price</th>\n",
       "      <th>Unit Cost</th>\n",
       "      <th>Currency Code</th>\n",
       "      <th>Exchange Rate</th>\n",
       "    </tr>\n",
       "  </thead>\n",
       "  <tbody>\n",
       "    <tr>\n",
       "      <th>68</th>\n",
       "      <td>357705</td>\n",
       "      <td>0</td>\n",
       "      <td>2019-10-17</td>\n",
       "      <td>2019-10-17</td>\n",
       "      <td>Tabor Daigneault</td>\n",
       "      <td>Male</td>\n",
       "      <td>France</td>\n",
       "      <td>35</td>\n",
       "      <td>Contoso Store Corse</td>\n",
       "      <td>Contoso 16GB Mp5 Player M1600 White</td>\n",
       "      <td>White</td>\n",
       "      <td>Contoso</td>\n",
       "      <td>Audio</td>\n",
       "      <td>MP4&amp;MP3</td>\n",
       "      <td>1</td>\n",
       "      <td>199.9</td>\n",
       "      <td>173.913</td>\n",
       "      <td>91.93</td>\n",
       "      <td>EUR</td>\n",
       "      <td>0.8998</td>\n",
       "    </tr>\n",
       "  </tbody>\n",
       "</table>\n",
       "</div>"
      ],
      "text/plain": [
       "    Order Number  Line Number  Order Date Delivery Date     Customer Name  \\\n",
       "68        357705            0  2019-10-17    2019-10-17  Tabor Daigneault   \n",
       "\n",
       "   Customer Gender Customer Country  Customer Age           Store Name  \\\n",
       "68            Male           France            35  Contoso Store Corse   \n",
       "\n",
       "                           Product Name  Color    Brand Category Subcategory  \\\n",
       "68  Contoso 16GB Mp5 Player M1600 White  White  Contoso    Audio     MP4&MP3   \n",
       "\n",
       "    Quantity  Unit Price  Net Price  Unit Cost Currency Code  Exchange Rate  \n",
       "68         1       199.9    173.913      91.93           EUR         0.8998  "
      ]
     },
     "execution_count": 41,
     "metadata": {},
     "output_type": "execute_result"
    }
   ],
   "source": [
    "\n",
    "# 특정 조건의 데이터 필터링\n",
    "filtered_data = contoso_sales_pd.loc[contoso_sales_pd[\"Store Name\"] == \"Contoso Store Corse\"]\n",
    "print(\"\\n특정 스토어 데이터:\")\n",
    "filtered_data.head(1)"
   ]
  },
  {
   "cell_type": "code",
   "execution_count": 40,
   "metadata": {},
   "outputs": [
    {
     "name": "stdout",
     "output_type": "stream",
     "text": [
      "\n",
      "다중 조건 필터링 결과:\n"
     ]
    },
    {
     "data": {
      "text/html": [
       "<div>\n",
       "<style scoped>\n",
       "    .dataframe tbody tr th:only-of-type {\n",
       "        vertical-align: middle;\n",
       "    }\n",
       "\n",
       "    .dataframe tbody tr th {\n",
       "        vertical-align: top;\n",
       "    }\n",
       "\n",
       "    .dataframe thead th {\n",
       "        text-align: right;\n",
       "    }\n",
       "</style>\n",
       "<table border=\"1\" class=\"dataframe\">\n",
       "  <thead>\n",
       "    <tr style=\"text-align: right;\">\n",
       "      <th></th>\n",
       "      <th>Order Number</th>\n",
       "      <th>Line Number</th>\n",
       "      <th>Order Date</th>\n",
       "      <th>Delivery Date</th>\n",
       "      <th>Customer Name</th>\n",
       "      <th>Customer Gender</th>\n",
       "      <th>Customer Country</th>\n",
       "      <th>Customer Age</th>\n",
       "      <th>Store Name</th>\n",
       "      <th>Product Name</th>\n",
       "      <th>Color</th>\n",
       "      <th>Brand</th>\n",
       "      <th>Category</th>\n",
       "      <th>Subcategory</th>\n",
       "      <th>Quantity</th>\n",
       "      <th>Unit Price</th>\n",
       "      <th>Net Price</th>\n",
       "      <th>Unit Cost</th>\n",
       "      <th>Currency Code</th>\n",
       "      <th>Exchange Rate</th>\n",
       "    </tr>\n",
       "  </thead>\n",
       "  <tbody>\n",
       "    <tr>\n",
       "      <th>2634</th>\n",
       "      <td>349303</td>\n",
       "      <td>0</td>\n",
       "      <td>2019-07-25</td>\n",
       "      <td>2019-07-25</td>\n",
       "      <td>Fanette Robitaille</td>\n",
       "      <td>Female</td>\n",
       "      <td>France</td>\n",
       "      <td>41</td>\n",
       "      <td>Contoso Store Corse</td>\n",
       "      <td>Adventure Works Desktop PC1.80 ED182 White</td>\n",
       "      <td>White</td>\n",
       "      <td>Adventure Works</td>\n",
       "      <td>Computers</td>\n",
       "      <td>Desktops</td>\n",
       "      <td>2</td>\n",
       "      <td>499.900</td>\n",
       "      <td>439.912</td>\n",
       "      <td>254.860</td>\n",
       "      <td>EUR</td>\n",
       "      <td>0.8997</td>\n",
       "    </tr>\n",
       "    <tr>\n",
       "      <th>3824</th>\n",
       "      <td>272204</td>\n",
       "      <td>3</td>\n",
       "      <td>2017-06-14</td>\n",
       "      <td>2017-06-14</td>\n",
       "      <td>Malagigi Lespérance</td>\n",
       "      <td>Male</td>\n",
       "      <td>France</td>\n",
       "      <td>84</td>\n",
       "      <td>Contoso Store Corse</td>\n",
       "      <td>Proseware Screen 113in X1609 Silver</td>\n",
       "      <td>Silver</td>\n",
       "      <td>Proseware</td>\n",
       "      <td>Computers</td>\n",
       "      <td>Projectors &amp; Screens</td>\n",
       "      <td>3</td>\n",
       "      <td>448.500</td>\n",
       "      <td>448.500</td>\n",
       "      <td>148.590</td>\n",
       "      <td>EUR</td>\n",
       "      <td>0.8926</td>\n",
       "    </tr>\n",
       "    <tr>\n",
       "      <th>13075</th>\n",
       "      <td>272204</td>\n",
       "      <td>1</td>\n",
       "      <td>2017-06-14</td>\n",
       "      <td>2017-06-14</td>\n",
       "      <td>Malagigi Lespérance</td>\n",
       "      <td>Male</td>\n",
       "      <td>France</td>\n",
       "      <td>84</td>\n",
       "      <td>Contoso Store Corse</td>\n",
       "      <td>WWI Floor Lamp X115 Grey</td>\n",
       "      <td>Grey</td>\n",
       "      <td>Wide World Importers</td>\n",
       "      <td>Home Appliances</td>\n",
       "      <td>Lamps</td>\n",
       "      <td>3</td>\n",
       "      <td>572.391</td>\n",
       "      <td>503.704</td>\n",
       "      <td>189.648</td>\n",
       "      <td>EUR</td>\n",
       "      <td>0.8926</td>\n",
       "    </tr>\n",
       "    <tr>\n",
       "      <th>13225</th>\n",
       "      <td>357705</td>\n",
       "      <td>2</td>\n",
       "      <td>2019-10-17</td>\n",
       "      <td>2019-10-17</td>\n",
       "      <td>Tabor Daigneault</td>\n",
       "      <td>Male</td>\n",
       "      <td>France</td>\n",
       "      <td>35</td>\n",
       "      <td>Contoso Store Corse</td>\n",
       "      <td>Proseware Air conditioner 25000BTU L167 Silver</td>\n",
       "      <td>Silver</td>\n",
       "      <td>Proseware</td>\n",
       "      <td>Home Appliances</td>\n",
       "      <td>Air Conditioners</td>\n",
       "      <td>3</td>\n",
       "      <td>635.990</td>\n",
       "      <td>635.990</td>\n",
       "      <td>210.720</td>\n",
       "      <td>EUR</td>\n",
       "      <td>0.8998</td>\n",
       "    </tr>\n",
       "  </tbody>\n",
       "</table>\n",
       "</div>"
      ],
      "text/plain": [
       "       Order Number  Line Number  Order Date Delivery Date  \\\n",
       "2634         349303            0  2019-07-25    2019-07-25   \n",
       "3824         272204            3  2017-06-14    2017-06-14   \n",
       "13075        272204            1  2017-06-14    2017-06-14   \n",
       "13225        357705            2  2019-10-17    2019-10-17   \n",
       "\n",
       "             Customer Name Customer Gender Customer Country  Customer Age  \\\n",
       "2634    Fanette Robitaille          Female           France            41   \n",
       "3824   Malagigi Lespérance            Male           France            84   \n",
       "13075  Malagigi Lespérance            Male           France            84   \n",
       "13225     Tabor Daigneault            Male           France            35   \n",
       "\n",
       "                Store Name                                    Product Name  \\\n",
       "2634   Contoso Store Corse      Adventure Works Desktop PC1.80 ED182 White   \n",
       "3824   Contoso Store Corse             Proseware Screen 113in X1609 Silver   \n",
       "13075  Contoso Store Corse                        WWI Floor Lamp X115 Grey   \n",
       "13225  Contoso Store Corse  Proseware Air conditioner 25000BTU L167 Silver   \n",
       "\n",
       "        Color                 Brand         Category           Subcategory  \\\n",
       "2634    White       Adventure Works        Computers              Desktops   \n",
       "3824   Silver             Proseware        Computers  Projectors & Screens   \n",
       "13075    Grey  Wide World Importers  Home Appliances                 Lamps   \n",
       "13225  Silver             Proseware  Home Appliances      Air Conditioners   \n",
       "\n",
       "       Quantity  Unit Price  Net Price  Unit Cost Currency Code  Exchange Rate  \n",
       "2634          2     499.900    439.912    254.860           EUR         0.8997  \n",
       "3824          3     448.500    448.500    148.590           EUR         0.8926  \n",
       "13075         3     572.391    503.704    189.648           EUR         0.8926  \n",
       "13225         3     635.990    635.990    210.720           EUR         0.8998  "
      ]
     },
     "execution_count": 40,
     "metadata": {},
     "output_type": "execute_result"
    }
   ],
   "source": [
    "# 다중 조건을 활용한 데이터 필터링\n",
    "multi_condition = contoso_sales_pd.loc[\n",
    "    (contoso_sales_pd[\"Store Name\"] == \"Contoso Store Corse\") & \n",
    "    (contoso_sales_pd[\"Net Price\"] > 400)\n",
    "]\n",
    "print(\"\\n다중 조건 필터링 결과:\")\n",
    "multi_condition"
   ]
  },
  {
   "cell_type": "markdown",
   "metadata": {},
   "source": []
  }
 ],
 "metadata": {
  "kernelspec": {
   "display_name": "venv",
   "language": "python",
   "name": "python3"
  },
  "language_info": {
   "codemirror_mode": {
    "name": "ipython",
    "version": 3
   },
   "file_extension": ".py",
   "mimetype": "text/x-python",
   "name": "python",
   "nbconvert_exporter": "python",
   "pygments_lexer": "ipython3",
   "version": "3.12.6"
  }
 },
 "nbformat": 4,
 "nbformat_minor": 2
}

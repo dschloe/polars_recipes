{
 "cells": [
  {
   "cell_type": "markdown",
   "metadata": {},
   "source": [
    "# 데이터 가져오기"
   ]
  },
  {
   "cell_type": "code",
   "execution_count": 9,
   "metadata": {},
   "outputs": [
    {
     "data": {
      "text/plain": [
       "'1.22.0'"
      ]
     },
     "execution_count": 9,
     "metadata": {},
     "output_type": "execute_result"
    }
   ],
   "source": [
    "import polars as pl\n",
    "pl.__version__"
   ]
  },
  {
   "cell_type": "code",
   "execution_count": 10,
   "metadata": {},
   "outputs": [
    {
     "data": {
      "text/plain": [
       "'2.2.3'"
      ]
     },
     "execution_count": 10,
     "metadata": {},
     "output_type": "execute_result"
    }
   ],
   "source": [
    "import pandas as pd\n",
    "pd.__version__"
   ]
  },
  {
   "cell_type": "code",
   "execution_count": 2,
   "metadata": {},
   "outputs": [
    {
     "data": {
      "text/html": [
       "<div><style>\n",
       ".dataframe > thead > tr,\n",
       ".dataframe > tbody > tr {\n",
       "  text-align: right;\n",
       "  white-space: pre-wrap;\n",
       "}\n",
       "</style>\n",
       "<small>shape: (1, 20)</small><table border=\"1\" class=\"dataframe\"><thead><tr><th>Order Number</th><th>Line Number</th><th>Order Date</th><th>Delivery Date</th><th>Customer Name</th><th>Customer Gender</th><th>Customer Country</th><th>Customer Age</th><th>Store Name</th><th>Product Name</th><th>Color</th><th>Brand</th><th>Category</th><th>Subcategory</th><th>Quantity</th><th>Unit Price</th><th>Net Price</th><th>Unit Cost</th><th>Currency Code</th><th>Exchange Rate</th></tr><tr><td>i64</td><td>i64</td><td>str</td><td>str</td><td>str</td><td>str</td><td>str</td><td>i64</td><td>str</td><td>str</td><td>str</td><td>str</td><td>str</td><td>str</td><td>i64</td><td>f64</td><td>f64</td><td>f64</td><td>str</td><td>f64</td></tr></thead><tbody><tr><td>284806</td><td>1</td><td>&quot;2017-10-18&quot;</td><td>&quot;2017-10-20&quot;</td><td>&quot;Eric Kennedy&quot;</td><td>&quot;Male&quot;</td><td>&quot;United States&quot;</td><td>47</td><td>&quot;Online store&quot;</td><td>&quot;Contoso 512MB MP3 Player E51 S…</td><td>&quot;Silver&quot;</td><td>&quot;Contoso&quot;</td><td>&quot;Audio&quot;</td><td>&quot;MP4&amp;MP3&quot;</td><td>7</td><td>11.691</td><td>10.288</td><td>5.958</td><td>&quot;USD&quot;</td><td>1.0</td></tr></tbody></table></div>"
      ],
      "text/plain": [
       "shape: (1, 20)\n",
       "┌─────┬─────┬─────┬─────┬───┬─────┬─────┬─────┬─────┐\n",
       "│ Ord ┆ Lin ┆ Ord ┆ Del ┆ … ┆ Net ┆ Uni ┆ Cur ┆ Exc │\n",
       "│ er  ┆ e   ┆ er  ┆ ive ┆   ┆ Pri ┆ t   ┆ ren ┆ han │\n",
       "│ Num ┆ Num ┆ Dat ┆ ry  ┆   ┆ ce  ┆ Cos ┆ cy  ┆ ge  │\n",
       "│ ber ┆ ber ┆ e   ┆ Dat ┆   ┆ --- ┆ t   ┆ Cod ┆ Rat │\n",
       "│ --- ┆ --- ┆ --- ┆ e   ┆   ┆ f64 ┆ --- ┆ e   ┆ e   │\n",
       "│ i64 ┆ i64 ┆ str ┆ --- ┆   ┆     ┆ f64 ┆ --- ┆ --- │\n",
       "│     ┆     ┆     ┆ str ┆   ┆     ┆     ┆ str ┆ f64 │\n",
       "╞═════╪═════╪═════╪═════╪═══╪═════╪═════╪═════╪═════╡\n",
       "│ 284 ┆ 1   ┆ 201 ┆ 201 ┆ … ┆ 10. ┆ 5.9 ┆ USD ┆ 1.0 │\n",
       "│ 806 ┆     ┆ 7-1 ┆ 7-1 ┆   ┆ 288 ┆ 58  ┆     ┆     │\n",
       "│     ┆     ┆ 0-1 ┆ 0-2 ┆   ┆     ┆     ┆     ┆     │\n",
       "│     ┆     ┆ 8   ┆ 0   ┆   ┆     ┆     ┆     ┆     │\n",
       "└─────┴─────┴─────┴─────┴───┴─────┴─────┴─────┴─────┘"
      ]
     },
     "execution_count": 2,
     "metadata": {},
     "output_type": "execute_result"
    }
   ],
   "source": [
    "contoso_sales = pl.read_csv(\"data/ch08/contoso_sales.csv\")\n",
    "contoso_sales.head(1)"
   ]
  },
  {
   "cell_type": "markdown",
   "metadata": {},
   "source": [
    "# 레시피 37 : 집계함수 기초 "
   ]
  },
  {
   "cell_type": "code",
   "execution_count": 3,
   "metadata": {},
   "outputs": [
    {
     "data": {
      "text/html": [
       "<div><style>\n",
       ".dataframe > thead > tr,\n",
       ".dataframe > tbody > tr {\n",
       "  text-align: right;\n",
       "  white-space: pre-wrap;\n",
       "}\n",
       "</style>\n",
       "<small>shape: (1, 8)</small><table border=\"1\" class=\"dataframe\"><thead><tr><th>Order Number</th><th>Line Number</th><th>Customer Age</th><th>Quantity</th><th>Unit Price</th><th>Net Price</th><th>Unit Cost</th><th>Exchange Rate</th></tr><tr><td>i64</td><td>i64</td><td>i64</td><td>i64</td><td>f64</td><td>f64</td><td>f64</td><td>f64</td></tr></thead><tbody><tr><td>4466019052</td><td>16195</td><td>725757</td><td>43517</td><td>4.1785e6</td><td>3.9286e6</td><td>1.7356e6</td><td>14124.4597</td></tr></tbody></table></div>"
      ],
      "text/plain": [
       "shape: (1, 8)\n",
       "┌─────┬─────┬─────┬─────┬─────┬─────┬─────┬─────┐\n",
       "│ Ord ┆ Lin ┆ Cus ┆ Qua ┆ Uni ┆ Net ┆ Uni ┆ Exc │\n",
       "│ er  ┆ e   ┆ tom ┆ nti ┆ t   ┆ Pri ┆ t   ┆ han │\n",
       "│ Num ┆ Num ┆ er  ┆ ty  ┆ Pri ┆ ce  ┆ Cos ┆ ge  │\n",
       "│ ber ┆ ber ┆ Age ┆ --- ┆ ce  ┆ --- ┆ t   ┆ Rat │\n",
       "│ --- ┆ --- ┆ --- ┆ i64 ┆ --- ┆ f64 ┆ --- ┆ e   │\n",
       "│ i64 ┆ i64 ┆ i64 ┆     ┆ f64 ┆     ┆ f64 ┆ --- │\n",
       "│     ┆     ┆     ┆     ┆     ┆     ┆     ┆ f64 │\n",
       "╞═════╪═════╪═════╪═════╪═════╪═════╪═════╪═════╡\n",
       "│ 446 ┆ 161 ┆ 725 ┆ 435 ┆ 4.1 ┆ 3.9 ┆ 1.7 ┆ 141 │\n",
       "│ 601 ┆ 95  ┆ 757 ┆ 17  ┆ 785 ┆ 286 ┆ 356 ┆ 24. │\n",
       "│ 905 ┆     ┆     ┆     ┆ e6  ┆ e6  ┆ e6  ┆ 459 │\n",
       "│ 2   ┆     ┆     ┆     ┆     ┆     ┆     ┆ 7   │\n",
       "└─────┴─────┴─────┴─────┴─────┴─────┴─────┴─────┘"
      ]
     },
     "execution_count": 3,
     "metadata": {},
     "output_type": "execute_result"
    }
   ],
   "source": [
    "from polars import selectors as cs \n",
    "# 수치형 컬럼만 선택하고 합계 계산하기\n",
    "# Select numeric columns and calculate their sums\n",
    "contoso_sales.select(cs.numeric()).sum()"
   ]
  },
  {
   "cell_type": "code",
   "execution_count": 4,
   "metadata": {},
   "outputs": [
    {
     "name": "stdout",
     "output_type": "stream",
     "text": [
      "43517\n",
      "shape: (1, 1)\n",
      "┌──────────┐\n",
      "│ Quantity │\n",
      "│ ---      │\n",
      "│ i64      │\n",
      "╞══════════╡\n",
      "│ 43517    │\n",
      "└──────────┘\n"
     ]
    }
   ],
   "source": [
    "# Quantity 컬럼을 series로 변환하고 합계 계산\n",
    "# Convert Quantity column to series and calculate sum\n",
    "print(contoso_sales.get_column(\"Quantity\").sum())\n",
    "print(contoso_sales.select(pl.col(\"Quantity\")).sum())"
   ]
  },
  {
   "cell_type": "code",
   "execution_count": 10,
   "metadata": {},
   "outputs": [
    {
     "data": {
      "text/html": [
       "<div><style>\n",
       ".dataframe > thead > tr,\n",
       ".dataframe > tbody > tr {\n",
       "  text-align: right;\n",
       "  white-space: pre-wrap;\n",
       "}\n",
       "</style>\n",
       "<small>shape: (5, 2)</small><table border=\"1\" class=\"dataframe\"><thead><tr><th>Store Name</th><th>count</th></tr><tr><td>str</td><td>u32</td></tr></thead><tbody><tr><td>&quot;Contoso Store West Virginia&quot;</td><td>142</td></tr><tr><td>&quot;Contoso Store Kansas&quot;</td><td>131</td></tr><tr><td>&quot;Contoso Store Montana&quot;</td><td>106</td></tr><tr><td>&quot;Contoso Store New Brunswick&quot;</td><td>210</td></tr><tr><td>&quot;Contoso Store North Dakota&quot;</td><td>138</td></tr></tbody></table></div>"
      ],
      "text/plain": [
       "shape: (5, 2)\n",
       "┌─────────────────────────────┬───────┐\n",
       "│ Store Name                  ┆ count │\n",
       "│ ---                         ┆ ---   │\n",
       "│ str                         ┆ u32   │\n",
       "╞═════════════════════════════╪═══════╡\n",
       "│ Contoso Store West Virginia ┆ 142   │\n",
       "│ Contoso Store Kansas        ┆ 131   │\n",
       "│ Contoso Store Montana       ┆ 106   │\n",
       "│ Contoso Store New Brunswick ┆ 210   │\n",
       "│ Contoso Store North Dakota  ┆ 138   │\n",
       "└─────────────────────────────┴───────┘"
      ]
     },
     "execution_count": 10,
     "metadata": {},
     "output_type": "execute_result"
    }
   ],
   "source": [
    "# value_counts() 함수 적용\n",
    "contoso_sales.get_column(\"Store Name\").value_counts().head(5)"
   ]
  },
  {
   "cell_type": "code",
   "execution_count": 11,
   "metadata": {},
   "outputs": [
    {
     "data": {
      "text/html": [
       "<div><style>\n",
       ".dataframe > thead > tr,\n",
       ".dataframe > tbody > tr {\n",
       "  text-align: right;\n",
       "  white-space: pre-wrap;\n",
       "}\n",
       "</style>\n",
       "<small>shape: (5, 2)</small><table border=\"1\" class=\"dataframe\"><thead><tr><th>Store Name</th><th>count</th></tr><tr><td>str</td><td>u32</td></tr></thead><tbody><tr><td>&quot;Online store&quot;</td><td>8005</td></tr><tr><td>&quot;Contoso Store New Brunswick&quot;</td><td>210</td></tr><tr><td>&quot;Contoso Store Nunavut&quot;</td><td>170</td></tr><tr><td>&quot;Contoso Store Oregon&quot;</td><td>167</td></tr><tr><td>&quot;Contoso Store Maine&quot;</td><td>165</td></tr></tbody></table></div>"
      ],
      "text/plain": [
       "shape: (5, 2)\n",
       "┌─────────────────────────────┬───────┐\n",
       "│ Store Name                  ┆ count │\n",
       "│ ---                         ┆ ---   │\n",
       "│ str                         ┆ u32   │\n",
       "╞═════════════════════════════╪═══════╡\n",
       "│ Online store                ┆ 8005  │\n",
       "│ Contoso Store New Brunswick ┆ 210   │\n",
       "│ Contoso Store Nunavut       ┆ 170   │\n",
       "│ Contoso Store Oregon        ┆ 167   │\n",
       "│ Contoso Store Maine         ┆ 165   │\n",
       "└─────────────────────────────┴───────┘"
      ]
     },
     "execution_count": 11,
     "metadata": {},
     "output_type": "execute_result"
    }
   ],
   "source": [
    "# Store Name 컬럼의 값별 빈도수를 정렬하여 계산\n",
    "contoso_sales.get_column(\"Store Name\").value_counts(sort=True).head(5)"
   ]
  },
  {
   "cell_type": "code",
   "execution_count": 14,
   "metadata": {},
   "outputs": [
    {
     "data": {
      "text/html": [
       "<div><style>\n",
       ".dataframe > thead > tr,\n",
       ".dataframe > tbody > tr {\n",
       "  text-align: right;\n",
       "  white-space: pre-wrap;\n",
       "}\n",
       "</style>\n",
       "<small>shape: (5, 2)</small><table border=\"1\" class=\"dataframe\"><thead><tr><th>Store Name</th><th>proportion</th></tr><tr><td>str</td><td>f64</td></tr></thead><tbody><tr><td>&quot;Online store&quot;</td><td>0.575278</td></tr><tr><td>&quot;Contoso Store New Brunswick&quot;</td><td>0.015092</td></tr><tr><td>&quot;Contoso Store Nunavut&quot;</td><td>0.012217</td></tr><tr><td>&quot;Contoso Store Oregon&quot;</td><td>0.012001</td></tr><tr><td>&quot;Contoso Store Maine&quot;</td><td>0.011858</td></tr></tbody></table></div>"
      ],
      "text/plain": [
       "shape: (5, 2)\n",
       "┌─────────────────────────┬────────────┐\n",
       "│ Store Name              ┆ proportion │\n",
       "│ ---                     ┆ ---        │\n",
       "│ str                     ┆ f64        │\n",
       "╞═════════════════════════╪════════════╡\n",
       "│ Online store            ┆ 0.575278   │\n",
       "│ Contoso Store New       ┆ 0.015092   │\n",
       "│ Brunswick               ┆            │\n",
       "│ Contoso Store Nunavut   ┆ 0.012217   │\n",
       "│ Contoso Store Oregon    ┆ 0.012001   │\n",
       "│ Contoso Store Maine     ┆ 0.011858   │\n",
       "└─────────────────────────┴────────────┘"
      ]
     },
     "execution_count": 14,
     "metadata": {},
     "output_type": "execute_result"
    }
   ],
   "source": [
    "# 정규화된 빈도수 계산 (비율)\n",
    "contoso_sales.get_column(\"Store Name\").value_counts(sort=True, normalize=True).head(5)"
   ]
  },
  {
   "cell_type": "markdown",
   "metadata": {},
   "source": [
    "### 특정 스토어 이름으로 필터링하고 수량 합계 계산"
   ]
  },
  {
   "cell_type": "code",
   "execution_count": 8,
   "metadata": {},
   "outputs": [
    {
     "name": "stdout",
     "output_type": "stream",
     "text": [
      "Contoso Store Corse 수량 합계 (Polars):\n",
      "shape: (1, 1)\n",
      "┌──────────┐\n",
      "│ Quantity │\n",
      "│ ---      │\n",
      "│ i64      │\n",
      "╞══════════╡\n",
      "│ 56       │\n",
      "└──────────┘\n"
     ]
    }
   ],
   "source": [
    "# Polars 버전 - 스토어 이름으로 필터링하고 수량 합계 계산\n",
    "# Polars version - Filter store name and sum quantity\n",
    "store_quantity_pl = contoso_sales.filter(pl.col(\"Store Name\") == \"Contoso Store Corse\").select(\"Quantity\").sum()\n",
    "print(\"Contoso Store Corse 수량 합계 (Polars):\")\n",
    "print(store_quantity_pl)"
   ]
  },
  {
   "cell_type": "code",
   "execution_count": 9,
   "metadata": {},
   "outputs": [
    {
     "name": "stdout",
     "output_type": "stream",
     "text": [
      "Contoso Store Corse 수량 합계 (when 사용):\n",
      "shape: (1, 1)\n",
      "┌──────────┐\n",
      "│ Quantity │\n",
      "│ ---      │\n",
      "│ i64      │\n",
      "╞══════════╡\n",
      "│ 56       │\n",
      "└──────────┘\n"
     ]
    }
   ],
   "source": [
    "# Polars 버전 - when() 함수를 사용한 필터링과 수량 합계 계산 \n",
    "# Polars version - Filter using when() function and sum quantity\n",
    "store_quantity_when = contoso_sales.select(\n",
    "    pl.when(pl.col(\"Store Name\") == \"Contoso Store Corse\")\n",
    "    .then(pl.col(\"Quantity\"))\n",
    "    .otherwise(0)\n",
    "    .sum()\n",
    ")\n",
    "\n",
    "print(\"Contoso Store Corse 수량 합계 (when 사용):\")\n",
    "print(store_quantity_when)"
   ]
  },
  {
   "cell_type": "code",
   "execution_count": 10,
   "metadata": {},
   "outputs": [
    {
     "name": "stdout",
     "output_type": "stream",
     "text": [
      "\n",
      "Contoso Store Corse 수량 합계 (Pandas):\n",
      "56\n"
     ]
    }
   ],
   "source": [
    "# Pandas 버전 - Pandas로 변환하여 스토어 필터링 후 수량 합계 계산\n",
    "# Pandas version - Convert to pandas, filter store and sum quantity\n",
    "import pandas as pd\n",
    "contoso_sales_pd = contoso_sales.to_pandas()\n",
    "store_quantity_pd = contoso_sales_pd[contoso_sales_pd[\"Store Name\"] == \"Contoso Store Corse\"][\"Quantity\"].sum()\n",
    "print(\"\\nContoso Store Corse 수량 합계 (Pandas):\")\n",
    "print(store_quantity_pd)"
   ]
  },
  {
   "cell_type": "markdown",
   "metadata": {},
   "source": [
    "# 레시피 38 : polars vs pandas 데이터 변환 비교"
   ]
  },
  {
   "cell_type": "markdown",
   "metadata": {},
   "source": [
    "## 데이터 조회"
   ]
  },
  {
   "cell_type": "code",
   "execution_count": 5,
   "metadata": {},
   "outputs": [
    {
     "data": {
      "text/html": [
       "<div><style>\n",
       ".dataframe > thead > tr,\n",
       ".dataframe > tbody > tr {\n",
       "  text-align: right;\n",
       "  white-space: pre-wrap;\n",
       "}\n",
       "</style>\n",
       "<small>shape: (1, 20)</small><table border=\"1\" class=\"dataframe\"><thead><tr><th>Order Number</th><th>Line Number</th><th>Order Date</th><th>Delivery Date</th><th>Customer Name</th><th>Customer Gender</th><th>Customer Country</th><th>Customer Age</th><th>Store Name</th><th>Product Name</th><th>Color</th><th>Brand</th><th>Category</th><th>Subcategory</th><th>Quantity</th><th>Unit Price</th><th>Net Price</th><th>Unit Cost</th><th>Currency Code</th><th>Exchange Rate</th></tr><tr><td>i64</td><td>i64</td><td>str</td><td>str</td><td>str</td><td>str</td><td>str</td><td>i64</td><td>str</td><td>str</td><td>str</td><td>str</td><td>str</td><td>str</td><td>i64</td><td>f64</td><td>f64</td><td>f64</td><td>str</td><td>f64</td></tr></thead><tbody><tr><td>284806</td><td>1</td><td>&quot;2017-10-18&quot;</td><td>&quot;2017-10-20&quot;</td><td>&quot;Eric Kennedy&quot;</td><td>&quot;Male&quot;</td><td>&quot;United States&quot;</td><td>47</td><td>&quot;Online store&quot;</td><td>&quot;Contoso 512MB MP3 Player E51 S…</td><td>&quot;Silver&quot;</td><td>&quot;Contoso&quot;</td><td>&quot;Audio&quot;</td><td>&quot;MP4&amp;MP3&quot;</td><td>7</td><td>11.691</td><td>10.288</td><td>5.958</td><td>&quot;USD&quot;</td><td>1.0</td></tr></tbody></table></div>"
      ],
      "text/plain": [
       "shape: (1, 20)\n",
       "┌─────┬─────┬─────┬─────┬───┬─────┬─────┬─────┬─────┐\n",
       "│ Ord ┆ Lin ┆ Ord ┆ Del ┆ … ┆ Net ┆ Uni ┆ Cur ┆ Exc │\n",
       "│ er  ┆ e   ┆ er  ┆ ive ┆   ┆ Pri ┆ t   ┆ ren ┆ han │\n",
       "│ Num ┆ Num ┆ Dat ┆ ry  ┆   ┆ ce  ┆ Cos ┆ cy  ┆ ge  │\n",
       "│ ber ┆ ber ┆ e   ┆ Dat ┆   ┆ --- ┆ t   ┆ Cod ┆ Rat │\n",
       "│ --- ┆ --- ┆ --- ┆ e   ┆   ┆ f64 ┆ --- ┆ e   ┆ e   │\n",
       "│ i64 ┆ i64 ┆ str ┆ --- ┆   ┆     ┆ f64 ┆ --- ┆ --- │\n",
       "│     ┆     ┆     ┆ str ┆   ┆     ┆     ┆ str ┆ f64 │\n",
       "╞═════╪═════╪═════╪═════╪═══╪═════╪═════╪═════╪═════╡\n",
       "│ 284 ┆ 1   ┆ 201 ┆ 201 ┆ … ┆ 10. ┆ 5.9 ┆ USD ┆ 1.0 │\n",
       "│ 806 ┆     ┆ 7-1 ┆ 7-1 ┆   ┆ 288 ┆ 58  ┆     ┆     │\n",
       "│     ┆     ┆ 0-1 ┆ 0-2 ┆   ┆     ┆     ┆     ┆     │\n",
       "│     ┆     ┆ 8   ┆ 0   ┆   ┆     ┆     ┆     ┆     │\n",
       "└─────┴─────┴─────┴─────┴───┴─────┴─────┴─────┴─────┘"
      ]
     },
     "execution_count": 5,
     "metadata": {},
     "output_type": "execute_result"
    }
   ],
   "source": [
    "import polars as pl \n",
    "contoso_sales = pl.read_csv(\"data/ch08/contoso_sales.csv\")\n",
    "contoso_sales.head(1)"
   ]
  },
  {
   "cell_type": "markdown",
   "metadata": {},
   "source": [
    "### polars 버전"
   ]
  },
  {
   "cell_type": "code",
   "execution_count": 6,
   "metadata": {},
   "outputs": [
    {
     "name": "stdout",
     "output_type": "stream",
     "text": [
      "\n",
      "Polars select를 활용한 데이터 조회:\n"
     ]
    },
    {
     "data": {
      "text/html": [
       "<div><style>\n",
       ".dataframe > thead > tr,\n",
       ".dataframe > tbody > tr {\n",
       "  text-align: right;\n",
       "  white-space: pre-wrap;\n",
       "}\n",
       "</style>\n",
       "<small>shape: (1, 3)</small><table border=\"1\" class=\"dataframe\"><thead><tr><th>Store Name</th><th>Quantity</th><th>Net Price</th></tr><tr><td>str</td><td>i64</td><td>f64</td></tr></thead><tbody><tr><td>&quot;Online store&quot;</td><td>7</td><td>10.288</td></tr></tbody></table></div>"
      ],
      "text/plain": [
       "shape: (1, 3)\n",
       "┌──────────────┬──────────┬───────────┐\n",
       "│ Store Name   ┆ Quantity ┆ Net Price │\n",
       "│ ---          ┆ ---      ┆ ---       │\n",
       "│ str          ┆ i64      ┆ f64       │\n",
       "╞══════════════╪══════════╪═══════════╡\n",
       "│ Online store ┆ 7        ┆ 10.288    │\n",
       "└──────────────┴──────────┴───────────┘"
      ]
     },
     "execution_count": 6,
     "metadata": {},
     "output_type": "execute_result"
    }
   ],
   "source": [
    "# Data processing using Polars\n",
    "print(\"\\nPolars select를 활용한 데이터 조회:\")\n",
    "contoso_sales.select([\"Store Name\", \"Quantity\", \"Net Price\"]).head(1)"
   ]
  },
  {
   "cell_type": "markdown",
   "metadata": {},
   "source": [
    "### pandas 버전"
   ]
  },
  {
   "cell_type": "code",
   "execution_count": 10,
   "metadata": {},
   "outputs": [
    {
     "name": "stdout",
     "output_type": "stream",
     "text": [
      "\n",
      "Pandas loc를 활용한 데이터 조회:\n"
     ]
    },
    {
     "data": {
      "text/html": [
       "<div>\n",
       "<style scoped>\n",
       "    .dataframe tbody tr th:only-of-type {\n",
       "        vertical-align: middle;\n",
       "    }\n",
       "\n",
       "    .dataframe tbody tr th {\n",
       "        vertical-align: top;\n",
       "    }\n",
       "\n",
       "    .dataframe thead th {\n",
       "        text-align: right;\n",
       "    }\n",
       "</style>\n",
       "<table border=\"1\" class=\"dataframe\">\n",
       "  <thead>\n",
       "    <tr style=\"text-align: right;\">\n",
       "      <th></th>\n",
       "      <th>Store Name</th>\n",
       "      <th>Quantity</th>\n",
       "      <th>Net Price</th>\n",
       "    </tr>\n",
       "  </thead>\n",
       "  <tbody>\n",
       "    <tr>\n",
       "      <th>0</th>\n",
       "      <td>Online store</td>\n",
       "      <td>7</td>\n",
       "      <td>10.288</td>\n",
       "    </tr>\n",
       "  </tbody>\n",
       "</table>\n",
       "</div>"
      ],
      "text/plain": [
       "     Store Name  Quantity  Net Price\n",
       "0  Online store         7     10.288"
      ]
     },
     "execution_count": 10,
     "metadata": {},
     "output_type": "execute_result"
    }
   ],
   "source": [
    "# Pandas loc를 활용한 데이터 처리\n",
    "# Data processing using pandas loc\n",
    "contoso_sales_pd = contoso_sales.to_pandas()\n",
    "\n",
    "print(\"\\nPandas loc를 활용한 데이터 조회:\")\n",
    "contoso_sales_pd.loc[:, [\"Store Name\", \"Quantity\", \"Net Price\"]].head(1)"
   ]
  },
  {
   "cell_type": "markdown",
   "metadata": {},
   "source": [
    "## 특정 조건 데이터 필터링"
   ]
  },
  {
   "cell_type": "markdown",
   "metadata": {},
   "source": [
    "### polars 버전"
   ]
  },
  {
   "cell_type": "code",
   "execution_count": 11,
   "metadata": {},
   "outputs": [
    {
     "name": "stdout",
     "output_type": "stream",
     "text": [
      "\n",
      "특정 스토어 데이터:\n"
     ]
    },
    {
     "data": {
      "text/html": [
       "<div><style>\n",
       ".dataframe > thead > tr,\n",
       ".dataframe > tbody > tr {\n",
       "  text-align: right;\n",
       "  white-space: pre-wrap;\n",
       "}\n",
       "</style>\n",
       "<small>shape: (1, 20)</small><table border=\"1\" class=\"dataframe\"><thead><tr><th>Order Number</th><th>Line Number</th><th>Order Date</th><th>Delivery Date</th><th>Customer Name</th><th>Customer Gender</th><th>Customer Country</th><th>Customer Age</th><th>Store Name</th><th>Product Name</th><th>Color</th><th>Brand</th><th>Category</th><th>Subcategory</th><th>Quantity</th><th>Unit Price</th><th>Net Price</th><th>Unit Cost</th><th>Currency Code</th><th>Exchange Rate</th></tr><tr><td>i64</td><td>i64</td><td>str</td><td>str</td><td>str</td><td>str</td><td>str</td><td>i64</td><td>str</td><td>str</td><td>str</td><td>str</td><td>str</td><td>str</td><td>i64</td><td>f64</td><td>f64</td><td>f64</td><td>str</td><td>f64</td></tr></thead><tbody><tr><td>357705</td><td>0</td><td>&quot;2019-10-17&quot;</td><td>&quot;2019-10-17&quot;</td><td>&quot;Tabor Daigneault&quot;</td><td>&quot;Male&quot;</td><td>&quot;France&quot;</td><td>35</td><td>&quot;Contoso Store Corse&quot;</td><td>&quot;Contoso 16GB Mp5 Player M1600 …</td><td>&quot;White&quot;</td><td>&quot;Contoso&quot;</td><td>&quot;Audio&quot;</td><td>&quot;MP4&amp;MP3&quot;</td><td>1</td><td>199.9</td><td>173.913</td><td>91.93</td><td>&quot;EUR&quot;</td><td>0.8998</td></tr></tbody></table></div>"
      ],
      "text/plain": [
       "shape: (1, 20)\n",
       "┌─────┬─────┬─────┬─────┬───┬─────┬─────┬─────┬─────┐\n",
       "│ Ord ┆ Lin ┆ Ord ┆ Del ┆ … ┆ Net ┆ Uni ┆ Cur ┆ Exc │\n",
       "│ er  ┆ e   ┆ er  ┆ ive ┆   ┆ Pri ┆ t   ┆ ren ┆ han │\n",
       "│ Num ┆ Num ┆ Dat ┆ ry  ┆   ┆ ce  ┆ Cos ┆ cy  ┆ ge  │\n",
       "│ ber ┆ ber ┆ e   ┆ Dat ┆   ┆ --- ┆ t   ┆ Cod ┆ Rat │\n",
       "│ --- ┆ --- ┆ --- ┆ e   ┆   ┆ f64 ┆ --- ┆ e   ┆ e   │\n",
       "│ i64 ┆ i64 ┆ str ┆ --- ┆   ┆     ┆ f64 ┆ --- ┆ --- │\n",
       "│     ┆     ┆     ┆ str ┆   ┆     ┆     ┆ str ┆ f64 │\n",
       "╞═════╪═════╪═════╪═════╪═══╪═════╪═════╪═════╪═════╡\n",
       "│ 357 ┆ 0   ┆ 201 ┆ 201 ┆ … ┆ 173 ┆ 91. ┆ EUR ┆ 0.8 │\n",
       "│ 705 ┆     ┆ 9-1 ┆ 9-1 ┆   ┆ .91 ┆ 93  ┆     ┆ 998 │\n",
       "│     ┆     ┆ 0-1 ┆ 0-1 ┆   ┆ 3   ┆     ┆     ┆     │\n",
       "│     ┆     ┆ 7   ┆ 7   ┆   ┆     ┆     ┆     ┆     │\n",
       "└─────┴─────┴─────┴─────┴───┴─────┴─────┴─────┴─────┘"
      ]
     },
     "execution_count": 11,
     "metadata": {},
     "output_type": "execute_result"
    }
   ],
   "source": [
    "# 특정 조건의 데이터 필터링 \n",
    "filtered_data_pl = contoso_sales.filter(pl.col(\"Store Name\") == \"Contoso Store Corse\")\n",
    "print(\"\\n특정 스토어 데이터:\")\n",
    "filtered_data_pl.head(1)"
   ]
  },
  {
   "cell_type": "markdown",
   "metadata": {},
   "source": [
    "### pandas 버전"
   ]
  },
  {
   "cell_type": "code",
   "execution_count": 14,
   "metadata": {},
   "outputs": [
    {
     "name": "stdout",
     "output_type": "stream",
     "text": [
      "\n",
      "특정 스토어 데이터:\n"
     ]
    },
    {
     "data": {
      "text/html": [
       "<div>\n",
       "<style scoped>\n",
       "    .dataframe tbody tr th:only-of-type {\n",
       "        vertical-align: middle;\n",
       "    }\n",
       "\n",
       "    .dataframe tbody tr th {\n",
       "        vertical-align: top;\n",
       "    }\n",
       "\n",
       "    .dataframe thead th {\n",
       "        text-align: right;\n",
       "    }\n",
       "</style>\n",
       "<table border=\"1\" class=\"dataframe\">\n",
       "  <thead>\n",
       "    <tr style=\"text-align: right;\">\n",
       "      <th></th>\n",
       "      <th>Order Number</th>\n",
       "      <th>Line Number</th>\n",
       "      <th>Order Date</th>\n",
       "      <th>Delivery Date</th>\n",
       "      <th>Customer Name</th>\n",
       "      <th>Customer Gender</th>\n",
       "      <th>Customer Country</th>\n",
       "      <th>Customer Age</th>\n",
       "      <th>Store Name</th>\n",
       "      <th>Product Name</th>\n",
       "      <th>Color</th>\n",
       "      <th>Brand</th>\n",
       "      <th>Category</th>\n",
       "      <th>Subcategory</th>\n",
       "      <th>Quantity</th>\n",
       "      <th>Unit Price</th>\n",
       "      <th>Net Price</th>\n",
       "      <th>Unit Cost</th>\n",
       "      <th>Currency Code</th>\n",
       "      <th>Exchange Rate</th>\n",
       "    </tr>\n",
       "  </thead>\n",
       "  <tbody>\n",
       "    <tr>\n",
       "      <th>68</th>\n",
       "      <td>357705</td>\n",
       "      <td>0</td>\n",
       "      <td>2019-10-17</td>\n",
       "      <td>2019-10-17</td>\n",
       "      <td>Tabor Daigneault</td>\n",
       "      <td>Male</td>\n",
       "      <td>France</td>\n",
       "      <td>35</td>\n",
       "      <td>Contoso Store Corse</td>\n",
       "      <td>Contoso 16GB Mp5 Player M1600 White</td>\n",
       "      <td>White</td>\n",
       "      <td>Contoso</td>\n",
       "      <td>Audio</td>\n",
       "      <td>MP4&amp;MP3</td>\n",
       "      <td>1</td>\n",
       "      <td>199.9</td>\n",
       "      <td>173.913</td>\n",
       "      <td>91.93</td>\n",
       "      <td>EUR</td>\n",
       "      <td>0.8998</td>\n",
       "    </tr>\n",
       "  </tbody>\n",
       "</table>\n",
       "</div>"
      ],
      "text/plain": [
       "    Order Number  Line Number  Order Date Delivery Date     Customer Name  \\\n",
       "68        357705            0  2019-10-17    2019-10-17  Tabor Daigneault   \n",
       "\n",
       "   Customer Gender Customer Country  Customer Age           Store Name  \\\n",
       "68            Male           France            35  Contoso Store Corse   \n",
       "\n",
       "                           Product Name  Color    Brand Category Subcategory  \\\n",
       "68  Contoso 16GB Mp5 Player M1600 White  White  Contoso    Audio     MP4&MP3   \n",
       "\n",
       "    Quantity  Unit Price  Net Price  Unit Cost Currency Code  Exchange Rate  \n",
       "68         1       199.9    173.913      91.93           EUR         0.8998  "
      ]
     },
     "execution_count": 14,
     "metadata": {},
     "output_type": "execute_result"
    }
   ],
   "source": [
    "# 특정 조건의 데이터 필터링\n",
    "filtered_data = contoso_sales_pd.loc[contoso_sales_pd[\"Store Name\"] == \"Contoso Store Corse\"]\n",
    "print(\"\\n특정 스토어 데이터:\")\n",
    "filtered_data.head(1)"
   ]
  },
  {
   "cell_type": "markdown",
   "metadata": {},
   "source": [
    "## 다중조건을 활용한 데이터 필터링 "
   ]
  },
  {
   "cell_type": "markdown",
   "metadata": {},
   "source": [
    "### polars 버전"
   ]
  },
  {
   "cell_type": "code",
   "execution_count": 15,
   "metadata": {},
   "outputs": [
    {
     "name": "stdout",
     "output_type": "stream",
     "text": [
      "\n",
      "다중 조건 필터링 결과:\n"
     ]
    },
    {
     "data": {
      "text/html": [
       "<div><style>\n",
       ".dataframe > thead > tr,\n",
       ".dataframe > tbody > tr {\n",
       "  text-align: right;\n",
       "  white-space: pre-wrap;\n",
       "}\n",
       "</style>\n",
       "<small>shape: (1, 20)</small><table border=\"1\" class=\"dataframe\"><thead><tr><th>Order Number</th><th>Line Number</th><th>Order Date</th><th>Delivery Date</th><th>Customer Name</th><th>Customer Gender</th><th>Customer Country</th><th>Customer Age</th><th>Store Name</th><th>Product Name</th><th>Color</th><th>Brand</th><th>Category</th><th>Subcategory</th><th>Quantity</th><th>Unit Price</th><th>Net Price</th><th>Unit Cost</th><th>Currency Code</th><th>Exchange Rate</th></tr><tr><td>i64</td><td>i64</td><td>str</td><td>str</td><td>str</td><td>str</td><td>str</td><td>i64</td><td>str</td><td>str</td><td>str</td><td>str</td><td>str</td><td>str</td><td>i64</td><td>f64</td><td>f64</td><td>f64</td><td>str</td><td>f64</td></tr></thead><tbody><tr><td>349303</td><td>0</td><td>&quot;2019-07-25&quot;</td><td>&quot;2019-07-25&quot;</td><td>&quot;Fanette Robitaille&quot;</td><td>&quot;Female&quot;</td><td>&quot;France&quot;</td><td>41</td><td>&quot;Contoso Store Corse&quot;</td><td>&quot;Adventure Works Desktop PC1.80…</td><td>&quot;White&quot;</td><td>&quot;Adventure Works&quot;</td><td>&quot;Computers&quot;</td><td>&quot;Desktops&quot;</td><td>2</td><td>499.9</td><td>439.912</td><td>254.86</td><td>&quot;EUR&quot;</td><td>0.8997</td></tr></tbody></table></div>"
      ],
      "text/plain": [
       "shape: (1, 20)\n",
       "┌─────┬─────┬─────┬─────┬───┬─────┬─────┬─────┬─────┐\n",
       "│ Ord ┆ Lin ┆ Ord ┆ Del ┆ … ┆ Net ┆ Uni ┆ Cur ┆ Exc │\n",
       "│ er  ┆ e   ┆ er  ┆ ive ┆   ┆ Pri ┆ t   ┆ ren ┆ han │\n",
       "│ Num ┆ Num ┆ Dat ┆ ry  ┆   ┆ ce  ┆ Cos ┆ cy  ┆ ge  │\n",
       "│ ber ┆ ber ┆ e   ┆ Dat ┆   ┆ --- ┆ t   ┆ Cod ┆ Rat │\n",
       "│ --- ┆ --- ┆ --- ┆ e   ┆   ┆ f64 ┆ --- ┆ e   ┆ e   │\n",
       "│ i64 ┆ i64 ┆ str ┆ --- ┆   ┆     ┆ f64 ┆ --- ┆ --- │\n",
       "│     ┆     ┆     ┆ str ┆   ┆     ┆     ┆ str ┆ f64 │\n",
       "╞═════╪═════╪═════╪═════╪═══╪═════╪═════╪═════╪═════╡\n",
       "│ 349 ┆ 0   ┆ 201 ┆ 201 ┆ … ┆ 439 ┆ 254 ┆ EUR ┆ 0.8 │\n",
       "│ 303 ┆     ┆ 9-0 ┆ 9-0 ┆   ┆ .91 ┆ .86 ┆     ┆ 997 │\n",
       "│     ┆     ┆ 7-2 ┆ 7-2 ┆   ┆ 2   ┆     ┆     ┆     │\n",
       "│     ┆     ┆ 5   ┆ 5   ┆   ┆     ┆     ┆     ┆     │\n",
       "└─────┴─────┴─────┴─────┴───┴─────┴─────┴─────┴─────┘"
      ]
     },
     "execution_count": 15,
     "metadata": {},
     "output_type": "execute_result"
    }
   ],
   "source": [
    "# 다중 조건을 활용한 데이터 필터링\n",
    "multi_condition_pl = contoso_sales.filter(\n",
    "    (pl.col(\"Store Name\") == \"Contoso Store Corse\") & \n",
    "    (pl.col(\"Net Price\") > 400)\n",
    ")\n",
    "print(\"\\n다중 조건 필터링 결과:\")\n",
    "multi_condition_pl.head(1)"
   ]
  },
  {
   "cell_type": "markdown",
   "metadata": {},
   "source": [
    "### pandas 버전"
   ]
  },
  {
   "cell_type": "code",
   "execution_count": 17,
   "metadata": {},
   "outputs": [
    {
     "name": "stdout",
     "output_type": "stream",
     "text": [
      "\n",
      "다중 조건 필터링 결과:\n"
     ]
    },
    {
     "data": {
      "text/html": [
       "<div>\n",
       "<style scoped>\n",
       "    .dataframe tbody tr th:only-of-type {\n",
       "        vertical-align: middle;\n",
       "    }\n",
       "\n",
       "    .dataframe tbody tr th {\n",
       "        vertical-align: top;\n",
       "    }\n",
       "\n",
       "    .dataframe thead th {\n",
       "        text-align: right;\n",
       "    }\n",
       "</style>\n",
       "<table border=\"1\" class=\"dataframe\">\n",
       "  <thead>\n",
       "    <tr style=\"text-align: right;\">\n",
       "      <th></th>\n",
       "      <th>Order Number</th>\n",
       "      <th>Line Number</th>\n",
       "      <th>Order Date</th>\n",
       "      <th>Delivery Date</th>\n",
       "      <th>Customer Name</th>\n",
       "      <th>Customer Gender</th>\n",
       "      <th>Customer Country</th>\n",
       "      <th>Customer Age</th>\n",
       "      <th>Store Name</th>\n",
       "      <th>Product Name</th>\n",
       "      <th>Color</th>\n",
       "      <th>Brand</th>\n",
       "      <th>Category</th>\n",
       "      <th>Subcategory</th>\n",
       "      <th>Quantity</th>\n",
       "      <th>Unit Price</th>\n",
       "      <th>Net Price</th>\n",
       "      <th>Unit Cost</th>\n",
       "      <th>Currency Code</th>\n",
       "      <th>Exchange Rate</th>\n",
       "    </tr>\n",
       "  </thead>\n",
       "  <tbody>\n",
       "    <tr>\n",
       "      <th>2634</th>\n",
       "      <td>349303</td>\n",
       "      <td>0</td>\n",
       "      <td>2019-07-25</td>\n",
       "      <td>2019-07-25</td>\n",
       "      <td>Fanette Robitaille</td>\n",
       "      <td>Female</td>\n",
       "      <td>France</td>\n",
       "      <td>41</td>\n",
       "      <td>Contoso Store Corse</td>\n",
       "      <td>Adventure Works Desktop PC1.80 ED182 White</td>\n",
       "      <td>White</td>\n",
       "      <td>Adventure Works</td>\n",
       "      <td>Computers</td>\n",
       "      <td>Desktops</td>\n",
       "      <td>2</td>\n",
       "      <td>499.9</td>\n",
       "      <td>439.912</td>\n",
       "      <td>254.86</td>\n",
       "      <td>EUR</td>\n",
       "      <td>0.8997</td>\n",
       "    </tr>\n",
       "  </tbody>\n",
       "</table>\n",
       "</div>"
      ],
      "text/plain": [
       "      Order Number  Line Number  Order Date Delivery Date       Customer Name  \\\n",
       "2634        349303            0  2019-07-25    2019-07-25  Fanette Robitaille   \n",
       "\n",
       "     Customer Gender Customer Country  Customer Age           Store Name  \\\n",
       "2634          Female           France            41  Contoso Store Corse   \n",
       "\n",
       "                                    Product Name  Color            Brand  \\\n",
       "2634  Adventure Works Desktop PC1.80 ED182 White  White  Adventure Works   \n",
       "\n",
       "       Category Subcategory  Quantity  Unit Price  Net Price  Unit Cost  \\\n",
       "2634  Computers    Desktops         2       499.9    439.912     254.86   \n",
       "\n",
       "     Currency Code  Exchange Rate  \n",
       "2634           EUR         0.8997  "
      ]
     },
     "execution_count": 17,
     "metadata": {},
     "output_type": "execute_result"
    }
   ],
   "source": [
    "# 다중 조건을 활용한 데이터 필터링\n",
    "multi_condition = contoso_sales_pd.loc[\n",
    "    (contoso_sales_pd[\"Store Name\"] == \"Contoso Store Corse\") & \n",
    "    (contoso_sales_pd[\"Net Price\"] > 400)\n",
    "]\n",
    "print(\"\\n다중 조건 필터링 결과:\")\n",
    "multi_condition.head(1)"
   ]
  },
  {
   "cell_type": "markdown",
   "metadata": {},
   "source": [
    "# Group By 연산"
   ]
  },
  {
   "cell_type": "code",
   "execution_count": 2,
   "metadata": {},
   "outputs": [],
   "source": [
    "import polars as pl\n",
    "contoso_sales = pl.read_csv(\"data/ch08/contoso_sales.csv\")"
   ]
  },
  {
   "cell_type": "markdown",
   "metadata": {},
   "source": [
    "## 레시피 39 : Store별 판매 수량과 매출액 집계"
   ]
  },
  {
   "cell_type": "markdown",
   "metadata": {},
   "source": [
    "### polars 버전"
   ]
  },
  {
   "cell_type": "code",
   "execution_count": 3,
   "metadata": {},
   "outputs": [
    {
     "name": "stdout",
     "output_type": "stream",
     "text": [
      "스토어별 판매 현황:\n"
     ]
    },
    {
     "data": {
      "text/html": [
       "<div><style>\n",
       ".dataframe > thead > tr,\n",
       ".dataframe > tbody > tr {\n",
       "  text-align: right;\n",
       "  white-space: pre-wrap;\n",
       "}\n",
       "</style>\n",
       "<small>shape: (2, 3)</small><table border=\"1\" class=\"dataframe\"><thead><tr><th>Store Name</th><th>Total Quantity</th><th>Total Net Sales</th></tr><tr><td>str</td><td>i64</td><td>f64</td></tr></thead><tbody><tr><td>&quot;Online store&quot;</td><td>25017</td><td>2.2624e6</td></tr><tr><td>&quot;Contoso Store New Brunswick&quot;</td><td>631</td><td>63170.8342</td></tr></tbody></table></div>"
      ],
      "text/plain": [
       "shape: (2, 3)\n",
       "┌────────────┬────────────┬────────────┐\n",
       "│ Store Name ┆ Total      ┆ Total Net  │\n",
       "│ ---        ┆ Quantity   ┆ Sales      │\n",
       "│ str        ┆ ---        ┆ ---        │\n",
       "│            ┆ i64        ┆ f64        │\n",
       "╞════════════╪════════════╪════════════╡\n",
       "│ Online     ┆ 25017      ┆ 2.2624e6   │\n",
       "│ store      ┆            ┆            │\n",
       "│ Contoso    ┆ 631        ┆ 63170.8342 │\n",
       "│ Store New  ┆            ┆            │\n",
       "│ Brunswick  ┆            ┆            │\n",
       "└────────────┴────────────┴────────────┘"
      ]
     },
     "execution_count": 3,
     "metadata": {},
     "output_type": "execute_result"
    }
   ],
   "source": [
    "# Store별 판매 수량과 순 매출액 집계\n",
    "store_summary = contoso_sales.group_by(\"Store Name\").agg([\n",
    "    pl.col(\"Quantity\").sum().alias(\"Total Quantity\"),\n",
    "    pl.col(\"Net Price\").sum().alias(\"Total Net Sales\")\n",
    "]).sort(\"Total Quantity\", descending=True)\n",
    "\n",
    "print(\"스토어별 판매 현황:\")\n",
    "store_summary.head(2)"
   ]
  },
  {
   "cell_type": "markdown",
   "metadata": {},
   "source": [
    "### pandas 버전"
   ]
  },
  {
   "cell_type": "code",
   "execution_count": 4,
   "metadata": {},
   "outputs": [
    {
     "name": "stdout",
     "output_type": "stream",
     "text": [
      "스토어별 판매 현황:\n"
     ]
    },
    {
     "data": {
      "text/html": [
       "<div>\n",
       "<style scoped>\n",
       "    .dataframe tbody tr th:only-of-type {\n",
       "        vertical-align: middle;\n",
       "    }\n",
       "\n",
       "    .dataframe tbody tr th {\n",
       "        vertical-align: top;\n",
       "    }\n",
       "\n",
       "    .dataframe thead th {\n",
       "        text-align: right;\n",
       "    }\n",
       "</style>\n",
       "<table border=\"1\" class=\"dataframe\">\n",
       "  <thead>\n",
       "    <tr style=\"text-align: right;\">\n",
       "      <th></th>\n",
       "      <th>Total Quantity</th>\n",
       "      <th>Total Net Sales</th>\n",
       "    </tr>\n",
       "    <tr>\n",
       "      <th>Store Name</th>\n",
       "      <th></th>\n",
       "      <th></th>\n",
       "    </tr>\n",
       "  </thead>\n",
       "  <tbody>\n",
       "    <tr>\n",
       "      <th>Online store</th>\n",
       "      <td>25017</td>\n",
       "      <td>2.262381e+06</td>\n",
       "    </tr>\n",
       "    <tr>\n",
       "      <th>Contoso Store New Brunswick</th>\n",
       "      <td>631</td>\n",
       "      <td>6.317083e+04</td>\n",
       "    </tr>\n",
       "  </tbody>\n",
       "</table>\n",
       "</div>"
      ],
      "text/plain": [
       "                             Total Quantity  Total Net Sales\n",
       "Store Name                                                  \n",
       "Online store                          25017     2.262381e+06\n",
       "Contoso Store New Brunswick             631     6.317083e+04"
      ]
     },
     "execution_count": 4,
     "metadata": {},
     "output_type": "execute_result"
    }
   ],
   "source": [
    "# Store별 판매 수량과 순 매출액 집계 - pandas 버전\n",
    "contoso_sales_pandas = contoso_sales.to_pandas()\n",
    "store_summary_pandas = contoso_sales_pandas.groupby(\"Store Name\").agg({\n",
    "    \"Quantity\": \"sum\",\n",
    "    \"Net Price\": \"sum\"\n",
    "}).rename(columns={\n",
    "    \"Quantity\": \"Total Quantity\",\n",
    "    \"Net Price\": \"Total Net Sales\"\n",
    "}).sort_values(\"Total Quantity\", ascending=False)\n",
    "\n",
    "print(\"스토어별 판매 현황:\")\n",
    "store_summary_pandas.head(2)"
   ]
  },
  {
   "cell_type": "markdown",
   "metadata": {},
   "source": [
    "## 레시피 40 : 스토어-제품별 상세 현황"
   ]
  },
  {
   "cell_type": "markdown",
   "metadata": {},
   "source": [
    "### polars 버전"
   ]
  },
  {
   "cell_type": "code",
   "execution_count": 5,
   "metadata": {},
   "outputs": [
    {
     "name": "stdout",
     "output_type": "stream",
     "text": [
      "\n",
      "스토어-제품별 상세 현황:\n"
     ]
    },
    {
     "data": {
      "text/html": [
       "<div><style>\n",
       ".dataframe > thead > tr,\n",
       ".dataframe > tbody > tr {\n",
       "  text-align: right;\n",
       "  white-space: pre-wrap;\n",
       "}\n",
       "</style>\n",
       "<small>shape: (5, 5)</small><table border=\"1\" class=\"dataframe\"><thead><tr><th>Store Name</th><th>Product Name</th><th>Total Quantity</th><th>Number of Orders</th><th>Avg Net Price</th></tr><tr><td>str</td><td>str</td><td>i64</td><td>u32</td><td>f64</td></tr></thead><tbody><tr><td>&quot;Online store&quot;</td><td>&quot;Contoso DVD Recorder L210 Silv…</td><td>112</td><td>28</td><td>215.503821</td></tr><tr><td>&quot;Online store&quot;</td><td>&quot;WWI Desktop PC3.0 M0300 Silver&quot;</td><td>111</td><td>23</td><td>373.733478</td></tr><tr><td>&quot;Online store&quot;</td><td>&quot;Adventure Works Desktop PC1.60…</td><td>90</td><td>24</td><td>293.964296</td></tr><tr><td>&quot;Online store&quot;</td><td>&quot;SV DVD External DVD Burner M20…</td><td>84</td><td>21</td><td>57.26261</td></tr><tr><td>&quot;Online store&quot;</td><td>&quot;Contoso DVD 48 DVD Storage Bin…</td><td>83</td><td>25</td><td>17.366824</td></tr></tbody></table></div>"
      ],
      "text/plain": [
       "shape: (5, 5)\n",
       "┌─────┬────────┬───────┬───────┬───────┐\n",
       "│ Sto ┆ Produc ┆ Total ┆ Numbe ┆ Avg   │\n",
       "│ re  ┆ t Name ┆ Quant ┆ r of  ┆ Net   │\n",
       "│ Nam ┆ ---    ┆ ity   ┆ Order ┆ Price │\n",
       "│ e   ┆ str    ┆ ---   ┆ s     ┆ ---   │\n",
       "│ --- ┆        ┆ i64   ┆ ---   ┆ f64   │\n",
       "│ str ┆        ┆       ┆ u32   ┆       │\n",
       "╞═════╪════════╪═══════╪═══════╪═══════╡\n",
       "│ Onl ┆ Contos ┆ 112   ┆ 28    ┆ 215.5 │\n",
       "│ ine ┆ o DVD  ┆       ┆       ┆ 03821 │\n",
       "│ sto ┆ Record ┆       ┆       ┆       │\n",
       "│ re  ┆ er     ┆       ┆       ┆       │\n",
       "│     ┆ L210   ┆       ┆       ┆       │\n",
       "│     ┆ Silv…  ┆       ┆       ┆       │\n",
       "│ Onl ┆ WWI    ┆ 111   ┆ 23    ┆ 373.7 │\n",
       "│ ine ┆ Deskto ┆       ┆       ┆ 33478 │\n",
       "│ sto ┆ p      ┆       ┆       ┆       │\n",
       "│ re  ┆ PC3.0  ┆       ┆       ┆       │\n",
       "│     ┆ M0300  ┆       ┆       ┆       │\n",
       "│     ┆ Silver ┆       ┆       ┆       │\n",
       "│ Onl ┆ Advent ┆ 90    ┆ 24    ┆ 293.9 │\n",
       "│ ine ┆ ure    ┆       ┆       ┆ 64296 │\n",
       "│ sto ┆ Works  ┆       ┆       ┆       │\n",
       "│ re  ┆ Deskto ┆       ┆       ┆       │\n",
       "│     ┆ p PC1. ┆       ┆       ┆       │\n",
       "│     ┆ 60…    ┆       ┆       ┆       │\n",
       "│ Onl ┆ SV DVD ┆ 84    ┆ 21    ┆ 57.26 │\n",
       "│ ine ┆ Extern ┆       ┆       ┆ 261   │\n",
       "│ sto ┆ al DVD ┆       ┆       ┆       │\n",
       "│ re  ┆ Burner ┆       ┆       ┆       │\n",
       "│     ┆ M20…   ┆       ┆       ┆       │\n",
       "│ Onl ┆ Contos ┆ 83    ┆ 25    ┆ 17.36 │\n",
       "│ ine ┆ o DVD  ┆       ┆       ┆ 6824  │\n",
       "│ sto ┆ 48 DVD ┆       ┆       ┆       │\n",
       "│ re  ┆ Storag ┆       ┆       ┆       │\n",
       "│     ┆ e Bin… ┆       ┆       ┆       │\n",
       "└─────┴────────┴───────┴───────┴───────┘"
      ]
     },
     "execution_count": 5,
     "metadata": {},
     "output_type": "execute_result"
    }
   ],
   "source": [
    "# 여러 컬럼으로 그룹화하고 다양한 집계 함수 적용\n",
    "detailed_summary = contoso_sales.group_by([\"Store Name\", \"Product Name\"]).agg([\n",
    "    pl.col(\"Quantity\").sum().alias(\"Total Quantity\"),\n",
    "    pl.col(\"Quantity\").count().alias(\"Number of Orders\"), \n",
    "    pl.col(\"Net Price\").mean().alias(\"Avg Net Price\")\n",
    "]).sort(\"Total Quantity\", descending=True)\n",
    "\n",
    "print(\"\\n스토어-제품별 상세 현황:\")\n",
    "detailed_summary.head(5)"
   ]
  },
  {
   "cell_type": "markdown",
   "metadata": {},
   "source": [
    "### pandas 버전"
   ]
  },
  {
   "cell_type": "code",
   "execution_count": 6,
   "metadata": {},
   "outputs": [
    {
     "name": "stdout",
     "output_type": "stream",
     "text": [
      "\n",
      "스토어-제품별 상세 현황 (pandas):\n"
     ]
    },
    {
     "data": {
      "text/html": [
       "<div>\n",
       "<style scoped>\n",
       "    .dataframe tbody tr th:only-of-type {\n",
       "        vertical-align: middle;\n",
       "    }\n",
       "\n",
       "    .dataframe tbody tr th {\n",
       "        vertical-align: top;\n",
       "    }\n",
       "\n",
       "    .dataframe thead th {\n",
       "        text-align: right;\n",
       "    }\n",
       "</style>\n",
       "<table border=\"1\" class=\"dataframe\">\n",
       "  <thead>\n",
       "    <tr style=\"text-align: right;\">\n",
       "      <th></th>\n",
       "      <th>Store Name</th>\n",
       "      <th>Product Name</th>\n",
       "      <th>Total Quantity</th>\n",
       "      <th>Number of Orders</th>\n",
       "      <th>Avg Net Price</th>\n",
       "    </tr>\n",
       "  </thead>\n",
       "  <tbody>\n",
       "    <tr>\n",
       "      <th>6013</th>\n",
       "      <td>Online store</td>\n",
       "      <td>Contoso DVD Recorder L210 Silver</td>\n",
       "      <td>112</td>\n",
       "      <td>28</td>\n",
       "      <td>215.503821</td>\n",
       "    </tr>\n",
       "    <tr>\n",
       "      <th>7448</th>\n",
       "      <td>Online store</td>\n",
       "      <td>WWI Desktop PC3.0 M0300 Silver</td>\n",
       "      <td>111</td>\n",
       "      <td>23</td>\n",
       "      <td>373.733478</td>\n",
       "    </tr>\n",
       "    <tr>\n",
       "      <th>5769</th>\n",
       "      <td>Online store</td>\n",
       "      <td>Adventure Works Desktop PC1.60 ED160 Silver</td>\n",
       "      <td>90</td>\n",
       "      <td>24</td>\n",
       "      <td>293.964296</td>\n",
       "    </tr>\n",
       "    <tr>\n",
       "      <th>7191</th>\n",
       "      <td>Online store</td>\n",
       "      <td>SV DVD External DVD Burner M200 Black</td>\n",
       "      <td>84</td>\n",
       "      <td>21</td>\n",
       "      <td>57.262610</td>\n",
       "    </tr>\n",
       "    <tr>\n",
       "      <th>5984</th>\n",
       "      <td>Online store</td>\n",
       "      <td>Contoso DVD 48 DVD Storage Binder M50 Black</td>\n",
       "      <td>83</td>\n",
       "      <td>25</td>\n",
       "      <td>17.366824</td>\n",
       "    </tr>\n",
       "  </tbody>\n",
       "</table>\n",
       "</div>"
      ],
      "text/plain": [
       "        Store Name                                 Product Name  \\\n",
       "6013  Online store             Contoso DVD Recorder L210 Silver   \n",
       "7448  Online store               WWI Desktop PC3.0 M0300 Silver   \n",
       "5769  Online store  Adventure Works Desktop PC1.60 ED160 Silver   \n",
       "7191  Online store        SV DVD External DVD Burner M200 Black   \n",
       "5984  Online store  Contoso DVD 48 DVD Storage Binder M50 Black   \n",
       "\n",
       "      Total Quantity  Number of Orders  Avg Net Price  \n",
       "6013             112                28     215.503821  \n",
       "7448             111                23     373.733478  \n",
       "5769              90                24     293.964296  \n",
       "7191              84                21      57.262610  \n",
       "5984              83                25      17.366824  "
      ]
     },
     "execution_count": 6,
     "metadata": {},
     "output_type": "execute_result"
    }
   ],
   "source": [
    "# 스토어-제품별 상세 현황 - pandas 버전\n",
    "detailed_summary_pandas = contoso_sales_pandas.groupby([\"Store Name\", \"Product Name\"]).agg({\n",
    "    \"Quantity\": [\"sum\", \"count\"],\n",
    "    \"Net Price\": \"mean\"\n",
    "}).reset_index()\n",
    "\n",
    "# 컬럼명 변경\n",
    "detailed_summary_pandas.columns = [\"Store Name\", \"Product Name\", \"Total Quantity\", \"Number of Orders\", \"Avg Net Price\"]\n",
    "\n",
    "print(\"\\n스토어-제품별 상세 현황 (pandas):\")\n",
    "detailed_summary_pandas.sort_values(\"Total Quantity\", ascending=False).head(5)"
   ]
  },
  {
   "cell_type": "markdown",
   "metadata": {},
   "source": [
    "## 레시피 41 : 월별 매출 트렌드 분석"
   ]
  },
  {
   "cell_type": "markdown",
   "metadata": {},
   "source": [
    "### polars 버전"
   ]
  },
  {
   "cell_type": "code",
   "execution_count": 57,
   "metadata": {},
   "outputs": [
    {
     "name": "stdout",
     "output_type": "stream",
     "text": [
      "월별 매출 트렌드:\n"
     ]
    },
    {
     "data": {
      "text/html": [
       "<div><style>\n",
       ".dataframe > thead > tr,\n",
       ".dataframe > tbody > tr {\n",
       "  text-align: right;\n",
       "  white-space: pre-wrap;\n",
       "}\n",
       "</style>\n",
       "<small>shape: (2, 3)</small><table border=\"1\" class=\"dataframe\"><thead><tr><th>Month</th><th>Monthly Sales</th><th>Monthly Quantity</th></tr><tr><td>str</td><td>f64</td><td>i64</td></tr></thead><tbody><tr><td>&quot;2017-05&quot;</td><td>42107.7917</td><td>406</td></tr><tr><td>&quot;2017-06&quot;</td><td>83015.3597</td><td>790</td></tr></tbody></table></div>"
      ],
      "text/plain": [
       "shape: (2, 3)\n",
       "┌─────────┬───────────────┬──────────────────┐\n",
       "│ Month   ┆ Monthly Sales ┆ Monthly Quantity │\n",
       "│ ---     ┆ ---           ┆ ---              │\n",
       "│ str     ┆ f64           ┆ i64              │\n",
       "╞═════════╪═══════════════╪══════════════════╡\n",
       "│ 2017-05 ┆ 42107.7917    ┆ 406              │\n",
       "│ 2017-06 ┆ 83015.3597    ┆ 790              │\n",
       "└─────────┴───────────────┴──────────────────┘"
      ]
     },
     "execution_count": 57,
     "metadata": {},
     "output_type": "execute_result"
    }
   ],
   "source": [
    "# 월별 매출 트렌드 분석\n",
    "monthly_sales = contoso_sales.with_columns([\n",
    "    pl.col(\"Order Date\").str.strptime(pl.Date).dt.strftime(\"%Y-%m\").alias(\"Month\")\n",
    "]).group_by(\"Month\").agg([\n",
    "    pl.col(\"Net Price\").sum().alias(\"Monthly Sales\"),\n",
    "    pl.col(\"Quantity\").sum().alias(\"Monthly Quantity\")\n",
    "]).sort(\"Month\")\n",
    "\n",
    "print(\"월별 매출 트렌드:\")\n",
    "monthly_sales.head(2)"
   ]
  },
  {
   "cell_type": "markdown",
   "metadata": {},
   "source": [
    "### pandas 버전"
   ]
  },
  {
   "cell_type": "code",
   "execution_count": 58,
   "metadata": {},
   "outputs": [
    {
     "name": "stdout",
     "output_type": "stream",
     "text": [
      "\n",
      "월별 매출 트렌드 (pandas):\n"
     ]
    },
    {
     "data": {
      "text/html": [
       "<div>\n",
       "<style scoped>\n",
       "    .dataframe tbody tr th:only-of-type {\n",
       "        vertical-align: middle;\n",
       "    }\n",
       "\n",
       "    .dataframe tbody tr th {\n",
       "        vertical-align: top;\n",
       "    }\n",
       "\n",
       "    .dataframe thead th {\n",
       "        text-align: right;\n",
       "    }\n",
       "</style>\n",
       "<table border=\"1\" class=\"dataframe\">\n",
       "  <thead>\n",
       "    <tr style=\"text-align: right;\">\n",
       "      <th></th>\n",
       "      <th>Month</th>\n",
       "      <th>Monthly Sales</th>\n",
       "      <th>Monthly Quantity</th>\n",
       "    </tr>\n",
       "  </thead>\n",
       "  <tbody>\n",
       "    <tr>\n",
       "      <th>0</th>\n",
       "      <td>2017-05</td>\n",
       "      <td>42107.7917</td>\n",
       "      <td>406</td>\n",
       "    </tr>\n",
       "    <tr>\n",
       "      <th>1</th>\n",
       "      <td>2017-06</td>\n",
       "      <td>83015.3597</td>\n",
       "      <td>790</td>\n",
       "    </tr>\n",
       "  </tbody>\n",
       "</table>\n",
       "</div>"
      ],
      "text/plain": [
       "     Month  Monthly Sales  Monthly Quantity\n",
       "0  2017-05     42107.7917               406\n",
       "1  2017-06     83015.3597               790"
      ]
     },
     "execution_count": 58,
     "metadata": {},
     "output_type": "execute_result"
    }
   ],
   "source": [
    "# 월별 매출 트렌드 분석 - pandas 버전\n",
    "contoso_sales_pandas['Month'] = pd.to_datetime(contoso_sales_pandas['Order Date']).dt.strftime('%Y-%m')\n",
    "\n",
    "monthly_sales_pandas = contoso_sales_pandas.groupby('Month').agg({\n",
    "    'Net Price': 'sum',\n",
    "    'Quantity': 'sum'\n",
    "}).reset_index()\n",
    "\n",
    "monthly_sales_pandas.columns = ['Month', 'Monthly Sales', 'Monthly Quantity']\n",
    "\n",
    "print(\"\\n월별 매출 트렌드 (pandas):\")\n",
    "monthly_sales_pandas.sort_values('Month').head(2)"
   ]
  },
  {
   "cell_type": "markdown",
   "metadata": {},
   "source": [
    "## 레시피 42 : 카테고리별 성과 분석 (상위 5개)"
   ]
  },
  {
   "cell_type": "markdown",
   "metadata": {},
   "source": [
    "### polars 버전"
   ]
  },
  {
   "cell_type": "code",
   "execution_count": 61,
   "metadata": {},
   "outputs": [
    {
     "name": "stdout",
     "output_type": "stream",
     "text": [
      "\n",
      "상위 5개 카테고리 성과:\n"
     ]
    },
    {
     "data": {
      "text/html": [
       "<div><style>\n",
       ".dataframe > thead > tr,\n",
       ".dataframe > tbody > tr {\n",
       "  text-align: right;\n",
       "  white-space: pre-wrap;\n",
       "}\n",
       "</style>\n",
       "<small>shape: (2, 4)</small><table border=\"1\" class=\"dataframe\"><thead><tr><th>Category</th><th>Total Sales</th><th>Avg Price</th><th>Total Units</th></tr><tr><td>str</td><td>f64</td><td>f64</td><td>i64</td></tr></thead><tbody><tr><td>&quot;Computers&quot;</td><td>1.4869e6</td><td>445.458015</td><td>10503</td></tr><tr><td>&quot;Cell phones&quot;</td><td>740308.5053</td><td>211.094527</td><td>10797</td></tr></tbody></table></div>"
      ],
      "text/plain": [
       "shape: (2, 4)\n",
       "┌─────────────┬─────────────┬────────────┬─────────────┐\n",
       "│ Category    ┆ Total Sales ┆ Avg Price  ┆ Total Units │\n",
       "│ ---         ┆ ---         ┆ ---        ┆ ---         │\n",
       "│ str         ┆ f64         ┆ f64        ┆ i64         │\n",
       "╞═════════════╪═════════════╪════════════╪═════════════╡\n",
       "│ Computers   ┆ 1.4869e6    ┆ 445.458015 ┆ 10503       │\n",
       "│ Cell phones ┆ 740308.5053 ┆ 211.094527 ┆ 10797       │\n",
       "└─────────────┴─────────────┴────────────┴─────────────┘"
      ]
     },
     "execution_count": 61,
     "metadata": {},
     "output_type": "execute_result"
    }
   ],
   "source": [
    "category_performance = contoso_sales.group_by(\"Category\").agg([\n",
    "    pl.col(\"Net Price\").sum().alias(\"Total Sales\"),\n",
    "    pl.col(\"Net Price\").mean().alias(\"Avg Price\"),\n",
    "    pl.col(\"Quantity\").sum().alias(\"Total Units\") \n",
    "]).sort(\"Total Sales\", descending=True).head(5)\n",
    "\n",
    "print(\"\\n상위 5개 카테고리 성과:\")\n",
    "category_performance.head(2)"
   ]
  },
  {
   "cell_type": "markdown",
   "metadata": {},
   "source": [
    "### pandas 버전"
   ]
  },
  {
   "cell_type": "code",
   "execution_count": 60,
   "metadata": {},
   "outputs": [
    {
     "name": "stdout",
     "output_type": "stream",
     "text": [
      "\n",
      "상위 5개 카테고리 성과 (pandas):\n"
     ]
    },
    {
     "data": {
      "text/html": [
       "<div>\n",
       "<style scoped>\n",
       "    .dataframe tbody tr th:only-of-type {\n",
       "        vertical-align: middle;\n",
       "    }\n",
       "\n",
       "    .dataframe tbody tr th {\n",
       "        vertical-align: top;\n",
       "    }\n",
       "\n",
       "    .dataframe thead th {\n",
       "        text-align: right;\n",
       "    }\n",
       "</style>\n",
       "<table border=\"1\" class=\"dataframe\">\n",
       "  <thead>\n",
       "    <tr style=\"text-align: right;\">\n",
       "      <th></th>\n",
       "      <th>Category</th>\n",
       "      <th>Total Sales</th>\n",
       "      <th>Avg Price</th>\n",
       "      <th>Total Units</th>\n",
       "    </tr>\n",
       "  </thead>\n",
       "  <tbody>\n",
       "    <tr>\n",
       "      <th>3</th>\n",
       "      <td>Computers</td>\n",
       "      <td>1.486939e+06</td>\n",
       "      <td>445.458015</td>\n",
       "      <td>10503</td>\n",
       "    </tr>\n",
       "    <tr>\n",
       "      <th>2</th>\n",
       "      <td>Cell phones</td>\n",
       "      <td>7.403085e+05</td>\n",
       "      <td>211.094527</td>\n",
       "      <td>10797</td>\n",
       "    </tr>\n",
       "  </tbody>\n",
       "</table>\n",
       "</div>"
      ],
      "text/plain": [
       "      Category   Total Sales   Avg Price  Total Units\n",
       "3    Computers  1.486939e+06  445.458015        10503\n",
       "2  Cell phones  7.403085e+05  211.094527        10797"
      ]
     },
     "execution_count": 60,
     "metadata": {},
     "output_type": "execute_result"
    }
   ],
   "source": [
    "# 카테고리별 성과 분석 - pandas 버전\n",
    "category_performance_pandas = contoso_sales_pandas.groupby('Category').agg({\n",
    "    'Net Price': ['sum', 'mean'],\n",
    "    'Quantity': 'sum'\n",
    "}).reset_index()\n",
    "\n",
    "# 컬럼명 재설정\n",
    "category_performance_pandas.columns = ['Category', 'Total Sales', 'Avg Price', 'Total Units']\n",
    "\n",
    "# 매출 기준 내림차순 정렬 후 상위 5개 추출\n",
    "category_performance_pandas = category_performance_pandas.sort_values('Total Sales', ascending=False).head(5)\n",
    "\n",
    "print(\"\\n상위 5개 카테고리 성과 (pandas):\")\n",
    "category_performance_pandas.head(2)"
   ]
  },
  {
   "cell_type": "markdown",
   "metadata": {},
   "source": [
    "## 레시피 43 : 고객 국가별 구매 패턴"
   ]
  },
  {
   "cell_type": "markdown",
   "metadata": {},
   "source": [
    "### polars 버전"
   ]
  },
  {
   "cell_type": "code",
   "execution_count": 7,
   "metadata": {},
   "outputs": [
    {
     "name": "stdout",
     "output_type": "stream",
     "text": [
      "\n",
      "국가별 고객 구매 분석:\n"
     ]
    },
    {
     "data": {
      "text/html": [
       "<div><style>\n",
       ".dataframe > thead > tr,\n",
       ".dataframe > tbody > tr {\n",
       "  text-align: right;\n",
       "  white-space: pre-wrap;\n",
       "}\n",
       "</style>\n",
       "<small>shape: (2, 4)</small><table border=\"1\" class=\"dataframe\"><thead><tr><th>Customer Country</th><th>Total Sales</th><th>Unique Customers</th><th>Sales per Customer</th></tr><tr><td>str</td><td>f64</td><td>u32</td><td>f64</td></tr></thead><tbody><tr><td>&quot;United States&quot;</td><td>2.0543e6</td><td>2879</td><td>713.542429</td></tr><tr><td>&quot;Canada&quot;</td><td>462249.0445</td><td>631</td><td>732.565839</td></tr></tbody></table></div>"
      ],
      "text/plain": [
       "shape: (2, 4)\n",
       "┌─────┬────────┬───────┬───────┐\n",
       "│ Cus ┆ Total  ┆ Uniqu ┆ Sales │\n",
       "│ tom ┆ Sales  ┆ e Cus ┆ per   │\n",
       "│ er  ┆ ---    ┆ tomer ┆ Custo │\n",
       "│ Cou ┆ f64    ┆ s     ┆ mer   │\n",
       "│ ntr ┆        ┆ ---   ┆ ---   │\n",
       "│ y   ┆        ┆ u32   ┆ f64   │\n",
       "│ --- ┆        ┆       ┆       │\n",
       "│ str ┆        ┆       ┆       │\n",
       "╞═════╪════════╪═══════╪═══════╡\n",
       "│ Uni ┆ 2.0543 ┆ 2879  ┆ 713.5 │\n",
       "│ ted ┆ e6     ┆       ┆ 42429 │\n",
       "│ Sta ┆        ┆       ┆       │\n",
       "│ tes ┆        ┆       ┆       │\n",
       "│ Can ┆ 462249 ┆ 631   ┆ 732.5 │\n",
       "│ ada ┆ .0445  ┆       ┆ 65839 │\n",
       "└─────┴────────┴───────┴───────┘"
      ]
     },
     "execution_count": 7,
     "metadata": {},
     "output_type": "execute_result"
    }
   ],
   "source": [
    "# 고객 국가별 구매 패턴\n",
    "country_analysis = contoso_sales.group_by(\"Customer Country\").agg([\n",
    "    pl.col(\"Net Price\").sum().alias(\"Total Sales\"),\n",
    "    pl.col(\"Customer Name\").n_unique().alias(\"Unique Customers\"),\n",
    "    (pl.col(\"Net Price\").sum() / pl.col(\"Customer Name\").n_unique()).alias(\"Sales per Customer\")\n",
    "]).sort(\"Total Sales\", descending=True)\n",
    "\n",
    "print(\"\\n국가별 고객 구매 분석:\")\n",
    "country_analysis.head(2)"
   ]
  },
  {
   "cell_type": "markdown",
   "metadata": {},
   "source": [
    "### pandas 버전"
   ]
  },
  {
   "cell_type": "code",
   "execution_count": 11,
   "metadata": {},
   "outputs": [
    {
     "name": "stdout",
     "output_type": "stream",
     "text": [
      "\n",
      "국가별 고객 구매 분석 (pandas):\n"
     ]
    },
    {
     "data": {
      "text/html": [
       "<div>\n",
       "<style scoped>\n",
       "    .dataframe tbody tr th:only-of-type {\n",
       "        vertical-align: middle;\n",
       "    }\n",
       "\n",
       "    .dataframe tbody tr th {\n",
       "        vertical-align: top;\n",
       "    }\n",
       "\n",
       "    .dataframe thead th {\n",
       "        text-align: right;\n",
       "    }\n",
       "</style>\n",
       "<table border=\"1\" class=\"dataframe\">\n",
       "  <thead>\n",
       "    <tr style=\"text-align: right;\">\n",
       "      <th></th>\n",
       "      <th>Customer Country</th>\n",
       "      <th>Total Sales</th>\n",
       "      <th>Unique Customers</th>\n",
       "      <th>Sales per Customer</th>\n",
       "    </tr>\n",
       "  </thead>\n",
       "  <tbody>\n",
       "    <tr>\n",
       "      <th>7</th>\n",
       "      <td>United States</td>\n",
       "      <td>2.054289e+06</td>\n",
       "      <td>2879</td>\n",
       "      <td>713.542429</td>\n",
       "    </tr>\n",
       "    <tr>\n",
       "      <th>1</th>\n",
       "      <td>Canada</td>\n",
       "      <td>4.622490e+05</td>\n",
       "      <td>631</td>\n",
       "      <td>732.565839</td>\n",
       "    </tr>\n",
       "  </tbody>\n",
       "</table>\n",
       "</div>"
      ],
      "text/plain": [
       "  Customer Country   Total Sales  Unique Customers  Sales per Customer\n",
       "7    United States  2.054289e+06              2879          713.542429\n",
       "1           Canada  4.622490e+05               631          732.565839"
      ]
     },
     "execution_count": 11,
     "metadata": {},
     "output_type": "execute_result"
    }
   ],
   "source": [
    "# 고객 국가별 구매 패턴 - pandas 버전\n",
    "country_analysis_pandas = contoso_sales_pandas.groupby('Customer Country').agg({\n",
    "    'Net Price': 'sum',\n",
    "    'Customer Name': pd.Series.nunique\n",
    "}).reset_index()\n",
    "\n",
    "# Sales per Customer 계산\n",
    "country_analysis_pandas['Sales per Customer'] = country_analysis_pandas['Net Price'] / country_analysis_pandas['Customer Name']\n",
    "\n",
    "# 컬럼명 재설정\n",
    "country_analysis_pandas.columns = ['Customer Country', 'Total Sales', 'Unique Customers', 'Sales per Customer']\n",
    "\n",
    "# 매출 기준 내림차순 정렬\n",
    "country_analysis_pandas = country_analysis_pandas.sort_values('Total Sales', ascending=False)\n",
    "\n",
    "print(\"\\n국가별 고객 구매 분석 (pandas):\")\n",
    "country_analysis_pandas.head(2)"
   ]
  },
  {
   "cell_type": "markdown",
   "metadata": {},
   "source": [
    "## 레시피 44 : 고객 국가별 상품별 매출 분석 (상위 5)"
   ]
  },
  {
   "cell_type": "markdown",
   "metadata": {},
   "source": [
    "### polars 버전"
   ]
  },
  {
   "cell_type": "code",
   "execution_count": 12,
   "metadata": {},
   "outputs": [
    {
     "data": {
      "text/html": [
       "<div><style>\n",
       ".dataframe > thead > tr,\n",
       ".dataframe > tbody > tr {\n",
       "  text-align: right;\n",
       "  white-space: pre-wrap;\n",
       "}\n",
       "</style>\n",
       "<small>shape: (1, 20)</small><table border=\"1\" class=\"dataframe\"><thead><tr><th>Order Number</th><th>Line Number</th><th>Order Date</th><th>Delivery Date</th><th>Customer Name</th><th>Customer Gender</th><th>Customer Country</th><th>Customer Age</th><th>Store Name</th><th>Product Name</th><th>Color</th><th>Brand</th><th>Category</th><th>Subcategory</th><th>Quantity</th><th>Unit Price</th><th>Net Price</th><th>Unit Cost</th><th>Currency Code</th><th>Exchange Rate</th></tr><tr><td>i64</td><td>i64</td><td>str</td><td>str</td><td>str</td><td>str</td><td>str</td><td>i64</td><td>str</td><td>str</td><td>str</td><td>str</td><td>str</td><td>str</td><td>i64</td><td>f64</td><td>f64</td><td>f64</td><td>str</td><td>f64</td></tr></thead><tbody><tr><td>284806</td><td>1</td><td>&quot;2017-10-18&quot;</td><td>&quot;2017-10-20&quot;</td><td>&quot;Eric Kennedy&quot;</td><td>&quot;Male&quot;</td><td>&quot;United States&quot;</td><td>47</td><td>&quot;Online store&quot;</td><td>&quot;Contoso 512MB MP3 Player E51 S…</td><td>&quot;Silver&quot;</td><td>&quot;Contoso&quot;</td><td>&quot;Audio&quot;</td><td>&quot;MP4&amp;MP3&quot;</td><td>7</td><td>11.691</td><td>10.288</td><td>5.958</td><td>&quot;USD&quot;</td><td>1.0</td></tr></tbody></table></div>"
      ],
      "text/plain": [
       "shape: (1, 20)\n",
       "┌─────┬─────┬─────┬─────┬───┬─────┬─────┬─────┬─────┐\n",
       "│ Ord ┆ Lin ┆ Ord ┆ Del ┆ … ┆ Net ┆ Uni ┆ Cur ┆ Exc │\n",
       "│ er  ┆ e   ┆ er  ┆ ive ┆   ┆ Pri ┆ t   ┆ ren ┆ han │\n",
       "│ Num ┆ Num ┆ Dat ┆ ry  ┆   ┆ ce  ┆ Cos ┆ cy  ┆ ge  │\n",
       "│ ber ┆ ber ┆ e   ┆ Dat ┆   ┆ --- ┆ t   ┆ Cod ┆ Rat │\n",
       "│ --- ┆ --- ┆ --- ┆ e   ┆   ┆ f64 ┆ --- ┆ e   ┆ e   │\n",
       "│ i64 ┆ i64 ┆ str ┆ --- ┆   ┆     ┆ f64 ┆ --- ┆ --- │\n",
       "│     ┆     ┆     ┆ str ┆   ┆     ┆     ┆ str ┆ f64 │\n",
       "╞═════╪═════╪═════╪═════╪═══╪═════╪═════╪═════╪═════╡\n",
       "│ 284 ┆ 1   ┆ 201 ┆ 201 ┆ … ┆ 10. ┆ 5.9 ┆ USD ┆ 1.0 │\n",
       "│ 806 ┆     ┆ 7-1 ┆ 7-1 ┆   ┆ 288 ┆ 58  ┆     ┆     │\n",
       "│     ┆     ┆ 0-1 ┆ 0-2 ┆   ┆     ┆     ┆     ┆     │\n",
       "│     ┆     ┆ 8   ┆ 0   ┆   ┆     ┆     ┆     ┆     │\n",
       "└─────┴─────┴─────┴─────┴───┴─────┴─────┴─────┴─────┘"
      ]
     },
     "execution_count": 12,
     "metadata": {},
     "output_type": "execute_result"
    }
   ],
   "source": [
    "import polars as pl\n",
    "contoso_sales = pl.read_csv(\"data/ch08/contoso_sales.csv\")\n",
    "contoso_sales.head(1)"
   ]
  },
  {
   "cell_type": "code",
   "execution_count": 38,
   "metadata": {},
   "outputs": [
    {
     "name": "stdout",
     "output_type": "stream",
     "text": [
      "국가별 상위 5개 인기 상품:\n"
     ]
    },
    {
     "data": {
      "text/html": [
       "<div><style>\n",
       ".dataframe > thead > tr,\n",
       ".dataframe > tbody > tr {\n",
       "  text-align: right;\n",
       "  white-space: pre-wrap;\n",
       "}\n",
       "</style>\n",
       "<small>shape: (10, 5)</small><table border=\"1\" class=\"dataframe\"><thead><tr><th>Customer Country</th><th>Product Name</th><th>Total Sales</th><th>Total Units</th><th>Avg Price</th></tr><tr><td>str</td><td>str</td><td>f64</td><td>i64</td><td>f64</td></tr></thead><tbody><tr><td>&quot;United Kingdom&quot;</td><td>&quot;Adventure Works 52&quot; LCD HDTV X…</td><td>5277.9818</td><td>6</td><td>2638.9909</td></tr><tr><td>&quot;United Kingdom&quot;</td><td>&quot;WWI Desktop PC2.33 X2330 Silve…</td><td>4434.175</td><td>9</td><td>1108.54375</td></tr><tr><td>&quot;United Kingdom&quot;</td><td>&quot;NT Washer &amp; Dryer 25.5in M2550…</td><td>3542.022</td><td>10</td><td>1771.011</td></tr><tr><td>&quot;United Kingdom&quot;</td><td>&quot;WWI Desktop PC2.30 M2300 Brown&quot;</td><td>3485.365</td><td>17</td><td>580.894167</td></tr><tr><td>&quot;United Kingdom&quot;</td><td>&quot;Litware Refrigerator 24.7CuFt …</td><td>3199.99</td><td>3</td><td>3199.99</td></tr><tr><td>&quot;Netherlands&quot;</td><td>&quot;Litware Refrigerator L1200 Ora…</td><td>2879.991</td><td>4</td><td>2879.991</td></tr><tr><td>&quot;Netherlands&quot;</td><td>&quot;Adventure Works 52&quot; LCD HDTV X…</td><td>2667.9908</td><td>1</td><td>2667.9908</td></tr><tr><td>&quot;Netherlands&quot;</td><td>&quot;Adventure Works Desktop PC2.33…</td><td>2645.37</td><td>6</td><td>1322.685</td></tr><tr><td>&quot;Netherlands&quot;</td><td>&quot;Adventure Works 52&quot; LCD HDTV X…</td><td>2609.991</td><td>4</td><td>2609.991</td></tr><tr><td>&quot;Netherlands&quot;</td><td>&quot;Adventure Works Desktop PC2.33…</td><td>2422.5</td><td>16</td><td>1211.25</td></tr></tbody></table></div>"
      ],
      "text/plain": [
       "shape: (10, 5)\n",
       "┌─────┬────────┬───────┬───────┬───────┐\n",
       "│ Cus ┆ Produc ┆ Total ┆ Total ┆ Avg   │\n",
       "│ tom ┆ t Name ┆ Sales ┆ Units ┆ Price │\n",
       "│ er  ┆ ---    ┆ ---   ┆ ---   ┆ ---   │\n",
       "│ Cou ┆ str    ┆ f64   ┆ i64   ┆ f64   │\n",
       "│ ntr ┆        ┆       ┆       ┆       │\n",
       "│ y   ┆        ┆       ┆       ┆       │\n",
       "│ --- ┆        ┆       ┆       ┆       │\n",
       "│ str ┆        ┆       ┆       ┆       │\n",
       "╞═════╪════════╪═══════╪═══════╪═══════╡\n",
       "│ Uni ┆ Advent ┆ 5277. ┆ 6     ┆ 2638. │\n",
       "│ ted ┆ ure    ┆ 9818  ┆       ┆ 9909  │\n",
       "│ Kin ┆ Works  ┆       ┆       ┆       │\n",
       "│ gdo ┆ 52\"    ┆       ┆       ┆       │\n",
       "│ m   ┆ LCD    ┆       ┆       ┆       │\n",
       "│     ┆ HDTV   ┆       ┆       ┆       │\n",
       "│     ┆ X…     ┆       ┆       ┆       │\n",
       "│ Uni ┆ WWI    ┆ 4434. ┆ 9     ┆ 1108. │\n",
       "│ ted ┆ Deskto ┆ 175   ┆       ┆ 54375 │\n",
       "│ Kin ┆ p      ┆       ┆       ┆       │\n",
       "│ gdo ┆ PC2.33 ┆       ┆       ┆       │\n",
       "│ m   ┆ X2330  ┆       ┆       ┆       │\n",
       "│     ┆ Silve… ┆       ┆       ┆       │\n",
       "│ Uni ┆ NT     ┆ 3542. ┆ 10    ┆ 1771. │\n",
       "│ ted ┆ Washer ┆ 022   ┆       ┆ 011   │\n",
       "│ Kin ┆ &      ┆       ┆       ┆       │\n",
       "│ gdo ┆ Dryer  ┆       ┆       ┆       │\n",
       "│ m   ┆ 25.5in ┆       ┆       ┆       │\n",
       "│     ┆ M2550… ┆       ┆       ┆       │\n",
       "│ Uni ┆ WWI    ┆ 3485. ┆ 17    ┆ 580.8 │\n",
       "│ ted ┆ Deskto ┆ 365   ┆       ┆ 94167 │\n",
       "│ Kin ┆ p      ┆       ┆       ┆       │\n",
       "│ gdo ┆ PC2.30 ┆       ┆       ┆       │\n",
       "│ m   ┆ M2300  ┆       ┆       ┆       │\n",
       "│     ┆ Brown  ┆       ┆       ┆       │\n",
       "│ Uni ┆ Litwar ┆ 3199. ┆ 3     ┆ 3199. │\n",
       "│ ted ┆ e Refr ┆ 99    ┆       ┆ 99    │\n",
       "│ Kin ┆ igerat ┆       ┆       ┆       │\n",
       "│ gdo ┆ or 24. ┆       ┆       ┆       │\n",
       "│ m   ┆ 7CuFt  ┆       ┆       ┆       │\n",
       "│     ┆ …      ┆       ┆       ┆       │\n",
       "│ Net ┆ Litwar ┆ 2879. ┆ 4     ┆ 2879. │\n",
       "│ her ┆ e Refr ┆ 991   ┆       ┆ 991   │\n",
       "│ lan ┆ igerat ┆       ┆       ┆       │\n",
       "│ ds  ┆ or     ┆       ┆       ┆       │\n",
       "│     ┆ L1200  ┆       ┆       ┆       │\n",
       "│     ┆ Ora…   ┆       ┆       ┆       │\n",
       "│ Net ┆ Advent ┆ 2667. ┆ 1     ┆ 2667. │\n",
       "│ her ┆ ure    ┆ 9908  ┆       ┆ 9908  │\n",
       "│ lan ┆ Works  ┆       ┆       ┆       │\n",
       "│ ds  ┆ 52\"    ┆       ┆       ┆       │\n",
       "│     ┆ LCD    ┆       ┆       ┆       │\n",
       "│     ┆ HDTV   ┆       ┆       ┆       │\n",
       "│     ┆ X…     ┆       ┆       ┆       │\n",
       "│ Net ┆ Advent ┆ 2645. ┆ 6     ┆ 1322. │\n",
       "│ her ┆ ure    ┆ 37    ┆       ┆ 685   │\n",
       "│ lan ┆ Works  ┆       ┆       ┆       │\n",
       "│ ds  ┆ Deskto ┆       ┆       ┆       │\n",
       "│     ┆ p PC2. ┆       ┆       ┆       │\n",
       "│     ┆ 33…    ┆       ┆       ┆       │\n",
       "│ Net ┆ Advent ┆ 2609. ┆ 4     ┆ 2609. │\n",
       "│ her ┆ ure    ┆ 991   ┆       ┆ 991   │\n",
       "│ lan ┆ Works  ┆       ┆       ┆       │\n",
       "│ ds  ┆ 52\"    ┆       ┆       ┆       │\n",
       "│     ┆ LCD    ┆       ┆       ┆       │\n",
       "│     ┆ HDTV   ┆       ┆       ┆       │\n",
       "│     ┆ X…     ┆       ┆       ┆       │\n",
       "│ Net ┆ Advent ┆ 2422. ┆ 16    ┆ 1211. │\n",
       "│ her ┆ ure    ┆ 5     ┆       ┆ 25    │\n",
       "│ lan ┆ Works  ┆       ┆       ┆       │\n",
       "│ ds  ┆ Deskto ┆       ┆       ┆       │\n",
       "│     ┆ p PC2. ┆       ┆       ┆       │\n",
       "│     ┆ 33…    ┆       ┆       ┆       │\n",
       "└─────┴────────┴───────┴───────┴───────┘"
      ]
     },
     "execution_count": 38,
     "metadata": {},
     "output_type": "execute_result"
    }
   ],
   "source": [
    "# 고객 국가별 상품별 매출 분석 (상위 5)\n",
    "country_product_analysis = (\n",
    "    contoso_sales.group_by([\"Customer Country\", \"Product Name\"])\n",
    "    .agg([\n",
    "        pl.col(\"Net Price\").sum().alias(\"Total Sales\"),\n",
    "        pl.col(\"Quantity\").sum().alias(\"Total Units\"),\n",
    "        pl.col(\"Net Price\").mean().alias(\"Avg Price\")\n",
    "    ])\n",
    "    .sort([\"Customer Country\", \"Total Sales\"], descending=[False, True])\n",
    "    .group_by(\"Customer Country\")\n",
    "    .head(5)\n",
    ")\n",
    "\n",
    "print(\"국가별 상위 5개 인기 상품:\")\n",
    "country_product_analysis.head(10)"
   ]
  },
  {
   "cell_type": "markdown",
   "metadata": {},
   "source": [
    "### pandas 버전"
   ]
  },
  {
   "cell_type": "code",
   "execution_count": 39,
   "metadata": {},
   "outputs": [
    {
     "name": "stdout",
     "output_type": "stream",
     "text": [
      "\n",
      "국가별 상위 5개 인기 상품 (pandas):\n"
     ]
    },
    {
     "data": {
      "text/html": [
       "<div>\n",
       "<style scoped>\n",
       "    .dataframe tbody tr th:only-of-type {\n",
       "        vertical-align: middle;\n",
       "    }\n",
       "\n",
       "    .dataframe tbody tr th {\n",
       "        vertical-align: top;\n",
       "    }\n",
       "\n",
       "    .dataframe thead th {\n",
       "        text-align: right;\n",
       "    }\n",
       "</style>\n",
       "<table border=\"1\" class=\"dataframe\">\n",
       "  <thead>\n",
       "    <tr style=\"text-align: right;\">\n",
       "      <th></th>\n",
       "      <th>Customer Country</th>\n",
       "      <th>Product Name</th>\n",
       "      <th>Total Sales</th>\n",
       "      <th>Avg Price</th>\n",
       "      <th>Total Units</th>\n",
       "    </tr>\n",
       "  </thead>\n",
       "  <tbody>\n",
       "    <tr>\n",
       "      <th>0</th>\n",
       "      <td>Australia</td>\n",
       "      <td>Adventure Works 52\" LCD HDTV X590 Black</td>\n",
       "      <td>5422.9813</td>\n",
       "      <td>2711.490650</td>\n",
       "      <td>4</td>\n",
       "    </tr>\n",
       "    <tr>\n",
       "      <th>1</th>\n",
       "      <td>Australia</td>\n",
       "      <td>WWI Desktop PC2.33 X2330 White</td>\n",
       "      <td>3924.1300</td>\n",
       "      <td>981.032500</td>\n",
       "      <td>8</td>\n",
       "    </tr>\n",
       "    <tr>\n",
       "      <th>2</th>\n",
       "      <td>Australia</td>\n",
       "      <td>Adventure Works Desktop PC2.33 XD233 Brown</td>\n",
       "      <td>3716.1150</td>\n",
       "      <td>1238.705000</td>\n",
       "      <td>12</td>\n",
       "    </tr>\n",
       "    <tr>\n",
       "      <th>3</th>\n",
       "      <td>Australia</td>\n",
       "      <td>WWI Desktop PC2.33 X2330 Brown</td>\n",
       "      <td>3051.0800</td>\n",
       "      <td>1017.026667</td>\n",
       "      <td>12</td>\n",
       "    </tr>\n",
       "    <tr>\n",
       "      <th>4</th>\n",
       "      <td>Australia</td>\n",
       "      <td>Adventure Works 52\" LCD HDTV X790W White</td>\n",
       "      <td>3041.1020</td>\n",
       "      <td>1520.551000</td>\n",
       "      <td>2</td>\n",
       "    </tr>\n",
       "  </tbody>\n",
       "</table>\n",
       "</div>"
      ],
      "text/plain": [
       "  Customer Country                                Product Name  Total Sales  \\\n",
       "0        Australia     Adventure Works 52\" LCD HDTV X590 Black    5422.9813   \n",
       "1        Australia              WWI Desktop PC2.33 X2330 White    3924.1300   \n",
       "2        Australia  Adventure Works Desktop PC2.33 XD233 Brown    3716.1150   \n",
       "3        Australia              WWI Desktop PC2.33 X2330 Brown    3051.0800   \n",
       "4        Australia    Adventure Works 52\" LCD HDTV X790W White    3041.1020   \n",
       "\n",
       "     Avg Price  Total Units  \n",
       "0  2711.490650            4  \n",
       "1   981.032500            8  \n",
       "2  1238.705000           12  \n",
       "3  1017.026667           12  \n",
       "4  1520.551000            2  "
      ]
     },
     "execution_count": 39,
     "metadata": {},
     "output_type": "execute_result"
    }
   ],
   "source": [
    "# 고객 국가별 상품별 매출 분석 (상위 5)\n",
    "contoso_sales_pandas = contoso_sales.to_pandas()\n",
    "country_product_analysis_pandas = (\n",
    "    contoso_sales_pandas.groupby([\"Customer Country\", \"Product Name\"])\n",
    "    .agg({\n",
    "        \"Net Price\": [\"sum\", \"mean\"],\n",
    "        \"Quantity\": \"sum\"\n",
    "    })\n",
    "    .reset_index()\n",
    ")\n",
    "\n",
    "# 다중 인덱스 컬럼 이름 변경\n",
    "country_product_analysis_pandas.columns = [\n",
    "    \"Customer Country\", \"Product Name\", \"Total Sales\", \"Avg Price\", \"Total Units\"\n",
    "]\n",
    "\n",
    "# 국가별로 매출 기준 내림차순 정렬하고 상위 5개 선택\n",
    "country_product_analysis_pandas = (\n",
    "    country_product_analysis_pandas\n",
    "    .sort_values([\"Customer Country\", \"Total Sales\"], ascending=[True, False])\n",
    "    .groupby(\"Customer Country\")\n",
    "    .head(5)\n",
    "    .reset_index(drop=True)\n",
    ")\n",
    "\n",
    "print(\"\\n국가별 상위 5개 인기 상품 (pandas):\")\n",
    "country_product_analysis_pandas.head(5)"
   ]
  }
 ],
 "metadata": {
  "kernelspec": {
   "display_name": "Python 3 (ipykernel)",
   "language": "python",
   "name": "python3"
  },
  "language_info": {
   "codemirror_mode": {
    "name": "ipython",
    "version": 3
   },
   "file_extension": ".py",
   "mimetype": "text/x-python",
   "name": "python",
   "nbconvert_exporter": "python",
   "pygments_lexer": "ipython3",
   "version": "3.12.6"
  }
 },
 "nbformat": 4,
 "nbformat_minor": 4
}

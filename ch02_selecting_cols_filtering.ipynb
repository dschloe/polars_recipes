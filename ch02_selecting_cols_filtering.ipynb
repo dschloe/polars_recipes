{
 "cells": [
  {
   "cell_type": "markdown",
   "metadata": {},
   "source": [
    "# 레시피 10 : 컬럼 선택 select 함수"
   ]
  },
  {
   "cell_type": "code",
   "execution_count": 2,
   "metadata": {},
   "outputs": [
    {
     "data": {
      "text/html": [
       "<div><style>\n",
       ".dataframe > thead > tr,\n",
       ".dataframe > tbody > tr {\n",
       "  text-align: right;\n",
       "  white-space: pre-wrap;\n",
       "}\n",
       "</style>\n",
       "<small>shape: (2, 3)</small><table border=\"1\" class=\"dataframe\"><thead><tr><th>Name</th><th>Age</th><th>Survived</th></tr><tr><td>str</td><td>f64</td><td>i64</td></tr></thead><tbody><tr><td>&quot;Braund, Mr. Owen Harris&quot;</td><td>22.0</td><td>0</td></tr><tr><td>&quot;Cumings, Mrs. John Bradley (Fl…</td><td>38.0</td><td>1</td></tr></tbody></table></div>"
      ],
      "text/plain": [
       "shape: (2, 3)\n",
       "┌─────────────────────────────────┬──────┬──────────┐\n",
       "│ Name                            ┆ Age  ┆ Survived │\n",
       "│ ---                             ┆ ---  ┆ ---      │\n",
       "│ str                             ┆ f64  ┆ i64      │\n",
       "╞═════════════════════════════════╪══════╪══════════╡\n",
       "│ Braund, Mr. Owen Harris         ┆ 22.0 ┆ 0        │\n",
       "│ Cumings, Mrs. John Bradley (Fl… ┆ 38.0 ┆ 1        │\n",
       "└─────────────────────────────────┴──────┴──────────┘"
      ]
     },
     "execution_count": 2,
     "metadata": {},
     "output_type": "execute_result"
    }
   ],
   "source": [
    "import polars as pl \n",
    "\n",
    "df = pl.read_csv('data/titanic_dataset.csv')\n",
    "\n",
    "# 기본 컬럼 선택\n",
    "df.select(['Name', 'Age', 'Survived']).head(2)"
   ]
  },
  {
   "cell_type": "code",
   "execution_count": 6,
   "metadata": {},
   "outputs": [
    {
     "data": {
      "text/html": [
       "<div><style>\n",
       ".dataframe > thead > tr,\n",
       ".dataframe > tbody > tr {\n",
       "  text-align: right;\n",
       "  white-space: pre-wrap;\n",
       "}\n",
       "</style>\n",
       "<small>shape: (2, 2)</small><table border=\"1\" class=\"dataframe\"><thead><tr><th>Name</th><th>Age</th></tr><tr><td>str</td><td>f64</td></tr></thead><tbody><tr><td>&quot;Braund, Mr. Owen Harris&quot;</td><td>22.0</td></tr><tr><td>&quot;Cumings, Mrs. John Bradley (Fl…</td><td>38.0</td></tr></tbody></table></div>"
      ],
      "text/plain": [
       "shape: (2, 2)\n",
       "┌─────────────────────────────────┬──────┐\n",
       "│ Name                            ┆ Age  │\n",
       "│ ---                             ┆ ---  │\n",
       "│ str                             ┆ f64  │\n",
       "╞═════════════════════════════════╪══════╡\n",
       "│ Braund, Mr. Owen Harris         ┆ 22.0 │\n",
       "│ Cumings, Mrs. John Bradley (Fl… ┆ 38.0 │\n",
       "└─────────────────────────────────┴──────┘"
      ]
     },
     "execution_count": 6,
     "metadata": {},
     "output_type": "execute_result"
    }
   ],
   "source": [
    "# 여러 컬럼 선택 방법들\n",
    "df.select(pl.col(['Name', 'Age'])).head(2)  # pl.col 사용"
   ]
  },
  {
   "cell_type": "code",
   "execution_count": 7,
   "metadata": {},
   "outputs": [
    {
     "data": {
      "text/html": [
       "<div><style>\n",
       ".dataframe > thead > tr,\n",
       ".dataframe > tbody > tr {\n",
       "  text-align: right;\n",
       "  white-space: pre-wrap;\n",
       "}\n",
       "</style>\n",
       "<small>shape: (2, 12)</small><table border=\"1\" class=\"dataframe\"><thead><tr><th>PassengerId</th><th>Survived</th><th>Pclass</th><th>Name</th><th>Sex</th><th>Age</th><th>SibSp</th><th>Parch</th><th>Ticket</th><th>Fare</th><th>Cabin</th><th>Embarked</th></tr><tr><td>i64</td><td>i64</td><td>i64</td><td>str</td><td>str</td><td>f64</td><td>i64</td><td>i64</td><td>str</td><td>f64</td><td>str</td><td>str</td></tr></thead><tbody><tr><td>1</td><td>0</td><td>3</td><td>&quot;Braund, Mr. Owen Harris&quot;</td><td>&quot;male&quot;</td><td>22.0</td><td>1</td><td>0</td><td>&quot;A/5 21171&quot;</td><td>7.25</td><td>null</td><td>&quot;S&quot;</td></tr><tr><td>2</td><td>1</td><td>1</td><td>&quot;Cumings, Mrs. John Bradley (Fl…</td><td>&quot;female&quot;</td><td>38.0</td><td>1</td><td>0</td><td>&quot;PC 17599&quot;</td><td>71.2833</td><td>&quot;C85&quot;</td><td>&quot;C&quot;</td></tr></tbody></table></div>"
      ],
      "text/plain": [
       "shape: (2, 12)\n",
       "┌─────────────┬──────────┬────────┬───────────────────┬───┬───────────┬─────────┬───────┬──────────┐\n",
       "│ PassengerId ┆ Survived ┆ Pclass ┆ Name              ┆ … ┆ Ticket    ┆ Fare    ┆ Cabin ┆ Embarked │\n",
       "│ ---         ┆ ---      ┆ ---    ┆ ---               ┆   ┆ ---       ┆ ---     ┆ ---   ┆ ---      │\n",
       "│ i64         ┆ i64      ┆ i64    ┆ str               ┆   ┆ str       ┆ f64     ┆ str   ┆ str      │\n",
       "╞═════════════╪══════════╪════════╪═══════════════════╪═══╪═══════════╪═════════╪═══════╪══════════╡\n",
       "│ 1           ┆ 0        ┆ 3      ┆ Braund, Mr. Owen  ┆ … ┆ A/5 21171 ┆ 7.25    ┆ null  ┆ S        │\n",
       "│             ┆          ┆        ┆ Harris            ┆   ┆           ┆         ┆       ┆          │\n",
       "│ 2           ┆ 1        ┆ 1      ┆ Cumings, Mrs.     ┆ … ┆ PC 17599  ┆ 71.2833 ┆ C85   ┆ C        │\n",
       "│             ┆          ┆        ┆ John Bradley (Fl… ┆   ┆           ┆         ┆       ┆          │\n",
       "└─────────────┴──────────┴────────┴───────────────────┴───┴───────────┴─────────┴───────┴──────────┘"
      ]
     },
     "execution_count": 7,
     "metadata": {},
     "output_type": "execute_result"
    }
   ],
   "source": [
    "df.select(pl.all()).head(2)  # 모든 컬럼 선택"
   ]
  },
  {
   "cell_type": "code",
   "execution_count": 7,
   "metadata": {},
   "outputs": [
    {
     "data": {
      "text/html": [
       "<div><style>\n",
       ".dataframe > thead > tr,\n",
       ".dataframe > tbody > tr {\n",
       "  text-align: right;\n",
       "  white-space: pre-wrap;\n",
       "}\n",
       "</style>\n",
       "<small>shape: (2, 11)</small><table border=\"1\" class=\"dataframe\"><thead><tr><th>Survived</th><th>Pclass</th><th>Name</th><th>Sex</th><th>Age</th><th>SibSp</th><th>Parch</th><th>Ticket</th><th>Fare</th><th>Cabin</th><th>Embarked</th></tr><tr><td>i64</td><td>i64</td><td>str</td><td>str</td><td>f64</td><td>i64</td><td>i64</td><td>str</td><td>f64</td><td>str</td><td>str</td></tr></thead><tbody><tr><td>0</td><td>3</td><td>&quot;Braund, Mr. Owen Harris&quot;</td><td>&quot;male&quot;</td><td>22.0</td><td>1</td><td>0</td><td>&quot;A/5 21171&quot;</td><td>7.25</td><td>null</td><td>&quot;S&quot;</td></tr><tr><td>1</td><td>1</td><td>&quot;Cumings, Mrs. John Bradley (Fl…</td><td>&quot;female&quot;</td><td>38.0</td><td>1</td><td>0</td><td>&quot;PC 17599&quot;</td><td>71.2833</td><td>&quot;C85&quot;</td><td>&quot;C&quot;</td></tr></tbody></table></div>"
      ],
      "text/plain": [
       "shape: (2, 11)\n",
       "┌─────────┬────────┬─────────┬────────┬───┬─────────┬────────┬───────┬────────┐\n",
       "│ Survive ┆ Pclass ┆ Name    ┆ Sex    ┆ … ┆ Ticket  ┆ Fare   ┆ Cabin ┆ Embark │\n",
       "│ d       ┆ ---    ┆ ---     ┆ ---    ┆   ┆ ---     ┆ ---    ┆ ---   ┆ ed     │\n",
       "│ ---     ┆ i64    ┆ str     ┆ str    ┆   ┆ str     ┆ f64    ┆ str   ┆ ---    │\n",
       "│ i64     ┆        ┆         ┆        ┆   ┆         ┆        ┆       ┆ str    │\n",
       "╞═════════╪════════╪═════════╪════════╪═══╪═════════╪════════╪═══════╪════════╡\n",
       "│ 0       ┆ 3      ┆ Braund, ┆ male   ┆ … ┆ A/5     ┆ 7.25   ┆ null  ┆ S      │\n",
       "│         ┆        ┆ Mr.     ┆        ┆   ┆ 21171   ┆        ┆       ┆        │\n",
       "│         ┆        ┆ Owen    ┆        ┆   ┆         ┆        ┆       ┆        │\n",
       "│         ┆        ┆ Harris  ┆        ┆   ┆         ┆        ┆       ┆        │\n",
       "│ 1       ┆ 1      ┆ Cumings ┆ female ┆ … ┆ PC      ┆ 71.283 ┆ C85   ┆ C      │\n",
       "│         ┆        ┆ , Mrs.  ┆        ┆   ┆ 17599   ┆ 3      ┆       ┆        │\n",
       "│         ┆        ┆ John    ┆        ┆   ┆         ┆        ┆       ┆        │\n",
       "│         ┆        ┆ Bradley ┆        ┆   ┆         ┆        ┆       ┆        │\n",
       "│         ┆        ┆ (Fl…    ┆        ┆   ┆         ┆        ┆       ┆        │\n",
       "└─────────┴────────┴─────────┴────────┴───┴─────────┴────────┴───────┴────────┘"
      ]
     },
     "execution_count": 7,
     "metadata": {},
     "output_type": "execute_result"
    }
   ],
   "source": [
    "df.select(pl.exclude('PassengerId')).head(2)  # 특정 컬럼 제외하고 선택"
   ]
  },
  {
   "cell_type": "code",
   "execution_count": 15,
   "metadata": {},
   "outputs": [
    {
     "data": {
      "text/html": [
       "<div><style>\n",
       ".dataframe > thead > tr,\n",
       ".dataframe > tbody > tr {\n",
       "  text-align: right;\n",
       "  white-space: pre-wrap;\n",
       "}\n",
       "</style>\n",
       "<small>shape: (1, 2)</small><table border=\"1\" class=\"dataframe\"><thead><tr><th>Age</th><th>Fare</th></tr><tr><td>f64</td><td>f64</td></tr></thead><tbody><tr><td>22.0</td><td>7.25</td></tr></tbody></table></div>"
      ],
      "text/plain": [
       "shape: (1, 2)\n",
       "┌──────┬──────┐\n",
       "│ Age  ┆ Fare │\n",
       "│ ---  ┆ ---  │\n",
       "│ f64  ┆ f64  │\n",
       "╞══════╪══════╡\n",
       "│ 22.0 ┆ 7.25 │\n",
       "└──────┴──────┘"
      ]
     },
     "execution_count": 15,
     "metadata": {},
     "output_type": "execute_result"
    }
   ],
   "source": [
    "# 컬럼 타입 기반 선택\n",
    "df.select(pl.col(pl.Float64)).head(1)  # float64 타입 컬럼들"
   ]
  },
  {
   "cell_type": "code",
   "execution_count": 8,
   "metadata": {},
   "outputs": [
    {
     "data": {
      "text/html": [
       "<div><style>\n",
       ".dataframe > thead > tr,\n",
       ".dataframe > tbody > tr {\n",
       "  text-align: right;\n",
       "  white-space: pre-wrap;\n",
       "}\n",
       "</style>\n",
       "<small>shape: (1, 3)</small><table border=\"1\" class=\"dataframe\"><thead><tr><th>age_years</th><th>Fare</th><th>Name</th></tr><tr><td>f64</td><td>f64</td><td>str</td></tr></thead><tbody><tr><td>22.0</td><td>7.25</td><td>&quot;BRAUND, MR. OWEN HARRIS&quot;</td></tr></tbody></table></div>"
      ],
      "text/plain": [
       "shape: (1, 3)\n",
       "┌───────────┬──────┬─────────────────────────┐\n",
       "│ age_years ┆ Fare ┆ Name                    │\n",
       "│ ---       ┆ ---  ┆ ---                     │\n",
       "│ f64       ┆ f64  ┆ str                     │\n",
       "╞═══════════╪══════╪═════════════════════════╡\n",
       "│ 22.0      ┆ 7.25 ┆ BRAUND, MR. OWEN HARRIS │\n",
       "└───────────┴──────┴─────────────────────────┘"
      ]
     },
     "execution_count": 8,
     "metadata": {},
     "output_type": "execute_result"
    }
   ],
   "source": [
    "# 컬럼 변환과 함께 선택\n",
    "df.select([\n",
    "    pl.col('Age').alias('age_years'),  # 컬럼명 변경\n",
    "    pl.col('Fare').round(2),           # 반올림\n",
    "    pl.col('Name').str.to_uppercase()  # 대문자 변환\n",
    "]).head(1)"
   ]
  },
  {
   "cell_type": "markdown",
   "metadata": {},
   "source": [
    "# 레시피 11 : 새로운 컬럼 추가 및 변경 with_columns()"
   ]
  },
  {
   "cell_type": "code",
   "execution_count": 6,
   "metadata": {},
   "outputs": [
    {
     "data": {
      "text/html": [
       "<div><style>\n",
       ".dataframe > thead > tr,\n",
       ".dataframe > tbody > tr {\n",
       "  text-align: right;\n",
       "  white-space: pre-wrap;\n",
       "}\n",
       "</style>\n",
       "<small>shape: (2, 13)</small><table border=\"1\" class=\"dataframe\"><thead><tr><th>PassengerId</th><th>Survived</th><th>Pclass</th><th>Name</th><th>Sex</th><th>Age</th><th>SibSp</th><th>Parch</th><th>Ticket</th><th>Fare</th><th>Cabin</th><th>Embarked</th><th>Age_Doubled</th></tr><tr><td>i64</td><td>i64</td><td>i64</td><td>str</td><td>str</td><td>f64</td><td>i64</td><td>i64</td><td>str</td><td>f64</td><td>str</td><td>str</td><td>f64</td></tr></thead><tbody><tr><td>1</td><td>0</td><td>3</td><td>&quot;Braund, Mr. Owen Harris&quot;</td><td>&quot;male&quot;</td><td>22.0</td><td>1</td><td>0</td><td>&quot;A/5 21171&quot;</td><td>7.25</td><td>null</td><td>&quot;S&quot;</td><td>44.0</td></tr><tr><td>2</td><td>1</td><td>1</td><td>&quot;Cumings, Mrs. John Bradley (Fl…</td><td>&quot;female&quot;</td><td>38.0</td><td>1</td><td>0</td><td>&quot;PC 17599&quot;</td><td>71.2833</td><td>&quot;C85&quot;</td><td>&quot;C&quot;</td><td>76.0</td></tr></tbody></table></div>"
      ],
      "text/plain": [
       "shape: (2, 13)\n",
       "┌─────────┬─────────┬────────┬─────────┬───┬────────┬───────┬────────┬────────┐\n",
       "│ Passeng ┆ Survive ┆ Pclass ┆ Name    ┆ … ┆ Fare   ┆ Cabin ┆ Embark ┆ Age_Do │\n",
       "│ erId    ┆ d       ┆ ---    ┆ ---     ┆   ┆ ---    ┆ ---   ┆ ed     ┆ ubled  │\n",
       "│ ---     ┆ ---     ┆ i64    ┆ str     ┆   ┆ f64    ┆ str   ┆ ---    ┆ ---    │\n",
       "│ i64     ┆ i64     ┆        ┆         ┆   ┆        ┆       ┆ str    ┆ f64    │\n",
       "╞═════════╪═════════╪════════╪═════════╪═══╪════════╪═══════╪════════╪════════╡\n",
       "│ 1       ┆ 0       ┆ 3      ┆ Braund, ┆ … ┆ 7.25   ┆ null  ┆ S      ┆ 44.0   │\n",
       "│         ┆         ┆        ┆ Mr.     ┆   ┆        ┆       ┆        ┆        │\n",
       "│         ┆         ┆        ┆ Owen    ┆   ┆        ┆       ┆        ┆        │\n",
       "│         ┆         ┆        ┆ Harris  ┆   ┆        ┆       ┆        ┆        │\n",
       "│ 2       ┆ 1       ┆ 1      ┆ Cumings ┆ … ┆ 71.283 ┆ C85   ┆ C      ┆ 76.0   │\n",
       "│         ┆         ┆        ┆ , Mrs.  ┆   ┆ 3      ┆       ┆        ┆        │\n",
       "│         ┆         ┆        ┆ John    ┆   ┆        ┆       ┆        ┆        │\n",
       "│         ┆         ┆        ┆ Bradley ┆   ┆        ┆       ┆        ┆        │\n",
       "│         ┆         ┆        ┆ (Fl…    ┆   ┆        ┆       ┆        ┆        │\n",
       "└─────────┴─────────┴────────┴─────────┴───┴────────┴───────┴────────┴────────┘"
      ]
     },
     "execution_count": 6,
     "metadata": {},
     "output_type": "execute_result"
    }
   ],
   "source": [
    "df.with_columns((pl.col(\"Age\") * 2).alias(\"Age_Doubled\")).head(2)"
   ]
  },
  {
   "cell_type": "code",
   "execution_count": 9,
   "metadata": {},
   "outputs": [
    {
     "data": {
      "text/html": [
       "<div><style>\n",
       ".dataframe > thead > tr,\n",
       ".dataframe > tbody > tr {\n",
       "  text-align: right;\n",
       "  white-space: pre-wrap;\n",
       "}\n",
       "</style>\n",
       "<small>shape: (1, 13)</small><table border=\"1\" class=\"dataframe\"><thead><tr><th>PassengerId</th><th>Survived</th><th>Pclass</th><th>Name</th><th>Sex</th><th>Age</th><th>SibSp</th><th>Parch</th><th>Ticket</th><th>Fare</th><th>Cabin</th><th>Embarked</th><th>age_years</th></tr><tr><td>i64</td><td>i64</td><td>i64</td><td>str</td><td>str</td><td>f64</td><td>i64</td><td>i64</td><td>str</td><td>f64</td><td>str</td><td>str</td><td>f64</td></tr></thead><tbody><tr><td>1</td><td>0</td><td>3</td><td>&quot;BRAUND, MR. OWEN HARRIS&quot;</td><td>&quot;male&quot;</td><td>22.0</td><td>1</td><td>0</td><td>&quot;A/5 21171&quot;</td><td>7.25</td><td>null</td><td>&quot;S&quot;</td><td>22.0</td></tr></tbody></table></div>"
      ],
      "text/plain": [
       "shape: (1, 13)\n",
       "┌─────────┬─────────┬────────┬─────────┬───┬──────┬───────┬─────────┬─────────┐\n",
       "│ Passeng ┆ Survive ┆ Pclass ┆ Name    ┆ … ┆ Fare ┆ Cabin ┆ Embarke ┆ age_yea │\n",
       "│ erId    ┆ d       ┆ ---    ┆ ---     ┆   ┆ ---  ┆ ---   ┆ d       ┆ rs      │\n",
       "│ ---     ┆ ---     ┆ i64    ┆ str     ┆   ┆ f64  ┆ str   ┆ ---     ┆ ---     │\n",
       "│ i64     ┆ i64     ┆        ┆         ┆   ┆      ┆       ┆ str     ┆ f64     │\n",
       "╞═════════╪═════════╪════════╪═════════╪═══╪══════╪═══════╪═════════╪═════════╡\n",
       "│ 1       ┆ 0       ┆ 3      ┆ BRAUND, ┆ … ┆ 7.25 ┆ null  ┆ S       ┆ 22.0    │\n",
       "│         ┆         ┆        ┆ MR.     ┆   ┆      ┆       ┆         ┆         │\n",
       "│         ┆         ┆        ┆ OWEN    ┆   ┆      ┆       ┆         ┆         │\n",
       "│         ┆         ┆        ┆ HARRIS  ┆   ┆      ┆       ┆         ┆         │\n",
       "└─────────┴─────────┴────────┴─────────┴───┴──────┴───────┴─────────┴─────────┘"
      ]
     },
     "execution_count": 9,
     "metadata": {},
     "output_type": "execute_result"
    }
   ],
   "source": [
    "# 기존 컬럼 변환\n",
    "df.with_columns([\n",
    "    pl.col('Age').alias('age_years'),  # 컬럼명 변경\n",
    "    pl.col('Fare').round(2),           # 반올림\n",
    "    pl.col('Name').str.to_uppercase()  # 대문자 변환\n",
    "]).head(1)"
   ]
  },
  {
   "cell_type": "markdown",
   "metadata": {},
   "source": [
    "# 레시피 12 : 정규표현식을 활용한 컬럼 선택"
   ]
  },
  {
   "cell_type": "code",
   "execution_count": 10,
   "metadata": {},
   "outputs": [
    {
     "data": {
      "text/html": [
       "<div><style>\n",
       ".dataframe > thead > tr,\n",
       ".dataframe > tbody > tr {\n",
       "  text-align: right;\n",
       "  white-space: pre-wrap;\n",
       "}\n",
       "</style>\n",
       "<small>shape: (2, 4)</small><table border=\"1\" class=\"dataframe\"><thead><tr><th>Name</th><th>Sex</th><th>Age</th><th>Fare</th></tr><tr><td>str</td><td>str</td><td>f64</td><td>f64</td></tr></thead><tbody><tr><td>&quot;Braund, Mr. Owen Harris&quot;</td><td>&quot;male&quot;</td><td>22.0</td><td>7.25</td></tr><tr><td>&quot;Cumings, Mrs. John Bradley (Fl…</td><td>&quot;female&quot;</td><td>38.0</td><td>71.2833</td></tr></tbody></table></div>"
      ],
      "text/plain": [
       "shape: (2, 4)\n",
       "┌─────────────────────────────────┬────────┬──────┬─────────┐\n",
       "│ Name                            ┆ Sex    ┆ Age  ┆ Fare    │\n",
       "│ ---                             ┆ ---    ┆ ---  ┆ ---     │\n",
       "│ str                             ┆ str    ┆ f64  ┆ f64     │\n",
       "╞═════════════════════════════════╪════════╪══════╪═════════╡\n",
       "│ Braund, Mr. Owen Harris         ┆ male   ┆ 22.0 ┆ 7.25    │\n",
       "│ Cumings, Mrs. John Bradley (Fl… ┆ female ┆ 38.0 ┆ 71.2833 │\n",
       "└─────────────────────────────────┴────────┴──────┴─────────┘"
      ]
     },
     "execution_count": 10,
     "metadata": {},
     "output_type": "execute_result"
    }
   ],
   "source": [
    "# 정규표현식으로 컬럼 선택\n",
    "# ^: 문자열 시작\n",
    "# [a-zA-Z]: 알파벳 대소문자\n",
    "# {0, 4}: 0~4글자 \n",
    "# $: 문자열 끝\n",
    "# => 알파벳으로만 이루어진 0~4글자 컬럼 선택\n",
    "df.select(pl.col(r'^[a-zA-Z]{0, 4}$')).head(2)"
   ]
  },
  {
   "cell_type": "code",
   "execution_count": 56,
   "metadata": {},
   "outputs": [
    {
     "data": {
      "text/html": [
       "<div><style>\n",
       ".dataframe > thead > tr,\n",
       ".dataframe > tbody > tr {\n",
       "  text-align: right;\n",
       "  white-space: pre-wrap;\n",
       "}\n",
       "</style>\n",
       "<small>shape: (2, 3)</small><table border=\"1\" class=\"dataframe\"><thead><tr><th>Survived</th><th>Sex</th><th>SibSp</th></tr><tr><td>i64</td><td>str</td><td>i64</td></tr></thead><tbody><tr><td>0</td><td>&quot;male&quot;</td><td>1</td></tr><tr><td>1</td><td>&quot;female&quot;</td><td>1</td></tr></tbody></table></div>"
      ],
      "text/plain": [
       "shape: (2, 3)\n",
       "┌──────────┬────────┬───────┐\n",
       "│ Survived ┆ Sex    ┆ SibSp │\n",
       "│ ---      ┆ ---    ┆ ---   │\n",
       "│ i64      ┆ str    ┆ i64   │\n",
       "╞══════════╪════════╪═══════╡\n",
       "│ 0        ┆ male   ┆ 1     │\n",
       "│ 1        ┆ female ┆ 1     │\n",
       "└──────────┴────────┴───────┘"
      ]
     },
     "execution_count": 56,
     "metadata": {},
     "output_type": "execute_result"
    }
   ],
   "source": [
    "# ^S: S로 시작하는\n",
    "# .*: 그 뒤에 어떤 문자(.)가 0개 이상(*) 올 수 있는\n",
    "# $: 문자열 끝\n",
    "# => S로 시작하는 모든 컬럼 선택 (Sex, Survived, SibSp)\n",
    "df.select(pl.col(r\"^S.*$\")).head(2)"
   ]
  },
  {
   "cell_type": "code",
   "execution_count": 59,
   "metadata": {},
   "outputs": [
    {
     "data": {
      "text/html": [
       "<div><style>\n",
       ".dataframe > thead > tr,\n",
       ".dataframe > tbody > tr {\n",
       "  text-align: right;\n",
       "  white-space: pre-wrap;\n",
       "}\n",
       "</style>\n",
       "<small>shape: (2, 3)</small><table border=\"1\" class=\"dataframe\"><thead><tr><th>Survived</th><th>Sex</th><th>SibSp</th></tr><tr><td>i64</td><td>str</td><td>i64</td></tr></thead><tbody><tr><td>0</td><td>&quot;male&quot;</td><td>1</td></tr><tr><td>1</td><td>&quot;female&quot;</td><td>1</td></tr></tbody></table></div>"
      ],
      "text/plain": [
       "shape: (2, 3)\n",
       "┌──────────┬────────┬───────┐\n",
       "│ Survived ┆ Sex    ┆ SibSp │\n",
       "│ ---      ┆ ---    ┆ ---   │\n",
       "│ i64      ┆ str    ┆ i64   │\n",
       "╞══════════╪════════╪═══════╡\n",
       "│ 0        ┆ male   ┆ 1     │\n",
       "│ 1        ┆ female ┆ 1     │\n",
       "└──────────┴────────┴───────┘"
      ]
     },
     "execution_count": 59,
     "metadata": {},
     "output_type": "execute_result"
    }
   ],
   "source": [
    "df.select(pl.col(r\"^S.*$\")).head(2)"
   ]
  },
  {
   "cell_type": "code",
   "execution_count": 60,
   "metadata": {},
   "outputs": [
    {
     "data": {
      "text/html": [
       "<div><style>\n",
       ".dataframe > thead > tr,\n",
       ".dataframe > tbody > tr {\n",
       "  text-align: right;\n",
       "  white-space: pre-wrap;\n",
       "}\n",
       "</style>\n",
       "<small>shape: (2, 3)</small><table border=\"1\" class=\"dataframe\"><thead><tr><th>PassengerId</th><th>Survived</th><th>Embarked</th></tr><tr><td>i64</td><td>i64</td><td>str</td></tr></thead><tbody><tr><td>1</td><td>0</td><td>&quot;S&quot;</td></tr><tr><td>2</td><td>1</td><td>&quot;C&quot;</td></tr></tbody></table></div>"
      ],
      "text/plain": [
       "shape: (2, 3)\n",
       "┌─────────────┬──────────┬──────────┐\n",
       "│ PassengerId ┆ Survived ┆ Embarked │\n",
       "│ ---         ┆ ---      ┆ ---      │\n",
       "│ i64         ┆ i64      ┆ str      │\n",
       "╞═════════════╪══════════╪══════════╡\n",
       "│ 1           ┆ 0        ┆ S        │\n",
       "│ 2           ┆ 1        ┆ C        │\n",
       "└─────────────┴──────────┴──────────┘"
      ]
     },
     "execution_count": 60,
     "metadata": {},
     "output_type": "execute_result"
    }
   ],
   "source": [
    "# d로 끝나는 컬럼 선택\n",
    "# .*: 앞에 어떤 문자(.)가 0개 이상(*) 올 수 있는\n",
    "# d$: d로 끝나는 문자열\n",
    "df.select(pl.col(r\"^.*d$\")).head(2)"
   ]
  },
  {
   "cell_type": "markdown",
   "metadata": {},
   "source": [
    "# 레시피 13 : polars selectors "
   ]
  },
  {
   "cell_type": "markdown",
   "metadata": {},
   "source": [
    "\n"
   ]
  },
  {
   "cell_type": "code",
   "execution_count": 4,
   "metadata": {},
   "outputs": [
    {
     "data": {
      "text/html": [
       "<div><style>\n",
       ".dataframe > thead > tr,\n",
       ".dataframe > tbody > tr {\n",
       "  text-align: right;\n",
       "  white-space: pre-wrap;\n",
       "}\n",
       "</style>\n",
       "<small>shape: (2, 7)</small><table border=\"1\" class=\"dataframe\"><thead><tr><th>PassengerId</th><th>Survived</th><th>Pclass</th><th>Age</th><th>SibSp</th><th>Parch</th><th>Fare</th></tr><tr><td>i64</td><td>i64</td><td>i64</td><td>f64</td><td>i64</td><td>i64</td><td>f64</td></tr></thead><tbody><tr><td>1</td><td>0</td><td>3</td><td>22.0</td><td>1</td><td>0</td><td>7.25</td></tr><tr><td>2</td><td>1</td><td>1</td><td>38.0</td><td>1</td><td>0</td><td>71.2833</td></tr></tbody></table></div>"
      ],
      "text/plain": [
       "shape: (2, 7)\n",
       "┌─────────────┬──────────┬────────┬──────┬───────┬───────┬─────────┐\n",
       "│ PassengerId ┆ Survived ┆ Pclass ┆ Age  ┆ SibSp ┆ Parch ┆ Fare    │\n",
       "│ ---         ┆ ---      ┆ ---    ┆ ---  ┆ ---   ┆ ---   ┆ ---     │\n",
       "│ i64         ┆ i64      ┆ i64    ┆ f64  ┆ i64   ┆ i64   ┆ f64     │\n",
       "╞═════════════╪══════════╪════════╪══════╪═══════╪═══════╪═════════╡\n",
       "│ 1           ┆ 0        ┆ 3      ┆ 22.0 ┆ 1     ┆ 0     ┆ 7.25    │\n",
       "│ 2           ┆ 1        ┆ 1      ┆ 38.0 ┆ 1     ┆ 0     ┆ 71.2833 │\n",
       "└─────────────┴──────────┴────────┴──────┴───────┴───────┴─────────┘"
      ]
     },
     "execution_count": 4,
     "metadata": {},
     "output_type": "execute_result"
    }
   ],
   "source": [
    "import polars.selectors as cs \n",
    "\n",
    "# 예시: 숫자형(numeric) 데이터 타입의 컬럼만 선택하여 첫 두 행을 출력\n",
    "df.select(cs.numeric()).head(2)"
   ]
  },
  {
   "cell_type": "code",
   "execution_count": 5,
   "metadata": {},
   "outputs": [
    {
     "data": {
      "text/html": [
       "<div><style>\n",
       ".dataframe > thead > tr,\n",
       ".dataframe > tbody > tr {\n",
       "  text-align: right;\n",
       "  white-space: pre-wrap;\n",
       "}\n",
       "</style>\n",
       "<small>shape: (2, 8)</small><table border=\"1\" class=\"dataframe\"><thead><tr><th>PassengerId</th><th>Pclass</th><th>Name</th><th>Age</th><th>Parch</th><th>Fare</th><th>Cabin</th><th>Embarked</th></tr><tr><td>i64</td><td>i64</td><td>str</td><td>f64</td><td>i64</td><td>f64</td><td>str</td><td>str</td></tr></thead><tbody><tr><td>1</td><td>3</td><td>&quot;Braund, Mr. Owen Harris&quot;</td><td>22.0</td><td>0</td><td>7.25</td><td>null</td><td>&quot;S&quot;</td></tr><tr><td>2</td><td>1</td><td>&quot;Cumings, Mrs. John Bradley (Fl…</td><td>38.0</td><td>0</td><td>71.2833</td><td>&quot;C85&quot;</td><td>&quot;C&quot;</td></tr></tbody></table></div>"
      ],
      "text/plain": [
       "shape: (2, 8)\n",
       "┌────────────┬────────┬───────────┬──────┬───────┬─────────┬───────┬──────────┐\n",
       "│ PassengerI ┆ Pclass ┆ Name      ┆ Age  ┆ Parch ┆ Fare    ┆ Cabin ┆ Embarked │\n",
       "│ d          ┆ ---    ┆ ---       ┆ ---  ┆ ---   ┆ ---     ┆ ---   ┆ ---      │\n",
       "│ ---        ┆ i64    ┆ str       ┆ f64  ┆ i64   ┆ f64     ┆ str   ┆ str      │\n",
       "│ i64        ┆        ┆           ┆      ┆       ┆         ┆       ┆          │\n",
       "╞════════════╪════════╪═══════════╪══════╪═══════╪═════════╪═══════╪══════════╡\n",
       "│ 1          ┆ 3      ┆ Braund,   ┆ 22.0 ┆ 0     ┆ 7.25    ┆ null  ┆ S        │\n",
       "│            ┆        ┆ Mr. Owen  ┆      ┆       ┆         ┆       ┆          │\n",
       "│            ┆        ┆ Harris    ┆      ┆       ┆         ┆       ┆          │\n",
       "│ 2          ┆ 1      ┆ Cumings,  ┆ 38.0 ┆ 0     ┆ 71.2833 ┆ C85   ┆ C        │\n",
       "│            ┆        ┆ Mrs. John ┆      ┆       ┆         ┆       ┆          │\n",
       "│            ┆        ┆ Bradley   ┆      ┆       ┆         ┆       ┆          │\n",
       "│            ┆        ┆ (Fl…      ┆      ┆       ┆         ┆       ┆          │\n",
       "└────────────┴────────┴───────────┴──────┴───────┴─────────┴───────┴──────────┘"
      ]
     },
     "execution_count": 5,
     "metadata": {},
     "output_type": "execute_result"
    }
   ],
   "source": [
    "# cs.matches를 활용하여 대소문자 구분 없이 'a' 또는 'A'가 포함된 컬럼 선택 (예제)\n",
    "df.select(cs.matches(r\"(?i).*a.*\")).head(2)"
   ]
  },
  {
   "cell_type": "code",
   "execution_count": 6,
   "metadata": {},
   "outputs": [
    {
     "data": {
      "text/html": [
       "<div><style>\n",
       ".dataframe > thead > tr,\n",
       ".dataframe > tbody > tr {\n",
       "  text-align: right;\n",
       "  white-space: pre-wrap;\n",
       "}\n",
       "</style>\n",
       "<small>shape: (2, 3)</small><table border=\"1\" class=\"dataframe\"><thead><tr><th>PassengerId</th><th>Pclass</th><th>Parch</th></tr><tr><td>i64</td><td>i64</td><td>i64</td></tr></thead><tbody><tr><td>1</td><td>3</td><td>0</td></tr><tr><td>2</td><td>1</td><td>0</td></tr></tbody></table></div>"
      ],
      "text/plain": [
       "shape: (2, 3)\n",
       "┌─────────────┬────────┬───────┐\n",
       "│ PassengerId ┆ Pclass ┆ Parch │\n",
       "│ ---         ┆ ---    ┆ ---   │\n",
       "│ i64         ┆ i64    ┆ i64   │\n",
       "╞═════════════╪════════╪═══════╡\n",
       "│ 1           ┆ 3      ┆ 0     │\n",
       "│ 2           ┆ 1      ┆ 0     │\n",
       "└─────────────┴────────┴───────┘"
      ]
     },
     "execution_count": 6,
     "metadata": {},
     "output_type": "execute_result"
    }
   ],
   "source": [
    "# P로 시작하는 컬럼 조회\n",
    "df.select(cs.starts_with(\"P\")).head(2)"
   ]
  },
  {
   "cell_type": "markdown",
   "metadata": {},
   "source": [
    "# 레시피 14 : 조건에 맞는 행 추출 filter 함수"
   ]
  },
  {
   "cell_type": "code",
   "execution_count": 8,
   "metadata": {},
   "outputs": [
    {
     "data": {
      "text/html": [
       "<div><style>\n",
       ".dataframe > thead > tr,\n",
       ".dataframe > tbody > tr {\n",
       "  text-align: right;\n",
       "  white-space: pre-wrap;\n",
       "}\n",
       "</style>\n",
       "<small>shape: (1, 12)</small><table border=\"1\" class=\"dataframe\"><thead><tr><th>PassengerId</th><th>Survived</th><th>Pclass</th><th>Name</th><th>Sex</th><th>Age</th><th>SibSp</th><th>Parch</th><th>Ticket</th><th>Fare</th><th>Cabin</th><th>Embarked</th></tr><tr><td>i64</td><td>i64</td><td>i64</td><td>str</td><td>str</td><td>f64</td><td>i64</td><td>i64</td><td>str</td><td>f64</td><td>str</td><td>str</td></tr></thead><tbody><tr><td>2</td><td>1</td><td>1</td><td>&quot;Cumings, Mrs. John Bradley (Fl…</td><td>&quot;female&quot;</td><td>38.0</td><td>1</td><td>0</td><td>&quot;PC 17599&quot;</td><td>71.2833</td><td>&quot;C85&quot;</td><td>&quot;C&quot;</td></tr></tbody></table></div>"
      ],
      "text/plain": [
       "shape: (1, 12)\n",
       "┌─────────┬─────────┬────────┬─────────┬───┬────────┬────────┬───────┬────────┐\n",
       "│ Passeng ┆ Survive ┆ Pclass ┆ Name    ┆ … ┆ Ticket ┆ Fare   ┆ Cabin ┆ Embark │\n",
       "│ erId    ┆ d       ┆ ---    ┆ ---     ┆   ┆ ---    ┆ ---    ┆ ---   ┆ ed     │\n",
       "│ ---     ┆ ---     ┆ i64    ┆ str     ┆   ┆ str    ┆ f64    ┆ str   ┆ ---    │\n",
       "│ i64     ┆ i64     ┆        ┆         ┆   ┆        ┆        ┆       ┆ str    │\n",
       "╞═════════╪═════════╪════════╪═════════╪═══╪════════╪════════╪═══════╪════════╡\n",
       "│ 2       ┆ 1       ┆ 1      ┆ Cumings ┆ … ┆ PC     ┆ 71.283 ┆ C85   ┆ C      │\n",
       "│         ┆         ┆        ┆ , Mrs.  ┆   ┆ 17599  ┆ 3      ┆       ┆        │\n",
       "│         ┆         ┆        ┆ John    ┆   ┆        ┆        ┆       ┆        │\n",
       "│         ┆         ┆        ┆ Bradley ┆   ┆        ┆        ┆       ┆        │\n",
       "│         ┆         ┆        ┆ (Fl…    ┆   ┆        ┆        ┆       ┆        │\n",
       "└─────────┴─────────┴────────┴─────────┴───┴────────┴────────┴───────┴────────┘"
      ]
     },
     "execution_count": 8,
     "metadata": {},
     "output_type": "execute_result"
    }
   ],
   "source": [
    "# 30세 이상 승객을 선택하는 코드\n",
    "df.filter(pl.col(\"Age\") > 30).head(1)"
   ]
  },
  {
   "cell_type": "code",
   "execution_count": 10,
   "metadata": {},
   "outputs": [
    {
     "data": {
      "text/html": [
       "<div><style>\n",
       ".dataframe > thead > tr,\n",
       ".dataframe > tbody > tr {\n",
       "  text-align: right;\n",
       "  white-space: pre-wrap;\n",
       "}\n",
       "</style>\n",
       "<small>shape: (1, 12)</small><table border=\"1\" class=\"dataframe\"><thead><tr><th>PassengerId</th><th>Survived</th><th>Pclass</th><th>Name</th><th>Sex</th><th>Age</th><th>SibSp</th><th>Parch</th><th>Ticket</th><th>Fare</th><th>Cabin</th><th>Embarked</th></tr><tr><td>i64</td><td>i64</td><td>i64</td><td>str</td><td>str</td><td>f64</td><td>i64</td><td>i64</td><td>str</td><td>f64</td><td>str</td><td>str</td></tr></thead><tbody><tr><td>1</td><td>0</td><td>3</td><td>&quot;Braund, Mr. Owen Harris&quot;</td><td>&quot;male&quot;</td><td>22.0</td><td>1</td><td>0</td><td>&quot;A/5 21171&quot;</td><td>7.25</td><td>null</td><td>&quot;S&quot;</td></tr></tbody></table></div>"
      ],
      "text/plain": [
       "shape: (1, 12)\n",
       "┌─────────┬─────────┬────────┬─────────┬───┬─────────┬──────┬───────┬─────────┐\n",
       "│ Passeng ┆ Survive ┆ Pclass ┆ Name    ┆ … ┆ Ticket  ┆ Fare ┆ Cabin ┆ Embarke │\n",
       "│ erId    ┆ d       ┆ ---    ┆ ---     ┆   ┆ ---     ┆ ---  ┆ ---   ┆ d       │\n",
       "│ ---     ┆ ---     ┆ i64    ┆ str     ┆   ┆ str     ┆ f64  ┆ str   ┆ ---     │\n",
       "│ i64     ┆ i64     ┆        ┆         ┆   ┆         ┆      ┆       ┆ str     │\n",
       "╞═════════╪═════════╪════════╪═════════╪═══╪═════════╪══════╪═══════╪═════════╡\n",
       "│ 1       ┆ 0       ┆ 3      ┆ Braund, ┆ … ┆ A/5     ┆ 7.25 ┆ null  ┆ S       │\n",
       "│         ┆         ┆        ┆ Mr.     ┆   ┆ 21171   ┆      ┆       ┆         │\n",
       "│         ┆         ┆        ┆ Owen    ┆   ┆         ┆      ┆       ┆         │\n",
       "│         ┆         ┆        ┆ Harris  ┆   ┆         ┆      ┆       ┆         │\n",
       "└─────────┴─────────┴────────┴─────────┴───┴─────────┴──────┴───────┴─────────┘"
      ]
     },
     "execution_count": 10,
     "metadata": {},
     "output_type": "execute_result"
    }
   ],
   "source": [
    "# 탑승 요금이 20미만인 승객 선택하는 코드\n",
    "df.filter(pl.col(\"Fare\") < 20).head(1)"
   ]
  },
  {
   "cell_type": "code",
   "execution_count": 11,
   "metadata": {},
   "outputs": [
    {
     "data": {
      "text/html": [
       "<div><style>\n",
       ".dataframe > thead > tr,\n",
       ".dataframe > tbody > tr {\n",
       "  text-align: right;\n",
       "  white-space: pre-wrap;\n",
       "}\n",
       "</style>\n",
       "<small>shape: (1, 12)</small><table border=\"1\" class=\"dataframe\"><thead><tr><th>PassengerId</th><th>Survived</th><th>Pclass</th><th>Name</th><th>Sex</th><th>Age</th><th>SibSp</th><th>Parch</th><th>Ticket</th><th>Fare</th><th>Cabin</th><th>Embarked</th></tr><tr><td>i64</td><td>i64</td><td>i64</td><td>str</td><td>str</td><td>f64</td><td>i64</td><td>i64</td><td>str</td><td>f64</td><td>str</td><td>str</td></tr></thead><tbody><tr><td>2</td><td>1</td><td>1</td><td>&quot;Cumings, Mrs. John Bradley (Fl…</td><td>&quot;female&quot;</td><td>38.0</td><td>1</td><td>0</td><td>&quot;PC 17599&quot;</td><td>71.2833</td><td>&quot;C85&quot;</td><td>&quot;C&quot;</td></tr></tbody></table></div>"
      ],
      "text/plain": [
       "shape: (1, 12)\n",
       "┌─────────┬─────────┬────────┬─────────┬───┬────────┬────────┬───────┬────────┐\n",
       "│ Passeng ┆ Survive ┆ Pclass ┆ Name    ┆ … ┆ Ticket ┆ Fare   ┆ Cabin ┆ Embark │\n",
       "│ erId    ┆ d       ┆ ---    ┆ ---     ┆   ┆ ---    ┆ ---    ┆ ---   ┆ ed     │\n",
       "│ ---     ┆ ---     ┆ i64    ┆ str     ┆   ┆ str    ┆ f64    ┆ str   ┆ ---    │\n",
       "│ i64     ┆ i64     ┆        ┆         ┆   ┆        ┆        ┆       ┆ str    │\n",
       "╞═════════╪═════════╪════════╪═════════╪═══╪════════╪════════╪═══════╪════════╡\n",
       "│ 2       ┆ 1       ┆ 1      ┆ Cumings ┆ … ┆ PC     ┆ 71.283 ┆ C85   ┆ C      │\n",
       "│         ┆         ┆        ┆ , Mrs.  ┆   ┆ 17599  ┆ 3      ┆       ┆        │\n",
       "│         ┆         ┆        ┆ John    ┆   ┆        ┆        ┆       ┆        │\n",
       "│         ┆         ┆        ┆ Bradley ┆   ┆        ┆        ┆       ┆        │\n",
       "│         ┆         ┆        ┆ (Fl…    ┆   ┆        ┆        ┆       ┆        │\n",
       "└─────────┴─────────┴────────┴─────────┴───┴────────┴────────┴───────┴────────┘"
      ]
     },
     "execution_count": 11,
     "metadata": {},
     "output_type": "execute_result"
    }
   ],
   "source": [
    "# 여성 승객만 선택하는 코드\n",
    "df.filter(pl.col(\"Sex\") == \"female\").head(1)"
   ]
  },
  {
   "cell_type": "code",
   "execution_count": 14,
   "metadata": {},
   "outputs": [
    {
     "data": {
      "text/html": [
       "<div><style>\n",
       ".dataframe > thead > tr,\n",
       ".dataframe > tbody > tr {\n",
       "  text-align: right;\n",
       "  white-space: pre-wrap;\n",
       "}\n",
       "</style>\n",
       "<small>shape: (1, 12)</small><table border=\"1\" class=\"dataframe\"><thead><tr><th>PassengerId</th><th>Survived</th><th>Pclass</th><th>Name</th><th>Sex</th><th>Age</th><th>SibSp</th><th>Parch</th><th>Ticket</th><th>Fare</th><th>Cabin</th><th>Embarked</th></tr><tr><td>i64</td><td>i64</td><td>i64</td><td>str</td><td>str</td><td>f64</td><td>i64</td><td>i64</td><td>str</td><td>f64</td><td>str</td><td>str</td></tr></thead><tbody><tr><td>2</td><td>1</td><td>1</td><td>&quot;Cumings, Mrs. John Bradley (Fl…</td><td>&quot;female&quot;</td><td>38.0</td><td>1</td><td>0</td><td>&quot;PC 17599&quot;</td><td>71.2833</td><td>&quot;C85&quot;</td><td>&quot;C&quot;</td></tr></tbody></table></div>"
      ],
      "text/plain": [
       "shape: (1, 12)\n",
       "┌─────────┬─────────┬────────┬─────────┬───┬────────┬────────┬───────┬────────┐\n",
       "│ Passeng ┆ Survive ┆ Pclass ┆ Name    ┆ … ┆ Ticket ┆ Fare   ┆ Cabin ┆ Embark │\n",
       "│ erId    ┆ d       ┆ ---    ┆ ---     ┆   ┆ ---    ┆ ---    ┆ ---   ┆ ed     │\n",
       "│ ---     ┆ ---     ┆ i64    ┆ str     ┆   ┆ str    ┆ f64    ┆ str   ┆ ---    │\n",
       "│ i64     ┆ i64     ┆        ┆         ┆   ┆        ┆        ┆       ┆ str    │\n",
       "╞═════════╪═════════╪════════╪═════════╪═══╪════════╪════════╪═══════╪════════╡\n",
       "│ 2       ┆ 1       ┆ 1      ┆ Cumings ┆ … ┆ PC     ┆ 71.283 ┆ C85   ┆ C      │\n",
       "│         ┆         ┆        ┆ , Mrs.  ┆   ┆ 17599  ┆ 3      ┆       ┆        │\n",
       "│         ┆         ┆        ┆ John    ┆   ┆        ┆        ┆       ┆        │\n",
       "│         ┆         ┆        ┆ Bradley ┆   ┆        ┆        ┆       ┆        │\n",
       "│         ┆         ┆        ┆ (Fl…    ┆   ┆        ┆        ┆       ┆        │\n",
       "└─────────┴─────────┴────────┴─────────┴───┴────────┴────────┴───────┴────────┘"
      ]
     },
     "execution_count": 14,
     "metadata": {},
     "output_type": "execute_result"
    }
   ],
   "source": [
    "# 3등석이 아닌 승객을 선택\n",
    "df.filter(pl.col(\"Pclass\") != 3).head(1)"
   ]
  },
  {
   "cell_type": "code",
   "execution_count": 17,
   "metadata": {},
   "outputs": [
    {
     "data": {
      "text/html": [
       "<div><style>\n",
       ".dataframe > thead > tr,\n",
       ".dataframe > tbody > tr {\n",
       "  text-align: right;\n",
       "  white-space: pre-wrap;\n",
       "}\n",
       "</style>\n",
       "<small>shape: (1, 12)</small><table border=\"1\" class=\"dataframe\"><thead><tr><th>PassengerId</th><th>Survived</th><th>Pclass</th><th>Name</th><th>Sex</th><th>Age</th><th>SibSp</th><th>Parch</th><th>Ticket</th><th>Fare</th><th>Cabin</th><th>Embarked</th></tr><tr><td>i64</td><td>i64</td><td>i64</td><td>str</td><td>str</td><td>f64</td><td>i64</td><td>i64</td><td>str</td><td>f64</td><td>str</td><td>str</td></tr></thead><tbody><tr><td>6</td><td>0</td><td>3</td><td>&quot;Moran, Mr. James&quot;</td><td>&quot;male&quot;</td><td>null</td><td>0</td><td>0</td><td>&quot;330877&quot;</td><td>8.4583</td><td>null</td><td>&quot;Q&quot;</td></tr></tbody></table></div>"
      ],
      "text/plain": [
       "shape: (1, 12)\n",
       "┌─────────┬─────────┬────────┬─────────┬───┬────────┬────────┬───────┬────────┐\n",
       "│ Passeng ┆ Survive ┆ Pclass ┆ Name    ┆ … ┆ Ticket ┆ Fare   ┆ Cabin ┆ Embark │\n",
       "│ erId    ┆ d       ┆ ---    ┆ ---     ┆   ┆ ---    ┆ ---    ┆ ---   ┆ ed     │\n",
       "│ ---     ┆ ---     ┆ i64    ┆ str     ┆   ┆ str    ┆ f64    ┆ str   ┆ ---    │\n",
       "│ i64     ┆ i64     ┆        ┆         ┆   ┆        ┆        ┆       ┆ str    │\n",
       "╞═════════╪═════════╪════════╪═════════╪═══╪════════╪════════╪═══════╪════════╡\n",
       "│ 6       ┆ 0       ┆ 3      ┆ Moran,  ┆ … ┆ 330877 ┆ 8.4583 ┆ null  ┆ Q      │\n",
       "│         ┆         ┆        ┆ Mr.     ┆   ┆        ┆        ┆       ┆        │\n",
       "│         ┆         ┆        ┆ James   ┆   ┆        ┆        ┆       ┆        │\n",
       "└─────────┴─────────┴────────┴─────────┴───┴────────┴────────┴───────┴────────┘"
      ]
     },
     "execution_count": 17,
     "metadata": {},
     "output_type": "execute_result"
    }
   ],
   "source": [
    "# Age값이 NULL(결측치)인 고객을 선택\n",
    "df.filter(pl.col(\"Age\").is_null()).head(1)"
   ]
  },
  {
   "cell_type": "code",
   "execution_count": 19,
   "metadata": {},
   "outputs": [
    {
     "data": {
      "text/html": [
       "<div><style>\n",
       ".dataframe > thead > tr,\n",
       ".dataframe > tbody > tr {\n",
       "  text-align: right;\n",
       "  white-space: pre-wrap;\n",
       "}\n",
       "</style>\n",
       "<small>shape: (1, 12)</small><table border=\"1\" class=\"dataframe\"><thead><tr><th>PassengerId</th><th>Survived</th><th>Pclass</th><th>Name</th><th>Sex</th><th>Age</th><th>SibSp</th><th>Parch</th><th>Ticket</th><th>Fare</th><th>Cabin</th><th>Embarked</th></tr><tr><td>i64</td><td>i64</td><td>i64</td><td>str</td><td>str</td><td>f64</td><td>i64</td><td>i64</td><td>str</td><td>f64</td><td>str</td><td>str</td></tr></thead><tbody><tr><td>2</td><td>1</td><td>1</td><td>&quot;Cumings, Mrs. John Bradley (Fl…</td><td>&quot;female&quot;</td><td>38.0</td><td>1</td><td>0</td><td>&quot;PC 17599&quot;</td><td>71.2833</td><td>&quot;C85&quot;</td><td>&quot;C&quot;</td></tr></tbody></table></div>"
      ],
      "text/plain": [
       "shape: (1, 12)\n",
       "┌─────────┬─────────┬────────┬─────────┬───┬────────┬────────┬───────┬────────┐\n",
       "│ Passeng ┆ Survive ┆ Pclass ┆ Name    ┆ … ┆ Ticket ┆ Fare   ┆ Cabin ┆ Embark │\n",
       "│ erId    ┆ d       ┆ ---    ┆ ---     ┆   ┆ ---    ┆ ---    ┆ ---   ┆ ed     │\n",
       "│ ---     ┆ ---     ┆ i64    ┆ str     ┆   ┆ str    ┆ f64    ┆ str   ┆ ---    │\n",
       "│ i64     ┆ i64     ┆        ┆         ┆   ┆        ┆        ┆       ┆ str    │\n",
       "╞═════════╪═════════╪════════╪═════════╪═══╪════════╪════════╪═══════╪════════╡\n",
       "│ 2       ┆ 1       ┆ 1      ┆ Cumings ┆ … ┆ PC     ┆ 71.283 ┆ C85   ┆ C      │\n",
       "│         ┆         ┆        ┆ , Mrs.  ┆   ┆ 17599  ┆ 3      ┆       ┆        │\n",
       "│         ┆         ┆        ┆ John    ┆   ┆        ┆        ┆       ┆        │\n",
       "│         ┆         ┆        ┆ Bradley ┆   ┆        ┆        ┆       ┆        │\n",
       "│         ┆         ┆        ┆ (Fl…    ┆   ┆        ┆        ┆       ┆        │\n",
       "└─────────┴─────────┴────────┴─────────┴───┴────────┴────────┴───────┴────────┘"
      ]
     },
     "execution_count": 19,
     "metadata": {},
     "output_type": "execute_result"
    }
   ],
   "source": [
    "# Cabin이 NULL이 아닌 승객만 선택\n",
    "df.filter(pl.col(\"Cabin\").is_not_null()).head(1)"
   ]
  },
  {
   "cell_type": "code",
   "execution_count": 21,
   "metadata": {},
   "outputs": [
    {
     "data": {
      "text/html": [
       "<div><style>\n",
       ".dataframe > thead > tr,\n",
       ".dataframe > tbody > tr {\n",
       "  text-align: right;\n",
       "  white-space: pre-wrap;\n",
       "}\n",
       "</style>\n",
       "<small>shape: (1, 12)</small><table border=\"1\" class=\"dataframe\"><thead><tr><th>PassengerId</th><th>Survived</th><th>Pclass</th><th>Name</th><th>Sex</th><th>Age</th><th>SibSp</th><th>Parch</th><th>Ticket</th><th>Fare</th><th>Cabin</th><th>Embarked</th></tr><tr><td>i64</td><td>i64</td><td>i64</td><td>str</td><td>str</td><td>f64</td><td>i64</td><td>i64</td><td>str</td><td>f64</td><td>str</td><td>str</td></tr></thead><tbody><tr><td>175</td><td>0</td><td>1</td><td>&quot;Smith, Mr. James Clinch&quot;</td><td>&quot;male&quot;</td><td>56.0</td><td>0</td><td>0</td><td>&quot;17764&quot;</td><td>30.6958</td><td>&quot;A7&quot;</td><td>&quot;C&quot;</td></tr></tbody></table></div>"
      ],
      "text/plain": [
       "shape: (1, 12)\n",
       "┌─────────┬─────────┬────────┬─────────┬───┬────────┬────────┬───────┬────────┐\n",
       "│ Passeng ┆ Survive ┆ Pclass ┆ Name    ┆ … ┆ Ticket ┆ Fare   ┆ Cabin ┆ Embark │\n",
       "│ erId    ┆ d       ┆ ---    ┆ ---     ┆   ┆ ---    ┆ ---    ┆ ---   ┆ ed     │\n",
       "│ ---     ┆ ---     ┆ i64    ┆ str     ┆   ┆ str    ┆ f64    ┆ str   ┆ ---    │\n",
       "│ i64     ┆ i64     ┆        ┆         ┆   ┆        ┆        ┆       ┆ str    │\n",
       "╞═════════╪═════════╪════════╪═════════╪═══╪════════╪════════╪═══════╪════════╡\n",
       "│ 175     ┆ 0       ┆ 1      ┆ Smith,  ┆ … ┆ 17764  ┆ 30.695 ┆ A7    ┆ C      │\n",
       "│         ┆         ┆        ┆ Mr.     ┆   ┆        ┆ 8      ┆       ┆        │\n",
       "│         ┆         ┆        ┆ James   ┆   ┆        ┆        ┆       ┆        │\n",
       "│         ┆         ┆        ┆ Clinch  ┆   ┆        ┆        ┆       ┆        │\n",
       "└─────────┴─────────┴────────┴─────────┴───┴────────┴────────┴───────┴────────┘"
      ]
     },
     "execution_count": 21,
     "metadata": {},
     "output_type": "execute_result"
    }
   ],
   "source": [
    "# Name 컬럼에 “Smith”가 포함된 승객을 선택\n",
    "df.filter(pl.col(\"Name\").str.contains(\"Smith\")).head(1)"
   ]
  },
  {
   "cell_type": "code",
   "execution_count": 22,
   "metadata": {},
   "outputs": [
    {
     "data": {
      "text/html": [
       "<div><style>\n",
       ".dataframe > thead > tr,\n",
       ".dataframe > tbody > tr {\n",
       "  text-align: right;\n",
       "  white-space: pre-wrap;\n",
       "}\n",
       "</style>\n",
       "<small>shape: (1, 12)</small><table border=\"1\" class=\"dataframe\"><thead><tr><th>PassengerId</th><th>Survived</th><th>Pclass</th><th>Name</th><th>Sex</th><th>Age</th><th>SibSp</th><th>Parch</th><th>Ticket</th><th>Fare</th><th>Cabin</th><th>Embarked</th></tr><tr><td>i64</td><td>i64</td><td>i64</td><td>str</td><td>str</td><td>f64</td><td>i64</td><td>i64</td><td>str</td><td>f64</td><td>str</td><td>str</td></tr></thead><tbody><tr><td>2</td><td>1</td><td>1</td><td>&quot;Cumings, Mrs. John Bradley (Fl…</td><td>&quot;female&quot;</td><td>38.0</td><td>1</td><td>0</td><td>&quot;PC 17599&quot;</td><td>71.2833</td><td>&quot;C85&quot;</td><td>&quot;C&quot;</td></tr></tbody></table></div>"
      ],
      "text/plain": [
       "shape: (1, 12)\n",
       "┌─────────┬─────────┬────────┬─────────┬───┬────────┬────────┬───────┬────────┐\n",
       "│ Passeng ┆ Survive ┆ Pclass ┆ Name    ┆ … ┆ Ticket ┆ Fare   ┆ Cabin ┆ Embark │\n",
       "│ erId    ┆ d       ┆ ---    ┆ ---     ┆   ┆ ---    ┆ ---    ┆ ---   ┆ ed     │\n",
       "│ ---     ┆ ---     ┆ i64    ┆ str     ┆   ┆ str    ┆ f64    ┆ str   ┆ ---    │\n",
       "│ i64     ┆ i64     ┆        ┆         ┆   ┆        ┆        ┆       ┆ str    │\n",
       "╞═════════╪═════════╪════════╪═════════╪═══╪════════╪════════╪═══════╪════════╡\n",
       "│ 2       ┆ 1       ┆ 1      ┆ Cumings ┆ … ┆ PC     ┆ 71.283 ┆ C85   ┆ C      │\n",
       "│         ┆         ┆        ┆ , Mrs.  ┆   ┆ 17599  ┆ 3      ┆       ┆        │\n",
       "│         ┆         ┆        ┆ John    ┆   ┆        ┆        ┆       ┆        │\n",
       "│         ┆         ┆        ┆ Bradley ┆   ┆        ┆        ┆       ┆        │\n",
       "│         ┆         ┆        ┆ (Fl…    ┆   ┆        ┆        ┆       ┆        │\n",
       "└─────────┴─────────┴────────┴─────────┴───┴────────┴────────┴───────┴────────┘"
      ]
     },
     "execution_count": 22,
     "metadata": {},
     "output_type": "execute_result"
    }
   ],
   "source": [
    "# Embarked가 \"C\" 또는 \"Q\" 인 승객을 선택\n",
    "df.filter(pl.col(\"Embarked\").is_in([\"C\", \"Q\"])).head(1)"
   ]
  },
  {
   "cell_type": "code",
   "execution_count": 23,
   "metadata": {},
   "outputs": [
    {
     "data": {
      "text/html": [
       "<div><style>\n",
       ".dataframe > thead > tr,\n",
       ".dataframe > tbody > tr {\n",
       "  text-align: right;\n",
       "  white-space: pre-wrap;\n",
       "}\n",
       "</style>\n",
       "<small>shape: (1, 12)</small><table border=\"1\" class=\"dataframe\"><thead><tr><th>PassengerId</th><th>Survived</th><th>Pclass</th><th>Name</th><th>Sex</th><th>Age</th><th>SibSp</th><th>Parch</th><th>Ticket</th><th>Fare</th><th>Cabin</th><th>Embarked</th></tr><tr><td>i64</td><td>i64</td><td>i64</td><td>str</td><td>str</td><td>f64</td><td>i64</td><td>i64</td><td>str</td><td>f64</td><td>str</td><td>str</td></tr></thead><tbody><tr><td>2</td><td>1</td><td>1</td><td>&quot;Cumings, Mrs. John Bradley (Fl…</td><td>&quot;female&quot;</td><td>38.0</td><td>1</td><td>0</td><td>&quot;PC 17599&quot;</td><td>71.2833</td><td>&quot;C85&quot;</td><td>&quot;C&quot;</td></tr></tbody></table></div>"
      ],
      "text/plain": [
       "shape: (1, 12)\n",
       "┌─────────┬─────────┬────────┬─────────┬───┬────────┬────────┬───────┬────────┐\n",
       "│ Passeng ┆ Survive ┆ Pclass ┆ Name    ┆ … ┆ Ticket ┆ Fare   ┆ Cabin ┆ Embark │\n",
       "│ erId    ┆ d       ┆ ---    ┆ ---     ┆   ┆ ---    ┆ ---    ┆ ---   ┆ ed     │\n",
       "│ ---     ┆ ---     ┆ i64    ┆ str     ┆   ┆ str    ┆ f64    ┆ str   ┆ ---    │\n",
       "│ i64     ┆ i64     ┆        ┆         ┆   ┆        ┆        ┆       ┆ str    │\n",
       "╞═════════╪═════════╪════════╪═════════╪═══╪════════╪════════╪═══════╪════════╡\n",
       "│ 2       ┆ 1       ┆ 1      ┆ Cumings ┆ … ┆ PC     ┆ 71.283 ┆ C85   ┆ C      │\n",
       "│         ┆         ┆        ┆ , Mrs.  ┆   ┆ 17599  ┆ 3      ┆       ┆        │\n",
       "│         ┆         ┆        ┆ John    ┆   ┆        ┆        ┆       ┆        │\n",
       "│         ┆         ┆        ┆ Bradley ┆   ┆        ┆        ┆       ┆        │\n",
       "│         ┆         ┆        ┆ (Fl…    ┆   ┆        ┆        ┆       ┆        │\n",
       "└─────────┴─────────┴────────┴─────────┴───┴────────┴────────┴───────┴────────┘"
      ]
     },
     "execution_count": 23,
     "metadata": {},
     "output_type": "execute_result"
    }
   ],
   "source": [
    "# 18세 이상 & 여성 승객을 선택\n",
    "df.filter((pl.col(\"Age\") > 18) & (pl.col(\"Sex\") == \"female\")).head(1)"
   ]
  },
  {
   "cell_type": "code",
   "execution_count": 25,
   "metadata": {},
   "outputs": [
    {
     "data": {
      "text/html": [
       "<div><style>\n",
       ".dataframe > thead > tr,\n",
       ".dataframe > tbody > tr {\n",
       "  text-align: right;\n",
       "  white-space: pre-wrap;\n",
       "}\n",
       "</style>\n",
       "<small>shape: (1, 12)</small><table border=\"1\" class=\"dataframe\"><thead><tr><th>PassengerId</th><th>Survived</th><th>Pclass</th><th>Name</th><th>Sex</th><th>Age</th><th>SibSp</th><th>Parch</th><th>Ticket</th><th>Fare</th><th>Cabin</th><th>Embarked</th></tr><tr><td>i64</td><td>i64</td><td>i64</td><td>str</td><td>str</td><td>f64</td><td>i64</td><td>i64</td><td>str</td><td>f64</td><td>str</td><td>str</td></tr></thead><tbody><tr><td>2</td><td>1</td><td>1</td><td>&quot;Cumings, Mrs. John Bradley (Fl…</td><td>&quot;female&quot;</td><td>38.0</td><td>1</td><td>0</td><td>&quot;PC 17599&quot;</td><td>71.2833</td><td>&quot;C85&quot;</td><td>&quot;C&quot;</td></tr></tbody></table></div>"
      ],
      "text/plain": [
       "shape: (1, 12)\n",
       "┌─────────┬─────────┬────────┬─────────┬───┬────────┬────────┬───────┬────────┐\n",
       "│ Passeng ┆ Survive ┆ Pclass ┆ Name    ┆ … ┆ Ticket ┆ Fare   ┆ Cabin ┆ Embark │\n",
       "│ erId    ┆ d       ┆ ---    ┆ ---     ┆   ┆ ---    ┆ ---    ┆ ---   ┆ ed     │\n",
       "│ ---     ┆ ---     ┆ i64    ┆ str     ┆   ┆ str    ┆ f64    ┆ str   ┆ ---    │\n",
       "│ i64     ┆ i64     ┆        ┆         ┆   ┆        ┆        ┆       ┆ str    │\n",
       "╞═════════╪═════════╪════════╪═════════╪═══╪════════╪════════╪═══════╪════════╡\n",
       "│ 2       ┆ 1       ┆ 1      ┆ Cumings ┆ … ┆ PC     ┆ 71.283 ┆ C85   ┆ C      │\n",
       "│         ┆         ┆        ┆ , Mrs.  ┆   ┆ 17599  ┆ 3      ┆       ┆        │\n",
       "│         ┆         ┆        ┆ John    ┆   ┆        ┆        ┆       ┆        │\n",
       "│         ┆         ┆        ┆ Bradley ┆   ┆        ┆        ┆       ┆        │\n",
       "│         ┆         ┆        ┆ (Fl…    ┆   ┆        ┆        ┆       ┆        │\n",
       "└─────────┴─────────┴────────┴─────────┴───┴────────┴────────┴───────┴────────┘"
      ]
     },
     "execution_count": 25,
     "metadata": {},
     "output_type": "execute_result"
    }
   ],
   "source": [
    "# 요금이 100 초과 또는 1등석인 승객만 선택\n",
    "df.filter((pl.col(\"Fare\") > 100) | (pl.col(\"Pclass\") == 1)).head(1)"
   ]
  }
 ],
 "metadata": {
  "kernelspec": {
   "display_name": "Python 3 (ipykernel)",
   "language": "python",
   "name": "python3"
  },
  "language_info": {
   "codemirror_mode": {
    "name": "ipython",
    "version": 3
   },
   "file_extension": ".py",
   "mimetype": "text/x-python",
   "name": "python",
   "nbconvert_exporter": "python",
   "pygments_lexer": "ipython3",
   "version": "3.12.6"
  }
 },
 "nbformat": 4,
 "nbformat_minor": 4
}

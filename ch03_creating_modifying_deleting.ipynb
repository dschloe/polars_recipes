{
 "cells": [
  {
   "cell_type": "markdown",
   "metadata": {},
   "source": [
    "# Create Columns"
   ]
  },
  {
   "cell_type": "code",
   "execution_count": 2,
   "metadata": {},
   "outputs": [
    {
     "data": {
      "text/html": [
       "<div><style>\n",
       ".dataframe > thead > tr,\n",
       ".dataframe > tbody > tr {\n",
       "  text-align: right;\n",
       "  white-space: pre-wrap;\n",
       "}\n",
       "</style>\n",
       "<small>shape: (1, 12)</small><table border=\"1\" class=\"dataframe\"><thead><tr><th>PassengerId</th><th>Survived</th><th>Pclass</th><th>Name</th><th>Sex</th><th>Age</th><th>SibSp</th><th>Parch</th><th>Ticket</th><th>Fare</th><th>Cabin</th><th>Embarked</th></tr><tr><td>i64</td><td>i64</td><td>i64</td><td>str</td><td>str</td><td>f64</td><td>i64</td><td>i64</td><td>str</td><td>f64</td><td>str</td><td>str</td></tr></thead><tbody><tr><td>1</td><td>0</td><td>3</td><td>&quot;Braund, Mr. Owen Harris&quot;</td><td>&quot;male&quot;</td><td>22.0</td><td>1</td><td>0</td><td>&quot;A/5 21171&quot;</td><td>7.25</td><td>null</td><td>&quot;S&quot;</td></tr></tbody></table></div>"
      ],
      "text/plain": [
       "shape: (1, 12)\n",
       "┌─────────────┬──────────┬────────┬──────────────────┬───┬───────────┬──────┬───────┬──────────┐\n",
       "│ PassengerId ┆ Survived ┆ Pclass ┆ Name             ┆ … ┆ Ticket    ┆ Fare ┆ Cabin ┆ Embarked │\n",
       "│ ---         ┆ ---      ┆ ---    ┆ ---              ┆   ┆ ---       ┆ ---  ┆ ---   ┆ ---      │\n",
       "│ i64         ┆ i64      ┆ i64    ┆ str              ┆   ┆ str       ┆ f64  ┆ str   ┆ str      │\n",
       "╞═════════════╪══════════╪════════╪══════════════════╪═══╪═══════════╪══════╪═══════╪══════════╡\n",
       "│ 1           ┆ 0        ┆ 3      ┆ Braund, Mr. Owen ┆ … ┆ A/5 21171 ┆ 7.25 ┆ null  ┆ S        │\n",
       "│             ┆          ┆        ┆ Harris           ┆   ┆           ┆      ┆       ┆          │\n",
       "└─────────────┴──────────┴────────┴──────────────────┴───┴───────────┴──────┴───────┴──────────┘"
      ]
     },
     "execution_count": 2,
     "metadata": {},
     "output_type": "execute_result"
    }
   ],
   "source": [
    "import polars as pl\n",
    "\n",
    "df = pl.read_csv(\"data/titanic_dataset.csv\")\n",
    "df.head(1)"
   ]
  },
  {
   "cell_type": "code",
   "execution_count": 15,
   "metadata": {},
   "outputs": [
    {
     "data": {
      "text/html": [
       "<div><style>\n",
       ".dataframe > thead > tr,\n",
       ".dataframe > tbody > tr {\n",
       "  text-align: right;\n",
       "  white-space: pre-wrap;\n",
       "}\n",
       "</style>\n",
       "<small>shape: (1, 16)</small><table border=\"1\" class=\"dataframe\"><thead><tr><th>PassengerId</th><th>Survived</th><th>Pclass</th><th>Name</th><th>Sex</th><th>Age</th><th>SibSp</th><th>Parch</th><th>Ticket</th><th>Fare</th><th>Cabin</th><th>Embarked</th><th>Fare_with_surcharge</th><th>Fare_per_class</th><th>Family_size</th><th>IsMinor</th></tr><tr><td>i64</td><td>i64</td><td>i64</td><td>str</td><td>str</td><td>f64</td><td>i64</td><td>i64</td><td>str</td><td>f64</td><td>str</td><td>str</td><td>f64</td><td>f64</td><td>i64</td><td>bool</td></tr></thead><tbody><tr><td>1</td><td>0</td><td>3</td><td>&quot;Braund, Mr. Owen Harris&quot;</td><td>&quot;male&quot;</td><td>22.0</td><td>1</td><td>0</td><td>&quot;A/5 21171&quot;</td><td>7.25</td><td>null</td><td>&quot;S&quot;</td><td>7.975</td><td>2.416667</td><td>2</td><td>false</td></tr></tbody></table></div>"
      ],
      "text/plain": [
       "shape: (1, 16)\n",
       "┌────────────┬──────────┬────────┬────────────┬───┬────────────┬────────────┬────────────┬─────────┐\n",
       "│ PassengerI ┆ Survived ┆ Pclass ┆ Name       ┆ … ┆ Fare_with_ ┆ Fare_per_c ┆ Family_siz ┆ IsMinor │\n",
       "│ d          ┆ ---      ┆ ---    ┆ ---        ┆   ┆ surcharge  ┆ lass       ┆ e          ┆ ---     │\n",
       "│ ---        ┆ i64      ┆ i64    ┆ str        ┆   ┆ ---        ┆ ---        ┆ ---        ┆ bool    │\n",
       "│ i64        ┆          ┆        ┆            ┆   ┆ f64        ┆ f64        ┆ i64        ┆         │\n",
       "╞════════════╪══════════╪════════╪════════════╪═══╪════════════╪════════════╪════════════╪═════════╡\n",
       "│ 1          ┆ 0        ┆ 3      ┆ Braund,    ┆ … ┆ 7.975      ┆ 2.416667   ┆ 2          ┆ false   │\n",
       "│            ┆          ┆        ┆ Mr. Owen   ┆   ┆            ┆            ┆            ┆         │\n",
       "│            ┆          ┆        ┆ Harris     ┆   ┆            ┆            ┆            ┆         │\n",
       "└────────────┴──────────┴────────┴────────────┴───┴────────────┴────────────┴────────────┴─────────┘"
      ]
     },
     "execution_count": 15,
     "metadata": {},
     "output_type": "execute_result"
    }
   ],
   "source": [
    "df = df.with_columns([\n",
    "    # Fare에 10% surcharge를 추가한 새 컬럼 생성\n",
    "    (pl.col(\"Fare\") * 1.1).alias(\"Fare_with_surcharge\"),\n",
    "\n",
    "    # Pclass로 나눈 Fare를 계산 (클래스별 운임 비교용)\n",
    "    (pl.col(\"Fare\") / pl.col(\"Pclass\")).alias(\"Fare_per_class\"),\n",
    "\n",
    "    # 가족 규모 계산: 동승한 형제/자매+부모+본인\n",
    "    (pl.col(\"SibSp\") + pl.col(\"Parch\") + 1).alias(\"Family_size\"),\n",
    "    \n",
    "    # Age가 존재한다면 미성년자인지 여부 (Age < 18)\n",
    "    (pl.col(\"Age\") < 18).alias(\"IsMinor\"), \n",
    "])\n",
    "df.head(1)"
   ]
  },
  {
   "cell_type": "code",
   "execution_count": 16,
   "metadata": {},
   "outputs": [
    {
     "data": {
      "text/html": [
       "<div><style>\n",
       ".dataframe > thead > tr,\n",
       ".dataframe > tbody > tr {\n",
       "  text-align: right;\n",
       "  white-space: pre-wrap;\n",
       "}\n",
       "</style>\n",
       "<small>shape: (1, 19)</small><table border=\"1\" class=\"dataframe\"><thead><tr><th>PassengerId</th><th>Survived</th><th>Pclass</th><th>Name</th><th>Sex</th><th>Age</th><th>SibSp</th><th>Parch</th><th>Ticket</th><th>Fare</th><th>Cabin</th><th>Embarked</th><th>Fare_with_surcharge</th><th>Fare_per_class</th><th>Family_size</th><th>IsMinor</th><th>max_fare</th><th>ave_fare</th><th>Fare_diff</th></tr><tr><td>i64</td><td>i64</td><td>i64</td><td>str</td><td>str</td><td>f64</td><td>i64</td><td>i64</td><td>str</td><td>f64</td><td>str</td><td>str</td><td>f64</td><td>f64</td><td>i64</td><td>bool</td><td>f64</td><td>f64</td><td>f64</td></tr></thead><tbody><tr><td>1</td><td>0</td><td>3</td><td>&quot;Braund, Mr. Owen Harris&quot;</td><td>&quot;male&quot;</td><td>22.0</td><td>1</td><td>0</td><td>&quot;A/5 21171&quot;</td><td>7.25</td><td>null</td><td>&quot;S&quot;</td><td>7.975</td><td>2.416667</td><td>2</td><td>false</td><td>512.3292</td><td>32.204208</td><td>480.124992</td></tr></tbody></table></div>"
      ],
      "text/plain": [
       "shape: (1, 19)\n",
       "┌─────────────┬──────────┬────────┬──────────────┬───┬─────────┬──────────┬───────────┬────────────┐\n",
       "│ PassengerId ┆ Survived ┆ Pclass ┆ Name         ┆ … ┆ IsMinor ┆ max_fare ┆ ave_fare  ┆ Fare_diff  │\n",
       "│ ---         ┆ ---      ┆ ---    ┆ ---          ┆   ┆ ---     ┆ ---      ┆ ---       ┆ ---        │\n",
       "│ i64         ┆ i64      ┆ i64    ┆ str          ┆   ┆ bool    ┆ f64      ┆ f64       ┆ f64        │\n",
       "╞═════════════╪══════════╪════════╪══════════════╪═══╪═════════╪══════════╪═══════════╪════════════╡\n",
       "│ 1           ┆ 0        ┆ 3      ┆ Braund, Mr.  ┆ … ┆ false   ┆ 512.3292 ┆ 32.204208 ┆ 480.124992 │\n",
       "│             ┆          ┆        ┆ Owen Harris  ┆   ┆         ┆          ┆           ┆            │\n",
       "└─────────────┴──────────┴────────┴──────────────┴───┴─────────┴──────────┴───────────┴────────────┘"
      ]
     },
     "execution_count": 16,
     "metadata": {},
     "output_type": "execute_result"
    }
   ],
   "source": [
    "df.with_columns([\n",
    "    pl.col(\"Fare\").max().alias(\"max_fare\"),\n",
    "    pl.col(\"Fare\").mean().alias(\"ave_fare\"),\n",
    "    (pl.col(\"Fare\").max() - pl.col(\"Fare\").mean()).alias(\"Fare_diff\")\n",
    "]).head(1)"
   ]
  },
  {
   "cell_type": "markdown",
   "metadata": {},
   "source": [
    "## Row Count"
   ]
  },
  {
   "cell_type": "code",
   "execution_count": 17,
   "metadata": {},
   "outputs": [
    {
     "data": {
      "text/html": [
       "<div><style>\n",
       ".dataframe > thead > tr,\n",
       ".dataframe > tbody > tr {\n",
       "  text-align: right;\n",
       "  white-space: pre-wrap;\n",
       "}\n",
       "</style>\n",
       "<small>shape: (5, 17)</small><table border=\"1\" class=\"dataframe\"><thead><tr><th>index</th><th>PassengerId</th><th>Survived</th><th>Pclass</th><th>Name</th><th>Sex</th><th>Age</th><th>SibSp</th><th>Parch</th><th>Ticket</th><th>Fare</th><th>Cabin</th><th>Embarked</th><th>Fare_with_surcharge</th><th>Fare_per_class</th><th>Family_size</th><th>IsMinor</th></tr><tr><td>u32</td><td>i64</td><td>i64</td><td>i64</td><td>str</td><td>str</td><td>f64</td><td>i64</td><td>i64</td><td>str</td><td>f64</td><td>str</td><td>str</td><td>f64</td><td>f64</td><td>i64</td><td>bool</td></tr></thead><tbody><tr><td>0</td><td>1</td><td>0</td><td>3</td><td>&quot;Braund, Mr. Owen Harris&quot;</td><td>&quot;male&quot;</td><td>22.0</td><td>1</td><td>0</td><td>&quot;A/5 21171&quot;</td><td>7.25</td><td>null</td><td>&quot;S&quot;</td><td>7.975</td><td>2.416667</td><td>2</td><td>false</td></tr><tr><td>1</td><td>2</td><td>1</td><td>1</td><td>&quot;Cumings, Mrs. John Bradley (Fl…</td><td>&quot;female&quot;</td><td>38.0</td><td>1</td><td>0</td><td>&quot;PC 17599&quot;</td><td>71.2833</td><td>&quot;C85&quot;</td><td>&quot;C&quot;</td><td>78.41163</td><td>71.2833</td><td>2</td><td>false</td></tr><tr><td>2</td><td>3</td><td>1</td><td>3</td><td>&quot;Heikkinen, Miss. Laina&quot;</td><td>&quot;female&quot;</td><td>26.0</td><td>0</td><td>0</td><td>&quot;STON/O2. 3101282&quot;</td><td>7.925</td><td>null</td><td>&quot;S&quot;</td><td>8.7175</td><td>2.641667</td><td>1</td><td>false</td></tr><tr><td>3</td><td>4</td><td>1</td><td>1</td><td>&quot;Futrelle, Mrs. Jacques Heath (…</td><td>&quot;female&quot;</td><td>35.0</td><td>1</td><td>0</td><td>&quot;113803&quot;</td><td>53.1</td><td>&quot;C123&quot;</td><td>&quot;S&quot;</td><td>58.41</td><td>53.1</td><td>2</td><td>false</td></tr><tr><td>4</td><td>5</td><td>0</td><td>3</td><td>&quot;Allen, Mr. William Henry&quot;</td><td>&quot;male&quot;</td><td>35.0</td><td>0</td><td>0</td><td>&quot;373450&quot;</td><td>8.05</td><td>null</td><td>&quot;S&quot;</td><td>8.855</td><td>2.683333</td><td>1</td><td>false</td></tr></tbody></table></div>"
      ],
      "text/plain": [
       "shape: (5, 17)\n",
       "┌───────┬─────────────┬──────────┬────────┬───┬──────────────┬─────────────┬─────────────┬─────────┐\n",
       "│ index ┆ PassengerId ┆ Survived ┆ Pclass ┆ … ┆ Fare_with_su ┆ Fare_per_cl ┆ Family_size ┆ IsMinor │\n",
       "│ ---   ┆ ---         ┆ ---      ┆ ---    ┆   ┆ rcharge      ┆ ass         ┆ ---         ┆ ---     │\n",
       "│ u32   ┆ i64         ┆ i64      ┆ i64    ┆   ┆ ---          ┆ ---         ┆ i64         ┆ bool    │\n",
       "│       ┆             ┆          ┆        ┆   ┆ f64          ┆ f64         ┆             ┆         │\n",
       "╞═══════╪═════════════╪══════════╪════════╪═══╪══════════════╪═════════════╪═════════════╪═════════╡\n",
       "│ 0     ┆ 1           ┆ 0        ┆ 3      ┆ … ┆ 7.975        ┆ 2.416667    ┆ 2           ┆ false   │\n",
       "│ 1     ┆ 2           ┆ 1        ┆ 1      ┆ … ┆ 78.41163     ┆ 71.2833     ┆ 2           ┆ false   │\n",
       "│ 2     ┆ 3           ┆ 1        ┆ 3      ┆ … ┆ 8.7175       ┆ 2.641667    ┆ 1           ┆ false   │\n",
       "│ 3     ┆ 4           ┆ 1        ┆ 1      ┆ … ┆ 58.41        ┆ 53.1        ┆ 2           ┆ false   │\n",
       "│ 4     ┆ 5           ┆ 0        ┆ 3      ┆ … ┆ 8.855        ┆ 2.683333    ┆ 1           ┆ false   │\n",
       "└───────┴─────────────┴──────────┴────────┴───┴──────────────┴─────────────┴─────────────┴─────────┘"
      ]
     },
     "execution_count": 17,
     "metadata": {},
     "output_type": "execute_result"
    }
   ],
   "source": [
    "df.with_row_index().head()"
   ]
  },
  {
   "cell_type": "markdown",
   "metadata": {},
   "source": [
    "# Modifying Columns"
   ]
  },
  {
   "cell_type": "code",
   "execution_count": 27,
   "metadata": {},
   "outputs": [
    {
     "data": {
      "text/html": [
       "<div><style>\n",
       ".dataframe > thead > tr,\n",
       ".dataframe > tbody > tr {\n",
       "  text-align: right;\n",
       "  white-space: pre-wrap;\n",
       "}\n",
       "</style>\n",
       "<small>shape: (5, 16)</small><table border=\"1\" class=\"dataframe\"><thead><tr><th>PassengerId</th><th>Survived</th><th>Pclass</th><th>Name</th><th>Sex</th><th>Age</th><th>SibSp</th><th>Parch</th><th>Ticket</th><th>Fare</th><th>Cabin</th><th>Embarked</th><th>Fare_with_surcharge</th><th>Fare_per_class</th><th>Family_size</th><th>IsMinor</th></tr><tr><td>i64</td><td>i64</td><td>i64</td><td>str</td><td>str</td><td>i64</td><td>i64</td><td>i64</td><td>str</td><td>f64</td><td>str</td><td>str</td><td>f64</td><td>f64</td><td>i64</td><td>bool</td></tr></thead><tbody><tr><td>1</td><td>0</td><td>3</td><td>&quot;Braund, Mr. Owen Harris&quot;</td><td>&quot;male&quot;</td><td>22</td><td>1</td><td>0</td><td>&quot;A/5 21171&quot;</td><td>7.3</td><td>null</td><td>&quot;s&quot;</td><td>7.975</td><td>2.416667</td><td>2</td><td>false</td></tr><tr><td>2</td><td>1</td><td>1</td><td>&quot;Cumings, Mrs. John Bradley (Fl…</td><td>&quot;female&quot;</td><td>38</td><td>1</td><td>0</td><td>&quot;PC 17599&quot;</td><td>71.3</td><td>&quot;C85&quot;</td><td>&quot;c&quot;</td><td>78.41163</td><td>71.2833</td><td>2</td><td>false</td></tr><tr><td>3</td><td>1</td><td>3</td><td>&quot;Heikkinen, Miss. Laina&quot;</td><td>&quot;female&quot;</td><td>26</td><td>0</td><td>0</td><td>&quot;STON/O2. 3101282&quot;</td><td>7.9</td><td>null</td><td>&quot;s&quot;</td><td>8.7175</td><td>2.641667</td><td>1</td><td>false</td></tr><tr><td>4</td><td>1</td><td>1</td><td>&quot;Futrelle, Mrs. Jacques Heath (…</td><td>&quot;female&quot;</td><td>35</td><td>1</td><td>0</td><td>&quot;113803&quot;</td><td>53.1</td><td>&quot;C123&quot;</td><td>&quot;s&quot;</td><td>58.41</td><td>53.1</td><td>2</td><td>false</td></tr><tr><td>5</td><td>0</td><td>3</td><td>&quot;Allen, Mr. William Henry&quot;</td><td>&quot;male&quot;</td><td>35</td><td>0</td><td>0</td><td>&quot;373450&quot;</td><td>8.1</td><td>null</td><td>&quot;s&quot;</td><td>8.855</td><td>2.683333</td><td>1</td><td>false</td></tr></tbody></table></div>"
      ],
      "text/plain": [
       "shape: (5, 16)\n",
       "┌────────────┬──────────┬────────┬────────────┬───┬────────────┬────────────┬────────────┬─────────┐\n",
       "│ PassengerI ┆ Survived ┆ Pclass ┆ Name       ┆ … ┆ Fare_with_ ┆ Fare_per_c ┆ Family_siz ┆ IsMinor │\n",
       "│ d          ┆ ---      ┆ ---    ┆ ---        ┆   ┆ surcharge  ┆ lass       ┆ e          ┆ ---     │\n",
       "│ ---        ┆ i64      ┆ i64    ┆ str        ┆   ┆ ---        ┆ ---        ┆ ---        ┆ bool    │\n",
       "│ i64        ┆          ┆        ┆            ┆   ┆ f64        ┆ f64        ┆ i64        ┆         │\n",
       "╞════════════╪══════════╪════════╪════════════╪═══╪════════════╪════════════╪════════════╪═════════╡\n",
       "│ 1          ┆ 0        ┆ 3      ┆ Braund,    ┆ … ┆ 7.975      ┆ 2.416667   ┆ 2          ┆ false   │\n",
       "│            ┆          ┆        ┆ Mr. Owen   ┆   ┆            ┆            ┆            ┆         │\n",
       "│            ┆          ┆        ┆ Harris     ┆   ┆            ┆            ┆            ┆         │\n",
       "│ 2          ┆ 1        ┆ 1      ┆ Cumings,   ┆ … ┆ 78.41163   ┆ 71.2833    ┆ 2          ┆ false   │\n",
       "│            ┆          ┆        ┆ Mrs. John  ┆   ┆            ┆            ┆            ┆         │\n",
       "│            ┆          ┆        ┆ Bradley    ┆   ┆            ┆            ┆            ┆         │\n",
       "│            ┆          ┆        ┆ (Fl…       ┆   ┆            ┆            ┆            ┆         │\n",
       "│ 3          ┆ 1        ┆ 3      ┆ Heikkinen, ┆ … ┆ 8.7175     ┆ 2.641667   ┆ 1          ┆ false   │\n",
       "│            ┆          ┆        ┆ Miss.      ┆   ┆            ┆            ┆            ┆         │\n",
       "│            ┆          ┆        ┆ Laina      ┆   ┆            ┆            ┆            ┆         │\n",
       "│ 4          ┆ 1        ┆ 1      ┆ Futrelle,  ┆ … ┆ 58.41      ┆ 53.1       ┆ 2          ┆ false   │\n",
       "│            ┆          ┆        ┆ Mrs.       ┆   ┆            ┆            ┆            ┆         │\n",
       "│            ┆          ┆        ┆ Jacques    ┆   ┆            ┆            ┆            ┆         │\n",
       "│            ┆          ┆        ┆ Heath (…   ┆   ┆            ┆            ┆            ┆         │\n",
       "│ 5          ┆ 0        ┆ 3      ┆ Allen, Mr. ┆ … ┆ 8.855      ┆ 2.683333   ┆ 1          ┆ false   │\n",
       "│            ┆          ┆        ┆ William    ┆   ┆            ┆            ┆            ┆         │\n",
       "│            ┆          ┆        ┆ Henry      ┆   ┆            ┆            ┆            ┆         │\n",
       "└────────────┴──────────┴────────┴────────────┴───┴────────────┴────────────┴────────────┴─────────┘"
      ]
     },
     "execution_count": 27,
     "metadata": {},
     "output_type": "execute_result"
    }
   ],
   "source": [
    "df.with_columns(\n",
    "    pl.col(\"Name\").str.to_titlecase(), \n",
    "    # 문자열 컬럼 Cabin을 대문자로 변환\n",
    "\n",
    "    pl.col(\"Cabin\").str.to_uppercase(),\n",
    "    # 문자열 컬럼 Embarked를 소문자로 변환 \n",
    "    \n",
    "    pl.col(\"Embarked\").str.to_lowercase(),\n",
    "    # Fare 컬럼을 반올림\n",
    "    pl.col(\"Fare\").round(1),\n",
    "    \n",
    "    # Age 컬럼을 정수로 변환\n",
    "    pl.col(\"Age\").cast(pl.Int64)\n",
    ").head(5)"
   ]
  },
  {
   "cell_type": "markdown",
   "metadata": {},
   "source": [
    "# Delete Columns"
   ]
  },
  {
   "cell_type": "code",
   "execution_count": 28,
   "metadata": {},
   "outputs": [
    {
     "data": {
      "text/html": [
       "<div><style>\n",
       ".dataframe > thead > tr,\n",
       ".dataframe > tbody > tr {\n",
       "  text-align: right;\n",
       "  white-space: pre-wrap;\n",
       "}\n",
       "</style>\n",
       "<small>shape: (5, 13)</small><table border=\"1\" class=\"dataframe\"><thead><tr><th>Survived</th><th>Pclass</th><th>Name</th><th>Sex</th><th>Age</th><th>SibSp</th><th>Parch</th><th>Fare</th><th>Embarked</th><th>Fare_with_surcharge</th><th>Fare_per_class</th><th>Family_size</th><th>IsMinor</th></tr><tr><td>i64</td><td>i64</td><td>str</td><td>str</td><td>f64</td><td>i64</td><td>i64</td><td>f64</td><td>str</td><td>f64</td><td>f64</td><td>i64</td><td>bool</td></tr></thead><tbody><tr><td>0</td><td>3</td><td>&quot;Braund, Mr. Owen Harris&quot;</td><td>&quot;male&quot;</td><td>22.0</td><td>1</td><td>0</td><td>7.25</td><td>&quot;S&quot;</td><td>7.975</td><td>2.416667</td><td>2</td><td>false</td></tr><tr><td>1</td><td>1</td><td>&quot;Cumings, Mrs. John Bradley (Fl…</td><td>&quot;female&quot;</td><td>38.0</td><td>1</td><td>0</td><td>71.2833</td><td>&quot;C&quot;</td><td>78.41163</td><td>71.2833</td><td>2</td><td>false</td></tr><tr><td>1</td><td>3</td><td>&quot;Heikkinen, Miss. Laina&quot;</td><td>&quot;female&quot;</td><td>26.0</td><td>0</td><td>0</td><td>7.925</td><td>&quot;S&quot;</td><td>8.7175</td><td>2.641667</td><td>1</td><td>false</td></tr><tr><td>1</td><td>1</td><td>&quot;Futrelle, Mrs. Jacques Heath (…</td><td>&quot;female&quot;</td><td>35.0</td><td>1</td><td>0</td><td>53.1</td><td>&quot;S&quot;</td><td>58.41</td><td>53.1</td><td>2</td><td>false</td></tr><tr><td>0</td><td>3</td><td>&quot;Allen, Mr. William Henry&quot;</td><td>&quot;male&quot;</td><td>35.0</td><td>0</td><td>0</td><td>8.05</td><td>&quot;S&quot;</td><td>8.855</td><td>2.683333</td><td>1</td><td>false</td></tr></tbody></table></div>"
      ],
      "text/plain": [
       "shape: (5, 13)\n",
       "┌──────────┬────────┬─────────────┬────────┬───┬─────────────┬─────────────┬─────────────┬─────────┐\n",
       "│ Survived ┆ Pclass ┆ Name        ┆ Sex    ┆ … ┆ Fare_with_s ┆ Fare_per_cl ┆ Family_size ┆ IsMinor │\n",
       "│ ---      ┆ ---    ┆ ---         ┆ ---    ┆   ┆ urcharge    ┆ ass         ┆ ---         ┆ ---     │\n",
       "│ i64      ┆ i64    ┆ str         ┆ str    ┆   ┆ ---         ┆ ---         ┆ i64         ┆ bool    │\n",
       "│          ┆        ┆             ┆        ┆   ┆ f64         ┆ f64         ┆             ┆         │\n",
       "╞══════════╪════════╪═════════════╪════════╪═══╪═════════════╪═════════════╪═════════════╪═════════╡\n",
       "│ 0        ┆ 3      ┆ Braund, Mr. ┆ male   ┆ … ┆ 7.975       ┆ 2.416667    ┆ 2           ┆ false   │\n",
       "│          ┆        ┆ Owen Harris ┆        ┆   ┆             ┆             ┆             ┆         │\n",
       "│ 1        ┆ 1      ┆ Cumings,    ┆ female ┆ … ┆ 78.41163    ┆ 71.2833     ┆ 2           ┆ false   │\n",
       "│          ┆        ┆ Mrs. John   ┆        ┆   ┆             ┆             ┆             ┆         │\n",
       "│          ┆        ┆ Bradley     ┆        ┆   ┆             ┆             ┆             ┆         │\n",
       "│          ┆        ┆ (Fl…        ┆        ┆   ┆             ┆             ┆             ┆         │\n",
       "│ 1        ┆ 3      ┆ Heikkinen,  ┆ female ┆ … ┆ 8.7175      ┆ 2.641667    ┆ 1           ┆ false   │\n",
       "│          ┆        ┆ Miss. Laina ┆        ┆   ┆             ┆             ┆             ┆         │\n",
       "│ 1        ┆ 1      ┆ Futrelle,   ┆ female ┆ … ┆ 58.41       ┆ 53.1        ┆ 2           ┆ false   │\n",
       "│          ┆        ┆ Mrs.        ┆        ┆   ┆             ┆             ┆             ┆         │\n",
       "│          ┆        ┆ Jacques     ┆        ┆   ┆             ┆             ┆             ┆         │\n",
       "│          ┆        ┆ Heath (…    ┆        ┆   ┆             ┆             ┆             ┆         │\n",
       "│ 0        ┆ 3      ┆ Allen, Mr.  ┆ male   ┆ … ┆ 8.855       ┆ 2.683333    ┆ 1           ┆ false   │\n",
       "│          ┆        ┆ William     ┆        ┆   ┆             ┆             ┆             ┆         │\n",
       "│          ┆        ┆ Henry       ┆        ┆   ┆             ┆             ┆             ┆         │\n",
       "└──────────┴────────┴─────────────┴────────┴───┴─────────────┴─────────────┴─────────────┴─────────┘"
      ]
     },
     "execution_count": 28,
     "metadata": {},
     "output_type": "execute_result"
    }
   ],
   "source": [
    "df.drop([\"PassengerId\", \"Ticket\", \"Cabin\"]).head(5)\n"
   ]
  }
 ],
 "metadata": {
  "kernelspec": {
   "display_name": "venv",
   "language": "python",
   "name": "python3"
  },
  "language_info": {
   "codemirror_mode": {
    "name": "ipython",
    "version": 3
   },
   "file_extension": ".py",
   "mimetype": "text/x-python",
   "name": "python",
   "nbconvert_exporter": "python",
   "pygments_lexer": "ipython3",
   "version": "3.12.6"
  }
 },
 "nbformat": 4,
 "nbformat_minor": 2
}

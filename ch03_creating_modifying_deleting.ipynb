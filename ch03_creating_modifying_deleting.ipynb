{
 "cells": [
  {
   "cell_type": "markdown",
   "metadata": {},
   "source": [
    "# 레시피 15 : 사칙연산을 활용한 데이터 생성"
   ]
  },
  {
   "cell_type": "code",
   "execution_count": 30,
   "metadata": {},
   "outputs": [
    {
     "data": {
      "text/html": [
       "<div><style>\n",
       ".dataframe > thead > tr,\n",
       ".dataframe > tbody > tr {\n",
       "  text-align: right;\n",
       "  white-space: pre-wrap;\n",
       "}\n",
       "</style>\n",
       "<small>shape: (1, 12)</small><table border=\"1\" class=\"dataframe\"><thead><tr><th>PassengerId</th><th>Survived</th><th>Pclass</th><th>Name</th><th>Sex</th><th>Age</th><th>SibSp</th><th>Parch</th><th>Ticket</th><th>Fare</th><th>Cabin</th><th>Embarked</th></tr><tr><td>i64</td><td>i64</td><td>i64</td><td>str</td><td>str</td><td>f64</td><td>i64</td><td>i64</td><td>str</td><td>f64</td><td>str</td><td>str</td></tr></thead><tbody><tr><td>1</td><td>0</td><td>3</td><td>&quot;Braund, Mr. Owen Harris&quot;</td><td>&quot;male&quot;</td><td>22.0</td><td>1</td><td>0</td><td>&quot;A/5 21171&quot;</td><td>7.25</td><td>null</td><td>&quot;S&quot;</td></tr></tbody></table></div>"
      ],
      "text/plain": [
       "shape: (1, 12)\n",
       "┌─────────┬─────────┬────────┬─────────┬───┬─────────┬──────┬───────┬─────────┐\n",
       "│ Passeng ┆ Survive ┆ Pclass ┆ Name    ┆ … ┆ Ticket  ┆ Fare ┆ Cabin ┆ Embarke │\n",
       "│ erId    ┆ d       ┆ ---    ┆ ---     ┆   ┆ ---     ┆ ---  ┆ ---   ┆ d       │\n",
       "│ ---     ┆ ---     ┆ i64    ┆ str     ┆   ┆ str     ┆ f64  ┆ str   ┆ ---     │\n",
       "│ i64     ┆ i64     ┆        ┆         ┆   ┆         ┆      ┆       ┆ str     │\n",
       "╞═════════╪═════════╪════════╪═════════╪═══╪═════════╪══════╪═══════╪═════════╡\n",
       "│ 1       ┆ 0       ┆ 3      ┆ Braund, ┆ … ┆ A/5     ┆ 7.25 ┆ null  ┆ S       │\n",
       "│         ┆         ┆        ┆ Mr.     ┆   ┆ 21171   ┆      ┆       ┆         │\n",
       "│         ┆         ┆        ┆ Owen    ┆   ┆         ┆      ┆       ┆         │\n",
       "│         ┆         ┆        ┆ Harris  ┆   ┆         ┆      ┆       ┆         │\n",
       "└─────────┴─────────┴────────┴─────────┴───┴─────────┴──────┴───────┴─────────┘"
      ]
     },
     "execution_count": 30,
     "metadata": {},
     "output_type": "execute_result"
    }
   ],
   "source": [
    "import polars as pl\n",
    "\n",
    "df = pl.read_csv(\"data/titanic_dataset.csv\")\n",
    "df.head(1)"
   ]
  },
  {
   "cell_type": "code",
   "execution_count": 3,
   "metadata": {},
   "outputs": [
    {
     "data": {
      "text/html": [
       "<div><style>\n",
       ".dataframe > thead > tr,\n",
       ".dataframe > tbody > tr {\n",
       "  text-align: right;\n",
       "  white-space: pre-wrap;\n",
       "}\n",
       "</style>\n",
       "<small>shape: (1, 16)</small><table border=\"1\" class=\"dataframe\"><thead><tr><th>PassengerId</th><th>Survived</th><th>Pclass</th><th>Name</th><th>Sex</th><th>Age</th><th>SibSp</th><th>Parch</th><th>Ticket</th><th>Fare</th><th>Cabin</th><th>Embarked</th><th>Fare_with_surcharge</th><th>Fare_per_class</th><th>Family_size</th><th>IsMinor</th></tr><tr><td>i64</td><td>i64</td><td>i64</td><td>str</td><td>str</td><td>f64</td><td>i64</td><td>i64</td><td>str</td><td>f64</td><td>str</td><td>str</td><td>f64</td><td>f64</td><td>i64</td><td>bool</td></tr></thead><tbody><tr><td>1</td><td>0</td><td>3</td><td>&quot;Braund, Mr. Owen Harris&quot;</td><td>&quot;male&quot;</td><td>22.0</td><td>1</td><td>0</td><td>&quot;A/5 21171&quot;</td><td>7.25</td><td>null</td><td>&quot;S&quot;</td><td>7.975</td><td>2.416667</td><td>2</td><td>false</td></tr></tbody></table></div>"
      ],
      "text/plain": [
       "shape: (1, 16)\n",
       "┌─────────┬─────────┬────────┬────────┬───┬────────┬────────┬────────┬────────┐\n",
       "│ Passeng ┆ Survive ┆ Pclass ┆ Name   ┆ … ┆ Fare_w ┆ Fare_p ┆ Family ┆ IsMino │\n",
       "│ erId    ┆ d       ┆ ---    ┆ ---    ┆   ┆ ith_su ┆ er_cla ┆ _size  ┆ r      │\n",
       "│ ---     ┆ ---     ┆ i64    ┆ str    ┆   ┆ rcharg ┆ ss     ┆ ---    ┆ ---    │\n",
       "│ i64     ┆ i64     ┆        ┆        ┆   ┆ e      ┆ ---    ┆ i64    ┆ bool   │\n",
       "│         ┆         ┆        ┆        ┆   ┆ ---    ┆ f64    ┆        ┆        │\n",
       "│         ┆         ┆        ┆        ┆   ┆ f64    ┆        ┆        ┆        │\n",
       "╞═════════╪═════════╪════════╪════════╪═══╪════════╪════════╪════════╪════════╡\n",
       "│ 1       ┆ 0       ┆ 3      ┆ Braund ┆ … ┆ 7.975  ┆ 2.4166 ┆ 2      ┆ false  │\n",
       "│         ┆         ┆        ┆ , Mr.  ┆   ┆        ┆ 67     ┆        ┆        │\n",
       "│         ┆         ┆        ┆ Owen   ┆   ┆        ┆        ┆        ┆        │\n",
       "│         ┆         ┆        ┆ Harris ┆   ┆        ┆        ┆        ┆        │\n",
       "└─────────┴─────────┴────────┴────────┴───┴────────┴────────┴────────┴────────┘"
      ]
     },
     "execution_count": 3,
     "metadata": {},
     "output_type": "execute_result"
    }
   ],
   "source": [
    "df.with_columns([\n",
    "    # Fare에 10% surcharge(추가 요금)를 부과한 새로운 컬럼 생성\n",
    "    (pl.col(\"Fare\") * 1.1).alias(\"Fare_with_surcharge\"),\n",
    "\n",
    "    # Pclass(객실 등급)으로 나눈 Fare를 계산 (클래스별 운임 비교용)\n",
    "    (pl.col(\"Fare\") / pl.col(\"Pclass\")).alias(\"Fare_per_class\"),\n",
    "\n",
    "    # 가족 규모 계산: 형제/자매(SibSp) + 부모/자녀(Parch) + 본인(1명 추가)\n",
    "    (pl.col(\"SibSp\") + pl.col(\"Parch\") + 1).alias(\"Family_size\"),\n",
    "    \n",
    "    # 미성년자인지 여부: Age가 존재하는 경우 18세 미만이면 True 반환\n",
    "    (pl.col(\"Age\") < 18).alias(\"IsMinor\"), \n",
    "]).head(1)"
   ]
  },
  {
   "cell_type": "markdown",
   "metadata": {},
   "source": [
    "# 레시피 16 : 집계 함수를 활용한 새로운 컬럼 생성"
   ]
  },
  {
   "cell_type": "code",
   "execution_count": 4,
   "metadata": {},
   "outputs": [
    {
     "data": {
      "text/html": [
       "<div><style>\n",
       ".dataframe > thead > tr,\n",
       ".dataframe > tbody > tr {\n",
       "  text-align: right;\n",
       "  white-space: pre-wrap;\n",
       "}\n",
       "</style>\n",
       "<small>shape: (1, 15)</small><table border=\"1\" class=\"dataframe\"><thead><tr><th>PassengerId</th><th>Survived</th><th>Pclass</th><th>Name</th><th>Sex</th><th>Age</th><th>SibSp</th><th>Parch</th><th>Ticket</th><th>Fare</th><th>Cabin</th><th>Embarked</th><th>max_fare</th><th>ave_fare</th><th>Fare_diff</th></tr><tr><td>i64</td><td>i64</td><td>i64</td><td>str</td><td>str</td><td>f64</td><td>i64</td><td>i64</td><td>str</td><td>f64</td><td>str</td><td>str</td><td>f64</td><td>f64</td><td>f64</td></tr></thead><tbody><tr><td>1</td><td>0</td><td>3</td><td>&quot;Braund, Mr. Owen Harris&quot;</td><td>&quot;male&quot;</td><td>22.0</td><td>1</td><td>0</td><td>&quot;A/5 21171&quot;</td><td>7.25</td><td>null</td><td>&quot;S&quot;</td><td>512.3292</td><td>32.204208</td><td>480.124992</td></tr></tbody></table></div>"
      ],
      "text/plain": [
       "shape: (1, 15)\n",
       "┌─────────┬─────────┬────────┬────────┬───┬────────┬────────┬────────┬────────┐\n",
       "│ Passeng ┆ Survive ┆ Pclass ┆ Name   ┆ … ┆ Embark ┆ max_fa ┆ ave_fa ┆ Fare_d │\n",
       "│ erId    ┆ d       ┆ ---    ┆ ---    ┆   ┆ ed     ┆ re     ┆ re     ┆ iff    │\n",
       "│ ---     ┆ ---     ┆ i64    ┆ str    ┆   ┆ ---    ┆ ---    ┆ ---    ┆ ---    │\n",
       "│ i64     ┆ i64     ┆        ┆        ┆   ┆ str    ┆ f64    ┆ f64    ┆ f64    │\n",
       "╞═════════╪═════════╪════════╪════════╪═══╪════════╪════════╪════════╪════════╡\n",
       "│ 1       ┆ 0       ┆ 3      ┆ Braund ┆ … ┆ S      ┆ 512.32 ┆ 32.204 ┆ 480.12 │\n",
       "│         ┆         ┆        ┆ , Mr.  ┆   ┆        ┆ 92     ┆ 208    ┆ 4992   │\n",
       "│         ┆         ┆        ┆ Owen   ┆   ┆        ┆        ┆        ┆        │\n",
       "│         ┆         ┆        ┆ Harris ┆   ┆        ┆        ┆        ┆        │\n",
       "└─────────┴─────────┴────────┴────────┴───┴────────┴────────┴────────┴────────┘"
      ]
     },
     "execution_count": 4,
     "metadata": {},
     "output_type": "execute_result"
    }
   ],
   "source": [
    "df.with_columns([\n",
    "    # Fare 컬럼의 최대값을 새로운 컬럼 \"max_fare\"로 저장\n",
    "    pl.col(\"Fare\").max().alias(\"max_fare\"),\n",
    "\n",
    "    # Fare 컬럼의 평균값을 새로운 컬럼 \"ave_fare\"로 저장\n",
    "    pl.col(\"Fare\").mean().alias(\"ave_fare\"),\n",
    "\n",
    "    # 최대 운임과 평균 운임의 차이를 계산하여 \"Fare_diff\" 컬럼 생성\n",
    "    (pl.col(\"Fare\").max() - pl.col(\"Fare\").mean()).alias(\"Fare_diff\")\n",
    "]).head(1)"
   ]
  },
  {
   "cell_type": "markdown",
   "metadata": {},
   "source": [
    "# 레시피 17 : 행 인덱스 추가 with_row_index"
   ]
  },
  {
   "cell_type": "code",
   "execution_count": 6,
   "metadata": {},
   "outputs": [
    {
     "data": {
      "text/html": [
       "<div><style>\n",
       ".dataframe > thead > tr,\n",
       ".dataframe > tbody > tr {\n",
       "  text-align: right;\n",
       "  white-space: pre-wrap;\n",
       "}\n",
       "</style>\n",
       "<small>shape: (1, 13)</small><table border=\"1\" class=\"dataframe\"><thead><tr><th>index</th><th>PassengerId</th><th>Survived</th><th>Pclass</th><th>Name</th><th>Sex</th><th>Age</th><th>SibSp</th><th>Parch</th><th>Ticket</th><th>Fare</th><th>Cabin</th><th>Embarked</th></tr><tr><td>u32</td><td>i64</td><td>i64</td><td>i64</td><td>str</td><td>str</td><td>f64</td><td>i64</td><td>i64</td><td>str</td><td>f64</td><td>str</td><td>str</td></tr></thead><tbody><tr><td>0</td><td>1</td><td>0</td><td>3</td><td>&quot;Braund, Mr. Owen Harris&quot;</td><td>&quot;male&quot;</td><td>22.0</td><td>1</td><td>0</td><td>&quot;A/5 21171&quot;</td><td>7.25</td><td>null</td><td>&quot;S&quot;</td></tr></tbody></table></div>"
      ],
      "text/plain": [
       "shape: (1, 13)\n",
       "┌───────┬──────────┬──────────┬────────┬───┬─────────┬──────┬───────┬─────────┐\n",
       "│ index ┆ Passenge ┆ Survived ┆ Pclass ┆ … ┆ Ticket  ┆ Fare ┆ Cabin ┆ Embarke │\n",
       "│ ---   ┆ rId      ┆ ---      ┆ ---    ┆   ┆ ---     ┆ ---  ┆ ---   ┆ d       │\n",
       "│ u32   ┆ ---      ┆ i64      ┆ i64    ┆   ┆ str     ┆ f64  ┆ str   ┆ ---     │\n",
       "│       ┆ i64      ┆          ┆        ┆   ┆         ┆      ┆       ┆ str     │\n",
       "╞═══════╪══════════╪══════════╪════════╪═══╪═════════╪══════╪═══════╪═════════╡\n",
       "│ 0     ┆ 1        ┆ 0        ┆ 3      ┆ … ┆ A/5     ┆ 7.25 ┆ null  ┆ S       │\n",
       "│       ┆          ┆          ┆        ┆   ┆ 21171   ┆      ┆       ┆         │\n",
       "└───────┴──────────┴──────────┴────────┴───┴─────────┴──────┴───────┴─────────┘"
      ]
     },
     "execution_count": 6,
     "metadata": {},
     "output_type": "execute_result"
    }
   ],
   "source": [
    "df.with_row_index().head(1)"
   ]
  },
  {
   "cell_type": "markdown",
   "metadata": {},
   "source": [
    "# 레시피 18 : 데이터 수정"
   ]
  },
  {
   "cell_type": "code",
   "execution_count": 12,
   "metadata": {},
   "outputs": [
    {
     "data": {
      "text/html": [
       "<div><style>\n",
       ".dataframe > thead > tr,\n",
       ".dataframe > tbody > tr {\n",
       "  text-align: right;\n",
       "  white-space: pre-wrap;\n",
       "}\n",
       "</style>\n",
       "<small>shape: (1, 12)</small><table border=\"1\" class=\"dataframe\"><thead><tr><th>PassengerId</th><th>Survived</th><th>Passenger_Class</th><th>Name</th><th>Sex</th><th>Age</th><th>SibSp</th><th>Parch</th><th>Ticket</th><th>Ticket_Price</th><th>Cabin</th><th>Embarked</th></tr><tr><td>i64</td><td>i64</td><td>i64</td><td>str</td><td>str</td><td>f64</td><td>i64</td><td>i64</td><td>str</td><td>f64</td><td>str</td><td>str</td></tr></thead><tbody><tr><td>1</td><td>0</td><td>3</td><td>&quot;Braund, Mr. Owen Harris&quot;</td><td>&quot;male&quot;</td><td>22.0</td><td>1</td><td>0</td><td>&quot;A/5 21171&quot;</td><td>7.25</td><td>null</td><td>&quot;S&quot;</td></tr></tbody></table></div>"
      ],
      "text/plain": [
       "shape: (1, 12)\n",
       "┌─────────┬─────────┬─────────┬────────┬───┬────────┬────────┬───────┬────────┐\n",
       "│ Passeng ┆ Survive ┆ Passeng ┆ Name   ┆ … ┆ Ticket ┆ Ticket ┆ Cabin ┆ Embark │\n",
       "│ erId    ┆ d       ┆ er_Clas ┆ ---    ┆   ┆ ---    ┆ _Price ┆ ---   ┆ ed     │\n",
       "│ ---     ┆ ---     ┆ s       ┆ str    ┆   ┆ str    ┆ ---    ┆ str   ┆ ---    │\n",
       "│ i64     ┆ i64     ┆ ---     ┆        ┆   ┆        ┆ f64    ┆       ┆ str    │\n",
       "│         ┆         ┆ i64     ┆        ┆   ┆        ┆        ┆       ┆        │\n",
       "╞═════════╪═════════╪═════════╪════════╪═══╪════════╪════════╪═══════╪════════╡\n",
       "│ 1       ┆ 0       ┆ 3       ┆ Braund ┆ … ┆ A/5    ┆ 7.25   ┆ null  ┆ S      │\n",
       "│         ┆         ┆         ┆ , Mr.  ┆   ┆ 21171  ┆        ┆       ┆        │\n",
       "│         ┆         ┆         ┆ Owen   ┆   ┆        ┆        ┆       ┆        │\n",
       "│         ┆         ┆         ┆ Harris ┆   ┆        ┆        ┆       ┆        │\n",
       "└─────────┴─────────┴─────────┴────────┴───┴────────┴────────┴───────┴────────┘"
      ]
     },
     "execution_count": 12,
     "metadata": {},
     "output_type": "execute_result"
    }
   ],
   "source": [
    "# rename\n",
    "df.rename({\n",
    "    \"Pclass\": \"Passenger_Class\",\n",
    "    \"Fare\": \"Ticket_Price\"\n",
    "}).head(1)"
   ]
  },
  {
   "cell_type": "code",
   "execution_count": 18,
   "metadata": {},
   "outputs": [
    {
     "data": {
      "text/html": [
       "<div><style>\n",
       ".dataframe > thead > tr,\n",
       ".dataframe > tbody > tr {\n",
       "  text-align: right;\n",
       "  white-space: pre-wrap;\n",
       "}\n",
       "</style>\n",
       "<small>shape: (1, 13)</small><table border=\"1\" class=\"dataframe\"><thead><tr><th>PassengerId</th><th>Survived</th><th>Pclass</th><th>Name</th><th>Sex</th><th>Age</th><th>SibSp</th><th>Parch</th><th>Ticket</th><th>Fare</th><th>Cabin</th><th>Embarked</th><th>age_group</th></tr><tr><td>i64</td><td>i64</td><td>i64</td><td>str</td><td>str</td><td>f64</td><td>i64</td><td>i64</td><td>str</td><td>f64</td><td>str</td><td>str</td><td>str</td></tr></thead><tbody><tr><td>1</td><td>0</td><td>3</td><td>&quot;Braund, Mr. Owen Harris&quot;</td><td>&quot;male&quot;</td><td>22.0</td><td>1</td><td>0</td><td>&quot;A/5 21171&quot;</td><td>7.25</td><td>null</td><td>&quot;S&quot;</td><td>&quot;Adult&quot;</td></tr></tbody></table></div>"
      ],
      "text/plain": [
       "shape: (1, 13)\n",
       "┌─────────┬─────────┬────────┬─────────┬───┬──────┬───────┬─────────┬─────────┐\n",
       "│ Passeng ┆ Survive ┆ Pclass ┆ Name    ┆ … ┆ Fare ┆ Cabin ┆ Embarke ┆ age_gro │\n",
       "│ erId    ┆ d       ┆ ---    ┆ ---     ┆   ┆ ---  ┆ ---   ┆ d       ┆ up      │\n",
       "│ ---     ┆ ---     ┆ i64    ┆ str     ┆   ┆ f64  ┆ str   ┆ ---     ┆ ---     │\n",
       "│ i64     ┆ i64     ┆        ┆         ┆   ┆      ┆       ┆ str     ┆ str     │\n",
       "╞═════════╪═════════╪════════╪═════════╪═══╪══════╪═══════╪═════════╪═════════╡\n",
       "│ 1       ┆ 0       ┆ 3      ┆ Braund, ┆ … ┆ 7.25 ┆ null  ┆ S       ┆ Adult   │\n",
       "│         ┆         ┆        ┆ Mr.     ┆   ┆      ┆       ┆         ┆         │\n",
       "│         ┆         ┆        ┆ Owen    ┆   ┆      ┆       ┆         ┆         │\n",
       "│         ┆         ┆        ┆ Harris  ┆   ┆      ┆       ┆         ┆         │\n",
       "└─────────┴─────────┴────────┴─────────┴───┴──────┴───────┴─────────┴─────────┘"
      ]
     },
     "execution_count": 18,
     "metadata": {},
     "output_type": "execute_result"
    }
   ],
   "source": [
    "# map_elements 활용\n",
    "df.with_columns(\n",
    "    pl.col(\"Age\")\n",
    "    .map_elements(lambda x: \"Child\" if x < 18 else \"Adult\", return_dtype=pl.String)\n",
    "    .alias(\"age_group\")\n",
    ").head(1)"
   ]
  },
  {
   "cell_type": "code",
   "execution_count": 19,
   "metadata": {},
   "outputs": [
    {
     "data": {
      "text/html": [
       "<div><style>\n",
       ".dataframe > thead > tr,\n",
       ".dataframe > tbody > tr {\n",
       "  text-align: right;\n",
       "  white-space: pre-wrap;\n",
       "}\n",
       "</style>\n",
       "<small>shape: (1, 13)</small><table border=\"1\" class=\"dataframe\"><thead><tr><th>PassengerId</th><th>Survived</th><th>Pclass</th><th>Name</th><th>Sex</th><th>Age</th><th>SibSp</th><th>Parch</th><th>Ticket</th><th>Fare</th><th>Cabin</th><th>Embarked</th><th>age_group</th></tr><tr><td>i64</td><td>i64</td><td>i64</td><td>str</td><td>str</td><td>f64</td><td>i64</td><td>i64</td><td>str</td><td>f64</td><td>str</td><td>str</td><td>str</td></tr></thead><tbody><tr><td>1</td><td>0</td><td>3</td><td>&quot;Braund, Mr. Owen Harris&quot;</td><td>&quot;male&quot;</td><td>22.0</td><td>1</td><td>0</td><td>&quot;A/5 21171&quot;</td><td>7.25</td><td>null</td><td>&quot;S&quot;</td><td>&quot;Adult&quot;</td></tr></tbody></table></div>"
      ],
      "text/plain": [
       "shape: (1, 13)\n",
       "┌─────────┬─────────┬────────┬─────────┬───┬──────┬───────┬─────────┬─────────┐\n",
       "│ Passeng ┆ Survive ┆ Pclass ┆ Name    ┆ … ┆ Fare ┆ Cabin ┆ Embarke ┆ age_gro │\n",
       "│ erId    ┆ d       ┆ ---    ┆ ---     ┆   ┆ ---  ┆ ---   ┆ d       ┆ up      │\n",
       "│ ---     ┆ ---     ┆ i64    ┆ str     ┆   ┆ f64  ┆ str   ┆ ---     ┆ ---     │\n",
       "│ i64     ┆ i64     ┆        ┆         ┆   ┆      ┆       ┆ str     ┆ str     │\n",
       "╞═════════╪═════════╪════════╪═════════╪═══╪══════╪═══════╪═════════╪═════════╡\n",
       "│ 1       ┆ 0       ┆ 3      ┆ Braund, ┆ … ┆ 7.25 ┆ null  ┆ S       ┆ Adult   │\n",
       "│         ┆         ┆        ┆ Mr.     ┆   ┆      ┆       ┆         ┆         │\n",
       "│         ┆         ┆        ┆ Owen    ┆   ┆      ┆       ┆         ┆         │\n",
       "│         ┆         ┆        ┆ Harris  ┆   ┆      ┆       ┆         ┆         │\n",
       "└─────────┴─────────┴────────┴─────────┴───┴──────┴───────┴─────────┴─────────┘"
      ]
     },
     "execution_count": 19,
     "metadata": {},
     "output_type": "execute_result"
    }
   ],
   "source": [
    "# 속도가 더 빠른 방법\n",
    "df.with_columns(\n",
    "    pl.when(pl.col(\"Age\") < 18)\n",
    "    .then(pl.lit(\"Child\"))\n",
    "    .otherwise(pl.lit(\"Adult\"))\n",
    "    .alias(\"age_group\")\n",
    ").head(1)"
   ]
  },
  {
   "cell_type": "code",
   "execution_count": 23,
   "metadata": {},
   "outputs": [
    {
     "name": "stdout",
     "output_type": "stream",
     "text": [
      "map_elements() 실행 시간: 131.874113초\n",
      "when().then().otherwise() 실행 시간: 9.131302초\n"
     ]
    }
   ],
   "source": [
    "# 비교 \n",
    "import polars as pl\n",
    "import timeit\n",
    "import numpy as np \n",
    "\n",
    "# 샘플 데이터 생성 (100만 개의 Age 데이터)\n",
    "df = pl.DataFrame({\"Age\": np.arange(0, 100000000) % 100}) \n",
    "\n",
    "# map_elements() 방식\n",
    "def test_map_elements():\n",
    "    df.with_columns(\n",
    "        pl.col(\"Age\")\n",
    "        .map_elements(lambda x: \"Child\" if x < 18 else \"Adult\", return_dtype=pl.String)\n",
    "        .alias(\"age_group\")\n",
    "    ).head(1)\n",
    "\n",
    "# when().then().otherwise() 방식\n",
    "def test_when_then():\n",
    "    df.with_columns(\n",
    "        pl.when(pl.col(\"Age\") < 18)\n",
    "        .then(pl.lit(\"Child\"))\n",
    "        .otherwise(pl.lit(\"Adult\"))\n",
    "        .alias(\"age_group\")\n",
    "    ).head(1)\n",
    "\n",
    "# 실행 시간 측정\n",
    "map_elements_time = timeit.timeit(test_map_elements, number=10)\n",
    "when_then_time = timeit.timeit(test_when_then, number=10)\n",
    "\n",
    "# 결과 출력\n",
    "print(f\"map_elements() 실행 시간: {map_elements_time:.6f}초\")\n",
    "print(f\"when().then().otherwise() 실행 시간: {when_then_time:.6f}초\")"
   ]
  },
  {
   "cell_type": "code",
   "execution_count": 31,
   "metadata": {},
   "outputs": [
    {
     "data": {
      "text/html": [
       "<div><style>\n",
       ".dataframe > thead > tr,\n",
       ".dataframe > tbody > tr {\n",
       "  text-align: right;\n",
       "  white-space: pre-wrap;\n",
       "}\n",
       "</style>\n",
       "<small>shape: (1, 12)</small><table border=\"1\" class=\"dataframe\"><thead><tr><th>PassengerId</th><th>Survived</th><th>Pclass</th><th>Name</th><th>Sex</th><th>Age</th><th>SibSp</th><th>Parch</th><th>Ticket</th><th>Fare</th><th>Cabin</th><th>Embarked</th></tr><tr><td>u32</td><td>u32</td><td>u32</td><td>u32</td><td>u32</td><td>u32</td><td>u32</td><td>u32</td><td>u32</td><td>u32</td><td>u32</td><td>u32</td></tr></thead><tbody><tr><td>0</td><td>0</td><td>0</td><td>0</td><td>0</td><td>177</td><td>0</td><td>0</td><td>0</td><td>0</td><td>687</td><td>2</td></tr></tbody></table></div>"
      ],
      "text/plain": [
       "shape: (1, 12)\n",
       "┌───────────┬──────────┬────────┬──────┬───┬────────┬──────┬───────┬──────────┐\n",
       "│ Passenger ┆ Survived ┆ Pclass ┆ Name ┆ … ┆ Ticket ┆ Fare ┆ Cabin ┆ Embarked │\n",
       "│ Id        ┆ ---      ┆ ---    ┆ ---  ┆   ┆ ---    ┆ ---  ┆ ---   ┆ ---      │\n",
       "│ ---       ┆ u32      ┆ u32    ┆ u32  ┆   ┆ u32    ┆ u32  ┆ u32   ┆ u32      │\n",
       "│ u32       ┆          ┆        ┆      ┆   ┆        ┆      ┆       ┆          │\n",
       "╞═══════════╪══════════╪════════╪══════╪═══╪════════╪══════╪═══════╪══════════╡\n",
       "│ 0         ┆ 0        ┆ 0      ┆ 0    ┆ … ┆ 0      ┆ 0    ┆ 687   ┆ 2        │\n",
       "└───────────┴──────────┴────────┴──────┴───┴────────┴──────┴───────┴──────────┘"
      ]
     },
     "execution_count": 31,
     "metadata": {},
     "output_type": "execute_result"
    }
   ],
   "source": [
    "# 각 컬럼의 NULL 값 개수 확인\n",
    "df.select(pl.all().is_null().sum())"
   ]
  },
  {
   "cell_type": "code",
   "execution_count": 32,
   "metadata": {},
   "outputs": [
    {
     "data": {
      "text/html": [
       "<div><style>\n",
       ".dataframe > thead > tr,\n",
       ".dataframe > tbody > tr {\n",
       "  text-align: right;\n",
       "  white-space: pre-wrap;\n",
       "}\n",
       "</style>\n",
       "<small>shape: (1, 12)</small><table border=\"1\" class=\"dataframe\"><thead><tr><th>PassengerId</th><th>Survived</th><th>Pclass</th><th>Name</th><th>Sex</th><th>Age</th><th>SibSp</th><th>Parch</th><th>Ticket</th><th>Fare</th><th>Cabin</th><th>Embarked</th></tr><tr><td>u32</td><td>u32</td><td>u32</td><td>u32</td><td>u32</td><td>u32</td><td>u32</td><td>u32</td><td>u32</td><td>u32</td><td>u32</td><td>u32</td></tr></thead><tbody><tr><td>0</td><td>0</td><td>0</td><td>0</td><td>0</td><td>0</td><td>0</td><td>0</td><td>0</td><td>0</td><td>687</td><td>2</td></tr></tbody></table></div>"
      ],
      "text/plain": [
       "shape: (1, 12)\n",
       "┌───────────┬──────────┬────────┬──────┬───┬────────┬──────┬───────┬──────────┐\n",
       "│ Passenger ┆ Survived ┆ Pclass ┆ Name ┆ … ┆ Ticket ┆ Fare ┆ Cabin ┆ Embarked │\n",
       "│ Id        ┆ ---      ┆ ---    ┆ ---  ┆   ┆ ---    ┆ ---  ┆ ---   ┆ ---      │\n",
       "│ ---       ┆ u32      ┆ u32    ┆ u32  ┆   ┆ u32    ┆ u32  ┆ u32   ┆ u32      │\n",
       "│ u32       ┆          ┆        ┆      ┆   ┆        ┆      ┆       ┆          │\n",
       "╞═══════════╪══════════╪════════╪══════╪═══╪════════╪══════╪═══════╪══════════╡\n",
       "│ 0         ┆ 0        ┆ 0      ┆ 0    ┆ … ┆ 0      ┆ 0    ┆ 687   ┆ 2        │\n",
       "└───────────┴──────────┴────────┴──────┴───┴────────┴──────┴───────┴──────────┘"
      ]
     },
     "execution_count": 32,
     "metadata": {},
     "output_type": "execute_result"
    }
   ],
   "source": [
    "df2 = df.with_columns(\n",
    "    df[\"Age\"].fill_null(df[\"Age\"].mean())\n",
    ")\n",
    "df2.select(pl.all().is_null().sum())"
   ]
  },
  {
   "cell_type": "markdown",
   "metadata": {},
   "source": [
    "# 레시피 19 : 컬럼 삭제"
   ]
  },
  {
   "cell_type": "code",
   "execution_count": 33,
   "metadata": {},
   "outputs": [
    {
     "data": {
      "text/html": [
       "<div><style>\n",
       ".dataframe > thead > tr,\n",
       ".dataframe > tbody > tr {\n",
       "  text-align: right;\n",
       "  white-space: pre-wrap;\n",
       "}\n",
       "</style>\n",
       "<small>shape: (1, 11)</small><table border=\"1\" class=\"dataframe\"><thead><tr><th>PassengerId</th><th>Survived</th><th>Pclass</th><th>Name</th><th>Sex</th><th>SibSp</th><th>Parch</th><th>Ticket</th><th>Fare</th><th>Cabin</th><th>Embarked</th></tr><tr><td>i64</td><td>i64</td><td>i64</td><td>str</td><td>str</td><td>i64</td><td>i64</td><td>str</td><td>f64</td><td>str</td><td>str</td></tr></thead><tbody><tr><td>1</td><td>0</td><td>3</td><td>&quot;Braund, Mr. Owen Harris&quot;</td><td>&quot;male&quot;</td><td>1</td><td>0</td><td>&quot;A/5 21171&quot;</td><td>7.25</td><td>null</td><td>&quot;S&quot;</td></tr></tbody></table></div>"
      ],
      "text/plain": [
       "shape: (1, 11)\n",
       "┌─────────┬─────────┬────────┬─────────┬───┬─────────┬──────┬───────┬─────────┐\n",
       "│ Passeng ┆ Survive ┆ Pclass ┆ Name    ┆ … ┆ Ticket  ┆ Fare ┆ Cabin ┆ Embarke │\n",
       "│ erId    ┆ d       ┆ ---    ┆ ---     ┆   ┆ ---     ┆ ---  ┆ ---   ┆ d       │\n",
       "│ ---     ┆ ---     ┆ i64    ┆ str     ┆   ┆ str     ┆ f64  ┆ str   ┆ ---     │\n",
       "│ i64     ┆ i64     ┆        ┆         ┆   ┆         ┆      ┆       ┆ str     │\n",
       "╞═════════╪═════════╪════════╪═════════╪═══╪═════════╪══════╪═══════╪═════════╡\n",
       "│ 1       ┆ 0       ┆ 3      ┆ Braund, ┆ … ┆ A/5     ┆ 7.25 ┆ null  ┆ S       │\n",
       "│         ┆         ┆        ┆ Mr.     ┆   ┆ 21171   ┆      ┆       ┆         │\n",
       "│         ┆         ┆        ┆ Owen    ┆   ┆         ┆      ┆       ┆         │\n",
       "│         ┆         ┆        ┆ Harris  ┆   ┆         ┆      ┆       ┆         │\n",
       "└─────────┴─────────┴────────┴─────────┴───┴─────────┴──────┴───────┴─────────┘"
      ]
     },
     "execution_count": 33,
     "metadata": {},
     "output_type": "execute_result"
    }
   ],
   "source": [
    "df.drop('Age').head(1)"
   ]
  },
  {
   "cell_type": "code",
   "execution_count": 34,
   "metadata": {},
   "outputs": [
    {
     "data": {
      "text/html": [
       "<div><style>\n",
       ".dataframe > thead > tr,\n",
       ".dataframe > tbody > tr {\n",
       "  text-align: right;\n",
       "  white-space: pre-wrap;\n",
       "}\n",
       "</style>\n",
       "<small>shape: (1, 9)</small><table border=\"1\" class=\"dataframe\"><thead><tr><th>Survived</th><th>Pclass</th><th>Name</th><th>Sex</th><th>Age</th><th>SibSp</th><th>Parch</th><th>Fare</th><th>Embarked</th></tr><tr><td>i64</td><td>i64</td><td>str</td><td>str</td><td>f64</td><td>i64</td><td>i64</td><td>f64</td><td>str</td></tr></thead><tbody><tr><td>0</td><td>3</td><td>&quot;Braund, Mr. Owen Harris&quot;</td><td>&quot;male&quot;</td><td>22.0</td><td>1</td><td>0</td><td>7.25</td><td>&quot;S&quot;</td></tr></tbody></table></div>"
      ],
      "text/plain": [
       "shape: (1, 9)\n",
       "┌──────────┬────────┬────────────┬──────┬───┬───────┬───────┬──────┬──────────┐\n",
       "│ Survived ┆ Pclass ┆ Name       ┆ Sex  ┆ … ┆ SibSp ┆ Parch ┆ Fare ┆ Embarked │\n",
       "│ ---      ┆ ---    ┆ ---        ┆ ---  ┆   ┆ ---   ┆ ---   ┆ ---  ┆ ---      │\n",
       "│ i64      ┆ i64    ┆ str        ┆ str  ┆   ┆ i64   ┆ i64   ┆ f64  ┆ str      │\n",
       "╞══════════╪════════╪════════════╪══════╪═══╪═══════╪═══════╪══════╪══════════╡\n",
       "│ 0        ┆ 3      ┆ Braund,    ┆ male ┆ … ┆ 1     ┆ 0     ┆ 7.25 ┆ S        │\n",
       "│          ┆        ┆ Mr. Owen   ┆      ┆   ┆       ┆       ┆      ┆          │\n",
       "│          ┆        ┆ Harris     ┆      ┆   ┆       ┆       ┆      ┆          │\n",
       "└──────────┴────────┴────────────┴──────┴───┴───────┴───────┴──────┴──────────┘"
      ]
     },
     "execution_count": 34,
     "metadata": {},
     "output_type": "execute_result"
    }
   ],
   "source": [
    "df.drop([\"PassengerId\", \"Ticket\", \"Cabin\"]).head(1)"
   ]
  },
  {
   "cell_type": "code",
   "execution_count": 38,
   "metadata": {},
   "outputs": [
    {
     "data": {
      "text/html": [
       "<div><style>\n",
       ".dataframe > thead > tr,\n",
       ".dataframe > tbody > tr {\n",
       "  text-align: right;\n",
       "  white-space: pre-wrap;\n",
       "}\n",
       "</style>\n",
       "<small>shape: (1, 11)</small><table border=\"1\" class=\"dataframe\"><thead><tr><th>PassengerId</th><th>Survived</th><th>Pclass</th><th>Name</th><th>Sex</th><th>SibSp</th><th>Parch</th><th>Ticket</th><th>Fare</th><th>Cabin</th><th>Embarked</th></tr><tr><td>i64</td><td>i64</td><td>i64</td><td>str</td><td>str</td><td>i64</td><td>i64</td><td>str</td><td>f64</td><td>str</td><td>str</td></tr></thead><tbody><tr><td>1</td><td>0</td><td>3</td><td>&quot;Braund, Mr. Owen Harris&quot;</td><td>&quot;male&quot;</td><td>1</td><td>0</td><td>&quot;A/5 21171&quot;</td><td>7.25</td><td>null</td><td>&quot;S&quot;</td></tr></tbody></table></div>"
      ],
      "text/plain": [
       "shape: (1, 11)\n",
       "┌─────────┬─────────┬────────┬─────────┬───┬─────────┬──────┬───────┬─────────┐\n",
       "│ Passeng ┆ Survive ┆ Pclass ┆ Name    ┆ … ┆ Ticket  ┆ Fare ┆ Cabin ┆ Embarke │\n",
       "│ erId    ┆ d       ┆ ---    ┆ ---     ┆   ┆ ---     ┆ ---  ┆ ---   ┆ d       │\n",
       "│ ---     ┆ ---     ┆ i64    ┆ str     ┆   ┆ str     ┆ f64  ┆ str   ┆ ---     │\n",
       "│ i64     ┆ i64     ┆        ┆         ┆   ┆         ┆      ┆       ┆ str     │\n",
       "╞═════════╪═════════╪════════╪═════════╪═══╪═════════╪══════╪═══════╪═════════╡\n",
       "│ 1       ┆ 0       ┆ 3      ┆ Braund, ┆ … ┆ A/5     ┆ 7.25 ┆ null  ┆ S       │\n",
       "│         ┆         ┆        ┆ Mr.     ┆   ┆ 21171   ┆      ┆       ┆         │\n",
       "│         ┆         ┆        ┆ Owen    ┆   ┆         ┆      ┆       ┆         │\n",
       "│         ┆         ┆        ┆ Harris  ┆   ┆         ┆      ┆       ┆         │\n",
       "└─────────┴─────────┴────────┴─────────┴───┴─────────┴──────┴───────┴─────────┘"
      ]
     },
     "execution_count": 38,
     "metadata": {},
     "output_type": "execute_result"
    }
   ],
   "source": [
    "import polars.selectors as cs\n",
    "\n",
    "# cs.exclude\n",
    "df.select(cs.exclude(\"Age\")).head(1)"
   ]
  },
  {
   "cell_type": "code",
   "execution_count": 40,
   "metadata": {},
   "outputs": [
    {
     "data": {
      "text/html": [
       "<div><style>\n",
       ".dataframe > thead > tr,\n",
       ".dataframe > tbody > tr {\n",
       "  text-align: right;\n",
       "  white-space: pre-wrap;\n",
       "}\n",
       "</style>\n",
       "<small>shape: (1, 10)</small><table border=\"1\" class=\"dataframe\"><thead><tr><th>PassengerId</th><th>Survived</th><th>Pclass</th><th>Name</th><th>Sex</th><th>SibSp</th><th>Parch</th><th>Ticket</th><th>Cabin</th><th>Embarked</th></tr><tr><td>i64</td><td>i64</td><td>i64</td><td>str</td><td>str</td><td>i64</td><td>i64</td><td>str</td><td>str</td><td>str</td></tr></thead><tbody><tr><td>1</td><td>0</td><td>3</td><td>&quot;Braund, Mr. Owen Harris&quot;</td><td>&quot;male&quot;</td><td>1</td><td>0</td><td>&quot;A/5 21171&quot;</td><td>null</td><td>&quot;S&quot;</td></tr></tbody></table></div>"
      ],
      "text/plain": [
       "shape: (1, 10)\n",
       "┌─────────┬─────────┬────────┬─────────┬───┬───────┬─────────┬───────┬────────┐\n",
       "│ Passeng ┆ Survive ┆ Pclass ┆ Name    ┆ … ┆ Parch ┆ Ticket  ┆ Cabin ┆ Embark │\n",
       "│ erId    ┆ d       ┆ ---    ┆ ---     ┆   ┆ ---   ┆ ---     ┆ ---   ┆ ed     │\n",
       "│ ---     ┆ ---     ┆ i64    ┆ str     ┆   ┆ i64   ┆ str     ┆ str   ┆ ---    │\n",
       "│ i64     ┆ i64     ┆        ┆         ┆   ┆       ┆         ┆       ┆ str    │\n",
       "╞═════════╪═════════╪════════╪═════════╪═══╪═══════╪═════════╪═══════╪════════╡\n",
       "│ 1       ┆ 0       ┆ 3      ┆ Braund, ┆ … ┆ 0     ┆ A/5     ┆ null  ┆ S      │\n",
       "│         ┆         ┆        ┆ Mr.     ┆   ┆       ┆ 21171   ┆       ┆        │\n",
       "│         ┆         ┆        ┆ Owen    ┆   ┆       ┆         ┆       ┆        │\n",
       "│         ┆         ┆        ┆ Harris  ┆   ┆       ┆         ┆       ┆        │\n",
       "└─────────┴─────────┴────────┴─────────┴───┴───────┴─────────┴───────┴────────┘"
      ]
     },
     "execution_count": 40,
     "metadata": {},
     "output_type": "execute_result"
    }
   ],
   "source": [
    "df.select(cs.exclude([\"Age\", \"Fare\"])).head(1)"
   ]
  }
 ],
 "metadata": {
  "kernelspec": {
   "display_name": "Python 3 (ipykernel)",
   "language": "python",
   "name": "python3"
  },
  "language_info": {
   "codemirror_mode": {
    "name": "ipython",
    "version": 3
   },
   "file_extension": ".py",
   "mimetype": "text/x-python",
   "name": "python",
   "nbconvert_exporter": "python",
   "pygments_lexer": "ipython3",
   "version": "3.12.6"
  }
 },
 "nbformat": 4,
 "nbformat_minor": 4
}

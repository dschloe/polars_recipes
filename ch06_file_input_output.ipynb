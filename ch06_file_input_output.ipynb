{
 "cells": [
  {
   "cell_type": "markdown",
   "metadata": {},
   "source": [
    "# CSV"
   ]
  },
  {
   "cell_type": "markdown",
   "metadata": {},
   "source": [
    "## CSV 파일 읽기"
   ]
  },
  {
   "cell_type": "code",
   "execution_count": 1,
   "metadata": {},
   "outputs": [
    {
     "data": {
      "text/html": [
       "<div><style>\n",
       ".dataframe > thead > tr,\n",
       ".dataframe > tbody > tr {\n",
       "  text-align: right;\n",
       "  white-space: pre-wrap;\n",
       "}\n",
       "</style>\n",
       "<small>shape: (1, 10)</small><table border=\"1\" class=\"dataframe\"><thead><tr><th>invoice_no</th><th>customer_id</th><th>gender</th><th>age</th><th>category</th><th>quantity</th><th>price</th><th>payment_method</th><th>invoice_date</th><th>shopping_mall</th></tr><tr><td>str</td><td>str</td><td>str</td><td>i64</td><td>str</td><td>i64</td><td>f64</td><td>str</td><td>str</td><td>str</td></tr></thead><tbody><tr><td>&quot;I138884&quot;</td><td>&quot;C241288&quot;</td><td>&quot;Female&quot;</td><td>28</td><td>&quot;Clothing&quot;</td><td>5</td><td>1500.4</td><td>&quot;Credit Card&quot;</td><td>&quot;5/8/2022&quot;</td><td>&quot;Kanyon&quot;</td></tr></tbody></table></div>"
      ],
      "text/plain": [
       "shape: (1, 10)\n",
       "┌────────────┬─────────────┬────────┬─────┬───┬────────┬──────────────┬──────────────┬─────────────┐\n",
       "│ invoice_no ┆ customer_id ┆ gender ┆ age ┆ … ┆ price  ┆ payment_meth ┆ invoice_date ┆ shopping_ma │\n",
       "│ ---        ┆ ---         ┆ ---    ┆ --- ┆   ┆ ---    ┆ od           ┆ ---          ┆ ll          │\n",
       "│ str        ┆ str         ┆ str    ┆ i64 ┆   ┆ f64    ┆ ---          ┆ str          ┆ ---         │\n",
       "│            ┆             ┆        ┆     ┆   ┆        ┆ str          ┆              ┆ str         │\n",
       "╞════════════╪═════════════╪════════╪═════╪═══╪════════╪══════════════╪══════════════╪═════════════╡\n",
       "│ I138884    ┆ C241288     ┆ Female ┆ 28  ┆ … ┆ 1500.4 ┆ Credit Card  ┆ 5/8/2022     ┆ Kanyon      │\n",
       "└────────────┴─────────────┴────────┴─────┴───┴────────┴──────────────┴──────────────┴─────────────┘"
      ]
     },
     "execution_count": 1,
     "metadata": {},
     "output_type": "execute_result"
    }
   ],
   "source": [
    "import polars as pl \n",
    "df_read = pl.read_csv('data/ch06/input/customer_shopping_data.csv')\n",
    "df_read.head(1)"
   ]
  },
  {
   "cell_type": "code",
   "execution_count": 2,
   "metadata": {},
   "outputs": [
    {
     "data": {
      "text/html": [
       "<div><style>\n",
       ".dataframe > thead > tr,\n",
       ".dataframe > tbody > tr {\n",
       "  text-align: right;\n",
       "  white-space: pre-wrap;\n",
       "}\n",
       "</style>\n",
       "<small>shape: (1, 10)</small><table border=\"1\" class=\"dataframe\"><thead><tr><th>invoice_no</th><th>customer_id</th><th>gender</th><th>age</th><th>category</th><th>quantity</th><th>price</th><th>payment_method</th><th>invoice_date</th><th>shopping_mall</th></tr><tr><td>str</td><td>str</td><td>str</td><td>i64</td><td>str</td><td>i64</td><td>f64</td><td>str</td><td>str</td><td>str</td></tr></thead><tbody><tr><td>&quot;I138884&quot;</td><td>&quot;C241288&quot;</td><td>&quot;Female&quot;</td><td>28</td><td>&quot;Clothing&quot;</td><td>5</td><td>1500.4</td><td>&quot;Credit Card&quot;</td><td>&quot;5/8/2022&quot;</td><td>&quot;Kanyon&quot;</td></tr></tbody></table></div>"
      ],
      "text/plain": [
       "shape: (1, 10)\n",
       "┌────────────┬─────────────┬────────┬─────┬───┬────────┬──────────────┬──────────────┬─────────────┐\n",
       "│ invoice_no ┆ customer_id ┆ gender ┆ age ┆ … ┆ price  ┆ payment_meth ┆ invoice_date ┆ shopping_ma │\n",
       "│ ---        ┆ ---         ┆ ---    ┆ --- ┆   ┆ ---    ┆ od           ┆ ---          ┆ ll          │\n",
       "│ str        ┆ str         ┆ str    ┆ i64 ┆   ┆ f64    ┆ ---          ┆ str          ┆ ---         │\n",
       "│            ┆             ┆        ┆     ┆   ┆        ┆ str          ┆              ┆ str         │\n",
       "╞════════════╪═════════════╪════════╪═════╪═══╪════════╪══════════════╪══════════════╪═════════════╡\n",
       "│ I138884    ┆ C241288     ┆ Female ┆ 28  ┆ … ┆ 1500.4 ┆ Credit Card  ┆ 5/8/2022     ┆ Kanyon      │\n",
       "└────────────┴─────────────┴────────┴─────┴───┴────────┴──────────────┴──────────────┴─────────────┘"
      ]
     },
     "execution_count": 2,
     "metadata": {},
     "output_type": "execute_result"
    }
   ],
   "source": [
    "import polars as pl \n",
    "df_scan = pl.scan_csv('data/ch06/input/customer_shopping_data.csv')\n",
    "df_scan.head(1).collect()"
   ]
  },
  {
   "cell_type": "markdown",
   "metadata": {},
   "source": [
    "## CSV 파일 쓰기"
   ]
  },
  {
   "cell_type": "code",
   "execution_count": 14,
   "metadata": {},
   "outputs": [],
   "source": [
    "df_read.write_csv('data/ch06/output/customer_shopping_data(read).csv')\n"
   ]
  },
  {
   "cell_type": "code",
   "execution_count": 15,
   "metadata": {},
   "outputs": [],
   "source": [
    "df_scan.collect().write_csv('data/ch06/output/customer_shopping_data(scan).csv')"
   ]
  },
  {
   "cell_type": "markdown",
   "metadata": {},
   "source": [
    "## 내보낸 파일 확인"
   ]
  },
  {
   "cell_type": "code",
   "execution_count": 4,
   "metadata": {},
   "outputs": [
    {
     "name": "stdout",
     "output_type": "stream",
     "text": [
      "File: data/ch06/output\\customer_shopping_data(read).csv\n",
      "Size: 7.11 MB\n",
      "Absolute path: c:\\Users\\campus3S043\\Desktop\\polars_recipes\\data\\ch06\\output\\customer_shopping_data(read).csv\n",
      "\n",
      "File: data/ch06/output\\customer_shopping_data(scan).csv\n",
      "Size: 7.11 MB\n",
      "Absolute path: c:\\Users\\campus3S043\\Desktop\\polars_recipes\\data\\ch06\\output\\customer_shopping_data(scan).csv\n",
      "\n",
      "File: data/ch06/output\\customer_shopping_data.parquet\n",
      "Size: 1.17 MB\n",
      "Absolute path: c:\\Users\\campus3S043\\Desktop\\polars_recipes\\data\\ch06\\output\\customer_shopping_data.parquet\n",
      "\n",
      "File: data/ch06/output\\customer_shopping_data_output.parquet\n",
      "Size: 1.80 MB\n",
      "Absolute path: c:\\Users\\campus3S043\\Desktop\\polars_recipes\\data\\ch06\\output\\customer_shopping_data_output.parquet\n",
      "\n",
      "File: data/ch06/output\\customer_shopping_data_output_lazy.parquet\n",
      "Size: 0.89 MB\n",
      "Absolute path: c:\\Users\\campus3S043\\Desktop\\polars_recipes\\data\\ch06\\output\\customer_shopping_data_output_lazy.parquet\n",
      "\n",
      "File: data/ch06/output\\customer_shopping_data_output_partitioned.parquet\n",
      "Size: 0.00 MB\n",
      "Absolute path: c:\\Users\\campus3S043\\Desktop\\polars_recipes\\data\\ch06\\output\\customer_shopping_data_output_partitioned.parquet\n",
      "\n"
     ]
    }
   ],
   "source": [
    "import os\n",
    "import glob\n",
    "\n",
    "def print_file_info(directory_path: str) -> None:\n",
    "    \"\"\"\n",
    "    지정된 디렉토리의 CSV 파일들의 정보를 출력하는 함수\n",
    "    \n",
    "    매개변수:\n",
    "        directory_path: CSV 파일들이 있는 디렉토리 경로\n",
    "    \"\"\"\n",
    "    # Get all CSV files in output directory\n",
    "    output_files = glob.glob(f'{directory_path}/*')\n",
    "    \n",
    "    for file in output_files:\n",
    "        size = os.path.getsize(file) / (1024 * 1024)  # Convert to MB\n",
    "        print(f\"File: {file}\")\n",
    "        print(f\"Size: {size:.2f} MB\")\n",
    "        print(f\"Absolute path: {os.path.abspath(file)}\")\n",
    "        print()\n",
    "\n",
    "# 사용자 정의 함수 호출\n",
    "print_file_info('data/ch06/output')\n"
   ]
  },
  {
   "cell_type": "markdown",
   "metadata": {},
   "source": [
    "# Parquet \n",
    "- pyarrow 설치 "
   ]
  },
  {
   "cell_type": "code",
   "execution_count": 20,
   "metadata": {},
   "outputs": [
    {
     "name": "stdout",
     "output_type": "stream",
     "text": [
      "Collecting pyarrow\n",
      "  Using cached pyarrow-19.0.0-cp312-cp312-win_amd64.whl.metadata (3.4 kB)\n",
      "Using cached pyarrow-19.0.0-cp312-cp312-win_amd64.whl (25.2 MB)\n",
      "Installing collected packages: pyarrow\n",
      "Successfully installed pyarrow-19.0.0\n"
     ]
    },
    {
     "name": "stderr",
     "output_type": "stream",
     "text": [
      "\n",
      "[notice] A new release of pip is available: 24.3.1 -> 25.0.1\n",
      "[notice] To update, run: python.exe -m pip install --upgrade pip\n"
     ]
    }
   ],
   "source": [
    "!pip install pyarrow\n"
   ]
  },
  {
   "cell_type": "markdown",
   "metadata": {},
   "source": [
    "## CSV 파일에서 parquet으로 내보내기"
   ]
  },
  {
   "cell_type": "code",
   "execution_count": 27,
   "metadata": {},
   "outputs": [],
   "source": [
    "import polars as pl \n",
    "df_read = pl.read_csv('data/ch06/input/customer_shopping_data.csv')\n",
    "\n",
    "# Parquet 파일로 내보내기\n",
    "df_read.write_parquet('data/ch06/input/customer_shopping_data.parquet')"
   ]
  },
  {
   "cell_type": "markdown",
   "metadata": {},
   "source": [
    "## parquet으로 파일 불러오기"
   ]
  },
  {
   "cell_type": "code",
   "execution_count": 37,
   "metadata": {},
   "outputs": [
    {
     "data": {
      "text/html": [
       "<div><style>\n",
       ".dataframe > thead > tr,\n",
       ".dataframe > tbody > tr {\n",
       "  text-align: right;\n",
       "  white-space: pre-wrap;\n",
       "}\n",
       "</style>\n",
       "<small>shape: (1, 4)</small><table border=\"1\" class=\"dataframe\"><thead><tr><th>invoice_no</th><th>customer_id</th><th>gender</th><th>price</th></tr><tr><td>str</td><td>str</td><td>str</td><td>f64</td></tr></thead><tbody><tr><td>&quot;I138884&quot;</td><td>&quot;C241288&quot;</td><td>&quot;Female&quot;</td><td>1500.4</td></tr></tbody></table></div>"
      ],
      "text/plain": [
       "shape: (1, 4)\n",
       "┌────────────┬─────────────┬────────┬────────┐\n",
       "│ invoice_no ┆ customer_id ┆ gender ┆ price  │\n",
       "│ ---        ┆ ---         ┆ ---    ┆ ---    │\n",
       "│ str        ┆ str         ┆ str    ┆ f64    │\n",
       "╞════════════╪═════════════╪════════╪════════╡\n",
       "│ I138884    ┆ C241288     ┆ Female ┆ 1500.4 │\n",
       "└────────────┴─────────────┴────────┴────────┘"
      ]
     },
     "execution_count": 37,
     "metadata": {},
     "output_type": "execute_result"
    }
   ],
   "source": [
    "\n",
    "# 일부 컬럼만 선택해서 가져오기 \n",
    "df_read_parquet = pl.read_parquet(\n",
    "    'data/ch06/input/customer_shopping_data.parquet',\n",
    "    columns=['invoice_no', 'customer_id', 'gender', 'price'],\n",
    "    row_index_name='row_cnt'\n",
    ")\n",
    "df_read_parquet.head(1)\n"
   ]
  },
  {
   "cell_type": "code",
   "execution_count": 36,
   "metadata": {},
   "outputs": [
    {
     "data": {
      "text/html": [
       "<div><style>\n",
       ".dataframe > thead > tr,\n",
       ".dataframe > tbody > tr {\n",
       "  text-align: right;\n",
       "  white-space: pre-wrap;\n",
       "}\n",
       "</style>\n",
       "<small>shape: (1, 4)</small><table border=\"1\" class=\"dataframe\"><thead><tr><th>invoice_no</th><th>customer_id</th><th>gender</th><th>price</th></tr><tr><td>str</td><td>str</td><td>str</td><td>f64</td></tr></thead><tbody><tr><td>&quot;I138884&quot;</td><td>&quot;C241288&quot;</td><td>&quot;Female&quot;</td><td>1500.4</td></tr></tbody></table></div>"
      ],
      "text/plain": [
       "shape: (1, 4)\n",
       "┌────────────┬─────────────┬────────┬────────┐\n",
       "│ invoice_no ┆ customer_id ┆ gender ┆ price  │\n",
       "│ ---        ┆ ---         ┆ ---    ┆ ---    │\n",
       "│ str        ┆ str         ┆ str    ┆ f64    │\n",
       "╞════════════╪═════════════╪════════╪════════╡\n",
       "│ I138884    ┆ C241288     ┆ Female ┆ 1500.4 │\n",
       "└────────────┴─────────────┴────────┴────────┘"
      ]
     },
     "execution_count": 36,
     "metadata": {},
     "output_type": "execute_result"
    }
   ],
   "source": [
    "# scan_parquet 사용\n",
    "df_scan_parquet = pl.scan_parquet(\n",
    "    'data/ch06/input/customer_shopping_data.parquet',\n",
    "    row_index_name='row_cnt'\n",
    ").select(['invoice_no', 'customer_id', 'gender', 'price'])\n",
    "df_scan_parquet.head(1).collect()"
   ]
  },
  {
   "cell_type": "code",
   "execution_count": 9,
   "metadata": {},
   "outputs": [
    {
     "data": {
      "text/html": [
       "<div><style>\n",
       ".dataframe > thead > tr,\n",
       ".dataframe > tbody > tr {\n",
       "  text-align: right;\n",
       "  white-space: pre-wrap;\n",
       "}\n",
       "</style>\n",
       "<small>shape: (5, 6)</small><table border=\"1\" class=\"dataframe\"><thead><tr><th>Company</th><th>Amount</th><th>Lead investors</th><th>Valuation</th><th>Date reported</th><th>Industry</th></tr><tr><td>str</td><td>str</td><td>str</td><td>str</td><td>str</td><td>cat</td></tr></thead><tbody><tr><td>&quot;Restaurant365&quot;</td><td>&quot;$135,000,000&quot;</td><td>&quot;KKR, L Catterton&quot;</td><td>&quot;$1,000,000,000&quot;</td><td>&quot;5/19/23&quot;</td><td>&quot;Accounting&quot;</td></tr><tr><td>&quot;Madhive&quot;</td><td>&quot;$300,000,000&quot;</td><td>&quot;Goldman Sachs Asset Management&quot;</td><td>&quot;$1,000,000,000&quot;</td><td>&quot;6/13/23&quot;</td><td>&quot;Advertising&quot;</td></tr><tr><td>&quot;Ursa Major,&quot;</td><td>&quot;$100,000,000&quot;</td><td>&quot;BlackRock, Space Capital&quot;</td><td>&quot;n/a&quot;</td><td>&quot;4/26/23&quot;</td><td>&quot;Aerospace&quot;</td></tr><tr><td>&quot;Indigo&quot;</td><td>&quot;$250,000,000&quot;</td><td>&quot;Flagship Pioneering, State of …</td><td>&quot;na&quot;</td><td>&quot;9/15/23&quot;</td><td>&quot;Agriculture&quot;</td></tr><tr><td>&quot;Chronosphere&quot;</td><td>&quot;$115,000,000&quot;</td><td>&quot;GV&quot;</td><td>&quot;n/a&quot;</td><td>&quot;1/9/23&quot;</td><td>&quot;Analytics&quot;</td></tr></tbody></table></div>"
      ],
      "text/plain": [
       "shape: (5, 6)\n",
       "┌───────────────┬──────────────┬────────────────────┬────────────────┬───────────────┬─────────────┐\n",
       "│ Company       ┆ Amount       ┆ Lead investors     ┆ Valuation      ┆ Date reported ┆ Industry    │\n",
       "│ ---           ┆ ---          ┆ ---                ┆ ---            ┆ ---           ┆ ---         │\n",
       "│ str           ┆ str          ┆ str                ┆ str            ┆ str           ┆ cat         │\n",
       "╞═══════════════╪══════════════╪════════════════════╪════════════════╪═══════════════╪═════════════╡\n",
       "│ Restaurant365 ┆ $135,000,000 ┆ KKR, L Catterton   ┆ $1,000,000,000 ┆ 5/19/23       ┆ Accounting  │\n",
       "│ Madhive       ┆ $300,000,000 ┆ Goldman Sachs      ┆ $1,000,000,000 ┆ 6/13/23       ┆ Advertising │\n",
       "│               ┆              ┆ Asset Management   ┆                ┆               ┆             │\n",
       "│ Ursa Major,   ┆ $100,000,000 ┆ BlackRock, Space   ┆ n/a            ┆ 4/26/23       ┆ Aerospace   │\n",
       "│               ┆              ┆ Capital            ┆                ┆               ┆             │\n",
       "│ Indigo        ┆ $250,000,000 ┆ Flagship           ┆ na             ┆ 9/15/23       ┆ Agriculture │\n",
       "│               ┆              ┆ Pioneering, State  ┆                ┆               ┆             │\n",
       "│               ┆              ┆ of …               ┆                ┆               ┆             │\n",
       "│ Chronosphere  ┆ $115,000,000 ┆ GV                 ┆ n/a            ┆ 1/9/23        ┆ Analytics   │\n",
       "└───────────────┴──────────────┴────────────────────┴────────────────┴───────────────┴─────────────┘"
      ]
     },
     "execution_count": 9,
     "metadata": {},
     "output_type": "execute_result"
    }
   ],
   "source": [
    "# Hive 형태의 파티션된 parquet 파일 읽기\n",
    "df_read_parquet_hive = pl.read_parquet(\n",
    "    'data/ch06/input/venture_funding_deals_partitioned',\n",
    "    use_pyarrow=True,\n",
    "    pyarrow_options={'partitioning': 'hive'}\n",
    ")\n",
    "df_read_parquet_hive.head(5)"
   ]
  },
  {
   "cell_type": "markdown",
   "metadata": {},
   "source": [
    "## 파일 내보내기 옵션"
   ]
  },
  {
   "cell_type": "code",
   "execution_count": null,
   "metadata": {},
   "outputs": [
    {
     "name": "stdout",
     "output_type": "stream",
     "text": [
      "File: data/ch06/output\\customer_shopping_data(read).csv\n",
      "Size: 7.11 MB\n",
      "Absolute path: c:\\Users\\campus3S043\\Desktop\\polars_recipes\\data\\ch06\\output\\customer_shopping_data(read).csv\n",
      "\n",
      "File: data/ch06/output\\customer_shopping_data(scan).csv\n",
      "Size: 7.11 MB\n",
      "Absolute path: c:\\Users\\campus3S043\\Desktop\\polars_recipes\\data\\ch06\\output\\customer_shopping_data(scan).csv\n",
      "\n",
      "File: data/ch06/output\\customer_shopping_data.parquet\n",
      "Size: 1.17 MB\n",
      "Absolute path: c:\\Users\\campus3S043\\Desktop\\polars_recipes\\data\\ch06\\output\\customer_shopping_data.parquet\n",
      "\n",
      "File: data/ch06/output\\customer_shopping_data_output.parquet\n",
      "Size: 1.80 MB\n",
      "Absolute path: c:\\Users\\campus3S043\\Desktop\\polars_recipes\\data\\ch06\\output\\customer_shopping_data_output.parquet\n",
      "\n"
     ]
    }
   ],
   "source": [
    "# compression 옵션을 사용하여 parquet 파일로 내보내기\n",
    "# compression='lz4'\n",
    "# compression_level=10\n",
    "df_read.write_parquet(\n",
    "    'data/ch06/output/customer_shopping_data_output.parquet',\n",
    "    compression='lz4',\n",
    "    compression_level=10\n",
    ")\n",
    "\n",
    "print_file_info('data/ch06/output')"
   ]
  },
  {
   "cell_type": "code",
   "execution_count": 39,
   "metadata": {},
   "outputs": [
    {
     "name": "stdout",
     "output_type": "stream",
     "text": [
      "File: data/ch06/output\\customer_shopping_data(read).csv\n",
      "Size: 7.11 MB\n",
      "Absolute path: c:\\Users\\campus3S043\\Desktop\\polars_recipes\\data\\ch06\\output\\customer_shopping_data(read).csv\n",
      "\n",
      "File: data/ch06/output\\customer_shopping_data(scan).csv\n",
      "Size: 7.11 MB\n",
      "Absolute path: c:\\Users\\campus3S043\\Desktop\\polars_recipes\\data\\ch06\\output\\customer_shopping_data(scan).csv\n",
      "\n",
      "File: data/ch06/output\\customer_shopping_data.parquet\n",
      "Size: 1.17 MB\n",
      "Absolute path: c:\\Users\\campus3S043\\Desktop\\polars_recipes\\data\\ch06\\output\\customer_shopping_data.parquet\n",
      "\n",
      "File: data/ch06/output\\customer_shopping_data_output.parquet\n",
      "Size: 1.80 MB\n",
      "Absolute path: c:\\Users\\campus3S043\\Desktop\\polars_recipes\\data\\ch06\\output\\customer_shopping_data_output.parquet\n",
      "\n",
      "File: data/ch06/output\\customer_shopping_data_output_lazy.parquet\n",
      "Size: 0.89 MB\n",
      "Absolute path: c:\\Users\\campus3S043\\Desktop\\polars_recipes\\data\\ch06\\output\\customer_shopping_data_output_lazy.parquet\n",
      "\n"
     ]
    },
    {
     "name": "stderr",
     "output_type": "stream",
     "text": [
      "C:\\Users\\campus3S043\\AppData\\Local\\Temp\\ipykernel_40608\\2931195005.py:2: DeprecationWarning: The old streaming engine is being deprecated and will soon be replaced by the new streaming engine. Starting Polars version 1.23.0 and until the new streaming engine is released, the old streaming engine may become less usable. For people who rely on the old streaming engine, it is suggested to pin your version to before 1.23.0.\n",
      "\n",
      "More information on the new streaming engine: https://github.com/pola-rs/polars/issues/20947\n",
      "  df_scan_parquet.sink_parquet(\n"
     ]
    }
   ],
   "source": [
    "# LazyFrame Parquet 파일로 내보내기\n",
    "df_scan_parquet.sink_parquet(\n",
    "    'data/ch06/output/customer_shopping_data_output_lazy.parquet',\n",
    "    maintain_order=False\n",
    ")\n",
    "print_file_info('data/ch06/output')\n"
   ]
  },
  {
   "cell_type": "code",
   "execution_count": 5,
   "metadata": {},
   "outputs": [
    {
     "name": "stdout",
     "output_type": "stream",
     "text": [
      "File: data/ch06/output\\customer_shopping_data(read).csv\n",
      "Size: 7.11 MB\n",
      "Absolute path: c:\\Users\\campus3S043\\Desktop\\polars_recipes\\data\\ch06\\output\\customer_shopping_data(read).csv\n",
      "\n",
      "File: data/ch06/output\\customer_shopping_data(scan).csv\n",
      "Size: 7.11 MB\n",
      "Absolute path: c:\\Users\\campus3S043\\Desktop\\polars_recipes\\data\\ch06\\output\\customer_shopping_data(scan).csv\n",
      "\n",
      "File: data/ch06/output\\customer_shopping_data.parquet\n",
      "Size: 1.17 MB\n",
      "Absolute path: c:\\Users\\campus3S043\\Desktop\\polars_recipes\\data\\ch06\\output\\customer_shopping_data.parquet\n",
      "\n",
      "File: data/ch06/output\\customer_shopping_data_output.parquet\n",
      "Size: 1.80 MB\n",
      "Absolute path: c:\\Users\\campus3S043\\Desktop\\polars_recipes\\data\\ch06\\output\\customer_shopping_data_output.parquet\n",
      "\n",
      "File: data/ch06/output\\customer_shopping_data_output_lazy.parquet\n",
      "Size: 0.89 MB\n",
      "Absolute path: c:\\Users\\campus3S043\\Desktop\\polars_recipes\\data\\ch06\\output\\customer_shopping_data_output_lazy.parquet\n",
      "\n",
      "File: data/ch06/output\\customer_shopping_data_output_partitioned.parquet\n",
      "Size: 0.00 MB\n",
      "Absolute path: c:\\Users\\campus3S043\\Desktop\\polars_recipes\\data\\ch06\\output\\customer_shopping_data_output_partitioned.parquet\n",
      "\n"
     ]
    }
   ],
   "source": [
    "# partitioned parquet 파일 내보내기\n",
    "df_read.write_parquet(\n",
    "    'data/ch06/output/customer_shopping_data_output_partitioned.parquet',\n",
    "    partition_by='gender',\n",
    ")\n",
    "\n",
    "print_file_info('data/ch06/output')"
   ]
  },
  {
   "cell_type": "markdown",
   "metadata": {},
   "source": []
  },
  {
   "cell_type": "markdown",
   "metadata": {},
   "source": []
  },
  {
   "cell_type": "markdown",
   "metadata": {},
   "source": []
  },
  {
   "cell_type": "markdown",
   "metadata": {},
   "source": []
  },
  {
   "cell_type": "markdown",
   "metadata": {},
   "source": []
  }
 ],
 "metadata": {
  "kernelspec": {
   "display_name": "venv",
   "language": "python",
   "name": "python3"
  },
  "language_info": {
   "codemirror_mode": {
    "name": "ipython",
    "version": 3
   },
   "file_extension": ".py",
   "mimetype": "text/x-python",
   "name": "python",
   "nbconvert_exporter": "python",
   "pygments_lexer": "ipython3",
   "version": "3.12.6"
  }
 },
 "nbformat": 4,
 "nbformat_minor": 2
}

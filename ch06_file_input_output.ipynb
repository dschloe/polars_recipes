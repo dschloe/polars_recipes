{
 "cells": [
  {
   "cell_type": "markdown",
   "metadata": {},
   "source": [
    "# CSV"
   ]
  },
  {
   "cell_type": "markdown",
   "metadata": {},
   "source": [
    "## CSV 파일 읽기"
   ]
  },
  {
   "cell_type": "code",
   "execution_count": 1,
   "metadata": {},
   "outputs": [
    {
     "data": {
      "text/html": [
       "<div><style>\n",
       ".dataframe > thead > tr,\n",
       ".dataframe > tbody > tr {\n",
       "  text-align: right;\n",
       "  white-space: pre-wrap;\n",
       "}\n",
       "</style>\n",
       "<small>shape: (1, 10)</small><table border=\"1\" class=\"dataframe\"><thead><tr><th>invoice_no</th><th>customer_id</th><th>gender</th><th>age</th><th>category</th><th>quantity</th><th>price</th><th>payment_method</th><th>invoice_date</th><th>shopping_mall</th></tr><tr><td>str</td><td>str</td><td>str</td><td>i64</td><td>str</td><td>i64</td><td>f64</td><td>str</td><td>str</td><td>str</td></tr></thead><tbody><tr><td>&quot;I138884&quot;</td><td>&quot;C241288&quot;</td><td>&quot;Female&quot;</td><td>28</td><td>&quot;Clothing&quot;</td><td>5</td><td>1500.4</td><td>&quot;Credit Card&quot;</td><td>&quot;5/8/2022&quot;</td><td>&quot;Kanyon&quot;</td></tr></tbody></table></div>"
      ],
      "text/plain": [
       "shape: (1, 10)\n",
       "┌────────────┬─────────────┬────────┬─────┬───┬────────┬──────────────┬──────────────┬─────────────┐\n",
       "│ invoice_no ┆ customer_id ┆ gender ┆ age ┆ … ┆ price  ┆ payment_meth ┆ invoice_date ┆ shopping_ma │\n",
       "│ ---        ┆ ---         ┆ ---    ┆ --- ┆   ┆ ---    ┆ od           ┆ ---          ┆ ll          │\n",
       "│ str        ┆ str         ┆ str    ┆ i64 ┆   ┆ f64    ┆ ---          ┆ str          ┆ ---         │\n",
       "│            ┆             ┆        ┆     ┆   ┆        ┆ str          ┆              ┆ str         │\n",
       "╞════════════╪═════════════╪════════╪═════╪═══╪════════╪══════════════╪══════════════╪═════════════╡\n",
       "│ I138884    ┆ C241288     ┆ Female ┆ 28  ┆ … ┆ 1500.4 ┆ Credit Card  ┆ 5/8/2022     ┆ Kanyon      │\n",
       "└────────────┴─────────────┴────────┴─────┴───┴────────┴──────────────┴──────────────┴─────────────┘"
      ]
     },
     "execution_count": 1,
     "metadata": {},
     "output_type": "execute_result"
    }
   ],
   "source": [
    "import polars as pl \n",
    "df_read = pl.read_csv('data/ch06/input/customer_shopping_data.csv')\n",
    "df_read.head(1)"
   ]
  },
  {
   "cell_type": "code",
   "execution_count": 11,
   "metadata": {},
   "outputs": [
    {
     "data": {
      "text/html": [
       "<div><style>\n",
       ".dataframe > thead > tr,\n",
       ".dataframe > tbody > tr {\n",
       "  text-align: right;\n",
       "  white-space: pre-wrap;\n",
       "}\n",
       "</style>\n",
       "<small>shape: (1, 10)</small><table border=\"1\" class=\"dataframe\"><thead><tr><th>invoice_no</th><th>customer_id</th><th>gender</th><th>age</th><th>category</th><th>quantity</th><th>price</th><th>payment_method</th><th>invoice_date</th><th>shopping_mall</th></tr><tr><td>str</td><td>str</td><td>str</td><td>i64</td><td>str</td><td>i64</td><td>f64</td><td>str</td><td>str</td><td>str</td></tr></thead><tbody><tr><td>&quot;I138884&quot;</td><td>&quot;C241288&quot;</td><td>&quot;Female&quot;</td><td>28</td><td>&quot;Clothing&quot;</td><td>5</td><td>1500.4</td><td>&quot;Credit Card&quot;</td><td>&quot;5/8/2022&quot;</td><td>&quot;Kanyon&quot;</td></tr></tbody></table></div>"
      ],
      "text/plain": [
       "shape: (1, 10)\n",
       "┌────────────┬─────────────┬────────┬─────┬───┬────────┬──────────────┬──────────────┬─────────────┐\n",
       "│ invoice_no ┆ customer_id ┆ gender ┆ age ┆ … ┆ price  ┆ payment_meth ┆ invoice_date ┆ shopping_ma │\n",
       "│ ---        ┆ ---         ┆ ---    ┆ --- ┆   ┆ ---    ┆ od           ┆ ---          ┆ ll          │\n",
       "│ str        ┆ str         ┆ str    ┆ i64 ┆   ┆ f64    ┆ ---          ┆ str          ┆ ---         │\n",
       "│            ┆             ┆        ┆     ┆   ┆        ┆ str          ┆              ┆ str         │\n",
       "╞════════════╪═════════════╪════════╪═════╪═══╪════════╪══════════════╪══════════════╪═════════════╡\n",
       "│ I138884    ┆ C241288     ┆ Female ┆ 28  ┆ … ┆ 1500.4 ┆ Credit Card  ┆ 5/8/2022     ┆ Kanyon      │\n",
       "└────────────┴─────────────┴────────┴─────┴───┴────────┴──────────────┴──────────────┴─────────────┘"
      ]
     },
     "execution_count": 11,
     "metadata": {},
     "output_type": "execute_result"
    }
   ],
   "source": [
    "import polars as pl \n",
    "df_scan = pl.scan_csv('data/ch06/input/customer_shopping_data.csv')\n",
    "df_scan.head(1).collect()"
   ]
  },
  {
   "cell_type": "markdown",
   "metadata": {},
   "source": [
    "## CSV 파일 쓰기"
   ]
  },
  {
   "cell_type": "code",
   "execution_count": 14,
   "metadata": {},
   "outputs": [],
   "source": [
    "df_read.write_csv('data/ch06/output/customer_shopping_data(read).csv')\n"
   ]
  },
  {
   "cell_type": "code",
   "execution_count": 15,
   "metadata": {},
   "outputs": [],
   "source": [
    "df_scan.collect().write_csv('data/ch06/output/customer_shopping_data(scan).csv')"
   ]
  },
  {
   "cell_type": "markdown",
   "metadata": {},
   "source": [
    "## 내보낸 파일 확인"
   ]
  },
  {
   "cell_type": "code",
   "execution_count": 2,
   "metadata": {},
   "outputs": [
    {
     "name": "stdout",
     "output_type": "stream",
     "text": [
      "File: data/ch06/output\\customer_shopping_data(read).csv\n",
      "Size: 7.11 MB\n",
      "Absolute path: c:\\Users\\campus3S043\\Desktop\\polars_recipes\\data\\ch06\\output\\customer_shopping_data(read).csv\n",
      "\n",
      "File: data/ch06/output\\customer_shopping_data(scan).csv\n",
      "Size: 7.11 MB\n",
      "Absolute path: c:\\Users\\campus3S043\\Desktop\\polars_recipes\\data\\ch06\\output\\customer_shopping_data(scan).csv\n",
      "\n",
      "File: data/ch06/output\\customer_shopping_data.parquet\n",
      "Size: 1.17 MB\n",
      "Absolute path: c:\\Users\\campus3S043\\Desktop\\polars_recipes\\data\\ch06\\output\\customer_shopping_data.parquet\n",
      "\n",
      "File: data/ch06/output\\customer_shopping_data_output.parquet\n",
      "Size: 1.80 MB\n",
      "Absolute path: c:\\Users\\campus3S043\\Desktop\\polars_recipes\\data\\ch06\\output\\customer_shopping_data_output.parquet\n",
      "\n",
      "File: data/ch06/output\\customer_shopping_data_output_lazy.parquet\n",
      "Size: 0.89 MB\n",
      "Absolute path: c:\\Users\\campus3S043\\Desktop\\polars_recipes\\data\\ch06\\output\\customer_shopping_data_output_lazy.parquet\n",
      "\n",
      "File: data/ch06/output\\customer_shopping_data_output_partitioned.parquet\n",
      "Size: 0.00 MB\n",
      "Absolute path: c:\\Users\\campus3S043\\Desktop\\polars_recipes\\data\\ch06\\output\\customer_shopping_data_output_partitioned.parquet\n",
      "\n"
     ]
    }
   ],
   "source": [
    "import os\n",
    "import glob\n",
    "\n",
    "def print_file_info(directory_path: str) -> None:\n",
    "    \"\"\"\n",
    "    지정된 디렉토리의 CSV 파일들의 정보를 출력하는 함수\n",
    "    \n",
    "    매개변수:\n",
    "        directory_path: CSV 파일들이 있는 디렉토리 경로\n",
    "    \"\"\"\n",
    "    # Get all CSV files in output directory\n",
    "    output_files = glob.glob(f'{directory_path}/*')\n",
    "    \n",
    "    for file in output_files:\n",
    "        size = os.path.getsize(file) / (1024 * 1024)  # Convert to MB\n",
    "        print(f\"File: {file}\")\n",
    "        print(f\"Size: {size:.2f} MB\")\n",
    "        print(f\"Absolute path: {os.path.abspath(file)}\")\n",
    "        print()\n",
    "\n",
    "# 사용자 정의 함수 호출\n",
    "print_file_info('data/ch06/output')\n"
   ]
  },
  {
   "cell_type": "markdown",
   "metadata": {},
   "source": [
    "# Parquet \n",
    "- pyarrow 설치 "
   ]
  },
  {
   "cell_type": "code",
   "execution_count": 20,
   "metadata": {},
   "outputs": [
    {
     "name": "stdout",
     "output_type": "stream",
     "text": [
      "Collecting pyarrow\n",
      "  Using cached pyarrow-19.0.0-cp312-cp312-win_amd64.whl.metadata (3.4 kB)\n",
      "Using cached pyarrow-19.0.0-cp312-cp312-win_amd64.whl (25.2 MB)\n",
      "Installing collected packages: pyarrow\n",
      "Successfully installed pyarrow-19.0.0\n"
     ]
    },
    {
     "name": "stderr",
     "output_type": "stream",
     "text": [
      "\n",
      "[notice] A new release of pip is available: 24.3.1 -> 25.0.1\n",
      "[notice] To update, run: python.exe -m pip install --upgrade pip\n"
     ]
    }
   ],
   "source": [
    "!pip install pyarrow\n"
   ]
  },
  {
   "cell_type": "markdown",
   "metadata": {},
   "source": [
    "## CSV 파일에서 parquet으로 내보내기"
   ]
  },
  {
   "cell_type": "code",
   "execution_count": 27,
   "metadata": {},
   "outputs": [],
   "source": [
    "import polars as pl \n",
    "df_read = pl.read_csv('data/ch06/input/customer_shopping_data.csv')\n",
    "\n",
    "# Parquet 파일로 내보내기\n",
    "df_read.write_parquet('data/ch06/input/customer_shopping_data.parquet')"
   ]
  },
  {
   "cell_type": "markdown",
   "metadata": {},
   "source": [
    "## parquet으로 파일 불러오기"
   ]
  },
  {
   "cell_type": "code",
   "execution_count": 37,
   "metadata": {},
   "outputs": [
    {
     "data": {
      "text/html": [
       "<div><style>\n",
       ".dataframe > thead > tr,\n",
       ".dataframe > tbody > tr {\n",
       "  text-align: right;\n",
       "  white-space: pre-wrap;\n",
       "}\n",
       "</style>\n",
       "<small>shape: (1, 4)</small><table border=\"1\" class=\"dataframe\"><thead><tr><th>invoice_no</th><th>customer_id</th><th>gender</th><th>price</th></tr><tr><td>str</td><td>str</td><td>str</td><td>f64</td></tr></thead><tbody><tr><td>&quot;I138884&quot;</td><td>&quot;C241288&quot;</td><td>&quot;Female&quot;</td><td>1500.4</td></tr></tbody></table></div>"
      ],
      "text/plain": [
       "shape: (1, 4)\n",
       "┌────────────┬─────────────┬────────┬────────┐\n",
       "│ invoice_no ┆ customer_id ┆ gender ┆ price  │\n",
       "│ ---        ┆ ---         ┆ ---    ┆ ---    │\n",
       "│ str        ┆ str         ┆ str    ┆ f64    │\n",
       "╞════════════╪═════════════╪════════╪════════╡\n",
       "│ I138884    ┆ C241288     ┆ Female ┆ 1500.4 │\n",
       "└────────────┴─────────────┴────────┴────────┘"
      ]
     },
     "execution_count": 37,
     "metadata": {},
     "output_type": "execute_result"
    }
   ],
   "source": [
    "\n",
    "# 일부 컬럼만 선택해서 가져오기 \n",
    "df_read_parquet = pl.read_parquet(\n",
    "    'data/ch06/input/customer_shopping_data.parquet',\n",
    "    columns=['invoice_no', 'customer_id', 'gender', 'price'],\n",
    "    row_index_name='row_cnt'\n",
    ")\n",
    "df_read_parquet.head(1)\n"
   ]
  },
  {
   "cell_type": "code",
   "execution_count": 36,
   "metadata": {},
   "outputs": [
    {
     "data": {
      "text/html": [
       "<div><style>\n",
       ".dataframe > thead > tr,\n",
       ".dataframe > tbody > tr {\n",
       "  text-align: right;\n",
       "  white-space: pre-wrap;\n",
       "}\n",
       "</style>\n",
       "<small>shape: (1, 4)</small><table border=\"1\" class=\"dataframe\"><thead><tr><th>invoice_no</th><th>customer_id</th><th>gender</th><th>price</th></tr><tr><td>str</td><td>str</td><td>str</td><td>f64</td></tr></thead><tbody><tr><td>&quot;I138884&quot;</td><td>&quot;C241288&quot;</td><td>&quot;Female&quot;</td><td>1500.4</td></tr></tbody></table></div>"
      ],
      "text/plain": [
       "shape: (1, 4)\n",
       "┌────────────┬─────────────┬────────┬────────┐\n",
       "│ invoice_no ┆ customer_id ┆ gender ┆ price  │\n",
       "│ ---        ┆ ---         ┆ ---    ┆ ---    │\n",
       "│ str        ┆ str         ┆ str    ┆ f64    │\n",
       "╞════════════╪═════════════╪════════╪════════╡\n",
       "│ I138884    ┆ C241288     ┆ Female ┆ 1500.4 │\n",
       "└────────────┴─────────────┴────────┴────────┘"
      ]
     },
     "execution_count": 36,
     "metadata": {},
     "output_type": "execute_result"
    }
   ],
   "source": [
    "# scan_parquet 사용\n",
    "df_scan_parquet = pl.scan_parquet(\n",
    "    'data/ch06/input/customer_shopping_data.parquet',\n",
    "    row_index_name='row_cnt'\n",
    ").select(['invoice_no', 'customer_id', 'gender', 'price'])\n",
    "df_scan_parquet.head(1).collect()"
   ]
  },
  {
   "cell_type": "code",
   "execution_count": 9,
   "metadata": {},
   "outputs": [
    {
     "data": {
      "text/html": [
       "<div><style>\n",
       ".dataframe > thead > tr,\n",
       ".dataframe > tbody > tr {\n",
       "  text-align: right;\n",
       "  white-space: pre-wrap;\n",
       "}\n",
       "</style>\n",
       "<small>shape: (5, 6)</small><table border=\"1\" class=\"dataframe\"><thead><tr><th>Company</th><th>Amount</th><th>Lead investors</th><th>Valuation</th><th>Date reported</th><th>Industry</th></tr><tr><td>str</td><td>str</td><td>str</td><td>str</td><td>str</td><td>cat</td></tr></thead><tbody><tr><td>&quot;Restaurant365&quot;</td><td>&quot;$135,000,000&quot;</td><td>&quot;KKR, L Catterton&quot;</td><td>&quot;$1,000,000,000&quot;</td><td>&quot;5/19/23&quot;</td><td>&quot;Accounting&quot;</td></tr><tr><td>&quot;Madhive&quot;</td><td>&quot;$300,000,000&quot;</td><td>&quot;Goldman Sachs Asset Management&quot;</td><td>&quot;$1,000,000,000&quot;</td><td>&quot;6/13/23&quot;</td><td>&quot;Advertising&quot;</td></tr><tr><td>&quot;Ursa Major,&quot;</td><td>&quot;$100,000,000&quot;</td><td>&quot;BlackRock, Space Capital&quot;</td><td>&quot;n/a&quot;</td><td>&quot;4/26/23&quot;</td><td>&quot;Aerospace&quot;</td></tr><tr><td>&quot;Indigo&quot;</td><td>&quot;$250,000,000&quot;</td><td>&quot;Flagship Pioneering, State of …</td><td>&quot;na&quot;</td><td>&quot;9/15/23&quot;</td><td>&quot;Agriculture&quot;</td></tr><tr><td>&quot;Chronosphere&quot;</td><td>&quot;$115,000,000&quot;</td><td>&quot;GV&quot;</td><td>&quot;n/a&quot;</td><td>&quot;1/9/23&quot;</td><td>&quot;Analytics&quot;</td></tr></tbody></table></div>"
      ],
      "text/plain": [
       "shape: (5, 6)\n",
       "┌───────────────┬──────────────┬────────────────────┬────────────────┬───────────────┬─────────────┐\n",
       "│ Company       ┆ Amount       ┆ Lead investors     ┆ Valuation      ┆ Date reported ┆ Industry    │\n",
       "│ ---           ┆ ---          ┆ ---                ┆ ---            ┆ ---           ┆ ---         │\n",
       "│ str           ┆ str          ┆ str                ┆ str            ┆ str           ┆ cat         │\n",
       "╞═══════════════╪══════════════╪════════════════════╪════════════════╪═══════════════╪═════════════╡\n",
       "│ Restaurant365 ┆ $135,000,000 ┆ KKR, L Catterton   ┆ $1,000,000,000 ┆ 5/19/23       ┆ Accounting  │\n",
       "│ Madhive       ┆ $300,000,000 ┆ Goldman Sachs      ┆ $1,000,000,000 ┆ 6/13/23       ┆ Advertising │\n",
       "│               ┆              ┆ Asset Management   ┆                ┆               ┆             │\n",
       "│ Ursa Major,   ┆ $100,000,000 ┆ BlackRock, Space   ┆ n/a            ┆ 4/26/23       ┆ Aerospace   │\n",
       "│               ┆              ┆ Capital            ┆                ┆               ┆             │\n",
       "│ Indigo        ┆ $250,000,000 ┆ Flagship           ┆ na             ┆ 9/15/23       ┆ Agriculture │\n",
       "│               ┆              ┆ Pioneering, State  ┆                ┆               ┆             │\n",
       "│               ┆              ┆ of …               ┆                ┆               ┆             │\n",
       "│ Chronosphere  ┆ $115,000,000 ┆ GV                 ┆ n/a            ┆ 1/9/23        ┆ Analytics   │\n",
       "└───────────────┴──────────────┴────────────────────┴────────────────┴───────────────┴─────────────┘"
      ]
     },
     "execution_count": 9,
     "metadata": {},
     "output_type": "execute_result"
    }
   ],
   "source": [
    "# Hive 형태의 파티션된 parquet 파일 읽기\n",
    "df_read_parquet_hive = pl.read_parquet(\n",
    "    'data/ch06/input/venture_funding_deals_partitioned',\n",
    "    use_pyarrow=True,\n",
    "    pyarrow_options={'partitioning': 'hive'}\n",
    ")\n",
    "df_read_parquet_hive.head(5)"
   ]
  },
  {
   "cell_type": "markdown",
   "metadata": {},
   "source": [
    "## 파일 내보내기 옵션"
   ]
  },
  {
   "cell_type": "code",
   "execution_count": null,
   "metadata": {},
   "outputs": [
    {
     "name": "stdout",
     "output_type": "stream",
     "text": [
      "File: data/ch06/output\\customer_shopping_data(read).csv\n",
      "Size: 7.11 MB\n",
      "Absolute path: c:\\Users\\campus3S043\\Desktop\\polars_recipes\\data\\ch06\\output\\customer_shopping_data(read).csv\n",
      "\n",
      "File: data/ch06/output\\customer_shopping_data(scan).csv\n",
      "Size: 7.11 MB\n",
      "Absolute path: c:\\Users\\campus3S043\\Desktop\\polars_recipes\\data\\ch06\\output\\customer_shopping_data(scan).csv\n",
      "\n",
      "File: data/ch06/output\\customer_shopping_data.parquet\n",
      "Size: 1.17 MB\n",
      "Absolute path: c:\\Users\\campus3S043\\Desktop\\polars_recipes\\data\\ch06\\output\\customer_shopping_data.parquet\n",
      "\n",
      "File: data/ch06/output\\customer_shopping_data_output.parquet\n",
      "Size: 1.80 MB\n",
      "Absolute path: c:\\Users\\campus3S043\\Desktop\\polars_recipes\\data\\ch06\\output\\customer_shopping_data_output.parquet\n",
      "\n"
     ]
    }
   ],
   "source": [
    "# compression 옵션을 사용하여 parquet 파일로 내보내기\n",
    "# compression='lz4'\n",
    "# compression_level=10\n",
    "df_read.write_parquet(\n",
    "    'data/ch06/output/customer_shopping_data_output.parquet',\n",
    "    compression='lz4',\n",
    "    compression_level=10\n",
    ")\n",
    "\n",
    "print_file_info('data/ch06/output')"
   ]
  },
  {
   "cell_type": "code",
   "execution_count": 39,
   "metadata": {},
   "outputs": [
    {
     "name": "stdout",
     "output_type": "stream",
     "text": [
      "File: data/ch06/output\\customer_shopping_data(read).csv\n",
      "Size: 7.11 MB\n",
      "Absolute path: c:\\Users\\campus3S043\\Desktop\\polars_recipes\\data\\ch06\\output\\customer_shopping_data(read).csv\n",
      "\n",
      "File: data/ch06/output\\customer_shopping_data(scan).csv\n",
      "Size: 7.11 MB\n",
      "Absolute path: c:\\Users\\campus3S043\\Desktop\\polars_recipes\\data\\ch06\\output\\customer_shopping_data(scan).csv\n",
      "\n",
      "File: data/ch06/output\\customer_shopping_data.parquet\n",
      "Size: 1.17 MB\n",
      "Absolute path: c:\\Users\\campus3S043\\Desktop\\polars_recipes\\data\\ch06\\output\\customer_shopping_data.parquet\n",
      "\n",
      "File: data/ch06/output\\customer_shopping_data_output.parquet\n",
      "Size: 1.80 MB\n",
      "Absolute path: c:\\Users\\campus3S043\\Desktop\\polars_recipes\\data\\ch06\\output\\customer_shopping_data_output.parquet\n",
      "\n",
      "File: data/ch06/output\\customer_shopping_data_output_lazy.parquet\n",
      "Size: 0.89 MB\n",
      "Absolute path: c:\\Users\\campus3S043\\Desktop\\polars_recipes\\data\\ch06\\output\\customer_shopping_data_output_lazy.parquet\n",
      "\n"
     ]
    },
    {
     "name": "stderr",
     "output_type": "stream",
     "text": [
      "C:\\Users\\campus3S043\\AppData\\Local\\Temp\\ipykernel_40608\\2931195005.py:2: DeprecationWarning: The old streaming engine is being deprecated and will soon be replaced by the new streaming engine. Starting Polars version 1.23.0 and until the new streaming engine is released, the old streaming engine may become less usable. For people who rely on the old streaming engine, it is suggested to pin your version to before 1.23.0.\n",
      "\n",
      "More information on the new streaming engine: https://github.com/pola-rs/polars/issues/20947\n",
      "  df_scan_parquet.sink_parquet(\n"
     ]
    }
   ],
   "source": [
    "# LazyFrame Parquet 파일로 내보내기\n",
    "df_scan_parquet.sink_parquet(\n",
    "    'data/ch06/output/customer_shopping_data_output_lazy.parquet',\n",
    "    maintain_order=False\n",
    ")\n",
    "print_file_info('data/ch06/output')\n"
   ]
  },
  {
   "cell_type": "code",
   "execution_count": 5,
   "metadata": {},
   "outputs": [
    {
     "name": "stdout",
     "output_type": "stream",
     "text": [
      "File: data/ch06/output\\customer_shopping_data(read).csv\n",
      "Size: 7.11 MB\n",
      "Absolute path: c:\\Users\\campus3S043\\Desktop\\polars_recipes\\data\\ch06\\output\\customer_shopping_data(read).csv\n",
      "\n",
      "File: data/ch06/output\\customer_shopping_data(scan).csv\n",
      "Size: 7.11 MB\n",
      "Absolute path: c:\\Users\\campus3S043\\Desktop\\polars_recipes\\data\\ch06\\output\\customer_shopping_data(scan).csv\n",
      "\n",
      "File: data/ch06/output\\customer_shopping_data.parquet\n",
      "Size: 1.17 MB\n",
      "Absolute path: c:\\Users\\campus3S043\\Desktop\\polars_recipes\\data\\ch06\\output\\customer_shopping_data.parquet\n",
      "\n",
      "File: data/ch06/output\\customer_shopping_data_output.parquet\n",
      "Size: 1.80 MB\n",
      "Absolute path: c:\\Users\\campus3S043\\Desktop\\polars_recipes\\data\\ch06\\output\\customer_shopping_data_output.parquet\n",
      "\n",
      "File: data/ch06/output\\customer_shopping_data_output_lazy.parquet\n",
      "Size: 0.89 MB\n",
      "Absolute path: c:\\Users\\campus3S043\\Desktop\\polars_recipes\\data\\ch06\\output\\customer_shopping_data_output_lazy.parquet\n",
      "\n",
      "File: data/ch06/output\\customer_shopping_data_output_partitioned.parquet\n",
      "Size: 0.00 MB\n",
      "Absolute path: c:\\Users\\campus3S043\\Desktop\\polars_recipes\\data\\ch06\\output\\customer_shopping_data_output_partitioned.parquet\n",
      "\n"
     ]
    }
   ],
   "source": [
    "# partitioned parquet 파일 내보내기\n",
    "df_read.write_parquet(\n",
    "    'data/ch06/output/customer_shopping_data_output_partitioned.parquet',\n",
    "    partition_by='gender',\n",
    ")\n",
    "\n",
    "print_file_info('data/ch06/output')"
   ]
  },
  {
   "cell_type": "markdown",
   "metadata": {},
   "source": [
    "# Delta Lake\n",
    "- Delta Lake는 데이터 레이크를 위한 오픈소스 스토리지 계층입니다.\n",
    "# Delta Lake의 주요 특징:\n",
    "- ACID 트랜잭션 보장\n",
    "- 스키마 진화 (Schema Evolution)\n",
    "- 시간 여행 (Time Travel)\n",
    "- 데이터 품질 관리\n",
    "- 대규모 메타데이터 처리\n",
    "- 스트리밍과 배치 처리 통합"
   ]
  },
  {
   "cell_type": "markdown",
   "metadata": {},
   "source": [
    "## DataFrame에서 Delta로 내보내기"
   ]
  },
  {
   "cell_type": "code",
   "execution_count": 7,
   "metadata": {},
   "outputs": [
    {
     "name": "stdout",
     "output_type": "stream",
     "text": [
      "Requirement already satisfied: deltalake in c:\\users\\campus3s043\\desktop\\polars_recipes\\venv\\lib\\site-packages (0.24.0)"
     ]
    },
    {
     "name": "stderr",
     "output_type": "stream",
     "text": [
      "\n",
      "[notice] A new release of pip is available: 24.3.1 -> 25.0.1\n",
      "[notice] To update, run: python.exe -m pip install --upgrade pip\n"
     ]
    },
    {
     "name": "stdout",
     "output_type": "stream",
     "text": [
      "\n",
      "Requirement already satisfied: pyarrow>=16 in c:\\users\\campus3s043\\desktop\\polars_recipes\\venv\\lib\\site-packages (from deltalake) (19.0.0)\n"
     ]
    }
   ],
   "source": [
    "!pip install deltalake"
   ]
  },
  {
   "cell_type": "code",
   "execution_count": 7,
   "metadata": {},
   "outputs": [
    {
     "data": {
      "text/html": [
       "<div><style>\n",
       ".dataframe > thead > tr,\n",
       ".dataframe > tbody > tr {\n",
       "  text-align: right;\n",
       "  white-space: pre-wrap;\n",
       "}\n",
       "</style>\n",
       "<small>shape: (1, 10)</small><table border=\"1\" class=\"dataframe\"><thead><tr><th>invoice_no</th><th>customer_id</th><th>gender</th><th>age</th><th>category</th><th>quantity</th><th>price</th><th>payment_method</th><th>invoice_date</th><th>shopping_mall</th></tr><tr><td>str</td><td>str</td><td>str</td><td>i64</td><td>str</td><td>i64</td><td>f64</td><td>str</td><td>str</td><td>str</td></tr></thead><tbody><tr><td>&quot;I138884&quot;</td><td>&quot;C241288&quot;</td><td>&quot;Female&quot;</td><td>28</td><td>&quot;Clothing&quot;</td><td>5</td><td>1500.4</td><td>&quot;Credit Card&quot;</td><td>&quot;5/8/2022&quot;</td><td>&quot;Kanyon&quot;</td></tr></tbody></table></div>"
      ],
      "text/plain": [
       "shape: (1, 10)\n",
       "┌────────────┬─────────────┬────────┬─────┬───┬────────┬──────────────┬──────────────┬─────────────┐\n",
       "│ invoice_no ┆ customer_id ┆ gender ┆ age ┆ … ┆ price  ┆ payment_meth ┆ invoice_date ┆ shopping_ma │\n",
       "│ ---        ┆ ---         ┆ ---    ┆ --- ┆   ┆ ---    ┆ od           ┆ ---          ┆ ll          │\n",
       "│ str        ┆ str         ┆ str    ┆ i64 ┆   ┆ f64    ┆ ---          ┆ str          ┆ ---         │\n",
       "│            ┆             ┆        ┆     ┆   ┆        ┆ str          ┆              ┆ str         │\n",
       "╞════════════╪═════════════╪════════╪═════╪═══╪════════╪══════════════╪══════════════╪═════════════╡\n",
       "│ I138884    ┆ C241288     ┆ Female ┆ 28  ┆ … ┆ 1500.4 ┆ Credit Card  ┆ 5/8/2022     ┆ Kanyon      │\n",
       "└────────────┴─────────────┴────────┴─────┴───┴────────┴──────────────┴──────────────┴─────────────┘"
      ]
     },
     "execution_count": 7,
     "metadata": {},
     "output_type": "execute_result"
    }
   ],
   "source": [
    "df_read.head(1)"
   ]
  },
  {
   "cell_type": "code",
   "execution_count": 10,
   "metadata": {},
   "outputs": [
    {
     "name": "stdout",
     "output_type": "stream",
     "text": [
      "File: data/ch06/output\\customer_shopping_data(read).csv\n",
      "Size: 7.11 MB\n",
      "Absolute path: c:\\Users\\campus3S043\\Desktop\\polars_recipes\\data\\ch06\\output\\customer_shopping_data(read).csv\n",
      "\n",
      "File: data/ch06/output\\customer_shopping_data(scan).csv\n",
      "Size: 7.11 MB\n",
      "Absolute path: c:\\Users\\campus3S043\\Desktop\\polars_recipes\\data\\ch06\\output\\customer_shopping_data(scan).csv\n",
      "\n",
      "File: data/ch06/output\\customer_shopping_data.delta\n",
      "Size: 0.00 MB\n",
      "Absolute path: c:\\Users\\campus3S043\\Desktop\\polars_recipes\\data\\ch06\\output\\customer_shopping_data.delta\n",
      "\n",
      "File: data/ch06/output\\customer_shopping_data.parquet\n",
      "Size: 1.17 MB\n",
      "Absolute path: c:\\Users\\campus3S043\\Desktop\\polars_recipes\\data\\ch06\\output\\customer_shopping_data.parquet\n",
      "\n",
      "File: data/ch06/output\\customer_shopping_data_output.parquet\n",
      "Size: 1.80 MB\n",
      "Absolute path: c:\\Users\\campus3S043\\Desktop\\polars_recipes\\data\\ch06\\output\\customer_shopping_data_output.parquet\n",
      "\n",
      "File: data/ch06/output\\customer_shopping_data_output_lazy.parquet\n",
      "Size: 0.89 MB\n",
      "Absolute path: c:\\Users\\campus3S043\\Desktop\\polars_recipes\\data\\ch06\\output\\customer_shopping_data_output_lazy.parquet\n",
      "\n",
      "File: data/ch06/output\\customer_shopping_data_output_partitioned.parquet\n",
      "Size: 0.00 MB\n",
      "Absolute path: c:\\Users\\campus3S043\\Desktop\\polars_recipes\\data\\ch06\\output\\customer_shopping_data_output_partitioned.parquet\n",
      "\n",
      "File: data/ch06/output\\customer_shopping_data_partitioned\n",
      "Size: 0.00 MB\n",
      "Absolute path: c:\\Users\\campus3S043\\Desktop\\polars_recipes\\data\\ch06\\output\\customer_shopping_data_partitioned\n",
      "\n"
     ]
    }
   ],
   "source": [
    "df_read.write_delta(\n",
    "    'data/ch06/output/customer_shopping_data_partitioned', \n",
    "    mode='overwrite', \n",
    "    delta_write_options={\n",
    "        'partition_by' : 'category'\n",
    "    }\n",
    ")\n",
    "\n",
    "print_file_info('data/ch06/output')"
   ]
  },
  {
   "cell_type": "markdown",
   "metadata": {},
   "source": [
    "## 파일 불러오기"
   ]
  },
  {
   "cell_type": "code",
   "execution_count": 11,
   "metadata": {},
   "outputs": [
    {
     "data": {
      "text/html": [
       "<div><style>\n",
       ".dataframe > thead > tr,\n",
       ".dataframe > tbody > tr {\n",
       "  text-align: right;\n",
       "  white-space: pre-wrap;\n",
       "}\n",
       "</style>\n",
       "<small>shape: (1, 6)</small><table border=\"1\" class=\"dataframe\"><thead><tr><th>Company</th><th>Amount</th><th>Lead investors</th><th>Valuation</th><th>Industry</th><th>Date reported</th></tr><tr><td>str</td><td>str</td><td>str</td><td>str</td><td>str</td><td>str</td></tr></thead><tbody><tr><td>&quot;OpenAI&quot;</td><td>&quot;$10,000,000,000&quot;</td><td>&quot;Microsoft&quot;</td><td>&quot;n/a&quot;</td><td>&quot;Artificial intelligence&quot;</td><td>&quot;1/23/23&quot;</td></tr></tbody></table></div>"
      ],
      "text/plain": [
       "shape: (1, 6)\n",
       "┌─────────┬─────────────────┬────────────────┬───────────┬─────────────────────────┬───────────────┐\n",
       "│ Company ┆ Amount          ┆ Lead investors ┆ Valuation ┆ Industry                ┆ Date reported │\n",
       "│ ---     ┆ ---             ┆ ---            ┆ ---       ┆ ---                     ┆ ---           │\n",
       "│ str     ┆ str             ┆ str            ┆ str       ┆ str                     ┆ str           │\n",
       "╞═════════╪═════════════════╪════════════════╪═══════════╪═════════════════════════╪═══════════════╡\n",
       "│ OpenAI  ┆ $10,000,000,000 ┆ Microsoft      ┆ n/a       ┆ Artificial intelligence ┆ 1/23/23       │\n",
       "└─────────┴─────────────────┴────────────────┴───────────┴─────────────────────────┴───────────────┘"
      ]
     },
     "execution_count": 11,
     "metadata": {},
     "output_type": "execute_result"
    }
   ],
   "source": [
    "# pl.read_delta\n",
    "df_read_delta = pl.read_delta('data/ch06/input/venture_funding_deals_delta')\n",
    "df_read_delta.head(1)\n"
   ]
  },
  {
   "cell_type": "code",
   "execution_count": 12,
   "metadata": {},
   "outputs": [
    {
     "data": {
      "text/html": [
       "<div><style>\n",
       ".dataframe > thead > tr,\n",
       ".dataframe > tbody > tr {\n",
       "  text-align: right;\n",
       "  white-space: pre-wrap;\n",
       "}\n",
       "</style>\n",
       "<small>shape: (1, 6)</small><table border=\"1\" class=\"dataframe\"><thead><tr><th>Company</th><th>Amount</th><th>Lead investors</th><th>Valuation</th><th>Industry</th><th>Date reported</th></tr><tr><td>str</td><td>str</td><td>str</td><td>str</td><td>str</td><td>str</td></tr></thead><tbody><tr><td>&quot;OpenAI&quot;</td><td>&quot;$10,000,000,000&quot;</td><td>&quot;Microsoft&quot;</td><td>&quot;n/a&quot;</td><td>&quot;Artificial intelligence&quot;</td><td>&quot;1/23/23&quot;</td></tr></tbody></table></div>"
      ],
      "text/plain": [
       "shape: (1, 6)\n",
       "┌─────────┬─────────────────┬────────────────┬───────────┬─────────────────────────┬───────────────┐\n",
       "│ Company ┆ Amount          ┆ Lead investors ┆ Valuation ┆ Industry                ┆ Date reported │\n",
       "│ ---     ┆ ---             ┆ ---            ┆ ---       ┆ ---                     ┆ ---           │\n",
       "│ str     ┆ str             ┆ str            ┆ str       ┆ str                     ┆ str           │\n",
       "╞═════════╪═════════════════╪════════════════╪═══════════╪═════════════════════════╪═══════════════╡\n",
       "│ OpenAI  ┆ $10,000,000,000 ┆ Microsoft      ┆ n/a       ┆ Artificial intelligence ┆ 1/23/23       │\n",
       "└─────────┴─────────────────┴────────────────┴───────────┴─────────────────────────┴───────────────┘"
      ]
     },
     "execution_count": 12,
     "metadata": {},
     "output_type": "execute_result"
    }
   ],
   "source": [
    "# pl.scan_delta\n",
    "df_scan_delta = pl.scan_delta('data/ch06/input/venture_funding_deals_delta')\n",
    "df_scan_delta.collect().head(1)"
   ]
  },
  {
   "cell_type": "markdown",
   "metadata": {},
   "source": [
    "## 파일 내보내기"
   ]
  },
  {
   "cell_type": "code",
   "execution_count": 35,
   "metadata": {},
   "outputs": [],
   "source": [
    "df_read_delta.write_delta(\n",
    "    'data/ch06/input/venture_funding_deals_partitioned', \n",
    "    mode='overwrite', \n",
    "    delta_write_options={'partition_by':'Industry', 'schema_mode' : 'overwrite'}\n",
    ")"
   ]
  },
  {
   "cell_type": "markdown",
   "metadata": {},
   "source": [
    "## 파일 읽어오기"
   ]
  },
  {
   "cell_type": "code",
   "execution_count": 39,
   "metadata": {},
   "outputs": [
    {
     "data": {
      "text/html": [
       "<div><style>\n",
       ".dataframe > thead > tr,\n",
       ".dataframe > tbody > tr {\n",
       "  text-align: right;\n",
       "  white-space: pre-wrap;\n",
       "}\n",
       "</style>\n",
       "<small>shape: (1, 6)</small><table border=\"1\" class=\"dataframe\"><thead><tr><th>Company</th><th>Amount</th><th>Lead investors</th><th>Valuation</th><th>Date reported</th><th>Industry</th></tr><tr><td>str</td><td>str</td><td>str</td><td>str</td><td>str</td><td>str</td></tr></thead><tbody><tr><td>&quot;Neuralink&quot;</td><td>&quot;$280,000,000&quot;</td><td>&quot;Founders Fund&quot;</td><td>&quot;n/a&quot;</td><td>&quot;8/7/23&quot;</td><td>&quot;Neuroscience&quot;</td></tr></tbody></table></div>"
      ],
      "text/plain": [
       "shape: (1, 6)\n",
       "┌───────────┬──────────────┬────────────────┬───────────┬───────────────┬──────────────┐\n",
       "│ Company   ┆ Amount       ┆ Lead investors ┆ Valuation ┆ Date reported ┆ Industry     │\n",
       "│ ---       ┆ ---          ┆ ---            ┆ ---       ┆ ---           ┆ ---          │\n",
       "│ str       ┆ str          ┆ str            ┆ str       ┆ str           ┆ str          │\n",
       "╞═══════════╪══════════════╪════════════════╪═══════════╪═══════════════╪══════════════╡\n",
       "│ Neuralink ┆ $280,000,000 ┆ Founders Fund  ┆ n/a       ┆ 8/7/23        ┆ Neuroscience │\n",
       "└───────────┴──────────────┴────────────────┴───────────┴───────────────┴──────────────┘"
      ]
     },
     "execution_count": 39,
     "metadata": {},
     "output_type": "execute_result"
    }
   ],
   "source": [
    "df_delta_partitioned = pl.read_delta(\n",
    "    'data/ch06/input/venture_funding_deals_partitioned',\n",
    "    use_pyarrow=False, \n",
    ")\n",
    "\n",
    "df_delta_partitioned.head(1)"
   ]
  },
  {
   "cell_type": "markdown",
   "metadata": {},
   "source": [
    "# JSON"
   ]
  },
  {
   "cell_type": "code",
   "execution_count": 47,
   "metadata": {},
   "outputs": [
    {
     "data": {
      "text/html": [
       "<div><style>\n",
       ".dataframe > thead > tr,\n",
       ".dataframe > tbody > tr {\n",
       "  text-align: right;\n",
       "  white-space: pre-wrap;\n",
       "}\n",
       "</style>\n",
       "<small>shape: (1, 10)</small><table border=\"1\" class=\"dataframe\"><thead><tr><th>invoice_no</th><th>customer_id</th><th>gender</th><th>age</th><th>category</th><th>quantity</th><th>price</th><th>payment_method</th><th>invoice_date</th><th>shopping_mall</th></tr><tr><td>str</td><td>str</td><td>str</td><td>i64</td><td>str</td><td>i64</td><td>f64</td><td>str</td><td>str</td><td>str</td></tr></thead><tbody><tr><td>&quot;I138884&quot;</td><td>&quot;C241288&quot;</td><td>&quot;Female&quot;</td><td>28</td><td>&quot;Clothing&quot;</td><td>5</td><td>1500.4</td><td>&quot;Credit Card&quot;</td><td>&quot;5/8/2022&quot;</td><td>&quot;Kanyon&quot;</td></tr></tbody></table></div>"
      ],
      "text/plain": [
       "shape: (1, 10)\n",
       "┌────────────┬─────────────┬────────┬─────┬───┬────────┬──────────────┬──────────────┬─────────────┐\n",
       "│ invoice_no ┆ customer_id ┆ gender ┆ age ┆ … ┆ price  ┆ payment_meth ┆ invoice_date ┆ shopping_ma │\n",
       "│ ---        ┆ ---         ┆ ---    ┆ --- ┆   ┆ ---    ┆ od           ┆ ---          ┆ ll          │\n",
       "│ str        ┆ str         ┆ str    ┆ i64 ┆   ┆ f64    ┆ ---          ┆ str          ┆ ---         │\n",
       "│            ┆             ┆        ┆     ┆   ┆        ┆ str          ┆              ┆ str         │\n",
       "╞════════════╪═════════════╪════════╪═════╪═══╪════════╪══════════════╪══════════════╪═════════════╡\n",
       "│ I138884    ┆ C241288     ┆ Female ┆ 28  ┆ … ┆ 1500.4 ┆ Credit Card  ┆ 5/8/2022     ┆ Kanyon      │\n",
       "└────────────┴─────────────┴────────┴─────┴───┴────────┴──────────────┴──────────────┴─────────────┘"
      ]
     },
     "execution_count": 47,
     "metadata": {},
     "output_type": "execute_result"
    }
   ],
   "source": [
    "df_read.head(1)"
   ]
  },
  {
   "cell_type": "markdown",
   "metadata": {},
   "source": [
    "## DataFrame에서 JSON으로 내보내기"
   ]
  },
  {
   "cell_type": "code",
   "execution_count": 52,
   "metadata": {},
   "outputs": [
    {
     "name": "stdout",
     "output_type": "stream",
     "text": [
      "File: data/ch06/output\\customer_shopping_data(read).csv\n",
      "Size: 7.11 MB\n",
      "Absolute path: c:\\Users\\campus3S043\\Desktop\\polars_recipes\\data\\ch06\\output\\customer_shopping_data(read).csv\n",
      "\n",
      "File: data/ch06/output\\customer_shopping_data(scan).csv\n",
      "Size: 7.11 MB\n",
      "Absolute path: c:\\Users\\campus3S043\\Desktop\\polars_recipes\\data\\ch06\\output\\customer_shopping_data(scan).csv\n",
      "\n",
      "File: data/ch06/output\\customer_shopping_data.delta\n",
      "Size: 0.00 MB\n",
      "Absolute path: c:\\Users\\campus3S043\\Desktop\\polars_recipes\\data\\ch06\\output\\customer_shopping_data.delta\n",
      "\n",
      "File: data/ch06/output\\customer_shopping_data.json\n",
      "Size: 20.01 MB\n",
      "Absolute path: c:\\Users\\campus3S043\\Desktop\\polars_recipes\\data\\ch06\\output\\customer_shopping_data.json\n",
      "\n",
      "File: data/ch06/output\\customer_shopping_data.parquet\n",
      "Size: 1.17 MB\n",
      "Absolute path: c:\\Users\\campus3S043\\Desktop\\polars_recipes\\data\\ch06\\output\\customer_shopping_data.parquet\n",
      "\n",
      "File: data/ch06/output\\customer_shopping_data_output.parquet\n",
      "Size: 1.80 MB\n",
      "Absolute path: c:\\Users\\campus3S043\\Desktop\\polars_recipes\\data\\ch06\\output\\customer_shopping_data_output.parquet\n",
      "\n",
      "File: data/ch06/output\\customer_shopping_data_output_lazy.parquet\n",
      "Size: 0.89 MB\n",
      "Absolute path: c:\\Users\\campus3S043\\Desktop\\polars_recipes\\data\\ch06\\output\\customer_shopping_data_output_lazy.parquet\n",
      "\n",
      "File: data/ch06/output\\customer_shopping_data_output_partitioned.parquet\n",
      "Size: 0.00 MB\n",
      "Absolute path: c:\\Users\\campus3S043\\Desktop\\polars_recipes\\data\\ch06\\output\\customer_shopping_data_output_partitioned.parquet\n",
      "\n",
      "File: data/ch06/output\\customer_shopping_data_partitioned\n",
      "Size: 0.00 MB\n",
      "Absolute path: c:\\Users\\campus3S043\\Desktop\\polars_recipes\\data\\ch06\\output\\customer_shopping_data_partitioned\n",
      "\n"
     ]
    }
   ],
   "source": [
    "df_read.write_json('data/ch06/output/customer_shopping_data.json')\n",
    "\n",
    "print_file_info('data/ch06/output')"
   ]
  },
  {
   "cell_type": "code",
   "execution_count": 70,
   "metadata": {},
   "outputs": [
    {
     "name": "stdout",
     "output_type": "stream",
     "text": [
      "File: data/ch06/output\\customer_shopping_data(read).csv\n",
      "Size: 7.11 MB\n",
      "Absolute path: c:\\Users\\campus3S043\\Desktop\\polars_recipes\\data\\ch06\\output\\customer_shopping_data(read).csv\n",
      "\n",
      "File: data/ch06/output\\customer_shopping_data(scan).csv\n",
      "Size: 7.11 MB\n",
      "Absolute path: c:\\Users\\campus3S043\\Desktop\\polars_recipes\\data\\ch06\\output\\customer_shopping_data(scan).csv\n",
      "\n",
      "File: data/ch06/output\\customer_shopping_data.delta\n",
      "Size: 0.00 MB\n",
      "Absolute path: c:\\Users\\campus3S043\\Desktop\\polars_recipes\\data\\ch06\\output\\customer_shopping_data.delta\n",
      "\n",
      "File: data/ch06/output\\customer_shopping_data.json\n",
      "Size: 20.01 MB\n",
      "Absolute path: c:\\Users\\campus3S043\\Desktop\\polars_recipes\\data\\ch06\\output\\customer_shopping_data.json\n",
      "\n",
      "File: data/ch06/output\\customer_shopping_data.jsonl\n",
      "Size: 20.01 MB\n",
      "Absolute path: c:\\Users\\campus3S043\\Desktop\\polars_recipes\\data\\ch06\\output\\customer_shopping_data.jsonl\n",
      "\n",
      "File: data/ch06/output\\customer_shopping_data.parquet\n",
      "Size: 1.17 MB\n",
      "Absolute path: c:\\Users\\campus3S043\\Desktop\\polars_recipes\\data\\ch06\\output\\customer_shopping_data.parquet\n",
      "\n",
      "File: data/ch06/output\\customer_shopping_data.xlsx\n",
      "Size: 5.10 MB\n",
      "Absolute path: c:\\Users\\campus3S043\\Desktop\\polars_recipes\\data\\ch06\\output\\customer_shopping_data.xlsx\n",
      "\n",
      "File: data/ch06/output\\customer_shopping_data_output.parquet\n",
      "Size: 1.80 MB\n",
      "Absolute path: c:\\Users\\campus3S043\\Desktop\\polars_recipes\\data\\ch06\\output\\customer_shopping_data_output.parquet\n",
      "\n",
      "File: data/ch06/output\\customer_shopping_data_output_lazy.parquet\n",
      "Size: 0.89 MB\n",
      "Absolute path: c:\\Users\\campus3S043\\Desktop\\polars_recipes\\data\\ch06\\output\\customer_shopping_data_output_lazy.parquet\n",
      "\n",
      "File: data/ch06/output\\customer_shopping_data_output_partitioned.parquet\n",
      "Size: 0.00 MB\n",
      "Absolute path: c:\\Users\\campus3S043\\Desktop\\polars_recipes\\data\\ch06\\output\\customer_shopping_data_output_partitioned.parquet\n",
      "\n",
      "File: data/ch06/output\\customer_shopping_data_partitioned\n",
      "Size: 0.00 MB\n",
      "Absolute path: c:\\Users\\campus3S043\\Desktop\\polars_recipes\\data\\ch06\\output\\customer_shopping_data_partitioned\n",
      "\n"
     ]
    }
   ],
   "source": [
    "# NDJSON\n",
    "df_read.write_ndjson('data/ch06/output/customer_shopping_data.jsonl')\n",
    "\n",
    "print_file_info('data/ch06/output')"
   ]
  },
  {
   "cell_type": "code",
   "execution_count": null,
   "metadata": {},
   "outputs": [],
   "source": []
  },
  {
   "cell_type": "markdown",
   "metadata": {},
   "source": [
    "## JSON 파일 읽기"
   ]
  },
  {
   "cell_type": "code",
   "execution_count": 57,
   "metadata": {},
   "outputs": [
    {
     "data": {
      "text/html": [
       "<div><style>\n",
       ".dataframe > thead > tr,\n",
       ".dataframe > tbody > tr {\n",
       "  text-align: right;\n",
       "  white-space: pre-wrap;\n",
       "}\n",
       "</style>\n",
       "<small>shape: (1, 19)</small><table border=\"1\" class=\"dataframe\"><thead><tr><th>place</th><th>pop1980</th><th>pop2000</th><th>pop2010</th><th>pop2022</th><th>pop2023</th><th>pop2030</th><th>pop2050</th><th>country</th><th>area</th><th>landAreaKm</th><th>cca2</th><th>cca3</th><th>netChange</th><th>growthRate</th><th>worldPercentage</th><th>density</th><th>densityMi</th><th>rank</th></tr><tr><td>i64</td><td>f64</td><td>f64</td><td>f64</td><td>f64</td><td>i64</td><td>f64</td><td>f64</td><td>str</td><td>i64</td><td>f64</td><td>str</td><td>str</td><td>f64</td><td>f64</td><td>f64</td><td>f64</td><td>f64</td><td>i64</td></tr></thead><tbody><tr><td>356</td><td>6.96828385e8</td><td>1.0596e9</td><td>1.2406e9</td><td>1.4172e9</td><td>1428627663</td><td>1.5150e9</td><td>1.6705e9</td><td>&quot;India&quot;</td><td>3287590</td><td>2.97319e6</td><td>&quot;IN&quot;</td><td>&quot;IND&quot;</td><td>0.4184</td><td>0.0081</td><td>0.1785</td><td>480.5033</td><td>1244.5036</td><td>1</td></tr></tbody></table></div>"
      ],
      "text/plain": [
       "shape: (1, 19)\n",
       "┌───────┬──────────────┬──────────┬──────────┬───┬─────────────────┬──────────┬───────────┬──────┐\n",
       "│ place ┆ pop1980      ┆ pop2000  ┆ pop2010  ┆ … ┆ worldPercentage ┆ density  ┆ densityMi ┆ rank │\n",
       "│ ---   ┆ ---          ┆ ---      ┆ ---      ┆   ┆ ---             ┆ ---      ┆ ---       ┆ ---  │\n",
       "│ i64   ┆ f64          ┆ f64      ┆ f64      ┆   ┆ f64             ┆ f64      ┆ f64       ┆ i64  │\n",
       "╞═══════╪══════════════╪══════════╪══════════╪═══╪═════════════════╪══════════╪═══════════╪══════╡\n",
       "│ 356   ┆ 6.96828385e8 ┆ 1.0596e9 ┆ 1.2406e9 ┆ … ┆ 0.1785          ┆ 480.5033 ┆ 1244.5036 ┆ 1    │\n",
       "└───────┴──────────────┴──────────┴──────────┴───┴─────────────────┴──────────┴───────────┴──────┘"
      ]
     },
     "execution_count": 57,
     "metadata": {},
     "output_type": "execute_result"
    }
   ],
   "source": [
    "df_json_read = pl.read_json('data/ch06/input/world_population.json')\n",
    "\n",
    "df_json_read.head(1)"
   ]
  },
  {
   "cell_type": "code",
   "execution_count": 58,
   "metadata": {},
   "outputs": [
    {
     "data": {
      "text/html": [
       "<div><style>\n",
       ".dataframe > thead > tr,\n",
       ".dataframe > tbody > tr {\n",
       "  text-align: right;\n",
       "  white-space: pre-wrap;\n",
       "}\n",
       "</style>\n",
       "<small>shape: (1, 19)</small><table border=\"1\" class=\"dataframe\"><thead><tr><th>place</th><th>pop1980</th><th>pop2000</th><th>pop2010</th><th>pop2022</th><th>pop2023</th><th>pop2030</th><th>pop2050</th><th>country</th><th>area</th><th>landAreaKm</th><th>cca2</th><th>cca3</th><th>netChange</th><th>growthRate</th><th>worldPercentage</th><th>density</th><th>densityMi</th><th>rank</th></tr><tr><td>i64</td><td>f64</td><td>f64</td><td>f64</td><td>f64</td><td>i64</td><td>f64</td><td>f64</td><td>str</td><td>i64</td><td>f64</td><td>str</td><td>str</td><td>f64</td><td>f64</td><td>f64</td><td>f64</td><td>f64</td><td>i64</td></tr></thead><tbody><tr><td>356</td><td>6.96828385e8</td><td>1.0596e9</td><td>1.2406e9</td><td>1.4172e9</td><td>1428627663</td><td>1.5150e9</td><td>1.6705e9</td><td>&quot;India&quot;</td><td>3287590</td><td>2.97319e6</td><td>&quot;IN&quot;</td><td>&quot;IND&quot;</td><td>0.4184</td><td>0.0081</td><td>0.1785</td><td>480.5033</td><td>1244.5036</td><td>1</td></tr></tbody></table></div>"
      ],
      "text/plain": [
       "shape: (1, 19)\n",
       "┌───────┬──────────────┬──────────┬──────────┬───┬─────────────────┬──────────┬───────────┬──────┐\n",
       "│ place ┆ pop1980      ┆ pop2000  ┆ pop2010  ┆ … ┆ worldPercentage ┆ density  ┆ densityMi ┆ rank │\n",
       "│ ---   ┆ ---          ┆ ---      ┆ ---      ┆   ┆ ---             ┆ ---      ┆ ---       ┆ ---  │\n",
       "│ i64   ┆ f64          ┆ f64      ┆ f64      ┆   ┆ f64             ┆ f64      ┆ f64       ┆ i64  │\n",
       "╞═══════╪══════════════╪══════════╪══════════╪═══╪═════════════════╪══════════╪═══════════╪══════╡\n",
       "│ 356   ┆ 6.96828385e8 ┆ 1.0596e9 ┆ 1.2406e9 ┆ … ┆ 0.1785          ┆ 480.5033 ┆ 1244.5036 ┆ 1    │\n",
       "└───────┴──────────────┴──────────┴──────────┴───┴─────────────────┴──────────┴───────────┴──────┘"
      ]
     },
     "execution_count": 58,
     "metadata": {},
     "output_type": "execute_result"
    }
   ],
   "source": [
    "df_jsonl_read = pl.read_ndjson('data/ch06/input/world_population.jsonl')\n",
    "\n",
    "df_jsonl_read.head(1)"
   ]
  },
  {
   "cell_type": "code",
   "execution_count": 66,
   "metadata": {},
   "outputs": [
    {
     "data": {
      "text/html": [
       "<div><style>\n",
       ".dataframe > thead > tr,\n",
       ".dataframe > tbody > tr {\n",
       "  text-align: right;\n",
       "  white-space: pre-wrap;\n",
       "}\n",
       "</style>\n",
       "<small>shape: (1, 19)</small><table border=\"1\" class=\"dataframe\"><thead><tr><th>place</th><th>pop1980</th><th>pop2000</th><th>pop2010</th><th>pop2022</th><th>pop2023</th><th>pop2030</th><th>pop2050</th><th>country</th><th>area</th><th>landAreaKm</th><th>cca2</th><th>cca3</th><th>netChange</th><th>growthRate</th><th>worldPercentage</th><th>density</th><th>densityMi</th><th>rank</th></tr><tr><td>i64</td><td>f64</td><td>f64</td><td>f64</td><td>f64</td><td>i64</td><td>f64</td><td>f64</td><td>str</td><td>i64</td><td>f64</td><td>str</td><td>str</td><td>f64</td><td>f64</td><td>f64</td><td>f64</td><td>f64</td><td>i64</td></tr></thead><tbody><tr><td>356</td><td>6.96828385e8</td><td>1.0596e9</td><td>1.2406e9</td><td>1.4172e9</td><td>1428627663</td><td>1.5150e9</td><td>1.6705e9</td><td>&quot;India&quot;</td><td>3287590</td><td>2.97319e6</td><td>&quot;IN&quot;</td><td>&quot;IND&quot;</td><td>0.4184</td><td>0.0081</td><td>0.1785</td><td>480.5033</td><td>1244.5036</td><td>1</td></tr></tbody></table></div>"
      ],
      "text/plain": [
       "shape: (1, 19)\n",
       "┌───────┬──────────────┬──────────┬──────────┬───┬─────────────────┬──────────┬───────────┬──────┐\n",
       "│ place ┆ pop1980      ┆ pop2000  ┆ pop2010  ┆ … ┆ worldPercentage ┆ density  ┆ densityMi ┆ rank │\n",
       "│ ---   ┆ ---          ┆ ---      ┆ ---      ┆   ┆ ---             ┆ ---      ┆ ---       ┆ ---  │\n",
       "│ i64   ┆ f64          ┆ f64      ┆ f64      ┆   ┆ f64             ┆ f64      ┆ f64       ┆ i64  │\n",
       "╞═══════╪══════════════╪══════════╪══════════╪═══╪═════════════════╪══════════╪═══════════╪══════╡\n",
       "│ 356   ┆ 6.96828385e8 ┆ 1.0596e9 ┆ 1.2406e9 ┆ … ┆ 0.1785          ┆ 480.5033 ┆ 1244.5036 ┆ 1    │\n",
       "└───────┴──────────────┴──────────┴──────────┴───┴─────────────────┴──────────┴───────────┴──────┘"
      ]
     },
     "execution_count": 66,
     "metadata": {},
     "output_type": "execute_result"
    }
   ],
   "source": [
    "df_ndjson_scan = pl.scan_ndjson('data/ch06/input/world_population.jsonl')\n",
    "\n",
    "df_ndjson_scan.head(1).collect()"
   ]
  },
  {
   "cell_type": "markdown",
   "metadata": {},
   "source": [
    "# Excel"
   ]
  },
  {
   "cell_type": "code",
   "execution_count": 75,
   "metadata": {},
   "outputs": [
    {
     "name": "stdout",
     "output_type": "stream",
     "text": [
      "Requirement already satisfied: xlsx2csv in c:\\users\\campus3s043\\desktop\\polars_recipes\\venv\\lib\\site-packages (0.8.4)\n",
      "Requirement already satisfied: xlsxwriter in c:\\users\\campus3s043\\desktop\\polars_recipes\\venv\\lib\\site-packages (3.2.2)\n",
      "Collecting openpyxl\n",
      "  Using cached openpyxl-3.1.5-py2.py3-none-any.whl.metadata (2.5 kB)\n",
      "Collecting et-xmlfile (from openpyxl)\n",
      "  Using cached et_xmlfile-2.0.0-py3-none-any.whl.metadata (2.7 kB)\n",
      "Using cached openpyxl-3.1.5-py2.py3-none-any.whl (250 kB)\n",
      "Using cached et_xmlfile-2.0.0-py3-none-any.whl (18 kB)\n",
      "Installing collected packages: et-xmlfile, openpyxl\n",
      "Successfully installed et-xmlfile-2.0.0 openpyxl-3.1.5\n"
     ]
    },
    {
     "name": "stderr",
     "output_type": "stream",
     "text": [
      "\n",
      "[notice] A new release of pip is available: 24.3.1 -> 25.0.1\n",
      "[notice] To update, run: python.exe -m pip install --upgrade pip\n"
     ]
    }
   ],
   "source": [
    "!pip install xlsx2csv xlsxwriter openpyxl"
   ]
  },
  {
   "cell_type": "markdown",
   "metadata": {},
   "source": [
    "## 파일 내보내기"
   ]
  },
  {
   "cell_type": "code",
   "execution_count": 72,
   "metadata": {},
   "outputs": [
    {
     "name": "stdout",
     "output_type": "stream",
     "text": [
      "File: data/ch06/output\\customer_shopping_data(read).csv\n",
      "Size: 7.11 MB\n",
      "Absolute path: c:\\Users\\campus3S043\\Desktop\\polars_recipes\\data\\ch06\\output\\customer_shopping_data(read).csv\n",
      "\n",
      "File: data/ch06/output\\customer_shopping_data(scan).csv\n",
      "Size: 7.11 MB\n",
      "Absolute path: c:\\Users\\campus3S043\\Desktop\\polars_recipes\\data\\ch06\\output\\customer_shopping_data(scan).csv\n",
      "\n",
      "File: data/ch06/output\\customer_shopping_data.delta\n",
      "Size: 0.00 MB\n",
      "Absolute path: c:\\Users\\campus3S043\\Desktop\\polars_recipes\\data\\ch06\\output\\customer_shopping_data.delta\n",
      "\n",
      "File: data/ch06/output\\customer_shopping_data.json\n",
      "Size: 20.01 MB\n",
      "Absolute path: c:\\Users\\campus3S043\\Desktop\\polars_recipes\\data\\ch06\\output\\customer_shopping_data.json\n",
      "\n",
      "File: data/ch06/output\\customer_shopping_data.jsonl\n",
      "Size: 20.01 MB\n",
      "Absolute path: c:\\Users\\campus3S043\\Desktop\\polars_recipes\\data\\ch06\\output\\customer_shopping_data.jsonl\n",
      "\n",
      "File: data/ch06/output\\customer_shopping_data.parquet\n",
      "Size: 1.17 MB\n",
      "Absolute path: c:\\Users\\campus3S043\\Desktop\\polars_recipes\\data\\ch06\\output\\customer_shopping_data.parquet\n",
      "\n",
      "File: data/ch06/output\\customer_shopping_data.xlsx\n",
      "Size: 5.10 MB\n",
      "Absolute path: c:\\Users\\campus3S043\\Desktop\\polars_recipes\\data\\ch06\\output\\customer_shopping_data.xlsx\n",
      "\n",
      "File: data/ch06/output\\customer_shopping_data_output.parquet\n",
      "Size: 1.80 MB\n",
      "Absolute path: c:\\Users\\campus3S043\\Desktop\\polars_recipes\\data\\ch06\\output\\customer_shopping_data_output.parquet\n",
      "\n",
      "File: data/ch06/output\\customer_shopping_data_output_lazy.parquet\n",
      "Size: 0.89 MB\n",
      "Absolute path: c:\\Users\\campus3S043\\Desktop\\polars_recipes\\data\\ch06\\output\\customer_shopping_data_output_lazy.parquet\n",
      "\n",
      "File: data/ch06/output\\customer_shopping_data_output_partitioned.parquet\n",
      "Size: 0.00 MB\n",
      "Absolute path: c:\\Users\\campus3S043\\Desktop\\polars_recipes\\data\\ch06\\output\\customer_shopping_data_output_partitioned.parquet\n",
      "\n",
      "File: data/ch06/output\\customer_shopping_data_partitioned\n",
      "Size: 0.00 MB\n",
      "Absolute path: c:\\Users\\campus3S043\\Desktop\\polars_recipes\\data\\ch06\\output\\customer_shopping_data_partitioned\n",
      "\n"
     ]
    }
   ],
   "source": [
    "df_read.write_excel(\n",
    "    'data/ch06/output/customer_shopping_data.xlsx', \n",
    "    worksheet='Sheet1', \n",
    "    header_format={'bold': True}\n",
    ")\n",
    "\n",
    "print_file_info('data/ch06/output')"
   ]
  },
  {
   "cell_type": "code",
   "execution_count": 78,
   "metadata": {},
   "outputs": [
    {
     "data": {
      "text/html": [
       "<div><style>\n",
       ".dataframe > thead > tr,\n",
       ".dataframe > tbody > tr {\n",
       "  text-align: right;\n",
       "  white-space: pre-wrap;\n",
       "}\n",
       "</style>\n",
       "<small>shape: (1, 10)</small><table border=\"1\" class=\"dataframe\"><thead><tr><th>invoice_no</th><th>customer_id</th><th>gender</th><th>age</th><th>category</th><th>quantity</th><th>price</th><th>payment_method</th><th>invoice_date</th><th>shopping_mall</th></tr><tr><td>str</td><td>str</td><td>str</td><td>i64</td><td>str</td><td>i64</td><td>f64</td><td>str</td><td>str</td><td>str</td></tr></thead><tbody><tr><td>&quot;I138884&quot;</td><td>&quot;C241288&quot;</td><td>&quot;Female&quot;</td><td>28</td><td>&quot;Clothing&quot;</td><td>5</td><td>1500.4</td><td>&quot;Credit Card&quot;</td><td>&quot;5/8/2022&quot;</td><td>&quot;Kanyon&quot;</td></tr></tbody></table></div>"
      ],
      "text/plain": [
       "shape: (1, 10)\n",
       "┌────────────┬─────────────┬────────┬─────┬───┬────────┬──────────────┬──────────────┬─────────────┐\n",
       "│ invoice_no ┆ customer_id ┆ gender ┆ age ┆ … ┆ price  ┆ payment_meth ┆ invoice_date ┆ shopping_ma │\n",
       "│ ---        ┆ ---         ┆ ---    ┆ --- ┆   ┆ ---    ┆ od           ┆ ---          ┆ ll          │\n",
       "│ str        ┆ str         ┆ str    ┆ i64 ┆   ┆ f64    ┆ ---          ┆ str          ┆ ---         │\n",
       "│            ┆             ┆        ┆     ┆   ┆        ┆ str          ┆              ┆ str         │\n",
       "╞════════════╪═════════════╪════════╪═════╪═══╪════════╪══════════════╪══════════════╪═════════════╡\n",
       "│ I138884    ┆ C241288     ┆ Female ┆ 28  ┆ … ┆ 1500.4 ┆ Credit Card  ┆ 5/8/2022     ┆ Kanyon      │\n",
       "└────────────┴─────────────┴────────┴─────┴───┴────────┴──────────────┴──────────────┴─────────────┘"
      ]
     },
     "execution_count": 78,
     "metadata": {},
     "output_type": "execute_result"
    }
   ],
   "source": [
    "df_read_excel = pl.read_excel(\n",
    "    'data/ch06/output/customer_shopping_data.xlsx', \n",
    "    sheet_name='Sheet1', \n",
    "    engine='openpyxl', # xlsx2csv, xlsxwriter\n",
    "    read_options={'try_parse_dates' : True}\n",
    ")\n",
    "\n",
    "df_read_excel.head(1)"
   ]
  },
  {
   "cell_type": "markdown",
   "metadata": {},
   "source": []
  },
  {
   "cell_type": "markdown",
   "metadata": {},
   "source": []
  },
  {
   "cell_type": "markdown",
   "metadata": {},
   "source": []
  },
  {
   "cell_type": "markdown",
   "metadata": {},
   "source": []
  }
 ],
 "metadata": {
  "kernelspec": {
   "display_name": "venv",
   "language": "python",
   "name": "python3"
  },
  "language_info": {
   "codemirror_mode": {
    "name": "ipython",
    "version": 3
   },
   "file_extension": ".py",
   "mimetype": "text/x-python",
   "name": "python",
   "nbconvert_exporter": "python",
   "pygments_lexer": "ipython3",
   "version": "3.12.6"
  }
 },
 "nbformat": 4,
 "nbformat_minor": 2
}

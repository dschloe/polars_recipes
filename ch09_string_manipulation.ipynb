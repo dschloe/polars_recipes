{
 "cells": [
  {
   "cell_type": "markdown",
   "id": "065fd9fe-c47c-4279-98d0-7ab3ae67c4b3",
   "metadata": {},
   "source": [
    "# Polars 버전"
   ]
  },
  {
   "cell_type": "code",
   "execution_count": 1,
   "id": "9ef35a35-a916-4fb4-9ed1-653893f3daec",
   "metadata": {},
   "outputs": [
    {
     "data": {
      "text/plain": [
       "'1.22.0'"
      ]
     },
     "execution_count": 1,
     "metadata": {},
     "output_type": "execute_result"
    }
   ],
   "source": [
    "import polars as pl\n",
    "pl.__version__"
   ]
  },
  {
   "cell_type": "markdown",
   "id": "7b20a256-ad78-4d01-9f62-7cde9485ea21",
   "metadata": {},
   "source": [
    "- Polars 설정"
   ]
  },
  {
   "cell_type": "code",
   "execution_count": 2,
   "id": "2c76accf-8599-4082-9746-1e0590995ca5",
   "metadata": {},
   "outputs": [
    {
     "data": {
      "text/html": [
       "<div><style>\n",
       ".dataframe > thead > tr,\n",
       ".dataframe > tbody > tr {\n",
       "  text-align: right;\n",
       "  white-space: pre-wrap;\n",
       "}\n",
       "</style>\n",
       "<small>shape: (1, 12)</small><table border=\"1\" class=\"dataframe\"><thead><tr><th>reviewId</th><th>userName</th><th>userImage</th><th>content</th><th>score</th><th>thumbsUpCount</th><th>reviewCreatedVersion</th><th>at</th><th>replyContent</th><th>repliedAt</th><th>sortOrder</th><th>appId</th></tr><tr><td>str</td><td>str</td><td>str</td><td>str</td><td>i64</td><td>i64</td><td>str</td><td>str</td><td>str</td><td>str</td><td>str</td><td>str</td></tr></thead><tbody><tr><td>&quot;gp:AOqpTOEhZuqSqqWnaKRgv-9ABYd…</td><td>&quot;Eric Tie&quot;</td><td>&quot;https://play-lh.googleusercont…</td><td>&quot;I cannot open the app anymore&quot;</td><td>1</td><td>0</td><td>&quot;5.4.0.6&quot;</td><td>&quot;2020-10-27 21:24:41&quot;</td><td>null</td><td>null</td><td>&quot;newest&quot;</td><td>&quot;com.anydo&quot;</td></tr></tbody></table></div>"
      ],
      "text/plain": [
       "shape: (1, 12)\n",
       "┌───────────┬──────────┬───────────┬───────────┬───┬───────────┬───────────┬───────────┬───────────┐\n",
       "│ reviewId  ┆ userName ┆ userImage ┆ content   ┆ … ┆ replyCont ┆ repliedAt ┆ sortOrder ┆ appId     │\n",
       "│ ---       ┆ ---      ┆ ---       ┆ ---       ┆   ┆ ent       ┆ ---       ┆ ---       ┆ ---       │\n",
       "│ str       ┆ str      ┆ str       ┆ str       ┆   ┆ ---       ┆ str       ┆ str       ┆ str       │\n",
       "│           ┆          ┆           ┆           ┆   ┆ str       ┆           ┆           ┆           │\n",
       "╞═══════════╪══════════╪═══════════╪═══════════╪═══╪═══════════╪═══════════╪═══════════╪═══════════╡\n",
       "│ gp:AOqpTO ┆ Eric Tie ┆ https://p ┆ I cannot  ┆ … ┆ null      ┆ null      ┆ newest    ┆ com.anydo │\n",
       "│ EhZuqSqqW ┆          ┆ lay-lh.go ┆ open the  ┆   ┆           ┆           ┆           ┆           │\n",
       "│ naKRgv-9A ┆          ┆ ogleuserc ┆ app       ┆   ┆           ┆           ┆           ┆           │\n",
       "│ BYd…      ┆          ┆ ont…      ┆ anymore   ┆   ┆           ┆           ┆           ┆           │\n",
       "└───────────┴──────────┴───────────┴───────────┴───┴───────────┴───────────┴───────────┴───────────┘"
      ]
     },
     "execution_count": 2,
     "metadata": {},
     "output_type": "execute_result"
    }
   ],
   "source": [
    "df = pl.read_csv(\"data/ch09/google_store_reviews.csv\")\n",
    "df.head(1)"
   ]
  },
  {
   "cell_type": "code",
   "execution_count": 3,
   "id": "aee0b030-0aae-4b96-8b9c-18c77bf842d6",
   "metadata": {},
   "outputs": [
    {
     "data": {
      "text/plain": [
       "polars.config.Config"
      ]
     },
     "execution_count": 3,
     "metadata": {},
     "output_type": "execute_result"
    }
   ],
   "source": [
    "import os\n",
    "import polars as pl \n",
    "os.environ['POLARS_FMT_STR_LEN'] = str(10)\n",
    "pl.Config.set_fmt_str_lengths(10)"
   ]
  },
  {
   "cell_type": "code",
   "execution_count": 4,
   "id": "7cfc7f30-2908-4067-98a3-d7191c3271c1",
   "metadata": {},
   "outputs": [
    {
     "data": {
      "text/html": [
       "<div><style>\n",
       ".dataframe > thead > tr,\n",
       ".dataframe > tbody > tr {\n",
       "  text-align: right;\n",
       "  white-space: pre-wrap;\n",
       "}\n",
       "</style>\n",
       "<small>shape: (1, 12)</small><table border=\"1\" class=\"dataframe\"><thead><tr><th>reviewId</th><th>userName</th><th>userImage</th><th>content</th><th>score</th><th>thumbsUpCount</th><th>reviewCreatedVersion</th><th>at</th><th>replyContent</th><th>repliedAt</th><th>sortOrder</th><th>appId</th></tr><tr><td>str</td><td>str</td><td>str</td><td>str</td><td>i64</td><td>i64</td><td>str</td><td>str</td><td>str</td><td>str</td><td>str</td><td>str</td></tr></thead><tbody><tr><td>&quot;gp:AOqpTOE…</td><td>&quot;Eric Tie&quot;</td><td>&quot;https://pl…</td><td>&quot;I cannot o…</td><td>1</td><td>0</td><td>&quot;5.4.0.6&quot;</td><td>&quot;2020-10-27…</td><td>null</td><td>null</td><td>&quot;newest&quot;</td><td>&quot;com.anydo&quot;</td></tr></tbody></table></div>"
      ],
      "text/plain": [
       "shape: (1, 12)\n",
       "┌───────────┬──────────┬───────────┬───────────┬───┬───────────┬───────────┬───────────┬───────────┐\n",
       "│ reviewId  ┆ userName ┆ userImage ┆ content   ┆ … ┆ replyCont ┆ repliedAt ┆ sortOrder ┆ appId     │\n",
       "│ ---       ┆ ---      ┆ ---       ┆ ---       ┆   ┆ e…        ┆ ---       ┆ ---       ┆ ---       │\n",
       "│ str       ┆ str      ┆ str       ┆ str       ┆   ┆ ---       ┆ str       ┆ str       ┆ str       │\n",
       "│           ┆          ┆           ┆           ┆   ┆ str       ┆           ┆           ┆           │\n",
       "╞═══════════╪══════════╪═══════════╪═══════════╪═══╪═══════════╪═══════════╪═══════════╪═══════════╡\n",
       "│ gp:AOqpTO ┆ Eric Tie ┆ https://p ┆ I cannot  ┆ … ┆ null      ┆ null      ┆ newest    ┆ com.anydo │\n",
       "│ E…        ┆          ┆ l…        ┆ o…        ┆   ┆           ┆           ┆           ┆           │\n",
       "└───────────┴──────────┴───────────┴───────────┴───┴───────────┴───────────┴───────────┴───────────┘"
      ]
     },
     "execution_count": 4,
     "metadata": {},
     "output_type": "execute_result"
    }
   ],
   "source": [
    "df.head(1)"
   ]
  },
  {
   "cell_type": "markdown",
   "id": "0317b65c-3324-4669-811b-0a00701a2826",
   "metadata": {},
   "source": [
    "# 레시피 45 : Filtering Strings"
   ]
  },
  {
   "cell_type": "code",
   "execution_count": 17,
   "id": "6b647857",
   "metadata": {},
   "outputs": [
    {
     "name": "stdout",
     "output_type": "stream",
     "text": [
      "앱 관련 리뷰 수: 5958\n",
      "이모지 포함 리뷰 수: 327\n",
      "짧은 리뷰 수: 940\n",
      "부정적 리뷰 수: 207\n",
      "'I'로 시작하는 리뷰 수: 2778\n",
      "느낌표로 끝나는 리뷰 수: 935\n"
     ]
    }
   ],
   "source": [
    "# 1. 기본 문자열 포함 여부 필터링\n",
    "# \"app\"이라는 단어가 포함된 리뷰 필터링\n",
    "app_reviews = df.filter(pl.col(\"content\").str.contains(\"app\"))\n",
    "\n",
    "# 2. 정규식을 사용한 필터링\n",
    "# 이모지가 포함된 리뷰 필터링 (Unicode 이모지 범위 사용)\n",
    "emoji_pattern = df.filter(pl.col(\"content\").str.contains(r\"[\\U0001F600-\\U0001F64F]\"))\n",
    "\n",
    "# 3. 문자열 길이 기반 필터링\n",
    "# 짧은 리뷰 (10자 미만) 필터링\n",
    "short_reviews = df.filter(pl.col(\"content\").str.len_chars() < 10)\n",
    "\n",
    "# 4. 복합 조건을 사용한 필터링\n",
    "# \"bad\"를 포함하지만 \"not bad\"는 포함하지 않는 리뷰\n",
    "bad_reviews = df.filter(\n",
    "    pl.col(\"content\").str.contains(\"bad\") & \n",
    "    ~pl.col(\"content\").str.contains(\"not bad\")\n",
    ")\n",
    "\n",
    "# 5. 시작 또는 끝 문자 기반 필터링\n",
    "starts_with_i = df.filter(pl.col(\"content\").str.starts_with(\"I\"))\n",
    "ends_with_exclamation = df.filter(pl.col(\"content\").str.ends_with(\"!\"))\n",
    "\n",
    "# 결과 확인\n",
    "print(\"앱 관련 리뷰 수:\", app_reviews.shape[0])\n",
    "print(\"이모지 포함 리뷰 수:\", emoji_pattern.shape[0])\n",
    "print(\"짧은 리뷰 수:\", short_reviews.shape[0])\n",
    "print(\"부정적 리뷰 수:\", bad_reviews.shape[0])\n",
    "print(\"'I'로 시작하는 리뷰 수:\", starts_with_i.shape[0])\n",
    "print(\"느낌표로 끝나는 리뷰 수:\", ends_with_exclamation.shape[0])\n"
   ]
  },
  {
   "cell_type": "markdown",
   "id": "cce6e5d9-94a5-4839-85ab-c5939a427d8a",
   "metadata": {},
   "source": [
    "# 레시피 46 : 문자열 날짜 변환"
   ]
  },
  {
   "cell_type": "code",
   "execution_count": 2,
   "id": "cfb72942",
   "metadata": {},
   "outputs": [
    {
     "name": "stdout",
     "output_type": "stream",
     "text": [
      "문자열에서 날짜로 변환:\n",
      "shape: (3, 2)\n",
      "┌────────────┬─────────────┐\n",
      "│ date_str   ┆ date_column │\n",
      "│ ---        ┆ ---         │\n",
      "│ str        ┆ date        │\n",
      "╞════════════╪═════════════╡\n",
      "│ 2023-01-15 ┆ 2023-01-15  │\n",
      "│ 2023-02-20 ┆ 2023-02-20  │\n",
      "│ 2023-03-25 ┆ 2023-03-25  │\n",
      "└────────────┴─────────────┘\n"
     ]
    }
   ],
   "source": [
    "import polars as pl\n",
    "# Convert a string column to a date column \n",
    "# 날짜 형식의 문자열을 date 타입으로 변환\n",
    "date_df = pl.DataFrame({\n",
    "    \"date_str\": [\"2023-01-15\", \"2023-02-20\", \"2023-03-25\"]\n",
    "})\n",
    "date_df = date_df.with_columns(\n",
    "    pl.col(\"date_str\").str.to_date().alias(\"date_column\")\n",
    ")\n",
    "print(\"문자열에서 날짜로 변환:\")\n",
    "print(date_df)"
   ]
  },
  {
   "cell_type": "code",
   "execution_count": 3,
   "id": "5a3ab809-a427-4eaa-a064-252675f0b567",
   "metadata": {},
   "outputs": [
    {
     "name": "stdout",
     "output_type": "stream",
     "text": [
      "\n",
      "문자열에서 시간으로 변환:\n",
      "shape: (3, 2)\n",
      "┌──────────┬─────────────┐\n",
      "│ time_str ┆ time_column │\n",
      "│ ---      ┆ ---         │\n",
      "│ str      ┆ time        │\n",
      "╞══════════╪═════════════╡\n",
      "│ 14:30:00 ┆ 14:30:00    │\n",
      "│ 08:45:30 ┆ 08:45:30    │\n",
      "│ 23:15:45 ┆ 23:15:45    │\n",
      "└──────────┴─────────────┘\n"
     ]
    }
   ],
   "source": [
    "# Convert a string column to a time column \n",
    "# 시간 형식의 문자열을 time 타입으로 변환\n",
    "time_df = pl.DataFrame({\n",
    "    \"time_str\": [\"14:30:00\", \"08:45:30\", \"23:15:45\"]\n",
    "})\n",
    "time_df = time_df.with_columns(\n",
    "    pl.col(\"time_str\").str.to_time().alias(\"time_column\")\n",
    ")\n",
    "print(\"\\n문자열에서 시간으로 변환:\")\n",
    "print(time_df)"
   ]
  },
  {
   "cell_type": "code",
   "execution_count": 3,
   "id": "89fcf1ae-dc92-4a1a-b7fb-a7307c0c7e0d",
   "metadata": {},
   "outputs": [
    {
     "name": "stdout",
     "output_type": "stream",
     "text": [
      "\n",
      "문자열에서 날짜시간으로 변환:\n"
     ]
    },
    {
     "data": {
      "text/html": [
       "<div><style>\n",
       ".dataframe > thead > tr,\n",
       ".dataframe > tbody > tr {\n",
       "  text-align: right;\n",
       "  white-space: pre-wrap;\n",
       "}\n",
       "</style>\n",
       "<small>shape: (3, 2)</small><table border=\"1\" class=\"dataframe\"><thead><tr><th>datetime_str</th><th>datetime_column</th></tr><tr><td>str</td><td>datetime[μs]</td></tr></thead><tbody><tr><td>&quot;2023-01-15 14:30:00&quot;</td><td>2023-01-15 14:30:00</td></tr><tr><td>&quot;2023-02-20 08:45:30&quot;</td><td>2023-02-20 08:45:30</td></tr><tr><td>&quot;2023-03-25 23:15:45&quot;</td><td>2023-03-25 23:15:45</td></tr></tbody></table></div>"
      ],
      "text/plain": [
       "shape: (3, 2)\n",
       "┌──────────────┬───────────────────────┐\n",
       "│ datetime_str ┆ datetime_column       │\n",
       "│ ---          ┆ ---                   │\n",
       "│ str          ┆ datetime[μs]          │\n",
       "╞══════════════╪═══════════════════════╡\n",
       "│ 2023-01-15   ┆ 2023-01-15 14:30:00   │\n",
       "│ 14:30:00     ┆                       │\n",
       "│ 2023-02-20   ┆ 2023-02-20 08:45:30   │\n",
       "│ 08:45:30     ┆                       │\n",
       "│ 2023-03-25   ┆ 2023-03-25 23:15:45   │\n",
       "│ 23:15:45     ┆                       │\n",
       "└──────────────┴───────────────────────┘"
      ]
     },
     "execution_count": 3,
     "metadata": {},
     "output_type": "execute_result"
    }
   ],
   "source": [
    "# Convert a string column to a datetime column\n",
    "# 날짜/시간 형식의 문자열을 datetime 타입으로 변환\n",
    "datetime_df = pl.DataFrame({\n",
    "    \"datetime_str\": [\"2023-01-15 14:30:00\", \"2023-02-20 08:45:30\", \"2023-03-25 23:15:45\"]\n",
    "})\n",
    "datetime_df = datetime_df.with_columns(\n",
    "    pl.col(\"datetime_str\").str.to_datetime().alias(\"datetime_column\")\n",
    ")\n",
    "print(\"\\n문자열에서 날짜시간으로 변환:\")\n",
    "datetime_df"
   ]
  },
  {
   "cell_type": "code",
   "execution_count": 6,
   "id": "7fbb68d9-af8d-4f8e-a234-17754e9693db",
   "metadata": {},
   "outputs": [
    {
     "name": "stdout",
     "output_type": "stream",
     "text": [
      "\n",
      "사용자 지정 형식 변환:\n"
     ]
    },
    {
     "data": {
      "text/html": [
       "<div><style>\n",
       ".dataframe > thead > tr,\n",
       ".dataframe > tbody > tr {\n",
       "  text-align: right;\n",
       "  white-space: pre-wrap;\n",
       "}\n",
       "</style>\n",
       "<small>shape: (3, 6)</small><table border=\"1\" class=\"dataframe\"><thead><tr><th>custom_date</th><th>custom_time</th><th>custom_datetime</th><th>parsed_date</th><th>parsed_time</th><th>parsed_datetime</th></tr><tr><td>str</td><td>str</td><td>str</td><td>date</td><td>time</td><td>datetime[μs]</td></tr></thead><tbody><tr><td>&quot;15/01/2023&quot;</td><td>&quot;14.30.00&quot;</td><td>&quot;15-Jan-2023 14:30&quot;</td><td>2023-01-15</td><td>14:30:00</td><td>2023-01-15 14:30:00</td></tr><tr><td>&quot;20/02/2023&quot;</td><td>&quot;08.45.30&quot;</td><td>&quot;20-Feb-2023 08:45&quot;</td><td>2023-02-20</td><td>08:45:30</td><td>2023-02-20 08:45:00</td></tr><tr><td>&quot;25/03/2023&quot;</td><td>&quot;23.15.45&quot;</td><td>&quot;25-Mar-2023 23:15&quot;</td><td>2023-03-25</td><td>23:15:45</td><td>2023-03-25 23:15:00</td></tr></tbody></table></div>"
      ],
      "text/plain": [
       "shape: (3, 6)\n",
       "┌─────┬─────┬─────┬─────┬─────┬────────┐\n",
       "│ cus ┆ cus ┆ cus ┆ par ┆ par ┆ parsed │\n",
       "│ tom ┆ tom ┆ tom ┆ sed ┆ sed ┆ _datet │\n",
       "│ _da ┆ _ti ┆ _da ┆ _da ┆ _ti ┆ ime    │\n",
       "│ te  ┆ me  ┆ tet ┆ te  ┆ me  ┆ ---    │\n",
       "│ --- ┆ --- ┆ ime ┆ --- ┆ --- ┆ dateti │\n",
       "│ str ┆ str ┆ --- ┆ dat ┆ tim ┆ me[μs] │\n",
       "│     ┆     ┆ str ┆ e   ┆ e   ┆        │\n",
       "╞═════╪═════╪═════╪═════╪═════╪════════╡\n",
       "│ 15/ ┆ 14. ┆ 15- ┆ 202 ┆ 14: ┆ 2023-0 │\n",
       "│ 01/ ┆ 30. ┆ Jan ┆ 3-0 ┆ 30: ┆ 1-15   │\n",
       "│ 202 ┆ 00  ┆ -20 ┆ 1-1 ┆ 00  ┆ 14:30: │\n",
       "│ 3   ┆     ┆ 23  ┆ 5   ┆     ┆ 00     │\n",
       "│     ┆     ┆ 14: ┆     ┆     ┆        │\n",
       "│     ┆     ┆ 30  ┆     ┆     ┆        │\n",
       "│ 20/ ┆ 08. ┆ 20- ┆ 202 ┆ 08: ┆ 2023-0 │\n",
       "│ 02/ ┆ 45. ┆ Feb ┆ 3-0 ┆ 45: ┆ 2-20   │\n",
       "│ 202 ┆ 30  ┆ -20 ┆ 2-2 ┆ 30  ┆ 08:45: │\n",
       "│ 3   ┆     ┆ 23  ┆ 0   ┆     ┆ 00     │\n",
       "│     ┆     ┆ 08: ┆     ┆     ┆        │\n",
       "│     ┆     ┆ 45  ┆     ┆     ┆        │\n",
       "│ 25/ ┆ 23. ┆ 25- ┆ 202 ┆ 23: ┆ 2023-0 │\n",
       "│ 03/ ┆ 15. ┆ Mar ┆ 3-0 ┆ 15: ┆ 3-25   │\n",
       "│ 202 ┆ 45  ┆ -20 ┆ 3-2 ┆ 45  ┆ 23:15: │\n",
       "│ 3   ┆     ┆ 23  ┆ 5   ┆     ┆ 00     │\n",
       "│     ┆     ┆ 23: ┆     ┆     ┆        │\n",
       "│     ┆     ┆ 15  ┆     ┆     ┆        │\n",
       "└─────┴─────┴─────┴─────┴─────┴────────┘"
      ]
     },
     "execution_count": 6,
     "metadata": {},
     "output_type": "execute_result"
    }
   ],
   "source": [
    "# Convert a string to date, time, or datetime with .str.strptime()\n",
    "# 사용자 지정 형식의 문자열을 날짜/시간 타입으로 변환\n",
    "custom_df = pl.DataFrame({\n",
    "    \"custom_date\": [\"15/01/2023\", \"20/02/2023\", \"25/03/2023\"],\n",
    "    \"custom_time\": [\"14.30.00\", \"08.45.30\", \"23.15.45\"],\n",
    "    \"custom_datetime\": [\"15-Jan-2023 14:30\", \"20-Feb-2023 08:45\", \"25-Mar-2023 23:15\"]\n",
    "})\n",
    "\n",
    "custom_df = custom_df.with_columns([\n",
    "    # 사용자 지정 날짜 형식 변환\n",
    "    pl.col(\"custom_date\").str.strptime(pl.Date, format=\"%d/%m/%Y\").alias(\"parsed_date\"),\n",
    "    # 사용자 지정 시간 형식 변환\n",
    "    pl.col(\"custom_time\").str.strptime(pl.Time, format=\"%H.%M.%S\").alias(\"parsed_time\"),\n",
    "    # 사용자 지정 날짜시간 형식 변환\n",
    "    pl.col(\"custom_datetime\").str.strptime(pl.Datetime, format=\"%d-%b-%Y %H:%M\").alias(\"parsed_datetime\")\n",
    "])\n",
    "print(\"\\n사용자 지정 형식 변환:\")\n",
    "custom_df"
   ]
  },
  {
   "cell_type": "markdown",
   "id": "046a83e1-0871-4be9-b834-d940aee2b04a",
   "metadata": {},
   "source": [
    "# 레시피 47 : Extracting substrings"
   ]
  },
  {
   "cell_type": "code",
   "execution_count": 16,
   "id": "a8251fe1",
   "metadata": {},
   "outputs": [
    {
     "data": {
      "text/html": [
       "<div><style>\n",
       ".dataframe > thead > tr,\n",
       ".dataframe > tbody > tr {\n",
       "  text-align: right;\n",
       "  white-space: pre-wrap;\n",
       "}\n",
       "</style>\n",
       "<small>shape: (5, 5)</small><table border=\"1\" class=\"dataframe\"><thead><tr><th>userName</th><th>userImage</th><th>content</th><th>at</th><th>appId</th></tr><tr><td>str</td><td>str</td><td>str</td><td>str</td><td>str</td></tr></thead><tbody><tr><td>&quot;Eric Tie&quot;</td><td>&quot;https://play-lh.googleusercont…</td><td>&quot;I cannot open the app anymore&quot;</td><td>&quot;2020-10-27 21:24:41&quot;</td><td>&quot;com.anydo&quot;</td></tr><tr><td>&quot;john alpha&quot;</td><td>&quot;https://play-lh.googleusercont…</td><td>&quot;I have been begging for a refu…</td><td>&quot;2020-10-27 14:03:28&quot;</td><td>&quot;com.anydo&quot;</td></tr><tr><td>&quot;Sudhakar .S&quot;</td><td>&quot;https://play-lh.googleusercont…</td><td>&quot;Very costly for the premium ve…</td><td>&quot;2020-10-27 08:18:40&quot;</td><td>&quot;com.anydo&quot;</td></tr><tr><td>&quot;SKGflorida@bellsouth.net DAVID…</td><td>&quot;https://play-lh.googleusercont…</td><td>&quot;Used to keep me organized, but…</td><td>&quot;2020-10-26 13:28:07&quot;</td><td>&quot;com.anydo&quot;</td></tr><tr><td>&quot;Louann Stoker&quot;</td><td>&quot;https://play-lh.googleusercont…</td><td>&quot;Dan Birthday Oct 28&quot;</td><td>&quot;2020-10-26 06:10:50&quot;</td><td>&quot;com.anydo&quot;</td></tr></tbody></table></div>"
      ],
      "text/plain": [
       "shape: (5, 5)\n",
       "┌─────┬────────┬───────┬───────┬───────┐\n",
       "│ use ┆ userIm ┆ conte ┆ at    ┆ appId │\n",
       "│ rNa ┆ age    ┆ nt    ┆ ---   ┆ ---   │\n",
       "│ me  ┆ ---    ┆ ---   ┆ str   ┆ str   │\n",
       "│ --- ┆ str    ┆ str   ┆       ┆       │\n",
       "│ str ┆        ┆       ┆       ┆       │\n",
       "╞═════╪════════╪═══════╪═══════╪═══════╡\n",
       "│ Eri ┆ https: ┆ I can ┆ 2020- ┆ com.a │\n",
       "│ c   ┆ //play ┆ not   ┆ 10-27 ┆ nydo  │\n",
       "│ Tie ┆ -lh.go ┆ open  ┆ 21:24 ┆       │\n",
       "│     ┆ ogleus ┆ the   ┆ :41   ┆       │\n",
       "│     ┆ ercont ┆ app   ┆       ┆       │\n",
       "│     ┆ …      ┆ anymo ┆       ┆       │\n",
       "│     ┆        ┆ re    ┆       ┆       │\n",
       "│ joh ┆ https: ┆ I     ┆ 2020- ┆ com.a │\n",
       "│ n   ┆ //play ┆ have  ┆ 10-27 ┆ nydo  │\n",
       "│ alp ┆ -lh.go ┆ been  ┆ 14:03 ┆       │\n",
       "│ ha  ┆ ogleus ┆ beggi ┆ :28   ┆       │\n",
       "│     ┆ ercont ┆ ng    ┆       ┆       │\n",
       "│     ┆ …      ┆ for a ┆       ┆       │\n",
       "│     ┆        ┆ refu… ┆       ┆       │\n",
       "│ Sud ┆ https: ┆ Very  ┆ 2020- ┆ com.a │\n",
       "│ hak ┆ //play ┆ costl ┆ 10-27 ┆ nydo  │\n",
       "│ ar  ┆ -lh.go ┆ y for ┆ 08:18 ┆       │\n",
       "│ .S  ┆ ogleus ┆ the   ┆ :40   ┆       │\n",
       "│     ┆ ercont ┆ premi ┆       ┆       │\n",
       "│     ┆ …      ┆ um    ┆       ┆       │\n",
       "│     ┆        ┆ ve…   ┆       ┆       │\n",
       "│ SKG ┆ https: ┆ Used  ┆ 2020- ┆ com.a │\n",
       "│ flo ┆ //play ┆ to    ┆ 10-26 ┆ nydo  │\n",
       "│ rid ┆ -lh.go ┆ keep  ┆ 13:28 ┆       │\n",
       "│ a@b ┆ ogleus ┆ me    ┆ :07   ┆       │\n",
       "│ ell ┆ ercont ┆ organ ┆       ┆       │\n",
       "│ sou ┆ …      ┆ ized, ┆       ┆       │\n",
       "│ th. ┆        ┆ but…  ┆       ┆       │\n",
       "│ net ┆        ┆       ┆       ┆       │\n",
       "│ DAV ┆        ┆       ┆       ┆       │\n",
       "│ ID… ┆        ┆       ┆       ┆       │\n",
       "│ Lou ┆ https: ┆ Dan   ┆ 2020- ┆ com.a │\n",
       "│ ann ┆ //play ┆ Birth ┆ 10-26 ┆ nydo  │\n",
       "│ Sto ┆ -lh.go ┆ day   ┆ 06:10 ┆       │\n",
       "│ ker ┆ ogleus ┆ Oct   ┆ :50   ┆       │\n",
       "│     ┆ ercont ┆ 28    ┆       ┆       │\n",
       "│     ┆ …      ┆       ┆       ┆       │\n",
       "└─────┴────────┴───────┴───────┴───────┘"
      ]
     },
     "execution_count": 16,
     "metadata": {},
     "output_type": "execute_result"
    }
   ],
   "source": [
    "# 데이터 가져오기\n",
    "import polars as pl \n",
    "df = pl.read_csv(\"data/ch09/google_store_reviews.csv\")\n",
    "df.select(['userName', 'userImage', 'content', 'at', 'appId']).head(5)"
   ]
  },
  {
   "cell_type": "code",
   "execution_count": 10,
   "id": "2818d6da-054f-40c9-bf75-d3ba208e65d8",
   "metadata": {},
   "outputs": [
    {
     "name": "stdout",
     "output_type": "stream",
     "text": [
      "\n",
      "문자열 슬라이싱:\n",
      "shape: (3, 2)\n",
      "┌─────────────────┬──────────┐\n",
      "│ content_preview ┆ app_name │\n",
      "│ ---             ┆ ---      │\n",
      "│ str             ┆ str      │\n",
      "╞═════════════════╪══════════╡\n",
      "│ I cannot o      ┆ anydo    │\n",
      "│ I have bee      ┆ anydo    │\n",
      "│ Very costl      ┆ anydo    │\n",
      "└─────────────────┴──────────┘\n"
     ]
    }
   ],
   "source": [
    "# .str.slice()를 사용하여 위치별로 부분 문자열 추출\n",
    "slice_df = df.select([\n",
    "    # content에서 처음 10개 문자 추출\n",
    "    pl.col(\"content\").str.slice(0, 10).alias(\"content_preview\"),\n",
    "    # appId에서 앱 이름 추출 (점 이후)\n",
    "    pl.col(\"appId\").str.slice(4).alias(\"app_name\")\n",
    "])\n",
    "print(\"\\n문자열 슬라이싱:\")\n",
    "print(slice_df.head(3))"
   ]
  },
  {
   "cell_type": "code",
   "execution_count": 19,
   "id": "e158bec7-e2ab-492d-bee2-45db6ec03258",
   "metadata": {},
   "outputs": [
    {
     "name": "stdout",
     "output_type": "stream",
     "text": [
      "\n",
      "정규식으로 패턴 추출:\n"
     ]
    },
    {
     "data": {
      "text/html": [
       "<div><style>\n",
       ".dataframe > thead > tr,\n",
       ".dataframe > tbody > tr {\n",
       "  text-align: right;\n",
       "  white-space: pre-wrap;\n",
       "}\n",
       "</style>\n",
       "<small>shape: (3, 4)</small><table border=\"1\" class=\"dataframe\"><thead><tr><th>userImage</th><th>image_domain</th><th>appId</th><th>app_category</th></tr><tr><td>str</td><td>str</td><td>str</td><td>str</td></tr></thead><tbody><tr><td>&quot;https://play-lh.googleusercont…</td><td>&quot;play-lh.googleusercontent.com&quot;</td><td>&quot;com.anydo&quot;</td><td>&quot;anydo&quot;</td></tr><tr><td>&quot;https://play-lh.googleusercont…</td><td>&quot;play-lh.googleusercontent.com&quot;</td><td>&quot;com.anydo&quot;</td><td>&quot;anydo&quot;</td></tr><tr><td>&quot;https://play-lh.googleusercont…</td><td>&quot;play-lh.googleusercontent.com&quot;</td><td>&quot;com.anydo&quot;</td><td>&quot;anydo&quot;</td></tr></tbody></table></div>"
      ],
      "text/plain": [
       "shape: (3, 4)\n",
       "┌─────────┬─────────┬─────────┬────────┐\n",
       "│ userIma ┆ image_d ┆ appId   ┆ app_ca │\n",
       "│ ge      ┆ omain   ┆ ---     ┆ tegory │\n",
       "│ ---     ┆ ---     ┆ str     ┆ ---    │\n",
       "│ str     ┆ str     ┆         ┆ str    │\n",
       "╞═════════╪═════════╪═════════╪════════╡\n",
       "│ https:/ ┆ play-lh ┆ com.any ┆ anydo  │\n",
       "│ /play-l ┆ .google ┆ do      ┆        │\n",
       "│ h.googl ┆ usercon ┆         ┆        │\n",
       "│ euserco ┆ tent.co ┆         ┆        │\n",
       "│ nt…     ┆ m       ┆         ┆        │\n",
       "│ https:/ ┆ play-lh ┆ com.any ┆ anydo  │\n",
       "│ /play-l ┆ .google ┆ do      ┆        │\n",
       "│ h.googl ┆ usercon ┆         ┆        │\n",
       "│ euserco ┆ tent.co ┆         ┆        │\n",
       "│ nt…     ┆ m       ┆         ┆        │\n",
       "│ https:/ ┆ play-lh ┆ com.any ┆ anydo  │\n",
       "│ /play-l ┆ .google ┆ do      ┆        │\n",
       "│ h.googl ┆ usercon ┆         ┆        │\n",
       "│ euserco ┆ tent.co ┆         ┆        │\n",
       "│ nt…     ┆ m       ┆         ┆        │\n",
       "└─────────┴─────────┴─────────┴────────┘"
      ]
     },
     "execution_count": 19,
     "metadata": {},
     "output_type": "execute_result"
    }
   ],
   "source": [
    "# str.extract()를 사용하여 정규식으로 패턴 추출\n",
    "extract_df = df.select([\n",
    "    # userImage\n",
    "    pl.col(\"userImage\"),\n",
    "    # userImage URL에서 도메인 추출\n",
    "    pl.col(\"userImage\").str.extract(r\"https://([^/]+)\").alias(\"image_domain\"),\n",
    "    # appId\n",
    "    pl.col(\"appId\"),\n",
    "    # appId에서 앱 카테고리 추출\n",
    "    pl.col(\"appId\").str.extract(r\"com\\.([^.]+)\").alias(\"app_category\")\n",
    "])\n",
    "print(\"\\n정규식으로 패턴 추출:\")\n",
    "extract_df.head(3)"
   ]
  },
  {
   "cell_type": "code",
   "execution_count": 8,
   "id": "ddd6112f-3e02-44d7-abd0-3f52255a0dad",
   "metadata": {},
   "outputs": [
    {
     "name": "stdout",
     "output_type": "stream",
     "text": [
      "\n",
      "정규식으로 여러 그룹 추출:\n",
      "shape: (3, 2)\n",
      "┌──────────────────┬───────────────────┐\n",
      "│ name_parts       ┆ date_parts        │\n",
      "│ ---              ┆ ---               │\n",
      "│ struct[2]        ┆ struct[3]         │\n",
      "╞══════════════════╪═══════════════════╡\n",
      "│ {\"Eric\",\"Tie\"}   ┆ {\"2020\",\"10\",\"27\" │\n",
      "│                  ┆ }                 │\n",
      "│ {\"john\",\"alpha\"} ┆ {\"2020\",\"10\",\"27\" │\n",
      "│                  ┆ }                 │\n",
      "│ {null,null}      ┆ {\"2020\",\"10\",\"27\" │\n",
      "│                  ┆ }                 │\n",
      "└──────────────────┴───────────────────┘\n"
     ]
    }
   ],
   "source": [
    "# str.extract_groups()를 사용하여 정규식에서 여러 그룹 추출\n",
    "extract_groups_df = df.select([\n",
    "    # \"FirstName LastName\" 형식의 사용자 이름 부분 추출\n",
    "    pl.col(\"userName\").str.extract_groups(r\"([A-Za-z]+)\\s+([A-Za-z]+)\").alias(\"name_parts\"),\n",
    "    # at 필드에서 날짜 구성 요소 추출\n",
    "    pl.col(\"at\").str.extract_groups(r\"(\\d{4})-(\\d{2})-(\\d{2})\").alias(\"date_parts\")\n",
    "])\n",
    "print(\"\\n정규식으로 여러 그룹 추출:\")\n",
    "print(extract_groups_df.head(3))"
   ]
  },
  {
   "cell_type": "markdown",
   "id": "09ebcc6a-7e76-400f-bc18-feb806014a62",
   "metadata": {},
   "source": [
    "# 레시피 48 : Cleaning strings"
   ]
  },
  {
   "cell_type": "code",
   "execution_count": null,
   "id": "8da60a0d",
   "metadata": {},
   "outputs": [],
   "source": [
    "# remove leading and trailing whitespace with str.strip_chars() \n",
    "clean_df = df.select([\n",
    "    pl.col(\"content\").str.strip_chars().alias(\"content_clean\"),\n",
    "    # 특정 문자 제거 (예: 특수문자)\n",
    "    pl.col(\"userName\").str.strip_chars(\"!@#$%^&*()\").alias(\"userName_clean\")\n",
    "])\n",
    "print(\"\\n공백 및 특정 문자 제거:\")\n",
    "print(clean_df.head(2))\n",
    "\n",
    "# replace matching substrings with str.replace() \n",
    "replace_df = df.select([\n",
    "    # 첫 번째 일치 항목만 대체\n",
    "    pl.col(\"content\").str.replace(\"can\", \"could\").alias(\"content_replaced\"),\n",
    "    # URL에서 http를 https로 변경\n",
    "    pl.col(\"userImage\").str.replace(\"http:\", \"https:\").alias(\"secure_image_url\")\n",
    "])\n",
    "print(\"\\n부분 문자열 대체:\")\n",
    "print(replace_df.head(2))\n",
    "\n",
    "# replace all the occurrences of the matched substring \n",
    "replace_all_df = df.select([\n",
    "    # 모든 공백을 밑줄로 대체\n",
    "    pl.col(\"userName\").str.replace_all(\" \", \"_\").alias(\"userName_underscore\"),\n",
    "    # 모든 마침표를 제거\n",
    "    pl.col(\"appId\").str.replace_all(\".\", \"\").alias(\"appId_no_dots\")\n",
    "])\n",
    "print(\"\\n모든 일치 항목 대체:\")\n",
    "print(replace_all_df.head(2))\n",
    "\n",
    "# Change the letter case of your strings\n",
    "case_df = df.select([\n",
    "    # 첫 글자만 대문자로 변환\n",
    "    pl.col(\"userName\").str.to_titlecase().alias(\"userName_title\"),\n",
    "    # 문장의 첫 글자만 대문자로 변환\n",
    "    pl.col(\"content\").str.to_titlecase().alias(\"content_title\")\n",
    "])\n",
    "print(\"\\n첫 글자 대문자 변환:\")\n",
    "print(case_df.head(2))\n",
    "\n",
    "# Change the letter case to lowercase\n",
    "lower_df = df.select([\n",
    "    pl.col(\"userName\").str.to_lowercase().alias(\"userName_lower\"),\n",
    "    pl.col(\"appId\").str.to_lowercase().alias(\"appId_lower\")\n",
    "])\n",
    "print(\"\\n소문자 변환:\")\n",
    "print(lower_df.head(2))\n",
    "\n",
    "# Change the letter case to uppercase \n",
    "upper_df = df.select([\n",
    "    pl.col(\"userName\").str.to_uppercase().alias(\"userName_upper\"),\n",
    "    pl.col(\"sortOrder\").str.to_uppercase().alias(\"sortOrder_upper\")\n",
    "])\n",
    "print(\"\\n대문자 변환:\")\n",
    "print(upper_df.head(2))\n",
    "\n",
    "# Add a certain character until the string reaches the specified length \n",
    "pad_df = df.select([\n",
    "    # 왼쪽에 0 추가하여 10자리로 만들기\n",
    "    pl.col(\"reviewId\").str.pad_start(10, \"0\").alias(\"reviewId_padded\"),\n",
    "    # 오른쪽에 * 추가하여 20자리로 만들기\n",
    "    pl.col(\"userName\").str.pad_end(20, \"*\").alias(\"userName_padded\")\n",
    "])\n",
    "print(\"\\n문자열 패딩:\")\n",
    "print(pad_df.head(2))\n"
   ]
  },
  {
   "cell_type": "markdown",
   "id": "4d8c72e9-61c6-46c1-bab8-6c2a4e4cc521",
   "metadata": {},
   "source": [
    "# 레시피 49 : Splitting strings into lists and structs"
   ]
  },
  {
   "cell_type": "code",
   "execution_count": 5,
   "id": "37b817a4",
   "metadata": {},
   "outputs": [
    {
     "name": "stdout",
     "output_type": "stream",
     "text": [
      "\n",
      "문자열 분할:\n",
      "shape: (2, 2)\n",
      "┌─────────────┬─────────────┐\n",
      "│ userName_s… ┆ appId_spli… │\n",
      "│ ---         ┆ ---         │\n",
      "│ list[str]   ┆ list[str]   │\n",
      "╞═════════════╪═════════════╡\n",
      "│ [\"Eric\", \"… ┆ [\"com\", \"a… │\n",
      "│ [\"john\", \"… ┆ [\"com\", \"a… │\n",
      "└─────────────┴─────────────┘\n",
      "\n",
      "지정된 수만큼 분할:\n",
      "shape: (2, 1)\n",
      "┌─────────────┐\n",
      "│ appId_spli… │\n",
      "│ ---         │\n",
      "│ struct[2]   │\n",
      "╞═════════════╡\n",
      "│ {\"com\",\"an… │\n",
      "│ {\"com\",\"an… │\n",
      "└─────────────┘\n",
      "\n",
      "정확히 지정된 수만큼 분할:\n",
      "shape: (2, 1)\n",
      "┌─────────────┐\n",
      "│ appId_spli… │\n",
      "│ ---         │\n",
      "│ struct[4]   │\n",
      "╞═════════════╡\n",
      "│ {\"com\",\"an… │\n",
      "│ {\"com\",\"an… │\n",
      "└─────────────┘\n"
     ]
    }
   ],
   "source": [
    "# Split Strings into lists str.split()\n",
    "split_df = df.select([\n",
    "    # 공백을 기준으로 문자열 분할\n",
    "    pl.col(\"userName\").str.split(\" \").alias(\"userName_split\"),\n",
    "    # 특정 문자를 기준으로 분할\n",
    "    pl.col(\"appId\").str.split(\".\").alias(\"appId_split\")\n",
    "])\n",
    "print(\"\\n문자열 분할:\")\n",
    "print(split_df.head(2))\n",
    "\n",
    "# Split strings into structs using .str.splitn() and .str.split_exact()\n",
    "# .str.splitn() - 지정된 수만큼만 분할\n",
    "splitn_df = df.select([\n",
    "    # 최대 2개 부분으로 분할\n",
    "    pl.col(\"appId\").str.splitn(\".\", 2).alias(\"appId_splitn\")\n",
    "])\n",
    "print(\"\\n지정된 수만큼 분할:\")\n",
    "print(splitn_df.head(2))\n",
    "\n",
    "# .str.split_exact() - 정확히 지정된 수만큼 분할\n",
    "split_exact_df = df.select([\n",
    "    # 정확히 3개 부분으로 분할\n",
    "    pl.col(\"appId\").str.split_exact(\".\", 3).alias(\"appId_split_exact\")\n",
    "])\n",
    "print(\"\\n정확히 지정된 수만큼 분할:\")\n",
    "print(split_exact_df.head(2))"
   ]
  },
  {
   "cell_type": "markdown",
   "id": "41850444-85c5-40fe-9cd6-cbcababc8ef5",
   "metadata": {},
   "source": [
    "# 레시피 50 : Concatenating and combining strings"
   ]
  },
  {
   "cell_type": "code",
   "execution_count": 6,
   "id": "340d817e",
   "metadata": {},
   "outputs": [
    {
     "name": "stdout",
     "output_type": "stream",
     "text": [
      "\n",
      "+ 연산자로 문자열 연결:\n",
      "shape: (3, 1)\n",
      "┌─────────────┐\n",
      "│ fullName    │\n",
      "│ ---         │\n",
      "│ str         │\n",
      "╞═════════════╡\n",
      "│ John Doe    │\n",
      "│ Jane Smith  │\n",
      "│ Jim Johnso… │\n",
      "└─────────────┘\n",
      "\n",
      "concat_str()로 여러 열 연결:\n",
      "shape: (3, 1)\n",
      "┌─────────────┐\n",
      "│ profile     │\n",
      "│ ---         │\n",
      "│ str         │\n",
      "╞═════════════╡\n",
      "│ John Doe, … │\n",
      "│ Jane Smith… │\n",
      "│ Jim Johnso… │\n",
      "└─────────────┘\n",
      "\n",
      "구분자를 사용한 concat_str():\n",
      "shape: (3, 1)\n",
      "┌─────────────┐\n",
      "│ name_with_… │\n",
      "│ ---         │\n",
      "│ str         │\n",
      "╞═════════════╡\n",
      "│ John - Doe  │\n",
      "│ Jane - Smi… │\n",
      "│ Jim - John… │\n",
      "└─────────────┘\n",
      "\n",
      "모든 행의 문자열을 하나로 결합:\n",
      "shape: (1, 1)\n",
      "┌─────────────┐\n",
      "│ all_first_… │\n",
      "│ ---         │\n",
      "│ str         │\n",
      "╞═════════════╡\n",
      "│ John, Jane… │\n",
      "└─────────────┘\n"
     ]
    }
   ],
   "source": [
    "# Concatenating and combining strings \n",
    "\n",
    "# Generate Sample DataFrame\n",
    "df = pl.DataFrame({\n",
    "    \"firstName\": [\"John\", \"Jane\", \"Jim\"],\n",
    "    \"lastName\": [\"Doe\", \"Smith\", \"Johnson\"],\n",
    "    \"age\": [25, 30, 35]\n",
    "})\n",
    "\n",
    "# Use + to concatenate strings\n",
    "concat_plus_df = df.select([\n",
    "    (pl.col(\"firstName\") + \" \" + pl.col(\"lastName\")).alias(\"fullName\")\n",
    "])\n",
    "print(\"\\n+ 연산자로 문자열 연결:\")\n",
    "print(concat_plus_df)\n",
    "\n",
    "# Concatenate strings from multiple columns into a single column\n",
    "concat_df = df.select([\n",
    "    pl.concat_str([\n",
    "        pl.col(\"firstName\"),\n",
    "        pl.lit(\" \"),\n",
    "        pl.col(\"lastName\"),\n",
    "        pl.lit(\", Age: \"),\n",
    "        pl.col(\"age\").cast(pl.Utf8)\n",
    "    ]).alias(\"profile\")\n",
    "])\n",
    "print(\"\\nconcat_str()로 여러 열 연결:\")\n",
    "print(concat_df)\n",
    "\n",
    "# Using pl.concat_str() with separator\n",
    "concat_sep_df = df.select([\n",
    "    pl.concat_str([\n",
    "        pl.col(\"firstName\"),\n",
    "        pl.col(\"lastName\")\n",
    "    ], separator=\" - \").alias(\"name_with_separator\")\n",
    "])\n",
    "print(\"\\n구분자를 사용한 concat_str():\")\n",
    "print(concat_sep_df)\n",
    "\n",
    "# Use .str.join() to combine all of the strings of a column into one string\n",
    "join_df = df.select([\n",
    "    pl.col(\"firstName\").str.join(\", \").alias(\"all_first_names\")\n",
    "])\n",
    "print(\"\\n모든 행의 문자열을 하나로 결합:\")\n",
    "print(join_df)"
   ]
  },
  {
   "cell_type": "code",
   "execution_count": 8,
   "id": "76259238",
   "metadata": {},
   "outputs": [
    {
     "name": "stdout",
     "output_type": "stream",
     "text": [
      "\n",
      "한글 인코딩 데이터 미리보기:\n",
      "shape: (5, 13)\n",
      "┌──────────┬────────────┬──────────┬──────┬───┬─────────────┬───────────┬─────────────┬──────────┐\n",
      "│ 기준년월 ┆ 고객ID     ┆ 연령대   ┆ 성별 ┆ … ┆ 수신_적립식 ┆ 수신_펀드 ┆ 수신_외화예 ┆ 대출금액 │\n",
      "│ ---      ┆ ---        ┆ ---      ┆ ---  ┆   ┆ 예금        ┆ ---       ┆ 금          ┆ ---      │\n",
      "│ i64      ┆ i64        ┆ str      ┆ str  ┆   ┆ ---         ┆ i64       ┆ ---         ┆ i64      │\n",
      "│          ┆            ┆          ┆      ┆   ┆ i64         ┆           ┆ i64         ┆          │\n",
      "╞══════════╪════════════╪══════════╪══════╪═══╪═════════════╪═══════════╪═════════════╪══════════╡\n",
      "│ 202312   ┆ 9999998161 ┆ 60대이상 ┆ 여   ┆ … ┆ 0           ┆ 0         ┆ 0           ┆ 0        │\n",
      "│ 202312   ┆ 9999997589 ┆ 60대이상 ┆ 남   ┆ … ┆ 0           ┆ 0         ┆ 0           ┆ 0        │\n",
      "│ 202312   ┆ 9999991579 ┆ 60대이상 ┆ 여   ┆ … ┆ 0           ┆ 0         ┆ 0           ┆ 0        │\n",
      "│ 202312   ┆ 9999989448 ┆ 60대이상 ┆ 남   ┆ … ┆ 0           ┆ 0         ┆ 0           ┆ 0        │\n",
      "│ 202312   ┆ 9999988325 ┆ 60대이상 ┆ 남   ┆ … ┆ 0           ┆ 0         ┆ 0           ┆ 0        │\n",
      "└──────────┴────────────┴──────────┴──────┴───┴─────────────┴───────────┴─────────────┴──────────┘\n",
      "\n",
      "데이터 정보:\n",
      "행 수: 22739682\n",
      "열 수: 13\n",
      "컬럼명: ['기준년월', '고객ID', '연령대', '성별', '고객등급', '자택_시도', '자택_시군구', '수신_요구불예금', '수신_거치식예금', '수신_적립식예금', '수신_펀드', '수신_외화예금', '대출금액']\n"
     ]
    }
   ],
   "source": [
    "# polars 한글 인코딩 예시\n",
    "# 한글 인코딩 데이터 불러오기 예시\n",
    "# iMBANK_CUSTOMER_DATA_2023(K-DigitalTraining).csv 파일을 scan_csv()로 불러오기\n",
    "\n",
    "# 한글 인코딩 파일 경로 설정\n",
    "file_path = \"iMBANK_CUSTOMER_DATA_2023(K-DigitalTraining).csv\"\n",
    "\n",
    "# scan_csv()를 사용하여 한글 인코딩(EUC-KR 또는 CP949) 파일 불러오기\n",
    "# Polars는 UTF-8 인코딩만 지원합니다 ('utf8' 또는 'utf8-lossy')\n",
    "# 파일을 먼저 UTF-8로 변환 후 읽는 방법 사용\n",
    "import codecs\n",
    "import os\n",
    "\n",
    "# 임시 UTF-8 파일 경로\n",
    "temp_utf8_path = \"temp_utf8_file.csv\"\n",
    "\n",
    "# 원본 파일을 읽어서 UTF-8로 변환하여 임시 파일에 저장\n",
    "with codecs.open(file_path, 'r', encoding='cp949') as f_in:\n",
    "    content = f_in.read()\n",
    "with codecs.open(temp_utf8_path, 'w', encoding='utf8') as f_out:\n",
    "    f_out.write(content)\n",
    "\n",
    "# UTF-8로 변환된 파일을 Polars로 읽기\n",
    "korean_df = pl.scan_csv(\n",
    "    temp_utf8_path,\n",
    "    encoding=\"utf8\",\n",
    "    infer_schema_length=10000\n",
    ")\n",
    "\n",
    "# 작업 완료 후 임시 파일 삭제 (선택 사항)\n",
    "# os.remove(temp_utf8_path)\n",
    "\n",
    "# 실제 데이터 불러오기 (lazy 실행)\n",
    "korean_df_collected = korean_df.collect()\n",
    "\n",
    "# 데이터 미리보기\n",
    "print(\"\\n한글 인코딩 데이터 미리보기:\")\n",
    "print(korean_df_collected.head())\n",
    "\n",
    "# 데이터 정보 확인\n",
    "print(\"\\n데이터 정보:\")\n",
    "print(f\"행 수: {korean_df_collected.height}\")\n",
    "print(f\"열 수: {korean_df_collected.width}\")\n",
    "print(f\"컬럼명: {korean_df_collected.columns}\")\n"
   ]
  }
 ],
 "metadata": {
  "kernelspec": {
   "display_name": "Python 3 (ipykernel)",
   "language": "python",
   "name": "python3"
  },
  "language_info": {
   "codemirror_mode": {
    "name": "ipython",
    "version": 3
   },
   "file_extension": ".py",
   "mimetype": "text/x-python",
   "name": "python",
   "nbconvert_exporter": "python",
   "pygments_lexer": "ipython3",
   "version": "3.12.6"
  }
 },
 "nbformat": 4,
 "nbformat_minor": 5
}

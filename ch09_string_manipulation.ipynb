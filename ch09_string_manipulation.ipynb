{
 "cells": [
  {
   "cell_type": "markdown",
   "id": "065fd9fe-c47c-4279-98d0-7ab3ae67c4b3",
   "metadata": {},
   "source": [
    "# Polars 버전"
   ]
  },
  {
   "cell_type": "code",
   "execution_count": 4,
   "id": "9ef35a35-a916-4fb4-9ed1-653893f3daec",
   "metadata": {},
   "outputs": [
    {
     "data": {
      "text/plain": [
       "'1.22.0'"
      ]
     },
     "execution_count": 4,
     "metadata": {},
     "output_type": "execute_result"
    }
   ],
   "source": [
    "import polars as pl\n",
    "pl.__version__"
   ]
  },
  {
   "cell_type": "markdown",
   "id": "7b20a256-ad78-4d01-9f62-7cde9485ea21",
   "metadata": {},
   "source": [
    "- Polars 설정"
   ]
  },
  {
   "cell_type": "code",
   "execution_count": 5,
   "id": "2c76accf-8599-4082-9746-1e0590995ca5",
   "metadata": {},
   "outputs": [
    {
     "data": {
      "text/html": [
       "<div><style>\n",
       ".dataframe > thead > tr,\n",
       ".dataframe > tbody > tr {\n",
       "  text-align: right;\n",
       "  white-space: pre-wrap;\n",
       "}\n",
       "</style>\n",
       "<small>shape: (1, 12)</small><table border=\"1\" class=\"dataframe\"><thead><tr><th>reviewId</th><th>userName</th><th>userImage</th><th>content</th><th>score</th><th>thumbsUpCount</th><th>reviewCreatedVersion</th><th>at</th><th>replyContent</th><th>repliedAt</th><th>sortOrder</th><th>appId</th></tr><tr><td>str</td><td>str</td><td>str</td><td>str</td><td>i64</td><td>i64</td><td>str</td><td>str</td><td>str</td><td>str</td><td>str</td><td>str</td></tr></thead><tbody><tr><td>&quot;gp:AOqpTOEhZuqSqqWnaKRgv-9ABYd…</td><td>&quot;Eric Tie&quot;</td><td>&quot;https://play-lh.googleusercont…</td><td>&quot;I cannot open the app anymore&quot;</td><td>1</td><td>0</td><td>&quot;5.4.0.6&quot;</td><td>&quot;2020-10-27 21:24:41&quot;</td><td>null</td><td>null</td><td>&quot;newest&quot;</td><td>&quot;com.anydo&quot;</td></tr></tbody></table></div>"
      ],
      "text/plain": [
       "shape: (1, 12)\n",
       "┌─────┬─────┬─────┬─────┬───┬─────┬─────┬─────┬─────┐\n",
       "│ rev ┆ use ┆ use ┆ con ┆ … ┆ rep ┆ rep ┆ sor ┆ app │\n",
       "│ iew ┆ rNa ┆ rIm ┆ ten ┆   ┆ lyC ┆ lie ┆ tOr ┆ Id  │\n",
       "│ Id  ┆ me  ┆ age ┆ t   ┆   ┆ ont ┆ dAt ┆ der ┆ --- │\n",
       "│ --- ┆ --- ┆ --- ┆ --- ┆   ┆ ent ┆ --- ┆ --- ┆ str │\n",
       "│ str ┆ str ┆ str ┆ str ┆   ┆ --- ┆ str ┆ str ┆     │\n",
       "│     ┆     ┆     ┆     ┆   ┆ str ┆     ┆     ┆     │\n",
       "╞═════╪═════╪═════╪═════╪═══╪═════╪═════╪═════╪═════╡\n",
       "│ gp: ┆ Eri ┆ htt ┆ I   ┆ … ┆ nul ┆ nul ┆ new ┆ com │\n",
       "│ AOq ┆ c   ┆ ps: ┆ can ┆   ┆ l   ┆ l   ┆ est ┆ .an │\n",
       "│ pTO ┆ Tie ┆ //p ┆ not ┆   ┆     ┆     ┆     ┆ ydo │\n",
       "│ EhZ ┆     ┆ lay ┆ ope ┆   ┆     ┆     ┆     ┆     │\n",
       "│ uqS ┆     ┆ -lh ┆ n   ┆   ┆     ┆     ┆     ┆     │\n",
       "│ qqW ┆     ┆ .go ┆ the ┆   ┆     ┆     ┆     ┆     │\n",
       "│ naK ┆     ┆ ogl ┆ app ┆   ┆     ┆     ┆     ┆     │\n",
       "│ Rgv ┆     ┆ eus ┆ any ┆   ┆     ┆     ┆     ┆     │\n",
       "│ -9A ┆     ┆ erc ┆ mor ┆   ┆     ┆     ┆     ┆     │\n",
       "│ BYd ┆     ┆ ont ┆ e   ┆   ┆     ┆     ┆     ┆     │\n",
       "│ …   ┆     ┆ …   ┆     ┆   ┆     ┆     ┆     ┆     │\n",
       "└─────┴─────┴─────┴─────┴───┴─────┴─────┴─────┴─────┘"
      ]
     },
     "execution_count": 5,
     "metadata": {},
     "output_type": "execute_result"
    }
   ],
   "source": [
    "df = pl.read_csv(\"data/ch09/google_store_reviews.csv\")\n",
    "df.head(1)"
   ]
  },
  {
   "cell_type": "markdown",
   "id": "a88ed275",
   "metadata": {},
   "source": []
  },
  {
   "cell_type": "code",
   "execution_count": 1,
   "id": "aee0b030-0aae-4b96-8b9c-18c77bf842d6",
   "metadata": {},
   "outputs": [
    {
     "data": {
      "text/plain": [
       "polars.config.Config"
      ]
     },
     "execution_count": 1,
     "metadata": {},
     "output_type": "execute_result"
    }
   ],
   "source": [
    "import os\n",
    "import polars as pl \n",
    "os.environ['POLARS_FMT_STR_LEN'] = str(10)\n",
    "pl.Config.set_fmt_str_lengths(10)"
   ]
  },
  {
   "cell_type": "code",
   "execution_count": 9,
   "id": "7cfc7f30-2908-4067-98a3-d7191c3271c1",
   "metadata": {},
   "outputs": [
    {
     "data": {
      "text/html": [
       "<div><style>\n",
       ".dataframe > thead > tr,\n",
       ".dataframe > tbody > tr {\n",
       "  text-align: right;\n",
       "  white-space: pre-wrap;\n",
       "}\n",
       "</style>\n",
       "<small>shape: (1, 12)</small><table border=\"1\" class=\"dataframe\"><thead><tr><th>reviewId</th><th>userName</th><th>userImage</th><th>content</th><th>score</th><th>thumbsUpCount</th><th>reviewCreatedVersion</th><th>at</th><th>replyContent</th><th>repliedAt</th><th>sortOrder</th><th>appId</th></tr><tr><td>str</td><td>str</td><td>str</td><td>str</td><td>i64</td><td>i64</td><td>str</td><td>str</td><td>str</td><td>str</td><td>str</td><td>str</td></tr></thead><tbody><tr><td>&quot;gp:AOqpTOE…</td><td>&quot;Eric Tie&quot;</td><td>&quot;https://pl…</td><td>&quot;I cannot o…</td><td>1</td><td>0</td><td>&quot;5.4.0.6&quot;</td><td>&quot;2020-10-27…</td><td>null</td><td>null</td><td>&quot;newest&quot;</td><td>&quot;com.anydo&quot;</td></tr></tbody></table></div>"
      ],
      "text/plain": [
       "shape: (1, 12)\n",
       "┌─────┬─────┬─────┬─────┬───┬─────┬─────┬─────┬─────┐\n",
       "│ rev ┆ use ┆ use ┆ con ┆ … ┆ rep ┆ rep ┆ sor ┆ app │\n",
       "│ iew ┆ rNa ┆ rIm ┆ ten ┆   ┆ lyC ┆ lie ┆ tOr ┆ Id  │\n",
       "│ Id  ┆ me  ┆ age ┆ t   ┆   ┆ ont ┆ dAt ┆ der ┆ --- │\n",
       "│ --- ┆ --- ┆ --- ┆ --- ┆   ┆ e…  ┆ --- ┆ --- ┆ str │\n",
       "│ str ┆ str ┆ str ┆ str ┆   ┆ --- ┆ str ┆ str ┆     │\n",
       "│     ┆     ┆     ┆     ┆   ┆ str ┆     ┆     ┆     │\n",
       "╞═════╪═════╪═════╪═════╪═══╪═════╪═════╪═════╪═════╡\n",
       "│ gp: ┆ Eri ┆ htt ┆ I   ┆ … ┆ nul ┆ nul ┆ new ┆ com │\n",
       "│ AOq ┆ c   ┆ ps: ┆ can ┆   ┆ l   ┆ l   ┆ est ┆ .an │\n",
       "│ pTO ┆ Tie ┆ //p ┆ not ┆   ┆     ┆     ┆     ┆ ydo │\n",
       "│ E…  ┆     ┆ l…  ┆ o…  ┆   ┆     ┆     ┆     ┆     │\n",
       "└─────┴─────┴─────┴─────┴───┴─────┴─────┴─────┴─────┘"
      ]
     },
     "execution_count": 9,
     "metadata": {},
     "output_type": "execute_result"
    }
   ],
   "source": [
    "df.head(1)"
   ]
  },
  {
   "cell_type": "markdown",
   "id": "0317b65c-3324-4669-811b-0a00701a2826",
   "metadata": {},
   "source": [
    "# 레시피 45 : Filtering Strings"
   ]
  },
  {
   "cell_type": "markdown",
   "id": "cce6e5d9-94a5-4839-85ab-c5939a427d8a",
   "metadata": {},
   "source": [
    "# 레시피 46 : Converting Strings into date, datetime, or time"
   ]
  },
  {
   "cell_type": "markdown",
   "id": "046a83e1-0871-4be9-b834-d940aee2b04a",
   "metadata": {},
   "source": [
    "# 레시피 47 : Extracting substrings"
   ]
  },
  {
   "cell_type": "markdown",
   "id": "09ebcc6a-7e76-400f-bc18-feb806014a62",
   "metadata": {},
   "source": [
    "# 레시피 48 : Cleaning strings"
   ]
  },
  {
   "cell_type": "markdown",
   "id": "4d8c72e9-61c6-46c1-bab8-6c2a4e4cc521",
   "metadata": {},
   "source": [
    "# 레시피 49 : Splitting strings into lists and structs"
   ]
  },
  {
   "cell_type": "markdown",
   "id": "41850444-85c5-40fe-9cd6-cbcababc8ef5",
   "metadata": {},
   "source": [
    "# 레시피 50 : Concatenating and combining strings"
   ]
  }
 ],
 "metadata": {
  "kernelspec": {
   "display_name": "venv",
   "language": "python",
   "name": "python3"
  },
  "language_info": {
   "codemirror_mode": {
    "name": "ipython",
    "version": 3
   },
   "file_extension": ".py",
   "mimetype": "text/x-python",
   "name": "python",
   "nbconvert_exporter": "python",
   "pygments_lexer": "ipython3",
   "version": "3.12.6"
  }
 },
 "nbformat": 4,
 "nbformat_minor": 5
}

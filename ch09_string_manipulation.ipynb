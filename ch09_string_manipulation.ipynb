{
 "cells": [
  {
   "cell_type": "markdown",
   "id": "065fd9fe-c47c-4279-98d0-7ab3ae67c4b3",
   "metadata": {},
   "source": [
    "# Polars 버전"
   ]
  },
  {
   "cell_type": "code",
   "execution_count": 2,
   "id": "9ef35a35-a916-4fb4-9ed1-653893f3daec",
   "metadata": {},
   "outputs": [
    {
     "data": {
      "text/plain": [
       "'1.22.0'"
      ]
     },
     "execution_count": 2,
     "metadata": {},
     "output_type": "execute_result"
    }
   ],
   "source": [
    "import polars as pl\n",
    "pl.__version__"
   ]
  },
  {
   "cell_type": "markdown",
   "id": "7b20a256-ad78-4d01-9f62-7cde9485ea21",
   "metadata": {},
   "source": [
    "- Polars 설정"
   ]
  },
  {
   "cell_type": "code",
   "execution_count": 19,
   "id": "2c76accf-8599-4082-9746-1e0590995ca5",
   "metadata": {},
   "outputs": [
    {
     "data": {
      "text/html": [
       "<div><style>\n",
       ".dataframe > thead > tr,\n",
       ".dataframe > tbody > tr {\n",
       "  text-align: right;\n",
       "  white-space: pre-wrap;\n",
       "}\n",
       "</style>\n",
       "<small>shape: (1, 12)</small><table border=\"1\" class=\"dataframe\"><thead><tr><th>reviewId</th><th>userName</th><th>userImage</th><th>content</th><th>score</th><th>thumbsUpCount</th><th>reviewCreatedVersion</th><th>at</th><th>replyContent</th><th>repliedAt</th><th>sortOrder</th><th>appId</th></tr><tr><td>str</td><td>str</td><td>str</td><td>str</td><td>i64</td><td>i64</td><td>str</td><td>str</td><td>str</td><td>str</td><td>str</td><td>str</td></tr></thead><tbody><tr><td>&quot;gp:AOqpTOE…</td><td>&quot;Eric Tie&quot;</td><td>&quot;https://pl…</td><td>&quot;I cannot o…</td><td>1</td><td>0</td><td>&quot;5.4.0.6&quot;</td><td>&quot;2020-10-27…</td><td>null</td><td>null</td><td>&quot;newest&quot;</td><td>&quot;com.anydo&quot;</td></tr></tbody></table></div>"
      ],
      "text/plain": [
       "shape: (1, 12)\n",
       "┌───────────┬──────────┬───────────┬───────────┬───┬───────────┬───────────┬───────────┬───────────┐\n",
       "│ reviewId  ┆ userName ┆ userImage ┆ content   ┆ … ┆ replyCont ┆ repliedAt ┆ sortOrder ┆ appId     │\n",
       "│ ---       ┆ ---      ┆ ---       ┆ ---       ┆   ┆ e…        ┆ ---       ┆ ---       ┆ ---       │\n",
       "│ str       ┆ str      ┆ str       ┆ str       ┆   ┆ ---       ┆ str       ┆ str       ┆ str       │\n",
       "│           ┆          ┆           ┆           ┆   ┆ str       ┆           ┆           ┆           │\n",
       "╞═══════════╪══════════╪═══════════╪═══════════╪═══╪═══════════╪═══════════╪═══════════╪═══════════╡\n",
       "│ gp:AOqpTO ┆ Eric Tie ┆ https://p ┆ I cannot  ┆ … ┆ null      ┆ null      ┆ newest    ┆ com.anydo │\n",
       "│ E…        ┆          ┆ l…        ┆ o…        ┆   ┆           ┆           ┆           ┆           │\n",
       "└───────────┴──────────┴───────────┴───────────┴───┴───────────┴───────────┴───────────┴───────────┘"
      ]
     },
     "execution_count": 19,
     "metadata": {},
     "output_type": "execute_result"
    }
   ],
   "source": [
    "df = pl.read_csv(\"data/ch09/google_store_reviews.csv\")\n",
    "df.head(1)"
   ]
  },
  {
   "cell_type": "markdown",
   "id": "a88ed275",
   "metadata": {},
   "source": []
  },
  {
   "cell_type": "code",
   "execution_count": 4,
   "id": "aee0b030-0aae-4b96-8b9c-18c77bf842d6",
   "metadata": {},
   "outputs": [
    {
     "data": {
      "text/plain": [
       "polars.config.Config"
      ]
     },
     "execution_count": 4,
     "metadata": {},
     "output_type": "execute_result"
    }
   ],
   "source": [
    "import os\n",
    "import polars as pl \n",
    "os.environ['POLARS_FMT_STR_LEN'] = str(10)\n",
    "pl.Config.set_fmt_str_lengths(10)"
   ]
  },
  {
   "cell_type": "code",
   "execution_count": 5,
   "id": "7cfc7f30-2908-4067-98a3-d7191c3271c1",
   "metadata": {},
   "outputs": [
    {
     "data": {
      "text/html": [
       "<div><style>\n",
       ".dataframe > thead > tr,\n",
       ".dataframe > tbody > tr {\n",
       "  text-align: right;\n",
       "  white-space: pre-wrap;\n",
       "}\n",
       "</style>\n",
       "<small>shape: (1, 12)</small><table border=\"1\" class=\"dataframe\"><thead><tr><th>reviewId</th><th>userName</th><th>userImage</th><th>content</th><th>score</th><th>thumbsUpCount</th><th>reviewCreatedVersion</th><th>at</th><th>replyContent</th><th>repliedAt</th><th>sortOrder</th><th>appId</th></tr><tr><td>str</td><td>str</td><td>str</td><td>str</td><td>i64</td><td>i64</td><td>str</td><td>str</td><td>str</td><td>str</td><td>str</td><td>str</td></tr></thead><tbody><tr><td>&quot;gp:AOqpTOE…</td><td>&quot;Eric Tie&quot;</td><td>&quot;https://pl…</td><td>&quot;I cannot o…</td><td>1</td><td>0</td><td>&quot;5.4.0.6&quot;</td><td>&quot;2020-10-27…</td><td>null</td><td>null</td><td>&quot;newest&quot;</td><td>&quot;com.anydo&quot;</td></tr></tbody></table></div>"
      ],
      "text/plain": [
       "shape: (1, 12)\n",
       "┌───────────┬──────────┬───────────┬───────────┬───┬───────────┬───────────┬───────────┬───────────┐\n",
       "│ reviewId  ┆ userName ┆ userImage ┆ content   ┆ … ┆ replyCont ┆ repliedAt ┆ sortOrder ┆ appId     │\n",
       "│ ---       ┆ ---      ┆ ---       ┆ ---       ┆   ┆ e…        ┆ ---       ┆ ---       ┆ ---       │\n",
       "│ str       ┆ str      ┆ str       ┆ str       ┆   ┆ ---       ┆ str       ┆ str       ┆ str       │\n",
       "│           ┆          ┆           ┆           ┆   ┆ str       ┆           ┆           ┆           │\n",
       "╞═══════════╪══════════╪═══════════╪═══════════╪═══╪═══════════╪═══════════╪═══════════╪═══════════╡\n",
       "│ gp:AOqpTO ┆ Eric Tie ┆ https://p ┆ I cannot  ┆ … ┆ null      ┆ null      ┆ newest    ┆ com.anydo │\n",
       "│ E…        ┆          ┆ l…        ┆ o…        ┆   ┆           ┆           ┆           ┆           │\n",
       "└───────────┴──────────┴───────────┴───────────┴───┴───────────┴───────────┴───────────┴───────────┘"
      ]
     },
     "execution_count": 5,
     "metadata": {},
     "output_type": "execute_result"
    }
   ],
   "source": [
    "df.head(1)"
   ]
  },
  {
   "cell_type": "markdown",
   "id": "0317b65c-3324-4669-811b-0a00701a2826",
   "metadata": {},
   "source": [
    "# 레시피 45 : Filtering Strings"
   ]
  },
  {
   "cell_type": "code",
   "execution_count": 17,
   "id": "6b647857",
   "metadata": {},
   "outputs": [
    {
     "name": "stdout",
     "output_type": "stream",
     "text": [
      "앱 관련 리뷰 수: 5958\n",
      "이모지 포함 리뷰 수: 327\n",
      "짧은 리뷰 수: 940\n",
      "부정적 리뷰 수: 207\n",
      "'I'로 시작하는 리뷰 수: 2778\n",
      "느낌표로 끝나는 리뷰 수: 935\n"
     ]
    }
   ],
   "source": [
    "# 1. 기본 문자열 포함 여부 필터링\n",
    "# \"app\"이라는 단어가 포함된 리뷰 필터링\n",
    "app_reviews = df.filter(pl.col(\"content\").str.contains(\"app\"))\n",
    "\n",
    "# 2. 정규식을 사용한 필터링\n",
    "# 이모지가 포함된 리뷰 필터링 (Unicode 이모지 범위 사용)\n",
    "emoji_pattern = df.filter(pl.col(\"content\").str.contains(r\"[\\U0001F600-\\U0001F64F]\"))\n",
    "\n",
    "# 3. 문자열 길이 기반 필터링\n",
    "# 짧은 리뷰 (10자 미만) 필터링\n",
    "short_reviews = df.filter(pl.col(\"content\").str.len_chars() < 10)\n",
    "\n",
    "# 4. 복합 조건을 사용한 필터링\n",
    "# \"bad\"를 포함하지만 \"not bad\"는 포함하지 않는 리뷰\n",
    "bad_reviews = df.filter(\n",
    "    pl.col(\"content\").str.contains(\"bad\") & \n",
    "    ~pl.col(\"content\").str.contains(\"not bad\")\n",
    ")\n",
    "\n",
    "# 5. 시작 또는 끝 문자 기반 필터링\n",
    "starts_with_i = df.filter(pl.col(\"content\").str.starts_with(\"I\"))\n",
    "ends_with_exclamation = df.filter(pl.col(\"content\").str.ends_with(\"!\"))\n",
    "\n",
    "# 결과 확인\n",
    "print(\"앱 관련 리뷰 수:\", app_reviews.shape[0])\n",
    "print(\"이모지 포함 리뷰 수:\", emoji_pattern.shape[0])\n",
    "print(\"짧은 리뷰 수:\", short_reviews.shape[0])\n",
    "print(\"부정적 리뷰 수:\", bad_reviews.shape[0])\n",
    "print(\"'I'로 시작하는 리뷰 수:\", starts_with_i.shape[0])\n",
    "print(\"느낌표로 끝나는 리뷰 수:\", ends_with_exclamation.shape[0])\n"
   ]
  },
  {
   "cell_type": "markdown",
   "id": "cce6e5d9-94a5-4839-85ab-c5939a427d8a",
   "metadata": {},
   "source": [
    "# 레시피 46 : Converting Strings into date, datetime, or time"
   ]
  },
  {
   "cell_type": "code",
   "execution_count": 18,
   "id": "cfb72942",
   "metadata": {},
   "outputs": [
    {
     "name": "stdout",
     "output_type": "stream",
     "text": [
      "문자열에서 날짜로 변환:\n",
      "shape: (3, 2)\n",
      "┌────────────┬─────────────┐\n",
      "│ date_str   ┆ date_colum… │\n",
      "│ ---        ┆ ---         │\n",
      "│ str        ┆ date        │\n",
      "╞════════════╪═════════════╡\n",
      "│ 2023-01-15 ┆ 2023-01-15  │\n",
      "│ 2023-02-20 ┆ 2023-02-20  │\n",
      "│ 2023-03-25 ┆ 2023-03-25  │\n",
      "└────────────┴─────────────┘\n",
      "\n",
      "문자열에서 시간으로 변환:\n",
      "shape: (3, 2)\n",
      "┌──────────┬─────────────┐\n",
      "│ time_str ┆ time_colum… │\n",
      "│ ---      ┆ ---         │\n",
      "│ str      ┆ time        │\n",
      "╞══════════╪═════════════╡\n",
      "│ 14:30:00 ┆ 14:30:00    │\n",
      "│ 08:45:30 ┆ 08:45:30    │\n",
      "│ 23:15:45 ┆ 23:15:45    │\n",
      "└──────────┴─────────────┘\n",
      "\n",
      "문자열에서 날짜시간으로 변환:\n",
      "shape: (3, 2)\n",
      "┌─────────────┬─────────────┐\n",
      "│ datetime_s… ┆ datetime_c… │\n",
      "│ ---         ┆ ---         │\n",
      "│ str         ┆ datetime[μs │\n",
      "│             ┆ ]           │\n",
      "╞═════════════╪═════════════╡\n",
      "│ 2023-01-15… ┆ 2023-01-15… │\n",
      "│ 2023-02-20… ┆ 2023-02-20… │\n",
      "│ 2023-03-25… ┆ 2023-03-25… │\n",
      "└─────────────┴─────────────┘\n",
      "\n",
      "사용자 지정 형식 변환:\n",
      "shape: (3, 6)\n",
      "┌─────────────┬─────────────┬─────────────┬─────────────┬─────────────┬─────────────┐\n",
      "│ custom_dat… ┆ custom_tim… ┆ custom_dat… ┆ parsed_dat… ┆ parsed_tim… ┆ parsed_dat… │\n",
      "│ ---         ┆ ---         ┆ ---         ┆ ---         ┆ ---         ┆ ---         │\n",
      "│ str         ┆ str         ┆ str         ┆ date        ┆ time        ┆ datetime[μs │\n",
      "│             ┆             ┆             ┆             ┆             ┆ ]           │\n",
      "╞═════════════╪═════════════╪═════════════╪═════════════╪═════════════╪═════════════╡\n",
      "│ 15/01/2023  ┆ 14.30.00    ┆ 15-Jan-202… ┆ 2023-01-15  ┆ 14:30:00    ┆ 2023-01-15… │\n",
      "│ 20/02/2023  ┆ 08.45.30    ┆ 20-Feb-202… ┆ 2023-02-20  ┆ 08:45:30    ┆ 2023-02-20… │\n",
      "│ 25/03/2023  ┆ 23.15.45    ┆ 25-Mar-202… ┆ 2023-03-25  ┆ 23:15:45    ┆ 2023-03-25… │\n",
      "└─────────────┴─────────────┴─────────────┴─────────────┴─────────────┴─────────────┘\n"
     ]
    }
   ],
   "source": [
    "# Convert a string column to a date column \n",
    "# 날짜 형식의 문자열을 date 타입으로 변환\n",
    "date_df = pl.DataFrame({\n",
    "    \"date_str\": [\"2023-01-15\", \"2023-02-20\", \"2023-03-25\"]\n",
    "})\n",
    "date_df = date_df.with_columns(\n",
    "    pl.col(\"date_str\").str.to_date().alias(\"date_column\")\n",
    ")\n",
    "print(\"문자열에서 날짜로 변환:\")\n",
    "print(date_df)\n",
    "\n",
    "# Convert a string column to a time column \n",
    "# 시간 형식의 문자열을 time 타입으로 변환\n",
    "time_df = pl.DataFrame({\n",
    "    \"time_str\": [\"14:30:00\", \"08:45:30\", \"23:15:45\"]\n",
    "})\n",
    "time_df = time_df.with_columns(\n",
    "    pl.col(\"time_str\").str.to_time().alias(\"time_column\")\n",
    ")\n",
    "print(\"\\n문자열에서 시간으로 변환:\")\n",
    "print(time_df)\n",
    "\n",
    "# Convert a string column to a datetime column\n",
    "# 날짜/시간 형식의 문자열을 datetime 타입으로 변환\n",
    "datetime_df = pl.DataFrame({\n",
    "    \"datetime_str\": [\"2023-01-15 14:30:00\", \"2023-02-20 08:45:30\", \"2023-03-25 23:15:45\"]\n",
    "})\n",
    "datetime_df = datetime_df.with_columns(\n",
    "    pl.col(\"datetime_str\").str.to_datetime().alias(\"datetime_column\")\n",
    ")\n",
    "print(\"\\n문자열에서 날짜시간으로 변환:\")\n",
    "print(datetime_df)\n",
    "\n",
    "# Convert a string to date, time, or datetime with .str.strptime()\n",
    "# 사용자 지정 형식의 문자열을 날짜/시간 타입으로 변환\n",
    "custom_df = pl.DataFrame({\n",
    "    \"custom_date\": [\"15/01/2023\", \"20/02/2023\", \"25/03/2023\"],\n",
    "    \"custom_time\": [\"14.30.00\", \"08.45.30\", \"23.15.45\"],\n",
    "    \"custom_datetime\": [\"15-Jan-2023 14:30\", \"20-Feb-2023 08:45\", \"25-Mar-2023 23:15\"]\n",
    "})\n",
    "\n",
    "custom_df = custom_df.with_columns([\n",
    "    # 사용자 지정 날짜 형식 변환\n",
    "    pl.col(\"custom_date\").str.strptime(pl.Date, format=\"%d/%m/%Y\").alias(\"parsed_date\"),\n",
    "    # 사용자 지정 시간 형식 변환\n",
    "    pl.col(\"custom_time\").str.strptime(pl.Time, format=\"%H.%M.%S\").alias(\"parsed_time\"),\n",
    "    # 사용자 지정 날짜시간 형식 변환\n",
    "    pl.col(\"custom_datetime\").str.strptime(pl.Datetime, format=\"%d-%b-%Y %H:%M\").alias(\"parsed_datetime\")\n",
    "])\n",
    "print(\"\\n사용자 지정 형식 변환:\")\n",
    "print(custom_df)\n"
   ]
  },
  {
   "cell_type": "markdown",
   "id": "046a83e1-0871-4be9-b834-d940aee2b04a",
   "metadata": {},
   "source": [
    "# 레시피 47 : Extracting substrings"
   ]
  },
  {
   "cell_type": "code",
   "execution_count": 22,
   "id": "a8251fe1",
   "metadata": {},
   "outputs": [
    {
     "name": "stdout",
     "output_type": "stream",
     "text": [
      "\n",
      "문자열 슬라이싱:\n",
      "shape: (3, 2)\n",
      "┌─────────────┬──────────┐\n",
      "│ content_pr… ┆ app_name │\n",
      "│ ---         ┆ ---      │\n",
      "│ str         ┆ str      │\n",
      "╞═════════════╪══════════╡\n",
      "│ I cannot o  ┆ anydo    │\n",
      "│ I have bee  ┆ anydo    │\n",
      "│ Very costl  ┆ anydo    │\n",
      "└─────────────┴──────────┘\n",
      "\n",
      "정규식으로 패턴 추출:\n",
      "shape: (3, 2)\n",
      "┌─────────────┬─────────────┐\n",
      "│ image_doma… ┆ app_catego… │\n",
      "│ ---         ┆ ---         │\n",
      "│ str         ┆ str         │\n",
      "╞═════════════╪═════════════╡\n",
      "│ play-lh.go… ┆ anydo       │\n",
      "│ play-lh.go… ┆ anydo       │\n",
      "│ play-lh.go… ┆ anydo       │\n",
      "└─────────────┴─────────────┘\n",
      "\n",
      "정규식으로 여러 그룹 추출:\n",
      "shape: (3, 2)\n",
      "┌─────────────┬─────────────┐\n",
      "│ name_parts  ┆ date_parts  │\n",
      "│ ---         ┆ ---         │\n",
      "│ struct[2]   ┆ struct[3]   │\n",
      "╞═════════════╪═════════════╡\n",
      "│ {\"Eric\",\"T… ┆ {\"2020\",\"1… │\n",
      "│ {\"john\",\"a… ┆ {\"2020\",\"1… │\n",
      "│ {null,null… ┆ {\"2020\",\"1… │\n",
      "└─────────────┴─────────────┘\n"
     ]
    }
   ],
   "source": [
    "# .str.slice()를 사용하여 위치별로 부분 문자열 추출\n",
    "slice_df = df.select([\n",
    "    # content에서 처음 10개 문자 추출\n",
    "    pl.col(\"content\").str.slice(0, 10).alias(\"content_preview\"),\n",
    "    # appId에서 앱 이름 추출 (점 이후)\n",
    "    pl.col(\"appId\").str.slice(4).alias(\"app_name\")\n",
    "])\n",
    "print(\"\\n문자열 슬라이싱:\")\n",
    "print(slice_df.head(3))\n",
    "\n",
    "# str.extract()를 사용하여 정규식으로 패턴 추출\n",
    "extract_df = df.select([\n",
    "    # userImage URL에서 도메인 추출\n",
    "    pl.col(\"userImage\").str.extract(r\"https://([^/]+)\").alias(\"image_domain\"),\n",
    "    # appId에서 앱 카테고리 추출\n",
    "    pl.col(\"appId\").str.extract(r\"com\\.([^.]+)\").alias(\"app_category\")\n",
    "])\n",
    "print(\"\\n정규식으로 패턴 추출:\")\n",
    "print(extract_df.head(3))\n",
    "\n",
    "# str.extract_groups()를 사용하여 정규식에서 여러 그룹 추출\n",
    "extract_groups_df = df.select([\n",
    "    # \"FirstName LastName\" 형식의 사용자 이름 부분 추출\n",
    "    pl.col(\"userName\").str.extract_groups(r\"([A-Za-z]+)\\s+([A-Za-z]+)\").alias(\"name_parts\"),\n",
    "    # at 필드에서 날짜 구성 요소 추출\n",
    "    pl.col(\"at\").str.extract_groups(r\"(\\d{4})-(\\d{2})-(\\d{2})\").alias(\"date_parts\")\n",
    "])\n",
    "print(\"\\n정규식으로 여러 그룹 추출:\")\n",
    "print(extract_groups_df.head(3))\n"
   ]
  },
  {
   "cell_type": "markdown",
   "id": "09ebcc6a-7e76-400f-bc18-feb806014a62",
   "metadata": {},
   "source": [
    "# 레시피 48 : Cleaning strings"
   ]
  },
  {
   "cell_type": "code",
   "execution_count": null,
   "id": "8da60a0d",
   "metadata": {},
   "outputs": [],
   "source": [
    "# remove leading and trailing whitespace with str.strip_chars() \n",
    "clean_df = df.select([\n",
    "    pl.col(\"content\").str.strip_chars().alias(\"content_clean\"),\n",
    "    # 특정 문자 제거 (예: 특수문자)\n",
    "    pl.col(\"userName\").str.strip_chars(\"!@#$%^&*()\").alias(\"userName_clean\")\n",
    "])\n",
    "print(\"\\n공백 및 특정 문자 제거:\")\n",
    "print(clean_df.head(2))\n",
    "\n",
    "# replace matching substrings with str.replace() \n",
    "replace_df = df.select([\n",
    "    # 첫 번째 일치 항목만 대체\n",
    "    pl.col(\"content\").str.replace(\"can\", \"could\").alias(\"content_replaced\"),\n",
    "    # URL에서 http를 https로 변경\n",
    "    pl.col(\"userImage\").str.replace(\"http:\", \"https:\").alias(\"secure_image_url\")\n",
    "])\n",
    "print(\"\\n부분 문자열 대체:\")\n",
    "print(replace_df.head(2))\n",
    "\n",
    "# replace all the occurrences of the matched substring \n",
    "replace_all_df = df.select([\n",
    "    # 모든 공백을 밑줄로 대체\n",
    "    pl.col(\"userName\").str.replace_all(\" \", \"_\").alias(\"userName_underscore\"),\n",
    "    # 모든 마침표를 제거\n",
    "    pl.col(\"appId\").str.replace_all(\".\", \"\").alias(\"appId_no_dots\")\n",
    "])\n",
    "print(\"\\n모든 일치 항목 대체:\")\n",
    "print(replace_all_df.head(2))\n",
    "\n",
    "# Change the letter case of your strings\n",
    "case_df = df.select([\n",
    "    # 첫 글자만 대문자로 변환\n",
    "    pl.col(\"userName\").str.to_titlecase().alias(\"userName_title\"),\n",
    "    # 문장의 첫 글자만 대문자로 변환\n",
    "    pl.col(\"content\").str.to_titlecase().alias(\"content_title\")\n",
    "])\n",
    "print(\"\\n첫 글자 대문자 변환:\")\n",
    "print(case_df.head(2))\n",
    "\n",
    "# Change the letter case to lowercase\n",
    "lower_df = df.select([\n",
    "    pl.col(\"userName\").str.to_lowercase().alias(\"userName_lower\"),\n",
    "    pl.col(\"appId\").str.to_lowercase().alias(\"appId_lower\")\n",
    "])\n",
    "print(\"\\n소문자 변환:\")\n",
    "print(lower_df.head(2))\n",
    "\n",
    "# Change the letter case to uppercase \n",
    "upper_df = df.select([\n",
    "    pl.col(\"userName\").str.to_uppercase().alias(\"userName_upper\"),\n",
    "    pl.col(\"sortOrder\").str.to_uppercase().alias(\"sortOrder_upper\")\n",
    "])\n",
    "print(\"\\n대문자 변환:\")\n",
    "print(upper_df.head(2))\n",
    "\n",
    "# Add a certain character until the string reaches the specified length \n",
    "pad_df = df.select([\n",
    "    # 왼쪽에 0 추가하여 10자리로 만들기\n",
    "    pl.col(\"reviewId\").str.pad_start(10, \"0\").alias(\"reviewId_padded\"),\n",
    "    # 오른쪽에 * 추가하여 20자리로 만들기\n",
    "    pl.col(\"userName\").str.pad_end(20, \"*\").alias(\"userName_padded\")\n",
    "])\n",
    "print(\"\\n문자열 패딩:\")\n",
    "print(pad_df.head(2))\n"
   ]
  },
  {
   "cell_type": "markdown",
   "id": "4d8c72e9-61c6-46c1-bab8-6c2a4e4cc521",
   "metadata": {},
   "source": [
    "# 레시피 49 : Splitting strings into lists and structs"
   ]
  },
  {
   "cell_type": "markdown",
   "id": "41850444-85c5-40fe-9cd6-cbcababc8ef5",
   "metadata": {},
   "source": [
    "# 레시피 50 : Concatenating and combining strings"
   ]
  }
 ],
 "metadata": {
  "kernelspec": {
   "display_name": "venv",
   "language": "python",
   "name": "python3"
  },
  "language_info": {
   "codemirror_mode": {
    "name": "ipython",
    "version": 3
   },
   "file_extension": ".py",
   "mimetype": "text/x-python",
   "name": "python",
   "nbconvert_exporter": "python",
   "pygments_lexer": "ipython3",
   "version": "3.12.6"
  }
 },
 "nbformat": 4,
 "nbformat_minor": 5
}

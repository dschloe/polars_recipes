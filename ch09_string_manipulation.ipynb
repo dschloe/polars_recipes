{
 "cells": [
  {
   "cell_type": "markdown",
   "id": "065fd9fe-c47c-4279-98d0-7ab3ae67c4b3",
   "metadata": {},
   "source": [
    "# Polars 버전"
   ]
  },
  {
   "cell_type": "code",
   "execution_count": 19,
   "id": "9ef35a35-a916-4fb4-9ed1-653893f3daec",
   "metadata": {},
   "outputs": [
    {
     "data": {
      "text/plain": [
       "'1.22.0'"
      ]
     },
     "execution_count": 19,
     "metadata": {},
     "output_type": "execute_result"
    }
   ],
   "source": [
    "import polars as pl\n",
    "pl.__version__"
   ]
  },
  {
   "cell_type": "markdown",
   "id": "7b20a256-ad78-4d01-9f62-7cde9485ea21",
   "metadata": {},
   "source": [
    "- Polars 설정"
   ]
  },
  {
   "cell_type": "code",
   "execution_count": 20,
   "id": "2c76accf-8599-4082-9746-1e0590995ca5",
   "metadata": {},
   "outputs": [
    {
     "data": {
      "text/html": [
       "<div><style>\n",
       ".dataframe > thead > tr,\n",
       ".dataframe > tbody > tr {\n",
       "  text-align: right;\n",
       "  white-space: pre-wrap;\n",
       "}\n",
       "</style>\n",
       "<small>shape: (1, 12)</small><table border=\"1\" class=\"dataframe\"><thead><tr><th>reviewId</th><th>userName</th><th>userImage</th><th>content</th><th>score</th><th>thumbsUpCount</th><th>reviewCreatedVersion</th><th>at</th><th>replyContent</th><th>repliedAt</th><th>sortOrder</th><th>appId</th></tr><tr><td>str</td><td>str</td><td>str</td><td>str</td><td>i64</td><td>i64</td><td>str</td><td>str</td><td>str</td><td>str</td><td>str</td><td>str</td></tr></thead><tbody><tr><td>&quot;gp:AOqpTOEhZuqSqqWnaKRgv-9ABYd…</td><td>&quot;Eric Tie&quot;</td><td>&quot;https://play-lh.googleusercont…</td><td>&quot;I cannot open the app anymore&quot;</td><td>1</td><td>0</td><td>&quot;5.4.0.6&quot;</td><td>&quot;2020-10-27 21:24:41&quot;</td><td>null</td><td>null</td><td>&quot;newest&quot;</td><td>&quot;com.anydo&quot;</td></tr></tbody></table></div>"
      ],
      "text/plain": [
       "shape: (1, 12)\n",
       "┌─────┬─────┬─────┬─────┬───┬─────┬─────┬─────┬─────┐\n",
       "│ rev ┆ use ┆ use ┆ con ┆ … ┆ rep ┆ rep ┆ sor ┆ app │\n",
       "│ iew ┆ rNa ┆ rIm ┆ ten ┆   ┆ lyC ┆ lie ┆ tOr ┆ Id  │\n",
       "│ Id  ┆ me  ┆ age ┆ t   ┆   ┆ ont ┆ dAt ┆ der ┆ --- │\n",
       "│ --- ┆ --- ┆ --- ┆ --- ┆   ┆ ent ┆ --- ┆ --- ┆ str │\n",
       "│ str ┆ str ┆ str ┆ str ┆   ┆ --- ┆ str ┆ str ┆     │\n",
       "│     ┆     ┆     ┆     ┆   ┆ str ┆     ┆     ┆     │\n",
       "╞═════╪═════╪═════╪═════╪═══╪═════╪═════╪═════╪═════╡\n",
       "│ gp: ┆ Eri ┆ htt ┆ I   ┆ … ┆ nul ┆ nul ┆ new ┆ com │\n",
       "│ AOq ┆ c   ┆ ps: ┆ can ┆   ┆ l   ┆ l   ┆ est ┆ .an │\n",
       "│ pTO ┆ Tie ┆ //p ┆ not ┆   ┆     ┆     ┆     ┆ ydo │\n",
       "│ EhZ ┆     ┆ lay ┆ ope ┆   ┆     ┆     ┆     ┆     │\n",
       "│ uqS ┆     ┆ -lh ┆ n   ┆   ┆     ┆     ┆     ┆     │\n",
       "│ qqW ┆     ┆ .go ┆ the ┆   ┆     ┆     ┆     ┆     │\n",
       "│ naK ┆     ┆ ogl ┆ app ┆   ┆     ┆     ┆     ┆     │\n",
       "│ Rgv ┆     ┆ eus ┆ any ┆   ┆     ┆     ┆     ┆     │\n",
       "│ -9A ┆     ┆ erc ┆ mor ┆   ┆     ┆     ┆     ┆     │\n",
       "│ BYd ┆     ┆ ont ┆ e   ┆   ┆     ┆     ┆     ┆     │\n",
       "│ …   ┆     ┆ …   ┆     ┆   ┆     ┆     ┆     ┆     │\n",
       "└─────┴─────┴─────┴─────┴───┴─────┴─────┴─────┴─────┘"
      ]
     },
     "execution_count": 20,
     "metadata": {},
     "output_type": "execute_result"
    }
   ],
   "source": [
    "df = pl.read_csv(\"data/ch09/google_store_reviews.csv\")\n",
    "df.head(1)"
   ]
  },
  {
   "cell_type": "code",
   "execution_count": 3,
   "id": "aee0b030-0aae-4b96-8b9c-18c77bf842d6",
   "metadata": {},
   "outputs": [
    {
     "data": {
      "text/plain": [
       "polars.config.Config"
      ]
     },
     "execution_count": 3,
     "metadata": {},
     "output_type": "execute_result"
    }
   ],
   "source": [
    "import os\n",
    "import polars as pl \n",
    "os.environ['POLARS_FMT_STR_LEN'] = str(10)\n",
    "pl.Config.set_fmt_str_lengths(10)"
   ]
  },
  {
   "cell_type": "code",
   "execution_count": 4,
   "id": "7cfc7f30-2908-4067-98a3-d7191c3271c1",
   "metadata": {},
   "outputs": [
    {
     "data": {
      "text/html": [
       "<div><style>\n",
       ".dataframe > thead > tr,\n",
       ".dataframe > tbody > tr {\n",
       "  text-align: right;\n",
       "  white-space: pre-wrap;\n",
       "}\n",
       "</style>\n",
       "<small>shape: (1, 12)</small><table border=\"1\" class=\"dataframe\"><thead><tr><th>reviewId</th><th>userName</th><th>userImage</th><th>content</th><th>score</th><th>thumbsUpCount</th><th>reviewCreatedVersion</th><th>at</th><th>replyContent</th><th>repliedAt</th><th>sortOrder</th><th>appId</th></tr><tr><td>str</td><td>str</td><td>str</td><td>str</td><td>i64</td><td>i64</td><td>str</td><td>str</td><td>str</td><td>str</td><td>str</td><td>str</td></tr></thead><tbody><tr><td>&quot;gp:AOqpTOE…</td><td>&quot;Eric Tie&quot;</td><td>&quot;https://pl…</td><td>&quot;I cannot o…</td><td>1</td><td>0</td><td>&quot;5.4.0.6&quot;</td><td>&quot;2020-10-27…</td><td>null</td><td>null</td><td>&quot;newest&quot;</td><td>&quot;com.anydo&quot;</td></tr></tbody></table></div>"
      ],
      "text/plain": [
       "shape: (1, 12)\n",
       "┌───────────┬──────────┬───────────┬───────────┬───┬───────────┬───────────┬───────────┬───────────┐\n",
       "│ reviewId  ┆ userName ┆ userImage ┆ content   ┆ … ┆ replyCont ┆ repliedAt ┆ sortOrder ┆ appId     │\n",
       "│ ---       ┆ ---      ┆ ---       ┆ ---       ┆   ┆ e…        ┆ ---       ┆ ---       ┆ ---       │\n",
       "│ str       ┆ str      ┆ str       ┆ str       ┆   ┆ ---       ┆ str       ┆ str       ┆ str       │\n",
       "│           ┆          ┆           ┆           ┆   ┆ str       ┆           ┆           ┆           │\n",
       "╞═══════════╪══════════╪═══════════╪═══════════╪═══╪═══════════╪═══════════╪═══════════╪═══════════╡\n",
       "│ gp:AOqpTO ┆ Eric Tie ┆ https://p ┆ I cannot  ┆ … ┆ null      ┆ null      ┆ newest    ┆ com.anydo │\n",
       "│ E…        ┆          ┆ l…        ┆ o…        ┆   ┆           ┆           ┆           ┆           │\n",
       "└───────────┴──────────┴───────────┴───────────┴───┴───────────┴───────────┴───────────┴───────────┘"
      ]
     },
     "execution_count": 4,
     "metadata": {},
     "output_type": "execute_result"
    }
   ],
   "source": [
    "df.head(1)"
   ]
  },
  {
   "cell_type": "markdown",
   "id": "0317b65c-3324-4669-811b-0a00701a2826",
   "metadata": {},
   "source": [
    "# 레시피 45 : Filtering Strings"
   ]
  },
  {
   "cell_type": "code",
   "execution_count": 17,
   "id": "6b647857",
   "metadata": {},
   "outputs": [
    {
     "name": "stdout",
     "output_type": "stream",
     "text": [
      "앱 관련 리뷰 수: 5958\n",
      "이모지 포함 리뷰 수: 327\n",
      "짧은 리뷰 수: 940\n",
      "부정적 리뷰 수: 207\n",
      "'I'로 시작하는 리뷰 수: 2778\n",
      "느낌표로 끝나는 리뷰 수: 935\n"
     ]
    }
   ],
   "source": [
    "# 1. 기본 문자열 포함 여부 필터링\n",
    "# \"app\"이라는 단어가 포함된 리뷰 필터링\n",
    "app_reviews = df.filter(pl.col(\"content\").str.contains(\"app\"))\n",
    "\n",
    "# 2. 정규식을 사용한 필터링\n",
    "# 이모지가 포함된 리뷰 필터링 (Unicode 이모지 범위 사용)\n",
    "emoji_pattern = df.filter(pl.col(\"content\").str.contains(r\"[\\U0001F600-\\U0001F64F]\"))\n",
    "\n",
    "# 3. 문자열 길이 기반 필터링\n",
    "# 짧은 리뷰 (10자 미만) 필터링\n",
    "short_reviews = df.filter(pl.col(\"content\").str.len_chars() < 10)\n",
    "\n",
    "# 4. 복합 조건을 사용한 필터링\n",
    "# \"bad\"를 포함하지만 \"not bad\"는 포함하지 않는 리뷰\n",
    "bad_reviews = df.filter(\n",
    "    pl.col(\"content\").str.contains(\"bad\") & \n",
    "    ~pl.col(\"content\").str.contains(\"not bad\")\n",
    ")\n",
    "\n",
    "# 5. 시작 또는 끝 문자 기반 필터링\n",
    "starts_with_i = df.filter(pl.col(\"content\").str.starts_with(\"I\"))\n",
    "ends_with_exclamation = df.filter(pl.col(\"content\").str.ends_with(\"!\"))\n",
    "\n",
    "# 결과 확인\n",
    "print(\"앱 관련 리뷰 수:\", app_reviews.shape[0])\n",
    "print(\"이모지 포함 리뷰 수:\", emoji_pattern.shape[0])\n",
    "print(\"짧은 리뷰 수:\", short_reviews.shape[0])\n",
    "print(\"부정적 리뷰 수:\", bad_reviews.shape[0])\n",
    "print(\"'I'로 시작하는 리뷰 수:\", starts_with_i.shape[0])\n",
    "print(\"느낌표로 끝나는 리뷰 수:\", ends_with_exclamation.shape[0])\n"
   ]
  },
  {
   "cell_type": "markdown",
   "id": "cce6e5d9-94a5-4839-85ab-c5939a427d8a",
   "metadata": {},
   "source": [
    "# 레시피 46 : 문자열 날짜 변환"
   ]
  },
  {
   "cell_type": "code",
   "execution_count": 2,
   "id": "cfb72942",
   "metadata": {},
   "outputs": [
    {
     "name": "stdout",
     "output_type": "stream",
     "text": [
      "문자열에서 날짜로 변환:\n",
      "shape: (3, 2)\n",
      "┌────────────┬─────────────┐\n",
      "│ date_str   ┆ date_column │\n",
      "│ ---        ┆ ---         │\n",
      "│ str        ┆ date        │\n",
      "╞════════════╪═════════════╡\n",
      "│ 2023-01-15 ┆ 2023-01-15  │\n",
      "│ 2023-02-20 ┆ 2023-02-20  │\n",
      "│ 2023-03-25 ┆ 2023-03-25  │\n",
      "└────────────┴─────────────┘\n"
     ]
    }
   ],
   "source": [
    "import polars as pl\n",
    "# Convert a string column to a date column \n",
    "# 날짜 형식의 문자열을 date 타입으로 변환\n",
    "date_df = pl.DataFrame({\n",
    "    \"date_str\": [\"2023-01-15\", \"2023-02-20\", \"2023-03-25\"]\n",
    "})\n",
    "date_df = date_df.with_columns(\n",
    "    pl.col(\"date_str\").str.to_date().alias(\"date_column\")\n",
    ")\n",
    "print(\"문자열에서 날짜로 변환:\")\n",
    "print(date_df)"
   ]
  },
  {
   "cell_type": "code",
   "execution_count": 3,
   "id": "5a3ab809-a427-4eaa-a064-252675f0b567",
   "metadata": {},
   "outputs": [
    {
     "name": "stdout",
     "output_type": "stream",
     "text": [
      "\n",
      "문자열에서 시간으로 변환:\n",
      "shape: (3, 2)\n",
      "┌──────────┬─────────────┐\n",
      "│ time_str ┆ time_column │\n",
      "│ ---      ┆ ---         │\n",
      "│ str      ┆ time        │\n",
      "╞══════════╪═════════════╡\n",
      "│ 14:30:00 ┆ 14:30:00    │\n",
      "│ 08:45:30 ┆ 08:45:30    │\n",
      "│ 23:15:45 ┆ 23:15:45    │\n",
      "└──────────┴─────────────┘\n"
     ]
    }
   ],
   "source": [
    "# Convert a string column to a time column \n",
    "# 시간 형식의 문자열을 time 타입으로 변환\n",
    "time_df = pl.DataFrame({\n",
    "    \"time_str\": [\"14:30:00\", \"08:45:30\", \"23:15:45\"]\n",
    "})\n",
    "time_df = time_df.with_columns(\n",
    "    pl.col(\"time_str\").str.to_time().alias(\"time_column\")\n",
    ")\n",
    "print(\"\\n문자열에서 시간으로 변환:\")\n",
    "print(time_df)"
   ]
  },
  {
   "cell_type": "code",
   "execution_count": 3,
   "id": "89fcf1ae-dc92-4a1a-b7fb-a7307c0c7e0d",
   "metadata": {},
   "outputs": [
    {
     "name": "stdout",
     "output_type": "stream",
     "text": [
      "\n",
      "문자열에서 날짜시간으로 변환:\n"
     ]
    },
    {
     "data": {
      "text/html": [
       "<div><style>\n",
       ".dataframe > thead > tr,\n",
       ".dataframe > tbody > tr {\n",
       "  text-align: right;\n",
       "  white-space: pre-wrap;\n",
       "}\n",
       "</style>\n",
       "<small>shape: (3, 2)</small><table border=\"1\" class=\"dataframe\"><thead><tr><th>datetime_str</th><th>datetime_column</th></tr><tr><td>str</td><td>datetime[μs]</td></tr></thead><tbody><tr><td>&quot;2023-01-15 14:30:00&quot;</td><td>2023-01-15 14:30:00</td></tr><tr><td>&quot;2023-02-20 08:45:30&quot;</td><td>2023-02-20 08:45:30</td></tr><tr><td>&quot;2023-03-25 23:15:45&quot;</td><td>2023-03-25 23:15:45</td></tr></tbody></table></div>"
      ],
      "text/plain": [
       "shape: (3, 2)\n",
       "┌──────────────┬───────────────────────┐\n",
       "│ datetime_str ┆ datetime_column       │\n",
       "│ ---          ┆ ---                   │\n",
       "│ str          ┆ datetime[μs]          │\n",
       "╞══════════════╪═══════════════════════╡\n",
       "│ 2023-01-15   ┆ 2023-01-15 14:30:00   │\n",
       "│ 14:30:00     ┆                       │\n",
       "│ 2023-02-20   ┆ 2023-02-20 08:45:30   │\n",
       "│ 08:45:30     ┆                       │\n",
       "│ 2023-03-25   ┆ 2023-03-25 23:15:45   │\n",
       "│ 23:15:45     ┆                       │\n",
       "└──────────────┴───────────────────────┘"
      ]
     },
     "execution_count": 3,
     "metadata": {},
     "output_type": "execute_result"
    }
   ],
   "source": [
    "# Convert a string column to a datetime column\n",
    "# 날짜/시간 형식의 문자열을 datetime 타입으로 변환\n",
    "datetime_df = pl.DataFrame({\n",
    "    \"datetime_str\": [\"2023-01-15 14:30:00\", \"2023-02-20 08:45:30\", \"2023-03-25 23:15:45\"]\n",
    "})\n",
    "datetime_df = datetime_df.with_columns(\n",
    "    pl.col(\"datetime_str\").str.to_datetime().alias(\"datetime_column\")\n",
    ")\n",
    "print(\"\\n문자열에서 날짜시간으로 변환:\")\n",
    "datetime_df"
   ]
  },
  {
   "cell_type": "code",
   "execution_count": 6,
   "id": "7fbb68d9-af8d-4f8e-a234-17754e9693db",
   "metadata": {},
   "outputs": [
    {
     "name": "stdout",
     "output_type": "stream",
     "text": [
      "\n",
      "사용자 지정 형식 변환:\n"
     ]
    },
    {
     "data": {
      "text/html": [
       "<div><style>\n",
       ".dataframe > thead > tr,\n",
       ".dataframe > tbody > tr {\n",
       "  text-align: right;\n",
       "  white-space: pre-wrap;\n",
       "}\n",
       "</style>\n",
       "<small>shape: (3, 6)</small><table border=\"1\" class=\"dataframe\"><thead><tr><th>custom_date</th><th>custom_time</th><th>custom_datetime</th><th>parsed_date</th><th>parsed_time</th><th>parsed_datetime</th></tr><tr><td>str</td><td>str</td><td>str</td><td>date</td><td>time</td><td>datetime[μs]</td></tr></thead><tbody><tr><td>&quot;15/01/2023&quot;</td><td>&quot;14.30.00&quot;</td><td>&quot;15-Jan-2023 14:30&quot;</td><td>2023-01-15</td><td>14:30:00</td><td>2023-01-15 14:30:00</td></tr><tr><td>&quot;20/02/2023&quot;</td><td>&quot;08.45.30&quot;</td><td>&quot;20-Feb-2023 08:45&quot;</td><td>2023-02-20</td><td>08:45:30</td><td>2023-02-20 08:45:00</td></tr><tr><td>&quot;25/03/2023&quot;</td><td>&quot;23.15.45&quot;</td><td>&quot;25-Mar-2023 23:15&quot;</td><td>2023-03-25</td><td>23:15:45</td><td>2023-03-25 23:15:00</td></tr></tbody></table></div>"
      ],
      "text/plain": [
       "shape: (3, 6)\n",
       "┌─────┬─────┬─────┬─────┬─────┬────────┐\n",
       "│ cus ┆ cus ┆ cus ┆ par ┆ par ┆ parsed │\n",
       "│ tom ┆ tom ┆ tom ┆ sed ┆ sed ┆ _datet │\n",
       "│ _da ┆ _ti ┆ _da ┆ _da ┆ _ti ┆ ime    │\n",
       "│ te  ┆ me  ┆ tet ┆ te  ┆ me  ┆ ---    │\n",
       "│ --- ┆ --- ┆ ime ┆ --- ┆ --- ┆ dateti │\n",
       "│ str ┆ str ┆ --- ┆ dat ┆ tim ┆ me[μs] │\n",
       "│     ┆     ┆ str ┆ e   ┆ e   ┆        │\n",
       "╞═════╪═════╪═════╪═════╪═════╪════════╡\n",
       "│ 15/ ┆ 14. ┆ 15- ┆ 202 ┆ 14: ┆ 2023-0 │\n",
       "│ 01/ ┆ 30. ┆ Jan ┆ 3-0 ┆ 30: ┆ 1-15   │\n",
       "│ 202 ┆ 00  ┆ -20 ┆ 1-1 ┆ 00  ┆ 14:30: │\n",
       "│ 3   ┆     ┆ 23  ┆ 5   ┆     ┆ 00     │\n",
       "│     ┆     ┆ 14: ┆     ┆     ┆        │\n",
       "│     ┆     ┆ 30  ┆     ┆     ┆        │\n",
       "│ 20/ ┆ 08. ┆ 20- ┆ 202 ┆ 08: ┆ 2023-0 │\n",
       "│ 02/ ┆ 45. ┆ Feb ┆ 3-0 ┆ 45: ┆ 2-20   │\n",
       "│ 202 ┆ 30  ┆ -20 ┆ 2-2 ┆ 30  ┆ 08:45: │\n",
       "│ 3   ┆     ┆ 23  ┆ 0   ┆     ┆ 00     │\n",
       "│     ┆     ┆ 08: ┆     ┆     ┆        │\n",
       "│     ┆     ┆ 45  ┆     ┆     ┆        │\n",
       "│ 25/ ┆ 23. ┆ 25- ┆ 202 ┆ 23: ┆ 2023-0 │\n",
       "│ 03/ ┆ 15. ┆ Mar ┆ 3-0 ┆ 15: ┆ 3-25   │\n",
       "│ 202 ┆ 45  ┆ -20 ┆ 3-2 ┆ 45  ┆ 23:15: │\n",
       "│ 3   ┆     ┆ 23  ┆ 5   ┆     ┆ 00     │\n",
       "│     ┆     ┆ 23: ┆     ┆     ┆        │\n",
       "│     ┆     ┆ 15  ┆     ┆     ┆        │\n",
       "└─────┴─────┴─────┴─────┴─────┴────────┘"
      ]
     },
     "execution_count": 6,
     "metadata": {},
     "output_type": "execute_result"
    }
   ],
   "source": [
    "# Convert a string to date, time, or datetime with .str.strptime()\n",
    "# 사용자 지정 형식의 문자열을 날짜/시간 타입으로 변환\n",
    "custom_df = pl.DataFrame({\n",
    "    \"custom_date\": [\"15/01/2023\", \"20/02/2023\", \"25/03/2023\"],\n",
    "    \"custom_time\": [\"14.30.00\", \"08.45.30\", \"23.15.45\"],\n",
    "    \"custom_datetime\": [\"15-Jan-2023 14:30\", \"20-Feb-2023 08:45\", \"25-Mar-2023 23:15\"]\n",
    "})\n",
    "\n",
    "custom_df = custom_df.with_columns([\n",
    "    # 사용자 지정 날짜 형식 변환\n",
    "    pl.col(\"custom_date\").str.strptime(pl.Date, format=\"%d/%m/%Y\").alias(\"parsed_date\"),\n",
    "    # 사용자 지정 시간 형식 변환\n",
    "    pl.col(\"custom_time\").str.strptime(pl.Time, format=\"%H.%M.%S\").alias(\"parsed_time\"),\n",
    "    # 사용자 지정 날짜시간 형식 변환\n",
    "    pl.col(\"custom_datetime\").str.strptime(pl.Datetime, format=\"%d-%b-%Y %H:%M\").alias(\"parsed_datetime\")\n",
    "])\n",
    "print(\"\\n사용자 지정 형식 변환:\")\n",
    "custom_df"
   ]
  },
  {
   "cell_type": "markdown",
   "id": "046a83e1-0871-4be9-b834-d940aee2b04a",
   "metadata": {},
   "source": [
    "# 레시피 47 : Extracting substrings"
   ]
  },
  {
   "cell_type": "code",
   "execution_count": 2,
   "id": "a8251fe1",
   "metadata": {},
   "outputs": [
    {
     "data": {
      "text/html": [
       "<div><style>\n",
       ".dataframe > thead > tr,\n",
       ".dataframe > tbody > tr {\n",
       "  text-align: right;\n",
       "  white-space: pre-wrap;\n",
       "}\n",
       "</style>\n",
       "<small>shape: (5, 5)</small><table border=\"1\" class=\"dataframe\"><thead><tr><th>userName</th><th>userImage</th><th>content</th><th>at</th><th>appId</th></tr><tr><td>str</td><td>str</td><td>str</td><td>str</td><td>str</td></tr></thead><tbody><tr><td>&quot;Eric Tie&quot;</td><td>&quot;https://play-lh.googleusercont…</td><td>&quot;I cannot open the app anymore&quot;</td><td>&quot;2020-10-27 21:24:41&quot;</td><td>&quot;com.anydo&quot;</td></tr><tr><td>&quot;john alpha&quot;</td><td>&quot;https://play-lh.googleusercont…</td><td>&quot;I have been begging for a refu…</td><td>&quot;2020-10-27 14:03:28&quot;</td><td>&quot;com.anydo&quot;</td></tr><tr><td>&quot;Sudhakar .S&quot;</td><td>&quot;https://play-lh.googleusercont…</td><td>&quot;Very costly for the premium ve…</td><td>&quot;2020-10-27 08:18:40&quot;</td><td>&quot;com.anydo&quot;</td></tr><tr><td>&quot;SKGflorida@bellsouth.net DAVID…</td><td>&quot;https://play-lh.googleusercont…</td><td>&quot;Used to keep me organized, but…</td><td>&quot;2020-10-26 13:28:07&quot;</td><td>&quot;com.anydo&quot;</td></tr><tr><td>&quot;Louann Stoker&quot;</td><td>&quot;https://play-lh.googleusercont…</td><td>&quot;Dan Birthday Oct 28&quot;</td><td>&quot;2020-10-26 06:10:50&quot;</td><td>&quot;com.anydo&quot;</td></tr></tbody></table></div>"
      ],
      "text/plain": [
       "shape: (5, 5)\n",
       "┌─────┬────────┬───────┬───────┬───────┐\n",
       "│ use ┆ userIm ┆ conte ┆ at    ┆ appId │\n",
       "│ rNa ┆ age    ┆ nt    ┆ ---   ┆ ---   │\n",
       "│ me  ┆ ---    ┆ ---   ┆ str   ┆ str   │\n",
       "│ --- ┆ str    ┆ str   ┆       ┆       │\n",
       "│ str ┆        ┆       ┆       ┆       │\n",
       "╞═════╪════════╪═══════╪═══════╪═══════╡\n",
       "│ Eri ┆ https: ┆ I can ┆ 2020- ┆ com.a │\n",
       "│ c   ┆ //play ┆ not   ┆ 10-27 ┆ nydo  │\n",
       "│ Tie ┆ -lh.go ┆ open  ┆ 21:24 ┆       │\n",
       "│     ┆ ogleus ┆ the   ┆ :41   ┆       │\n",
       "│     ┆ ercont ┆ app   ┆       ┆       │\n",
       "│     ┆ …      ┆ anymo ┆       ┆       │\n",
       "│     ┆        ┆ re    ┆       ┆       │\n",
       "│ joh ┆ https: ┆ I     ┆ 2020- ┆ com.a │\n",
       "│ n   ┆ //play ┆ have  ┆ 10-27 ┆ nydo  │\n",
       "│ alp ┆ -lh.go ┆ been  ┆ 14:03 ┆       │\n",
       "│ ha  ┆ ogleus ┆ beggi ┆ :28   ┆       │\n",
       "│     ┆ ercont ┆ ng    ┆       ┆       │\n",
       "│     ┆ …      ┆ for a ┆       ┆       │\n",
       "│     ┆        ┆ refu… ┆       ┆       │\n",
       "│ Sud ┆ https: ┆ Very  ┆ 2020- ┆ com.a │\n",
       "│ hak ┆ //play ┆ costl ┆ 10-27 ┆ nydo  │\n",
       "│ ar  ┆ -lh.go ┆ y for ┆ 08:18 ┆       │\n",
       "│ .S  ┆ ogleus ┆ the   ┆ :40   ┆       │\n",
       "│     ┆ ercont ┆ premi ┆       ┆       │\n",
       "│     ┆ …      ┆ um    ┆       ┆       │\n",
       "│     ┆        ┆ ve…   ┆       ┆       │\n",
       "│ SKG ┆ https: ┆ Used  ┆ 2020- ┆ com.a │\n",
       "│ flo ┆ //play ┆ to    ┆ 10-26 ┆ nydo  │\n",
       "│ rid ┆ -lh.go ┆ keep  ┆ 13:28 ┆       │\n",
       "│ a@b ┆ ogleus ┆ me    ┆ :07   ┆       │\n",
       "│ ell ┆ ercont ┆ organ ┆       ┆       │\n",
       "│ sou ┆ …      ┆ ized, ┆       ┆       │\n",
       "│ th. ┆        ┆ but…  ┆       ┆       │\n",
       "│ net ┆        ┆       ┆       ┆       │\n",
       "│ DAV ┆        ┆       ┆       ┆       │\n",
       "│ ID… ┆        ┆       ┆       ┆       │\n",
       "│ Lou ┆ https: ┆ Dan   ┆ 2020- ┆ com.a │\n",
       "│ ann ┆ //play ┆ Birth ┆ 10-26 ┆ nydo  │\n",
       "│ Sto ┆ -lh.go ┆ day   ┆ 06:10 ┆       │\n",
       "│ ker ┆ ogleus ┆ Oct   ┆ :50   ┆       │\n",
       "│     ┆ ercont ┆ 28    ┆       ┆       │\n",
       "│     ┆ …      ┆       ┆       ┆       │\n",
       "└─────┴────────┴───────┴───────┴───────┘"
      ]
     },
     "execution_count": 2,
     "metadata": {},
     "output_type": "execute_result"
    }
   ],
   "source": [
    "# 데이터 가져오기\n",
    "import polars as pl \n",
    "df = pl.read_csv(\"data/ch09/google_store_reviews.csv\")\n",
    "df.select(['userName', 'userImage', 'content', 'at', 'appId']).head(5)"
   ]
  },
  {
   "cell_type": "code",
   "execution_count": 10,
   "id": "2818d6da-054f-40c9-bf75-d3ba208e65d8",
   "metadata": {},
   "outputs": [
    {
     "name": "stdout",
     "output_type": "stream",
     "text": [
      "\n",
      "문자열 슬라이싱:\n",
      "shape: (3, 2)\n",
      "┌─────────────────┬──────────┐\n",
      "│ content_preview ┆ app_name │\n",
      "│ ---             ┆ ---      │\n",
      "│ str             ┆ str      │\n",
      "╞═════════════════╪══════════╡\n",
      "│ I cannot o      ┆ anydo    │\n",
      "│ I have bee      ┆ anydo    │\n",
      "│ Very costl      ┆ anydo    │\n",
      "└─────────────────┴──────────┘\n"
     ]
    }
   ],
   "source": [
    "# .str.slice()를 사용하여 위치별로 부분 문자열 추출\n",
    "slice_df = df.select([\n",
    "    # content에서 처음 10개 문자 추출\n",
    "    pl.col(\"content\").str.slice(0, 10).alias(\"content_preview\"),\n",
    "    # appId에서 앱 이름 추출 (점 이후)\n",
    "    pl.col(\"appId\").str.slice(4).alias(\"app_name\")\n",
    "])\n",
    "print(\"\\n문자열 슬라이싱:\")\n",
    "print(slice_df.head(3))"
   ]
  },
  {
   "cell_type": "code",
   "execution_count": 19,
   "id": "e158bec7-e2ab-492d-bee2-45db6ec03258",
   "metadata": {},
   "outputs": [
    {
     "name": "stdout",
     "output_type": "stream",
     "text": [
      "\n",
      "정규식으로 패턴 추출:\n"
     ]
    },
    {
     "data": {
      "text/html": [
       "<div><style>\n",
       ".dataframe > thead > tr,\n",
       ".dataframe > tbody > tr {\n",
       "  text-align: right;\n",
       "  white-space: pre-wrap;\n",
       "}\n",
       "</style>\n",
       "<small>shape: (3, 4)</small><table border=\"1\" class=\"dataframe\"><thead><tr><th>userImage</th><th>image_domain</th><th>appId</th><th>app_category</th></tr><tr><td>str</td><td>str</td><td>str</td><td>str</td></tr></thead><tbody><tr><td>&quot;https://play-lh.googleusercont…</td><td>&quot;play-lh.googleusercontent.com&quot;</td><td>&quot;com.anydo&quot;</td><td>&quot;anydo&quot;</td></tr><tr><td>&quot;https://play-lh.googleusercont…</td><td>&quot;play-lh.googleusercontent.com&quot;</td><td>&quot;com.anydo&quot;</td><td>&quot;anydo&quot;</td></tr><tr><td>&quot;https://play-lh.googleusercont…</td><td>&quot;play-lh.googleusercontent.com&quot;</td><td>&quot;com.anydo&quot;</td><td>&quot;anydo&quot;</td></tr></tbody></table></div>"
      ],
      "text/plain": [
       "shape: (3, 4)\n",
       "┌─────────┬─────────┬─────────┬────────┐\n",
       "│ userIma ┆ image_d ┆ appId   ┆ app_ca │\n",
       "│ ge      ┆ omain   ┆ ---     ┆ tegory │\n",
       "│ ---     ┆ ---     ┆ str     ┆ ---    │\n",
       "│ str     ┆ str     ┆         ┆ str    │\n",
       "╞═════════╪═════════╪═════════╪════════╡\n",
       "│ https:/ ┆ play-lh ┆ com.any ┆ anydo  │\n",
       "│ /play-l ┆ .google ┆ do      ┆        │\n",
       "│ h.googl ┆ usercon ┆         ┆        │\n",
       "│ euserco ┆ tent.co ┆         ┆        │\n",
       "│ nt…     ┆ m       ┆         ┆        │\n",
       "│ https:/ ┆ play-lh ┆ com.any ┆ anydo  │\n",
       "│ /play-l ┆ .google ┆ do      ┆        │\n",
       "│ h.googl ┆ usercon ┆         ┆        │\n",
       "│ euserco ┆ tent.co ┆         ┆        │\n",
       "│ nt…     ┆ m       ┆         ┆        │\n",
       "│ https:/ ┆ play-lh ┆ com.any ┆ anydo  │\n",
       "│ /play-l ┆ .google ┆ do      ┆        │\n",
       "│ h.googl ┆ usercon ┆         ┆        │\n",
       "│ euserco ┆ tent.co ┆         ┆        │\n",
       "│ nt…     ┆ m       ┆         ┆        │\n",
       "└─────────┴─────────┴─────────┴────────┘"
      ]
     },
     "execution_count": 19,
     "metadata": {},
     "output_type": "execute_result"
    }
   ],
   "source": [
    "# str.extract()를 사용하여 정규식으로 패턴 추출\n",
    "extract_df = df.select([\n",
    "    # userImage\n",
    "    pl.col(\"userImage\"),\n",
    "    # userImage URL에서 도메인 추출\n",
    "    pl.col(\"userImage\").str.extract(r\"https://([^/]+)\").alias(\"image_domain\"),\n",
    "    # appId\n",
    "    pl.col(\"appId\"),\n",
    "    # appId에서 앱 카테고리 추출\n",
    "    pl.col(\"appId\").str.extract(r\"com\\.([^.]+)\").alias(\"app_category\")\n",
    "])\n",
    "print(\"\\n정규식으로 패턴 추출:\")\n",
    "extract_df.head(3)"
   ]
  },
  {
   "cell_type": "code",
   "execution_count": 6,
   "id": "ddd6112f-3e02-44d7-abd0-3f52255a0dad",
   "metadata": {},
   "outputs": [
    {
     "name": "stdout",
     "output_type": "stream",
     "text": [
      "\n",
      "정규식으로 여러 그룹 추출:\n"
     ]
    },
    {
     "data": {
      "text/html": [
       "<div><style>\n",
       ".dataframe > thead > tr,\n",
       ".dataframe > tbody > tr {\n",
       "  text-align: right;\n",
       "  white-space: pre-wrap;\n",
       "}\n",
       "</style>\n",
       "<small>shape: (3, 4)</small><table border=\"1\" class=\"dataframe\"><thead><tr><th>userName</th><th>name_parts</th><th>at</th><th>date_parts</th></tr><tr><td>str</td><td>struct[2]</td><td>str</td><td>struct[3]</td></tr></thead><tbody><tr><td>&quot;Eric Tie&quot;</td><td>{&quot;Eric&quot;,&quot;Tie&quot;}</td><td>&quot;2020-10-27 21:24:41&quot;</td><td>{&quot;2020&quot;,&quot;10&quot;,&quot;27&quot;}</td></tr><tr><td>&quot;john alpha&quot;</td><td>{&quot;john&quot;,&quot;alpha&quot;}</td><td>&quot;2020-10-27 14:03:28&quot;</td><td>{&quot;2020&quot;,&quot;10&quot;,&quot;27&quot;}</td></tr><tr><td>&quot;Sudhakar .S&quot;</td><td>{null,null}</td><td>&quot;2020-10-27 08:18:40&quot;</td><td>{&quot;2020&quot;,&quot;10&quot;,&quot;27&quot;}</td></tr></tbody></table></div>"
      ],
      "text/plain": [
       "shape: (3, 4)\n",
       "┌─────────┬─────────┬─────────┬────────┐\n",
       "│ userNam ┆ name_pa ┆ at      ┆ date_p │\n",
       "│ e       ┆ rts     ┆ ---     ┆ arts   │\n",
       "│ ---     ┆ ---     ┆ str     ┆ ---    │\n",
       "│ str     ┆ struct[ ┆         ┆ struct │\n",
       "│         ┆ 2]      ┆         ┆ [3]    │\n",
       "╞═════════╪═════════╪═════════╪════════╡\n",
       "│ Eric    ┆ {\"Eric\" ┆ 2020-10 ┆ {\"2020 │\n",
       "│ Tie     ┆ ,\"Tie\"} ┆ -27 21: ┆ \",\"10\" │\n",
       "│         ┆         ┆ 24:41   ┆ ,\"27\"} │\n",
       "│ john    ┆ {\"john\" ┆ 2020-10 ┆ {\"2020 │\n",
       "│ alpha   ┆ ,\"alpha ┆ -27 14: ┆ \",\"10\" │\n",
       "│         ┆ \"}      ┆ 03:28   ┆ ,\"27\"} │\n",
       "│ Sudhaka ┆ {null,n ┆ 2020-10 ┆ {\"2020 │\n",
       "│ r .S    ┆ ull}    ┆ -27 08: ┆ \",\"10\" │\n",
       "│         ┆         ┆ 18:40   ┆ ,\"27\"} │\n",
       "└─────────┴─────────┴─────────┴────────┘"
      ]
     },
     "execution_count": 6,
     "metadata": {},
     "output_type": "execute_result"
    }
   ],
   "source": [
    "# str.extract_groups()를 사용하여 정규식에서 여러 그룹 추출\n",
    "extract_groups_df = df.select([\n",
    "    'userName', \n",
    "    # \"FirstName LastName\" 형식의 사용자 이름 부분 추출\n",
    "    pl.col(\"userName\").str.extract_groups(r\"([A-Za-z]+)\\s+([A-Za-z]+)\").alias(\"name_parts\"),\n",
    "    'at', \n",
    "    # at 필드에서 날짜 구성 요소 추출\n",
    "    pl.col(\"at\").str.extract_groups(r\"(\\d{4})-(\\d{2})-(\\d{2})\").alias(\"date_parts\")\n",
    "])\n",
    "print(\"\\n정규식으로 여러 그룹 추출:\")\n",
    "extract_groups_df.head(3)"
   ]
  },
  {
   "cell_type": "code",
   "execution_count": 7,
   "id": "71930650-b83f-470e-a155-d5e331ee5bfc",
   "metadata": {},
   "outputs": [
    {
     "data": {
      "text/html": [
       "<div><style>\n",
       ".dataframe > thead > tr,\n",
       ".dataframe > tbody > tr {\n",
       "  text-align: right;\n",
       "  white-space: pre-wrap;\n",
       "}\n",
       "</style>\n",
       "<small>shape: (3, 2)</small><table border=\"1\" class=\"dataframe\"><thead><tr><th>name</th><th>name_parts</th></tr><tr><td>str</td><td>struct[2]</td></tr></thead><tbody><tr><td>&quot;John Doe&quot;</td><td>{&quot;John&quot;,&quot;Doe&quot;}</td></tr><tr><td>&quot;Alice Brown&quot;</td><td>{&quot;Alice&quot;,&quot;Brown&quot;}</td></tr><tr><td>&quot;Bob Smith&quot;</td><td>{&quot;Bob&quot;,&quot;Smith&quot;}</td></tr></tbody></table></div>"
      ],
      "text/plain": [
       "shape: (3, 2)\n",
       "┌─────────────┬───────────────────┐\n",
       "│ name        ┆ name_parts        │\n",
       "│ ---         ┆ ---               │\n",
       "│ str         ┆ struct[2]         │\n",
       "╞═════════════╪═══════════════════╡\n",
       "│ John Doe    ┆ {\"John\",\"Doe\"}    │\n",
       "│ Alice Brown ┆ {\"Alice\",\"Brown\"} │\n",
       "│ Bob Smith   ┆ {\"Bob\",\"Smith\"}   │\n",
       "└─────────────┴───────────────────┘"
      ]
     },
     "execution_count": 7,
     "metadata": {},
     "output_type": "execute_result"
    }
   ],
   "source": [
    "import polars as pl\n",
    "\n",
    "temp_df = pl.DataFrame({\n",
    "    \"name\": [\"John Doe\", \"Alice Brown\", \"Bob Smith\"]\n",
    "})\n",
    "\n",
    "temp_df = temp_df.with_columns(\n",
    "    pl.col(\"name\").str.extract_groups(r\"([A-Za-z]+)\\s+([A-Za-z]+)\").alias(\"name_parts\")\n",
    ")\n",
    "\n",
    "temp_df"
   ]
  },
  {
   "cell_type": "markdown",
   "id": "09ebcc6a-7e76-400f-bc18-feb806014a62",
   "metadata": {},
   "source": [
    "# 레시피 48 : Cleaning strings"
   ]
  },
  {
   "cell_type": "code",
   "execution_count": 18,
   "id": "8da60a0d",
   "metadata": {},
   "outputs": [
    {
     "name": "stdout",
     "output_type": "stream",
     "text": [
      "\n",
      "공백 및 특정 문자 제거:\n"
     ]
    },
    {
     "data": {
      "text/html": [
       "<div><style>\n",
       ".dataframe > thead > tr,\n",
       ".dataframe > tbody > tr {\n",
       "  text-align: right;\n",
       "  white-space: pre-wrap;\n",
       "}\n",
       "</style>\n",
       "<small>shape: (3, 4)</small><table border=\"1\" class=\"dataframe\"><thead><tr><th>content</th><th>content_clean</th><th>userName</th><th>userName_clean</th></tr><tr><td>str</td><td>str</td><td>str</td><td>str</td></tr></thead><tbody><tr><td>&quot;&nbsp;&nbsp;I cannot open the app anymor…</td><td>&quot;I cannot open the app anymore&quot;</td><td>&quot;Eric Tie!@#&quot;</td><td>&quot;Eric Tie&quot;</td></tr><tr><td>&quot; I have been begging for a ref…</td><td>&quot;I have been begging for a refu…</td><td>&quot;john alpha#$%&quot;</td><td>&quot;john alpha&quot;</td></tr><tr><td>&quot;\tVery costly for the premium v…</td><td>&quot;Very costly for the premium ve…</td><td>&quot;Sudhaka%r^&amp;*()&quot;</td><td>&quot;Sudhakar&quot;</td></tr></tbody></table></div>"
      ],
      "text/plain": [
       "shape: (3, 4)\n",
       "┌────────────────────────────────┬───────────────────────────────┬────────────────┬────────────────┐\n",
       "│ content                        ┆ content_clean                 ┆ userName       ┆ userName_clean │\n",
       "│ ---                            ┆ ---                           ┆ ---            ┆ ---            │\n",
       "│ str                            ┆ str                           ┆ str            ┆ str            │\n",
       "╞════════════════════════════════╪═══════════════════════════════╪════════════════╪════════════════╡\n",
       "│ I cannot open the app anymor…  ┆ I cannot open the app anymore ┆ Eric Tie!@#    ┆ Eric Tie       │\n",
       "│ I have been begging for a ref… ┆ I have been begging for a     ┆ john alpha#$%  ┆ john alpha     │\n",
       "│                                ┆ refu…                         ┆                ┆                │\n",
       "│ \tVery costly for the premium   ┆ Very costly for the premium   ┆ Sudhaka%r^&*() ┆ Sudhakar       │\n",
       "│ v…                             ┆ ve…                           ┆                ┆                │\n",
       "└────────────────────────────────┴───────────────────────────────┴────────────────┴────────────────┘"
      ]
     },
     "execution_count": 18,
     "metadata": {},
     "output_type": "execute_result"
    }
   ],
   "source": [
    "import polars as pl \n",
    "\n",
    "# 샘플 데이터 생성 (3개 예시)\n",
    "sample_df = pl.DataFrame({\n",
    "    \"content\": [\n",
    "        \"  I cannot open the app anymore  \",  # 앞뒤 공백이 있는 텍스트\n",
    "        \" I have been begging for a refund \", # 앞뒤 공백이 있는 텍스트\n",
    "        \"\\tVery costly for the premium version\\t\" # 탭 문자가 있는 텍스트\n",
    "    ],\n",
    "    \"userName\": [\n",
    "        \"Eric Tie!@#\",       # 특수문자가 포함된 사용자 이름\n",
    "        \"john alpha#$%\",     # 특수문자가 포함된 사용자 이름\n",
    "        \"Sudhaka%r^&*()\"     # 특수문자가 포함된 사용자 이름\n",
    "    ]\n",
    "})\n",
    "\n",
    "# remove leading and trailing whitespace with str.strip_chars() \n",
    "# str.strip_chars()를 사용하여 앞뒤 공백 제거\n",
    "clean_df = sample_df.select([\n",
    "    'content', \n",
    "    # str.strip_chars()를 사용하여 앞뒤 공백 제거\n",
    "    pl.col(\"content\").str.strip_chars().alias(\"content_clean\"),\n",
    "    'userName', \n",
    "    # 특정 문자 제거 (예: 특수문자)\n",
    "    # 정규식을 사용하여 모든 특수문자 제거\n",
    "    pl.col(\"userName\").str.replace_all(\"[!@#$%^&*()]\", \"\").alias(\"userName_clean\")\n",
    "])\n",
    "print(\"\\n공백 및 특정 문자 제거:\")\n",
    "clean_df.head(3)"
   ]
  },
  {
   "cell_type": "code",
   "execution_count": 28,
   "id": "a013c90b-5d45-42ee-8456-496000eb6e05",
   "metadata": {},
   "outputs": [
    {
     "name": "stdout",
     "output_type": "stream",
     "text": [
      "\n",
      "부분 문자열 대체:\n"
     ]
    },
    {
     "data": {
      "text/html": [
       "<div><style>\n",
       ".dataframe > thead > tr,\n",
       ".dataframe > tbody > tr {\n",
       "  text-align: right;\n",
       "  white-space: pre-wrap;\n",
       "}\n",
       "</style>\n",
       "<small>shape: (2, 4)</small><table border=\"1\" class=\"dataframe\"><thead><tr><th>content</th><th>content_replaced</th><th>userImage</th><th>secure_image_url</th></tr><tr><td>str</td><td>str</td><td>str</td><td>str</td></tr></thead><tbody><tr><td>&quot;I cannot open the app anymore&quot;</td><td>&quot;I couldnot open the app anymor…</td><td>&quot;http://play-lh.googleuserconte…</td><td>&quot;https://play-lh.googleusercont…</td></tr><tr><td>&quot;I have been begging for a refu…</td><td>&quot;I have been begging for a refu…</td><td>&quot;http://play-lh.googleuserconte…</td><td>&quot;https://play-lh.googleusercont…</td></tr></tbody></table></div>"
      ],
      "text/plain": [
       "shape: (2, 4)\n",
       "┌─────────┬─────────┬─────────┬────────┐\n",
       "│ content ┆ content ┆ userIma ┆ secure │\n",
       "│ ---     ┆ _replac ┆ ge      ┆ _image │\n",
       "│ str     ┆ ed      ┆ ---     ┆ _url   │\n",
       "│         ┆ ---     ┆ str     ┆ ---    │\n",
       "│         ┆ str     ┆         ┆ str    │\n",
       "╞═════════╪═════════╪═════════╪════════╡\n",
       "│ I       ┆ I could ┆ http:// ┆ https: │\n",
       "│ cannot  ┆ not     ┆ play-lh ┆ //play │\n",
       "│ open    ┆ open    ┆ .google ┆ -lh.go │\n",
       "│ the app ┆ the app ┆ usercon ┆ ogleus │\n",
       "│ anymore ┆ anymor… ┆ te…     ┆ ercont │\n",
       "│         ┆         ┆         ┆ …      │\n",
       "│ I have  ┆ I have  ┆ http:// ┆ https: │\n",
       "│ been    ┆ been    ┆ play-lh ┆ //play │\n",
       "│ begging ┆ begging ┆ .google ┆ -lh.go │\n",
       "│ for a   ┆ for a   ┆ usercon ┆ ogleus │\n",
       "│ refu…   ┆ refu…   ┆ te…     ┆ ercont │\n",
       "│         ┆         ┆         ┆ …      │\n",
       "└─────────┴─────────┴─────────┴────────┘"
      ]
     },
     "execution_count": 28,
     "metadata": {},
     "output_type": "execute_result"
    }
   ],
   "source": [
    "# replace matching substrings with str.replace() \n",
    "# str.replace()를 사용하여 일치하는 부분 문자열 대체하기\n",
    "# 샘플 데이터 생성\n",
    "sample_df = pl.DataFrame({\n",
    "    \"content\": [\n",
    "        \"I cannot open the app anymore\",\n",
    "        \"I have been begging for a refund\"\n",
    "    ],\n",
    "    \"userImage\": [\n",
    "        \"http://play-lh.googleusercontent.com/image1\",\n",
    "        \"http://play-lh.googleusercontent.com/image2\"\n",
    "    ]\n",
    "})\n",
    "\n",
    "# 부분 문자열 대체 예시\n",
    "replace_df = sample_df.select([\n",
    "    'content',\n",
    "    # 첫 번째 일치 항목만 대체\n",
    "    # str.replace()는 첫 번째로 일치하는 항목만 대체합니다\n",
    "    pl.col(\"content\").str.replace(\"can\", \"could\").alias(\"content_replaced\"),\n",
    "    'userImage', \n",
    "    # URL에서 http를 https로 변경\n",
    "    # 보안을 위해 http 프로토콜을 https로 변경합니다\n",
    "    pl.col(\"userImage\").str.replace(\"http:\", \"https:\").alias(\"secure_image_url\")\n",
    "])\n",
    "print(\"\\n부분 문자열 대체:\")\n",
    "replace_df.head(2)"
   ]
  },
  {
   "cell_type": "code",
   "execution_count": 19,
   "id": "e9c09f7d-8d4a-4c09-bc04-cf61817bf1db",
   "metadata": {},
   "outputs": [
    {
     "name": "stdout",
     "output_type": "stream",
     "text": [
      "\n",
      "모든 일치 항목 대체:\n"
     ]
    },
    {
     "data": {
      "text/html": [
       "<div><style>\n",
       ".dataframe > thead > tr,\n",
       ".dataframe > tbody > tr {\n",
       "  text-align: right;\n",
       "  white-space: pre-wrap;\n",
       "}\n",
       "</style>\n",
       "<small>shape: (3, 4)</small><table border=\"1\" class=\"dataframe\"><thead><tr><th>text</th><th>text_replaced</th><th>email</th><th>secure_email</th></tr><tr><td>str</td><td>str</td><td>str</td><td>str</td></tr></thead><tbody><tr><td>&quot;Hello world, hello Python, hel…</td><td>&quot;hi world, hi Python, hi Polars&quot;</td><td>&quot;user.name@example.com&quot;</td><td>&quot;user.name@secure.com&quot;</td></tr><tr><td>&quot;The quick brown fox jumps over…</td><td>&quot;The quick brown fox jumps over…</td><td>&quot;john.doe@company.org&quot;</td><td>&quot;john.doe@secure.com&quot;</td></tr><tr><td>&quot;Replace all vowels in this sen…</td><td>&quot;Replace all vowels in this sen…</td><td>&quot;contact@website.net&quot;</td><td>&quot;contact@secure.com&quot;</td></tr></tbody></table></div>"
      ],
      "text/plain": [
       "shape: (3, 4)\n",
       "┌─────────────────────────┬─────────────────────────┬───────────────────────┬──────────────────────┐\n",
       "│ text                    ┆ text_replaced           ┆ email                 ┆ secure_email         │\n",
       "│ ---                     ┆ ---                     ┆ ---                   ┆ ---                  │\n",
       "│ str                     ┆ str                     ┆ str                   ┆ str                  │\n",
       "╞═════════════════════════╪═════════════════════════╪═══════════════════════╪══════════════════════╡\n",
       "│ Hello world, hello      ┆ hi world, hi Python, hi ┆ user.name@example.com ┆ user.name@secure.com │\n",
       "│ Python, hel…            ┆ Polars                  ┆                       ┆                      │\n",
       "│ The quick brown fox     ┆ The quick brown fox     ┆ john.doe@company.org  ┆ john.doe@secure.com  │\n",
       "│ jumps over…             ┆ jumps over…             ┆                       ┆                      │\n",
       "│ Replace all vowels in   ┆ Replace all vowels in   ┆ contact@website.net   ┆ contact@secure.com   │\n",
       "│ this sen…               ┆ this sen…               ┆                       ┆                      │\n",
       "└─────────────────────────┴─────────────────────────┴───────────────────────┴──────────────────────┘"
      ]
     },
     "execution_count": 19,
     "metadata": {},
     "output_type": "execute_result"
    }
   ],
   "source": [
    "# replace all the occurrences of the matched substring \n",
    "# 일치하는 모든 부분 문자열 대체하기\n",
    "# 샘플 데이터 생성\n",
    "text_df = pl.DataFrame({\n",
    "    \"text\": [\n",
    "        \"Hello world, hello Python, hello Polars\",\n",
    "        \"The quick brown fox jumps over the lazy dog\",\n",
    "        \"Replace all vowels in this sentence\"\n",
    "    ],\n",
    "    \"email\": [\n",
    "        \"user.name@example.com\",\n",
    "        \"john.doe@company.org\",\n",
    "        \"contact@website.net\"\n",
    "    ]\n",
    "})\n",
    "\n",
    "# 모든 일치 항목 대체 예시\n",
    "replace_all_df = text_df.select([\n",
    "    'text',\n",
    "    # 모든 'hello' 단어를 'hi'로 대체 (대소문자 무시)\n",
    "    # (?i)는 대소문자를 구분하지 않는 정규식 플래그입니다\n",
    "    pl.col(\"text\").str.replace_all(\"(?i)hello\", \"hi\").alias(\"text_replaced\"),\n",
    "    'email',\n",
    "    # 이메일 도메인을 모두 'secure.com'으로 변경\n",
    "    # @.*$는 @ 기호부터 문자열 끝까지 모든 문자를 의미하는 정규식입니다\n",
    "    pl.col(\"email\").str.replace_all(\"@.*$\", \"@secure.com\").alias(\"secure_email\")\n",
    "])\n",
    "print(\"\\n모든 일치 항목 대체:\")\n",
    "replace_all_df"
   ]
  },
  {
   "cell_type": "code",
   "execution_count": 30,
   "id": "057ab464-6ca5-4046-9553-7e3eaac3069b",
   "metadata": {},
   "outputs": [
    {
     "name": "stdout",
     "output_type": "stream",
     "text": [
      "\n",
      "첫 글자 대문자 변환:\n"
     ]
    },
    {
     "data": {
      "text/html": [
       "<div><style>\n",
       ".dataframe > thead > tr,\n",
       ".dataframe > tbody > tr {\n",
       "  text-align: right;\n",
       "  white-space: pre-wrap;\n",
       "}\n",
       "</style>\n",
       "<small>shape: (2, 4)</small><table border=\"1\" class=\"dataframe\"><thead><tr><th>userName</th><th>userName_title</th><th>content</th><th>content_title</th></tr><tr><td>str</td><td>str</td><td>str</td><td>str</td></tr></thead><tbody><tr><td>&quot;Eric tie&quot;</td><td>&quot;Eric Tie&quot;</td><td>&quot;I cannot open the app anymore&quot;</td><td>&quot;I Cannot Open The App Anymore&quot;</td></tr><tr><td>&quot;John alpha&quot;</td><td>&quot;John Alpha&quot;</td><td>&quot;I have been begging for a refu…</td><td>&quot;I Have Been Begging For A Refu…</td></tr></tbody></table></div>"
      ],
      "text/plain": [
       "shape: (2, 4)\n",
       "┌─────────┬─────────┬─────────┬────────┐\n",
       "│ userNam ┆ userNam ┆ content ┆ conten │\n",
       "│ e       ┆ e_title ┆ ---     ┆ t_titl │\n",
       "│ ---     ┆ ---     ┆ str     ┆ e      │\n",
       "│ str     ┆ str     ┆         ┆ ---    │\n",
       "│         ┆         ┆         ┆ str    │\n",
       "╞═════════╪═════════╪═════════╪════════╡\n",
       "│ Eric    ┆ Eric    ┆ I       ┆ I      │\n",
       "│ tie     ┆ Tie     ┆ cannot  ┆ Cannot │\n",
       "│         ┆         ┆ open    ┆ Open   │\n",
       "│         ┆         ┆ the app ┆ The    │\n",
       "│         ┆         ┆ anymore ┆ App    │\n",
       "│         ┆         ┆         ┆ Anymor │\n",
       "│         ┆         ┆         ┆ e      │\n",
       "│ John    ┆ John    ┆ I have  ┆ I Have │\n",
       "│ alpha   ┆ Alpha   ┆ been    ┆ Been   │\n",
       "│         ┆         ┆ begging ┆ Beggin │\n",
       "│         ┆         ┆ for a   ┆ g For  │\n",
       "│         ┆         ┆ refu…   ┆ A      │\n",
       "│         ┆         ┆         ┆ Refu…  │\n",
       "└─────────┴─────────┴─────────┴────────┘"
      ]
     },
     "execution_count": 30,
     "metadata": {},
     "output_type": "execute_result"
    }
   ],
   "source": [
    "# 샘플 데이터 생성\n",
    "case_df = pl.DataFrame({\n",
    "    \"userName\": [\n",
    "        \"Eric tie\",\n",
    "        \"John alpha\"\n",
    "    ],\n",
    "    \"content\": [\n",
    "        \"I cannot open the app anymore\",\n",
    "        \"I have been begging for a refund\"\n",
    "    ]\n",
    "})\n",
    "\n",
    "# 첫 글자만 대문자로 변환 (Title Case)\n",
    "title_case_df = case_df.select([\n",
    "    'userName', \n",
    "    pl.col(\"userName\").str.to_titlecase().alias(\"userName_title\"),\n",
    "    'content', \n",
    "    pl.col(\"content\").str.to_titlecase().alias(\"content_title\")\n",
    "])\n",
    "print(\"\\n첫 글자 대문자 변환:\")\n",
    "title_case_df"
   ]
  },
  {
   "cell_type": "code",
   "execution_count": 23,
   "id": "f2d76683-ed25-4e7d-bb9b-ad57da70febd",
   "metadata": {},
   "outputs": [
    {
     "name": "stdout",
     "output_type": "stream",
     "text": [
      "\n",
      "String padding:\n"
     ]
    },
    {
     "data": {
      "text/html": [
       "<div><style>\n",
       ".dataframe > thead > tr,\n",
       ".dataframe > tbody > tr {\n",
       "  text-align: right;\n",
       "  white-space: pre-wrap;\n",
       "}\n",
       "</style>\n",
       "<small>shape: (2, 4)</small><table border=\"1\" class=\"dataframe\"><thead><tr><th>reviewId</th><th>reviewId_padded</th><th>userName</th><th>userName_padded</th></tr><tr><td>str</td><td>str</td><td>str</td><td>str</td></tr></thead><tbody><tr><td>&quot;gp:AOqpTOEhZuqSqqWnaKRgv-9ABYd…</td><td>&quot;gp:AOqpTOEhZuqSqqWnaKRgv-9ABYd…</td><td>&quot;Eric Tie&quot;</td><td>&quot;Eric Tie************&quot;</td></tr><tr><td>&quot;gp:AOqpTOH0WP4IQKBZ2LrdNmFy_Ym…</td><td>&quot;gp:AOqpTOH0WP4IQKBZ2LrdNmFy_Ym…</td><td>&quot;john alpha&quot;</td><td>&quot;john alpha**********&quot;</td></tr></tbody></table></div>"
      ],
      "text/plain": [
       "shape: (2, 4)\n",
       "┌───────────────────────────────┬──────────────────────────────┬────────────┬──────────────────────┐\n",
       "│ reviewId                      ┆ reviewId_padded              ┆ userName   ┆ userName_padded      │\n",
       "│ ---                           ┆ ---                          ┆ ---        ┆ ---                  │\n",
       "│ str                           ┆ str                          ┆ str        ┆ str                  │\n",
       "╞═══════════════════════════════╪══════════════════════════════╪════════════╪══════════════════════╡\n",
       "│ gp:AOqpTOEhZuqSqqWnaKRgv-9ABY ┆ gp:AOqpTOEhZuqSqqWnaKRgv-9AB ┆ Eric Tie   ┆ Eric Tie************ │\n",
       "│ d…                            ┆ Yd…                          ┆            ┆                      │\n",
       "│ gp:AOqpTOH0WP4IQKBZ2LrdNmFy_Y ┆ gp:AOqpTOH0WP4IQKBZ2LrdNmFy_ ┆ john alpha ┆ john alpha********** │\n",
       "│ m…                            ┆ Ym…                          ┆            ┆                      │\n",
       "└───────────────────────────────┴──────────────────────────────┴────────────┴──────────────────────┘"
      ]
     },
     "execution_count": 23,
     "metadata": {},
     "output_type": "execute_result"
    }
   ],
   "source": [
    "df = pl.read_csv(\"data/ch09/google_store_reviews.csv\")\n",
    "df.head(1)\n",
    "\n",
    "# 문자열이 지정된 길이에 도달할 때까지 특정 문자 추가하기\n",
    "pad_df = df.select([\n",
    "    'reviewId', \n",
    "    # 10자리가 되도록 왼쪽에 0 추가\n",
    "    pl.col(\"reviewId\").str.pad_start(10, \"0\").alias(\"reviewId_padded\"),\n",
    "    'userName', \n",
    "    # 20자리가 되도록 오른쪽에 * 추가\n",
    "    pl.col(\"userName\").str.pad_end(20, \"*\").alias(\"userName_padded\")\n",
    "])\n",
    "print(\"\\nString padding:\")\n",
    "pad_df.head(2)"
   ]
  },
  {
   "cell_type": "markdown",
   "id": "4d8c72e9-61c6-46c1-bab8-6c2a4e4cc521",
   "metadata": {},
   "source": [
    "# 레시피 49 : Splitting strings into lists and structs"
   ]
  },
  {
   "cell_type": "code",
   "execution_count": 5,
   "id": "37b817a4",
   "metadata": {},
   "outputs": [
    {
     "name": "stdout",
     "output_type": "stream",
     "text": [
      "\n",
      "문자열 분할:\n",
      "shape: (2, 2)\n",
      "┌─────────────┬─────────────┐\n",
      "│ userName_s… ┆ appId_spli… │\n",
      "│ ---         ┆ ---         │\n",
      "│ list[str]   ┆ list[str]   │\n",
      "╞═════════════╪═════════════╡\n",
      "│ [\"Eric\", \"… ┆ [\"com\", \"a… │\n",
      "│ [\"john\", \"… ┆ [\"com\", \"a… │\n",
      "└─────────────┴─────────────┘\n",
      "\n",
      "지정된 수만큼 분할:\n",
      "shape: (2, 1)\n",
      "┌─────────────┐\n",
      "│ appId_spli… │\n",
      "│ ---         │\n",
      "│ struct[2]   │\n",
      "╞═════════════╡\n",
      "│ {\"com\",\"an… │\n",
      "│ {\"com\",\"an… │\n",
      "└─────────────┘\n",
      "\n",
      "정확히 지정된 수만큼 분할:\n",
      "shape: (2, 1)\n",
      "┌─────────────┐\n",
      "│ appId_spli… │\n",
      "│ ---         │\n",
      "│ struct[4]   │\n",
      "╞═════════════╡\n",
      "│ {\"com\",\"an… │\n",
      "│ {\"com\",\"an… │\n",
      "└─────────────┘\n"
     ]
    }
   ],
   "source": [
    "# Split Strings into lists str.split()\n",
    "split_df = df.select([\n",
    "    # 공백을 기준으로 문자열 분할\n",
    "    pl.col(\"userName\").str.split(\" \").alias(\"userName_split\"),\n",
    "    # 특정 문자를 기준으로 분할\n",
    "    pl.col(\"appId\").str.split(\".\").alias(\"appId_split\")\n",
    "])\n",
    "print(\"\\n문자열 분할:\")\n",
    "print(split_df.head(2))\n",
    "\n",
    "# Split strings into structs using .str.splitn() and .str.split_exact()\n",
    "# .str.splitn() - 지정된 수만큼만 분할\n",
    "splitn_df = df.select([\n",
    "    # 최대 2개 부분으로 분할\n",
    "    pl.col(\"appId\").str.splitn(\".\", 2).alias(\"appId_splitn\")\n",
    "])\n",
    "print(\"\\n지정된 수만큼 분할:\")\n",
    "print(splitn_df.head(2))\n",
    "\n",
    "# .str.split_exact() - 정확히 지정된 수만큼 분할\n",
    "split_exact_df = df.select([\n",
    "    # 정확히 3개 부분으로 분할\n",
    "    pl.col(\"appId\").str.split_exact(\".\", 3).alias(\"appId_split_exact\")\n",
    "])\n",
    "print(\"\\n정확히 지정된 수만큼 분할:\")\n",
    "print(split_exact_df.head(2))"
   ]
  },
  {
   "cell_type": "markdown",
   "id": "41850444-85c5-40fe-9cd6-cbcababc8ef5",
   "metadata": {},
   "source": [
    "# 레시피 50 : Concatenating and combining strings"
   ]
  },
  {
   "cell_type": "code",
   "execution_count": 6,
   "id": "340d817e",
   "metadata": {},
   "outputs": [
    {
     "name": "stdout",
     "output_type": "stream",
     "text": [
      "\n",
      "+ 연산자로 문자열 연결:\n",
      "shape: (3, 1)\n",
      "┌─────────────┐\n",
      "│ fullName    │\n",
      "│ ---         │\n",
      "│ str         │\n",
      "╞═════════════╡\n",
      "│ John Doe    │\n",
      "│ Jane Smith  │\n",
      "│ Jim Johnso… │\n",
      "└─────────────┘\n",
      "\n",
      "concat_str()로 여러 열 연결:\n",
      "shape: (3, 1)\n",
      "┌─────────────┐\n",
      "│ profile     │\n",
      "│ ---         │\n",
      "│ str         │\n",
      "╞═════════════╡\n",
      "│ John Doe, … │\n",
      "│ Jane Smith… │\n",
      "│ Jim Johnso… │\n",
      "└─────────────┘\n",
      "\n",
      "구분자를 사용한 concat_str():\n",
      "shape: (3, 1)\n",
      "┌─────────────┐\n",
      "│ name_with_… │\n",
      "│ ---         │\n",
      "│ str         │\n",
      "╞═════════════╡\n",
      "│ John - Doe  │\n",
      "│ Jane - Smi… │\n",
      "│ Jim - John… │\n",
      "└─────────────┘\n",
      "\n",
      "모든 행의 문자열을 하나로 결합:\n",
      "shape: (1, 1)\n",
      "┌─────────────┐\n",
      "│ all_first_… │\n",
      "│ ---         │\n",
      "│ str         │\n",
      "╞═════════════╡\n",
      "│ John, Jane… │\n",
      "└─────────────┘\n"
     ]
    }
   ],
   "source": [
    "# Concatenating and combining strings \n",
    "\n",
    "# Generate Sample DataFrame\n",
    "df = pl.DataFrame({\n",
    "    \"firstName\": [\"John\", \"Jane\", \"Jim\"],\n",
    "    \"lastName\": [\"Doe\", \"Smith\", \"Johnson\"],\n",
    "    \"age\": [25, 30, 35]\n",
    "})\n",
    "\n",
    "# Use + to concatenate strings\n",
    "concat_plus_df = df.select([\n",
    "    (pl.col(\"firstName\") + \" \" + pl.col(\"lastName\")).alias(\"fullName\")\n",
    "])\n",
    "print(\"\\n+ 연산자로 문자열 연결:\")\n",
    "print(concat_plus_df)\n",
    "\n",
    "# Concatenate strings from multiple columns into a single column\n",
    "concat_df = df.select([\n",
    "    pl.concat_str([\n",
    "        pl.col(\"firstName\"),\n",
    "        pl.lit(\" \"),\n",
    "        pl.col(\"lastName\"),\n",
    "        pl.lit(\", Age: \"),\n",
    "        pl.col(\"age\").cast(pl.Utf8)\n",
    "    ]).alias(\"profile\")\n",
    "])\n",
    "print(\"\\nconcat_str()로 여러 열 연결:\")\n",
    "print(concat_df)\n",
    "\n",
    "# Using pl.concat_str() with separator\n",
    "concat_sep_df = df.select([\n",
    "    pl.concat_str([\n",
    "        pl.col(\"firstName\"),\n",
    "        pl.col(\"lastName\")\n",
    "    ], separator=\" - \").alias(\"name_with_separator\")\n",
    "])\n",
    "print(\"\\n구분자를 사용한 concat_str():\")\n",
    "print(concat_sep_df)\n",
    "\n",
    "# Use .str.join() to combine all of the strings of a column into one string\n",
    "join_df = df.select([\n",
    "    pl.col(\"firstName\").str.join(\", \").alias(\"all_first_names\")\n",
    "])\n",
    "print(\"\\n모든 행의 문자열을 하나로 결합:\")\n",
    "print(join_df)"
   ]
  }
 ],
 "metadata": {
  "kernelspec": {
   "display_name": "Python 3 (ipykernel)",
   "language": "python",
   "name": "python3"
  },
  "language_info": {
   "codemirror_mode": {
    "name": "ipython",
    "version": 3
   },
   "file_extension": ".py",
   "mimetype": "text/x-python",
   "name": "python",
   "nbconvert_exporter": "python",
   "pygments_lexer": "ipython3",
   "version": "3.12.6"
  }
 },
 "nbformat": 4,
 "nbformat_minor": 5
}

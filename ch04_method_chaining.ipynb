{
 "cells": [
  {
   "cell_type": "markdown",
   "metadata": {},
   "source": [
    "# Method Chaining"
   ]
  },
  {
   "cell_type": "code",
   "execution_count": 7,
   "metadata": {},
   "outputs": [
    {
     "data": {
      "text/html": [
       "<div><style>\n",
       ".dataframe > thead > tr,\n",
       ".dataframe > tbody > tr {\n",
       "  text-align: right;\n",
       "  white-space: pre-wrap;\n",
       "}\n",
       "</style>\n",
       "<small>shape: (1, 5)</small><table border=\"1\" class=\"dataframe\"><thead><tr><th>sepal_length</th><th>sepal_width</th><th>petal_length</th><th>petal_width</th><th>species</th></tr><tr><td>f64</td><td>f64</td><td>f64</td><td>f64</td><td>str</td></tr></thead><tbody><tr><td>5.1</td><td>3.5</td><td>1.4</td><td>0.2</td><td>&quot;setosa&quot;</td></tr></tbody></table></div>"
      ],
      "text/plain": [
       "shape: (1, 5)\n",
       "┌──────────────┬─────────────┬──────────────┬─────────────┬─────────┐\n",
       "│ sepal_length ┆ sepal_width ┆ petal_length ┆ petal_width ┆ species │\n",
       "│ ---          ┆ ---         ┆ ---          ┆ ---         ┆ ---     │\n",
       "│ f64          ┆ f64         ┆ f64          ┆ f64         ┆ str     │\n",
       "╞══════════════╪═════════════╪══════════════╪═════════════╪═════════╡\n",
       "│ 5.1          ┆ 3.5         ┆ 1.4          ┆ 0.2         ┆ setosa  │\n",
       "└──────────────┴─────────────┴──────────────┴─────────────┴─────────┘"
      ]
     },
     "execution_count": 7,
     "metadata": {},
     "output_type": "execute_result"
    }
   ],
   "source": [
    "import polars as pl\n",
    "import seaborn as sns \n",
    "\n",
    "# seaborn에서 iris 데이터셋을 불러와서 polars DataFrame으로 변환\n",
    "df = pl.from_pandas(sns.load_dataset('iris'))\n",
    "df.head(1)\n"
   ]
  },
  {
   "cell_type": "code",
   "execution_count": 8,
   "metadata": {},
   "outputs": [
    {
     "name": "stdout",
     "output_type": "stream",
     "text": [
      "필터링 및 정렬된 iris 데이터:\n",
      "shape: (5, 3)\n",
      "┌───────────┬──────────────┬─────────────┐\n",
      "│ species   ┆ petal_length ┆ petal_width │\n",
      "│ ---       ┆ ---          ┆ ---         │\n",
      "│ str       ┆ f64          ┆ f64         │\n",
      "╞═══════════╪══════════════╪═════════════╡\n",
      "│ virginica ┆ 6.0          ┆ 2.5         │\n",
      "│ virginica ┆ 6.1          ┆ 2.5         │\n",
      "│ virginica ┆ 5.7          ┆ 2.5         │\n",
      "│ virginica ┆ 5.1          ┆ 2.4         │\n",
      "│ virginica ┆ 5.6          ┆ 2.4         │\n",
      "└───────────┴──────────────┴─────────────┘\n",
      "CPU times: total: 0 ns\n",
      "Wall time: 4.42 ms\n"
     ]
    }
   ],
   "source": [
    "%%time\n",
    "df = pl.from_pandas(sns.load_dataset('iris'))\n",
    "\n",
    "# select, filter, sort를 독립적으로 사용\n",
    "df = df.select(['species', 'petal_length', 'petal_width'])\n",
    "\n",
    "# 그 다음 petal_length가 4.0보다 큰 행만 필터링\n",
    "df = df.filter(pl.col('petal_length') > 4.0)\n",
    "\n",
    "# 마지막으로 petal_width를 기준으로 내림차순 정렬\n",
    "df = df.sort('petal_width', descending=True)\n",
    "\n",
    "print(\"필터링 및 정렬된 iris 데이터:\")\n",
    "print(df.head(5))"
   ]
  },
  {
   "cell_type": "code",
   "execution_count": 9,
   "metadata": {},
   "outputs": [
    {
     "name": "stdout",
     "output_type": "stream",
     "text": [
      "필터링 및 정렬된 iris 데이터:\n",
      "shape: (5, 3)\n",
      "┌───────────┬──────────────┬─────────────┐\n",
      "│ species   ┆ petal_length ┆ petal_width │\n",
      "│ ---       ┆ ---          ┆ ---         │\n",
      "│ str       ┆ f64          ┆ f64         │\n",
      "╞═══════════╪══════════════╪═════════════╡\n",
      "│ virginica ┆ 6.0          ┆ 2.5         │\n",
      "│ virginica ┆ 6.1          ┆ 2.5         │\n",
      "│ virginica ┆ 5.7          ┆ 2.5         │\n",
      "│ virginica ┆ 5.1          ┆ 2.4         │\n",
      "│ virginica ┆ 5.6          ┆ 2.4         │\n",
      "└───────────┴──────────────┴─────────────┘\n",
      "CPU times: total: 0 ns\n",
      "Wall time: 3.21 ms\n"
     ]
    }
   ],
   "source": [
    "%%time\n",
    "df = pl.from_pandas(sns.load_dataset('iris'))\n",
    "\n",
    "# select, filter, sort를 메소드 체이닝으로 사용\n",
    "df = (df\n",
    "    .select(['species', 'petal_length', 'petal_width'])\n",
    "    .filter(pl.col('petal_length') > 4.0)\n",
    "    .sort('petal_width', descending=True)\n",
    ")\n",
    "\n",
    "print(\"필터링 및 정렬된 iris 데이터:\")\n",
    "print(df.head(5))"
   ]
  }
 ],
 "metadata": {
  "kernelspec": {
   "display_name": "venv",
   "language": "python",
   "name": "python3"
  },
  "language_info": {
   "codemirror_mode": {
    "name": "ipython",
    "version": 3
   },
   "file_extension": ".py",
   "mimetype": "text/x-python",
   "name": "python",
   "nbconvert_exporter": "python",
   "pygments_lexer": "ipython3",
   "version": "3.12.6"
  }
 },
 "nbformat": 4,
 "nbformat_minor": 2
}

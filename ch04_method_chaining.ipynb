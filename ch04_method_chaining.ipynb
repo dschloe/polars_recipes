{
 "cells": [
  {
   "cell_type": "markdown",
   "metadata": {},
   "source": [
    "# 레시피 20 : Method Chaining 소개"
   ]
  },
  {
   "cell_type": "code",
   "execution_count": 12,
   "metadata": {},
   "outputs": [
    {
     "name": "stdout",
     "output_type": "stream",
     "text": [
      "shape: (3, 3)\n",
      "┌──────────────┬─────────────┬───────────┐\n",
      "│ sepal_length ┆ sepal_width ┆ species   │\n",
      "│ ---          ┆ ---         ┆ ---       │\n",
      "│ f64          ┆ f64         ┆ str       │\n",
      "╞══════════════╪═════════════╪═══════════╡\n",
      "│ 7.9          ┆ 3.8         ┆ virginica │\n",
      "│ 7.7          ┆ 3.8         ┆ virginica │\n",
      "│ 7.7          ┆ 2.6         ┆ virginica │\n",
      "└──────────────┴─────────────┴───────────┘\n"
     ]
    }
   ],
   "source": [
    "# 간단한 메서드 체이닝 예시\n",
    "import polars as pl\n",
    "import seaborn as sns\n",
    "\n",
    "# iris 데이터셋 로드\n",
    "df = pl.from_pandas(sns.load_dataset('iris'))\n",
    "\n",
    "# select와 sort를 체이닝으로 연결\n",
    "result = (df\n",
    "    .select(['sepal_length', 'sepal_width', 'species'])\n",
    "    .sort('sepal_length', descending=True)\n",
    ")\n",
    "\n",
    "print(result.head(3))"
   ]
  },
  {
   "cell_type": "markdown",
   "metadata": {},
   "source": [
    "# 레시피 21 : 데이터 파이프라인"
   ]
  },
  {
   "cell_type": "code",
   "execution_count": 4,
   "metadata": {},
   "outputs": [
    {
     "name": "stdout",
     "output_type": "stream",
     "text": [
      "기본 전처리된 데이터:\n",
      "shape: (3, 6)\n",
      "┌──────────────┬─────────────┬──────────────┬─────────┬──────────────────┬──────────────────┐\n",
      "│ sepal_length ┆ sepal_width ┆ petal_length ┆ species ┆ avg_sepal_length ┆ avg_petal_length │\n",
      "│ ---          ┆ ---         ┆ ---          ┆ ---     ┆ ---              ┆ ---              │\n",
      "│ f64          ┆ f64         ┆ f64          ┆ str     ┆ f64              ┆ f64              │\n",
      "╞══════════════╪═════════════╪══════════════╪═════════╪══════════════════╪══════════════════╡\n",
      "│ 5.1          ┆ 3.5         ┆ 1.4          ┆ setosa  ┆ 6.129661         ┆ 4.315254         │\n",
      "│ 5.4          ┆ 3.9         ┆ 1.7          ┆ setosa  ┆ 6.129661         ┆ 4.315254         │\n",
      "│ 5.4          ┆ 3.7         ┆ 1.5          ┆ setosa  ┆ 6.129661         ┆ 4.315254         │\n",
      "└──────────────┴─────────────┴──────────────┴─────────┴──────────────────┴──────────────────┘\n"
     ]
    }
   ],
   "source": [
    "# 1. 기본적인 데이터 전처리 파이프라인\n",
    "df_processed = (df\n",
    "    .select(['sepal_length', 'sepal_width', 'petal_length', 'species'])  # 필요한 컬럼만 선택\n",
    "    .filter(pl.col('sepal_length') > 5.0)  # sepal_length가 5.0보다 큰 행만 필터링\n",
    "    .with_columns([\n",
    "        pl.col('sepal_length').mean().alias('avg_sepal_length'),  # 평균 sepal_length 컬럼 추가\n",
    "        pl.col('petal_length').mean().alias('avg_petal_length')   # 평균 petal_length 컬럼 추가\n",
    "    ])\n",
    ")\n",
    "\n",
    "print(\"기본 전처리된 데이터:\")\n",
    "print(df_processed.head(3))"
   ]
  },
  {
   "cell_type": "markdown",
   "metadata": {},
   "source": [
    "# 레시피 22 : 집계 파이프라인"
   ]
  },
  {
   "cell_type": "code",
   "execution_count": 9,
   "metadata": {},
   "outputs": [
    {
     "name": "stdout",
     "output_type": "stream",
     "text": [
      "\n",
      "종별 집계 데이터:\n",
      "shape: (3, 4)\n",
      "┌────────────┬──────────────────┬──────────────────┬─────────────────┐\n",
      "│ species    ┆ avg_sepal_length ┆ avg_petal_length ┆ std_sepal_width │\n",
      "│ ---        ┆ ---              ┆ ---              ┆ ---             │\n",
      "│ str        ┆ f64              ┆ f64              ┆ f64             │\n",
      "╞════════════╪══════════════════╪══════════════════╪═════════════════╡\n",
      "│ virginica  ┆ 6.588            ┆ 5.552            ┆ 0.322497        │\n",
      "│ versicolor ┆ 5.936            ┆ 4.26             ┆ 0.313798        │\n",
      "│ setosa     ┆ 5.006            ┆ 1.462            ┆ 0.379064        │\n",
      "└────────────┴──────────────────┴──────────────────┴─────────────────┘\n"
     ]
    }
   ],
   "source": [
    "# 2. 집계 파이프라인\n",
    "df_aggregated = (df\n",
    "    .group_by('species')\n",
    "    .agg([\n",
    "        pl.col('sepal_length').mean().alias('avg_sepal_length'),\n",
    "        pl.col('petal_length').mean().alias('avg_petal_length'),\n",
    "        pl.col('sepal_width').std().alias('std_sepal_width')\n",
    "    ])\n",
    "    .sort('avg_sepal_length', descending=True)\n",
    ")\n",
    "\n",
    "print(\"\\n종별 집계 데이터:\")\n",
    "print(df_aggregated)"
   ]
  },
  {
   "cell_type": "code",
   "execution_count": 8,
   "metadata": {},
   "outputs": [
    {
     "name": "stdout",
     "output_type": "stream",
     "text": [
      "필터링 및 정렬된 iris 데이터:\n",
      "shape: (5, 3)\n",
      "┌───────────┬──────────────┬─────────────┐\n",
      "│ species   ┆ petal_length ┆ petal_width │\n",
      "│ ---       ┆ ---          ┆ ---         │\n",
      "│ str       ┆ f64          ┆ f64         │\n",
      "╞═══════════╪══════════════╪═════════════╡\n",
      "│ virginica ┆ 6.0          ┆ 2.5         │\n",
      "│ virginica ┆ 6.1          ┆ 2.5         │\n",
      "│ virginica ┆ 5.7          ┆ 2.5         │\n",
      "│ virginica ┆ 5.1          ┆ 2.4         │\n",
      "│ virginica ┆ 5.6          ┆ 2.4         │\n",
      "└───────────┴──────────────┴─────────────┘\n",
      "CPU times: total: 0 ns\n",
      "Wall time: 9.02 ms\n"
     ]
    }
   ],
   "source": [
    "%%time\n",
    "df = pl.from_pandas(sns.load_dataset('iris'))\n",
    "\n",
    "# select, filter, sort를 독립적으로 사용\n",
    "df = df.select(['species', 'petal_length', 'petal_width'])\n",
    "\n",
    "# 그 다음 petal_length가 4.0보다 큰 행만 필터링\n",
    "df = df.filter(pl.col('petal_length') > 4.0)\n",
    "\n",
    "# 마지막으로 petal_width를 기준으로 내림차순 정렬\n",
    "df = df.sort('petal_width', descending=True)\n",
    "\n",
    "print(\"필터링 및 정렬된 iris 데이터:\")\n",
    "print(df.head(5))"
   ]
  },
  {
   "cell_type": "code",
   "execution_count": 9,
   "metadata": {},
   "outputs": [
    {
     "name": "stdout",
     "output_type": "stream",
     "text": [
      "필터링 및 정렬된 iris 데이터:\n",
      "shape: (5, 3)\n",
      "┌───────────┬──────────────┬─────────────┐\n",
      "│ species   ┆ petal_length ┆ petal_width │\n",
      "│ ---       ┆ ---          ┆ ---         │\n",
      "│ str       ┆ f64          ┆ f64         │\n",
      "╞═══════════╪══════════════╪═════════════╡\n",
      "│ virginica ┆ 6.0          ┆ 2.5         │\n",
      "│ virginica ┆ 6.1          ┆ 2.5         │\n",
      "│ virginica ┆ 5.7          ┆ 2.5         │\n",
      "│ virginica ┆ 5.1          ┆ 2.4         │\n",
      "│ virginica ┆ 5.6          ┆ 2.4         │\n",
      "└───────────┴──────────────┴─────────────┘\n",
      "CPU times: total: 0 ns\n",
      "Wall time: 5.48 ms\n"
     ]
    }
   ],
   "source": [
    "%%time\n",
    "df = pl.from_pandas(sns.load_dataset('iris'))\n",
    "\n",
    "# select, filter, sort를 Method Chaining으로 사용\n",
    "df = (df\n",
    "    .select(['species', 'petal_length', 'petal_width'])\n",
    "    .filter(pl.col('petal_length') > 4.0)\n",
    "    .sort('petal_width', descending=True)\n",
    ")\n",
    "\n",
    "print(\"필터링 및 정렬된 iris 데이터:\")\n",
    "print(df.head(5))"
   ]
  },
  {
   "cell_type": "markdown",
   "metadata": {},
   "source": [
    "# 레시피 23 : 조건부 파이프라인"
   ]
  },
  {
   "cell_type": "code",
   "execution_count": 11,
   "metadata": {},
   "outputs": [
    {
     "name": "stdout",
     "output_type": "stream",
     "text": [
      "\n",
      "조건부 분류 결과:\n",
      "shape: (5, 3)\n",
      "┌────────────┬───────────────┬─────┐\n",
      "│ species    ┆ size_category ┆ cnt │\n",
      "│ ---        ┆ ---           ┆ --- │\n",
      "│ str        ┆ str           ┆ u32 │\n",
      "╞════════════╪═══════════════╪═════╡\n",
      "│ setosa     ┆ small         ┆ 50  │\n",
      "│ versicolor ┆ large         ┆ 20  │\n",
      "│ versicolor ┆ small         ┆ 30  │\n",
      "│ virginica  ┆ large         ┆ 41  │\n",
      "│ virginica  ┆ small         ┆ 9   │\n",
      "└────────────┴───────────────┴─────┘\n"
     ]
    }
   ],
   "source": [
    "# iris 데이터셋을 Polars DataFrame으로 변환\n",
    "df = pl.from_pandas(sns.load_dataset('iris'))\n",
    "\n",
    "# 조건부 파이프라인 구성\n",
    "df_conditional = (df\n",
    "    # with_columns: 새로운 컬럼을 추가\n",
    "    .with_columns([\n",
    "        # when().then().otherwise(): SQL의 CASE WHEN과 유사한 조건부 로직\n",
    "        pl.when(pl.col('sepal_length') > 6.0)  # 조건: sepal_length가 6.0보다 큰 경우\n",
    "        .then(pl.lit('large'))  # 조건이 참일 때 'large' 값 할당\n",
    "        .otherwise(pl.lit('small'))  # 조건이 거짓일 때 'small' 값 할당\n",
    "        .alias('size_category')  # 새로운 컬럼의 이름을 'size_category'로 지정\n",
    "    ])\n",
    "    # group_by: 지정된 컬럼들로 그룹화\n",
    "    .group_by(['species', 'size_category'])\n",
    "    # agg: 그룹별 집계 연산 수행\n",
    "    .agg(\n",
    "        cnt=pl.len()  # 각 그룹의 행 개수를 계산\n",
    "    )\n",
    "    # sort: 지정된 컬럼들로 정렬\n",
    "    .sort(['species', 'size_category'])\n",
    ")\n",
    "\n",
    "print(\"\\n조건부 분류 결과:\")\n",
    "print(df_conditional)"
   ]
  }
 ],
 "metadata": {
  "kernelspec": {
   "display_name": "Python 3 (ipykernel)",
   "language": "python",
   "name": "python3"
  },
  "language_info": {
   "codemirror_mode": {
    "name": "ipython",
    "version": 3
   },
   "file_extension": ".py",
   "mimetype": "text/x-python",
   "name": "python",
   "nbconvert_exporter": "python",
   "pygments_lexer": "ipython3",
   "version": "3.12.6"
  }
 },
 "nbformat": 4,
 "nbformat_minor": 4
}
